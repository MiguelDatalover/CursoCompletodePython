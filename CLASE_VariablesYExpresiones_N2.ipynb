{
 "cells": [
  {
   "cell_type": "markdown",
   "metadata": {},
   "source": [
    "# VARIABLES, CONSTANTES, EXPRESIONES Y ENUNCIADOS"
   ]
  },
  {
   "cell_type": "markdown",
   "metadata": {},
   "source": [
    "## FUNCIÓNES BÁSICAS E INERTES\n",
    "> Entre ellas empezaremos mencionando a 2 funciones, aunque aún no llegamos al tema de funciones propiamente dicho. Pero estas funciones han sido creadas para facilitarle el trabajo al programador, así que es inevitable no empezar con ellas nuestro camino. Estás son:\n",
    "> * PRINT( )\n",
    "> * TYPE( )\n",
    "\n",
    "**¿Pero que es una función:?** En palabras simples y para empezar, podemos decir que una función es aquello que ponemos en nuestros programas y este haga cosas, es decir funcione. "
   ]
  },
  {
   "cell_type": "markdown",
   "metadata": {},
   "source": [
    "## FUNCIÓN PRINT( )\n"
   ]
  },
  {
   "cell_type": "markdown",
   "metadata": {},
   "source": [
    "Como observamos los parametros de la función print, los más importantes son: sep, end, file, flush.\n",
    "> * **SEP:** Es un espacio en blanco, el separador es la coma.\n",
    "> * **END:** Se imprime un salto de linea, al final de la función print.\n",
    "> * **FILE:** Es la forma estandarizada como se muestran los archivos.\n",
    "> * **FLUSH** Evita que se vacie el buffer interno de python cuando trabajamos con un archivo, reteniendo asi los resultados en la memoria cache, para acceder más rápido a la info.\n",
    "\n",
    "Aunque desde el punto de vista del interprete de python, print( ) es una función que no funciona. Porque es una función inerte que no hace otra cosa que mostrarnos en pantalla un script. No es operativa, desde la perspectiva del lenguaje, no trabaja sobre el código, sino lo que nos enseña es un resultado como consecuencia de la ejecucuón del mismo."
   ]
  },
  {
   "cell_type": "code",
   "execution_count": 1,
   "metadata": {},
   "outputs": [
    {
     "name": "stdout",
     "output_type": "stream",
     "text": [
      "Help on built-in function print in module builtins:\n",
      "\n",
      "print(...)\n",
      "    print(value, ..., sep=' ', end='\\n', file=sys.stdout, flush=False)\n",
      "    \n",
      "    Prints the values to a stream, or to sys.stdout by default.\n",
      "    Optional keyword arguments:\n",
      "    file:  a file-like object (stream); defaults to the current sys.stdout.\n",
      "    sep:   string inserted between values, default a space.\n",
      "    end:   string appended after the last value, default a newline.\n",
      "    flush: whether to forcibly flush the stream.\n",
      "\n"
     ]
    }
   ],
   "source": [
    "#print?\n",
    "help(print)"
   ]
  },
  {
   "cell_type": "code",
   "execution_count": 1,
   "metadata": {},
   "outputs": [
    {
     "name": "stdout",
     "output_type": "stream",
     "text": [
      "123\n",
      "98.6hola mundo$3\n"
     ]
    }
   ],
   "source": [
    "# EJEMPLO N°1\n",
    "print(123)\n",
    "print(98.6,end='') # Ya no existe el espacio en blanco\n",
    "\n",
    "# EJEMPLO N°2\n",
    "x=3\n",
    "print('hola mundo',x,sep='$')"
   ]
  },
  {
   "cell_type": "code",
   "execution_count": 2,
   "metadata": {},
   "outputs": [
    {
     "name": "stdout",
     "output_type": "stream",
     "text": [
      "mi correo es:mickyalbornoz.5@gmail.com\n"
     ]
    }
   ],
   "source": [
    "print('mi correo es:mickyalbornoz.5','gmail.com',sep='@')"
   ]
  },
  {
   "cell_type": "markdown",
   "metadata": {},
   "source": [
    "## FUNCIÓN TYPE( )"
   ]
  },
  {
   "cell_type": "markdown",
   "metadata": {},
   "source": [
    "Esta es la función que cuando invoquemos nos dará como resultado el tipo del dato que mandamos como argumento. *Nos devuelve el tipado del objeto*."
   ]
  },
  {
   "cell_type": "code",
   "execution_count": 5,
   "metadata": {},
   "outputs": [
    {
     "name": "stdout",
     "output_type": "stream",
     "text": [
      "<class 'int'> \n",
      "\n",
      "<class 'float'> \n",
      "\n",
      "<class 'str'> \n",
      "\n",
      "--------------------------------------------------------------\n",
      "\n",
      "<class 'type'> \n",
      "\n",
      "<class 'type'> \n",
      "\n",
      "<class 'type'> \n",
      "\n"
     ]
    }
   ],
   "source": [
    "print(type(-17),'\\n')\n",
    "print(type(34.89),'\\n')\n",
    "print(type('HOLA AMIGUITOS'),'\\n')\n",
    "print('--------------------------------------------------------------\\n')\n",
    "print(type(int),'\\n')\n",
    "print(type(str),'\\n')\n",
    "print(type(float),'\\n')"
   ]
  },
  {
   "cell_type": "markdown",
   "metadata": {},
   "source": [
    "Del último ejemplo observamos que cuando pusimos los tipos de las clases, nos retorno type. Y esto es porque tanto int, str, float son tipos de dato. Por eso decimos que -17 de de tipo entero, 34.89 es de tipo flotante y 'HOLA AMIGUITOS' es de tipo string. La analogía serí como Ana es nombre, verde es adjetivo, correr es verbo, etc. "
   ]
  },
  {
   "cell_type": "code",
   "execution_count": 2,
   "metadata": {},
   "outputs": [
    {
     "name": "stdout",
     "output_type": "stream",
     "text": [
      "<class 'builtin_function_or_method'>\n"
     ]
    }
   ],
   "source": [
    "print(type(sum))"
   ]
  },
  {
   "cell_type": "code",
   "execution_count": 10,
   "metadata": {
    "collapsed": true
   },
   "outputs": [
    {
     "name": "stdout",
     "output_type": "stream",
     "text": [
      "Help on class type in module builtins:\n",
      "\n",
      "class type(object)\n",
      " |  type(object_or_name, bases, dict)\n",
      " |  type(object) -> the object's type\n",
      " |  type(name, bases, dict) -> a new type\n",
      " |  \n",
      " |  Methods defined here:\n",
      " |  \n",
      " |  __call__(self, /, *args, **kwargs)\n",
      " |      Call self as a function.\n",
      " |  \n",
      " |  __delattr__(self, name, /)\n",
      " |      Implement delattr(self, name).\n",
      " |  \n",
      " |  __dir__(self, /)\n",
      " |      Specialized __dir__ implementation for types.\n",
      " |  \n",
      " |  __getattribute__(self, name, /)\n",
      " |      Return getattr(self, name).\n",
      " |  \n",
      " |  __init__(self, /, *args, **kwargs)\n",
      " |      Initialize self.  See help(type(self)) for accurate signature.\n",
      " |  \n",
      " |  __instancecheck__(self, instance, /)\n",
      " |      Check if an object is an instance.\n",
      " |  \n",
      " |  __repr__(self, /)\n",
      " |      Return repr(self).\n",
      " |  \n",
      " |  __setattr__(self, name, value, /)\n",
      " |      Implement setattr(self, name, value).\n",
      " |  \n",
      " |  __sizeof__(self, /)\n",
      " |      Return memory consumption of the type object.\n",
      " |  \n",
      " |  __subclasscheck__(self, subclass, /)\n",
      " |      Check if a class is a subclass.\n",
      " |  \n",
      " |  __subclasses__(self, /)\n",
      " |      Return a list of immediate subclasses.\n",
      " |  \n",
      " |  mro(self, /)\n",
      " |      Return a type's method resolution order.\n",
      " |  \n",
      " |  ----------------------------------------------------------------------\n",
      " |  Class methods defined here:\n",
      " |  \n",
      " |  __prepare__(...)\n",
      " |      __prepare__() -> dict\n",
      " |      used to create the namespace for the class statement\n",
      " |  \n",
      " |  ----------------------------------------------------------------------\n",
      " |  Static methods defined here:\n",
      " |  \n",
      " |  __new__(*args, **kwargs)\n",
      " |      Create and return a new object.  See help(type) for accurate signature.\n",
      " |  \n",
      " |  ----------------------------------------------------------------------\n",
      " |  Data descriptors defined here:\n",
      " |  \n",
      " |  __abstractmethods__\n",
      " |  \n",
      " |  __dict__\n",
      " |  \n",
      " |  __text_signature__\n",
      " |  \n",
      " |  ----------------------------------------------------------------------\n",
      " |  Data and other attributes defined here:\n",
      " |  \n",
      " |  __base__ = <class 'object'>\n",
      " |      The base class of the class hierarchy.\n",
      " |      \n",
      " |      When called, it accepts no arguments and returns a new featureless\n",
      " |      instance that has no instance attributes and cannot be given any.\n",
      " |  \n",
      " |  \n",
      " |  __bases__ = (<class 'object'>,)\n",
      " |  \n",
      " |  __basicsize__ = 880\n",
      " |  \n",
      " |  __dictoffset__ = 264\n",
      " |  \n",
      " |  __flags__ = 2148293632\n",
      " |  \n",
      " |  __itemsize__ = 40\n",
      " |  \n",
      " |  __mro__ = (<class 'type'>, <class 'object'>)\n",
      " |  \n",
      " |  __weakrefoffset__ = 368\n",
      "\n"
     ]
    }
   ],
   "source": [
    "# AHORA VEAMOS ALGO EN LA DOCUMENTACIÓN DE TYPE\n",
    "#type?\n",
    "help(type)"
   ]
  },
  {
   "cell_type": "markdown",
   "metadata": {},
   "source": [
    "Concluimos señalando que la función *TYPE* es una metafunción que resulta útil para realizar pruebas o testeo. Ahora la función type ya que nos muestra el tipo de dato, tiene que ver con el *tipado dinámico de python* porque el tipo o clase que nos muestran en pantalla es en tiempo real. El tipo de cada objeto se le asigna en tiempo de ejecución. Los diferentes tipos de datos que hemos visto hasta ahora están asociados a los objetos y no a las variables. Antes de ejecutar o presionar play. Los objetos ya saben de que tipo son de forma automática, pero lo que no sabe es, que lo referenciará una variable,¿Qué variable?. Ese tipo de conocimiento para el objeto ocurre cuando le damos play."
   ]
  },
  {
   "cell_type": "markdown",
   "metadata": {},
   "source": [
    "## CONSTANTES"
   ]
  },
  {
   "cell_type": "markdown",
   "metadata": {},
   "source": [
    "Son valores fijos en valor y estos pueden ser: números, letras, cadenas, etc."
   ]
  },
  {
   "cell_type": "markdown",
   "metadata": {},
   "source": [
    "Para mostrar estos ejemplos, usaremos una funcion print( ). Ahora si deseas saber un poco de la documentación de cualquier objeto, tan solo basta poner las instrucciones. *help(objeto)* donde encontrará algo de información. **OJO:** Acá en python existen las variables tanto globales como locales, pero acá no se guardan en distintos lugares en memoria; sino en uno solo como lo es la *STATIC MEMORY*."
   ]
  },
  {
   "cell_type": "code",
   "execution_count": 4,
   "metadata": {},
   "outputs": [],
   "source": [
    "# variable global\n",
    "x = 8"
   ]
  },
  {
   "cell_type": "markdown",
   "metadata": {},
   "source": [
    "## VARIABLES"
   ]
  },
  {
   "cell_type": "markdown",
   "metadata": {},
   "source": [
    "La clase anterior tocamos el tema de variables o tambien llamado identificadores, pero ahora faltaria agregar la siguiente nota: *no podemos utilizar las palabras reservadas que conforman la sintaxis de python como nombres de identificadores o variables.*\n",
    "> Podemos citar alguna palabras reservadas de la sintaxis python:\n",
    "class, noneType, for, True, False, break, pass, import, or, and, global, elif, def, raise, try, except, continue, lambda, filter, while, assert, in, is, from, as."
   ]
  },
  {
   "cell_type": "markdown",
   "metadata": {},
   "source": [
    "La sinstaxis para definir una variable es:\n",
    "\n",
    "**nombreDeLaVariable = valorDeLaVariable** / donde el ' = ' es una copia por referencia, no es una copia por valor.\n",
    "\n",
    "por ejemplo:"
   ]
  },
  {
   "cell_type": "markdown",
   "metadata": {},
   "source": [
    "> Cuando hablamos de la variable es inevitable no hablar de la memoria. En si hay muchas formas de clasificar a la memoria y esto va depender básicamente del objetivo del curso. Acá en python nos vastará con clasificar a la memoria de 2 formas, ya que en python las variables y los objetos están en 2 zonas diferentes:\n",
    ">- **STATIC MEMORY**: Es donde se almacenarán nuestras variables tanto locales como globales (parte izquierda). \n",
    ">- **HEAP MEMORY**: Es la zona más grande de la memoria, llamada también memoria libre o del montón (parte derecha)."
   ]
  },
  {
   "cell_type": "markdown",
   "metadata": {},
   "source": [
    "## RUTA DE LAS VARIABLES"
   ]
  },
  {
   "cell_type": "markdown",
   "metadata": {},
   "source": [
    "Hablemos un poquito más de las variables, tal vez el elemento más importante en la programación. Claro que acá en python tiene otro enfoque este término.**¿Porque se les llama variables?:** Porque para un mismo identificador o nombre de la variable puede asignar diferente tipos de objetos, como también no, eso va depender del que codifica el programa. Acá en python tiene más relevancia el objeto que la variable, pero eso no indica que la variable no sea importante. La variable sigue cumpliendo su función de marcar como una etiqueta para no perder ese objeto en el vacio."
   ]
  },
  {
   "cell_type": "markdown",
   "metadata": {},
   "source": [
    "> **En python no existe la declaración de variables, ya que estas existen recien en tiempo de ejcución y solo si por medio del operador de asignación reciben el dato o valor.**"
   ]
  },
  {
   "cell_type": "markdown",
   "metadata": {},
   "source": [
    "> **En python en tipo de dato viene implicito en la creación del objeto, más no en el de la variable, es decir: el tipo de dato que almacena una variable viene implícito en el contenido,es decir,en el dato, objeto o valor; más no en el contenedor o etiquetador. Esto es porque python tiene un tipado dinámico.**"
   ]
  },
  {
   "cell_type": "markdown",
   "metadata": {},
   "source": [
    "Cada vez que definimos una variable, el interprete justo en tiempo de ejecución a ambos objetos les reserva un espacio en memoria. Podemos decir que python tiene como un gerente de almacén de memoria que el intérprete llama cada vez que definas una variable. Y que pasa si esa misma variable la utilizaste para muchos valores, entonces tambien aparece el recolector de basura teniendo en cuenta el flujo de lectura de memoria de python. La cual solo considerará a las primeras ocurrencias de esa variable (la última que definiste); y las otras ya se consideran inaccesible para el programa. Entonces el recolector de basura lo etiqueta como zona disponible en memoria, gestionando automáticamente así la memoria. "
   ]
  },
  {
   "cell_type": "code",
   "execution_count": 2,
   "metadata": {},
   "outputs": [],
   "source": [
    "# Tanto el nombre de la variable como el valor de la variable son objetos en python.\n",
    "# A nivel de hardware podriamos decir que el valor de la varible se almacena en el HEAP MEMORY \n",
    "# y el nombre de la variable en el statict memory.\n",
    "\n",
    "# EJEMPLOS DE VARIABLES GLOBALES\n",
    "miVariable = 58\n",
    "var = 35.54 # se dice que se ha definido la variable var\n",
    "# también se dice que var es una referencia a 35.54\n",
    "var_str = \"hola\"\n",
    "lista = [5, 455.55, \"hola\"]\n"
   ]
  },
  {
   "cell_type": "markdown",
   "metadata": {},
   "source": [
    "> Acá en python no existe la declaración de una varible, porque una característica que tiene, es que todo objeto en python tiene un tipado dinámico."
   ]
  },
  {
   "cell_type": "code",
   "execution_count": 5,
   "metadata": {},
   "outputs": [
    {
     "name": "stdout",
     "output_type": "stream",
     "text": [
      "2248783587984 \n",
      "\n",
      "2248783587984\n"
     ]
    }
   ],
   "source": [
    "# TENEMOS DOS OBJETOS: x y 12\n",
    "x = 12 # x es una referencia a 12. (cada vez que llamamos a x, estamos llamando a 12.)\n",
    "print(id(x),'\\n')\n",
    "print(id(12))"
   ]
  },
  {
   "cell_type": "code",
   "execution_count": 8,
   "metadata": {},
   "outputs": [
    {
     "name": "stdout",
     "output_type": "stream",
     "text": [
      "2248783587920 \n",
      "\n",
      "2248783779280 \n",
      "\n",
      "2248865834832 \n",
      "\n",
      "2248783587984 \n",
      "\n",
      "---------------------- IDIS DE LOS NÚMEROS --------------------------\n",
      "\n",
      " ID DE 10: 2248783587920 \t ID DE 100: 2248783779280 \t ID DE 450: 2248865833104 \t ID DE 450: 2248783587984\n"
     ]
    }
   ],
   "source": [
    "# LA VARIABLE HACE REFERENCIA A UN OBJETO NUEVO\n",
    "x=10\n",
    "print(id(x),'\\n')\n",
    "x=100\n",
    "print(id(x),'\\n')\n",
    "x=450\n",
    "print(id(x),'\\n')\n",
    "x=12\n",
    "print(id(x),'\\n')\n",
    "print('---------------------- IDIS DE LOS NÚMEROS --------------------------')\n",
    "print('\\n','ID DE 10:',id(10),'\\t','ID DE 100:',id(100),'\\t','ID DE 450:',id(450),'\\t','ID DE 450:',id(12))\n",
    "# En otros lenguajes de programación el id de x sería la misma, ya que solo se reemplaza el valor.\n",
    "# Pero en python cuando a la misma variable les asignas diferentes números, los variables\n",
    "# No conservan su id, porque están haciendo referencia a diferentes objetos."
   ]
  },
  {
   "cell_type": "markdown",
   "metadata": {},
   "source": [
    "## REGLAS PARA NOMBRAR VARIABLES O IDENTIFICADORES"
   ]
  },
  {
   "cell_type": "markdown",
   "metadata": {},
   "source": [
    "REGLAS SEGÚN DOCUMENTACIÓN:\n",
    "* Debe comenzar con una letra o guión bajo.\n",
    "* Todo el nombre de la variable de contar con lestras, números y guión bajo.\n",
    "* Python es sensible a las mayúsculas y minúsculas.\n",
    "\n",
    "**EJEMPLOS:**\n",
    "\n",
    "**BIEN:** var,           x1,        _x2\n",
    "\n",
    "**MAL:**  23x,           #var,      var.12"
   ]
  },
  {
   "cell_type": "markdown",
   "metadata": {},
   "source": [
    "# SUGERENCIAS"
   ]
  },
  {
   "cell_type": "markdown",
   "metadata": {},
   "source": [
    "Los nombres de las variables deben empezar con alguna letra del alfabeto (de la \"a\" a la \"z\"). No se acepta números o símbolos como primer caracter del nombre de la variable, sin embargo los números pueden utilizarse a partir del segundo caracter. Por ejemplo:"
   ]
  },
  {
   "cell_type": "code",
   "execution_count": 19,
   "metadata": {},
   "outputs": [],
   "source": [
    "# BUEN USO DE LAS REGLAS PARA CREAR VARIABLES\n",
    "x = 10\n",
    "x2y2 = 20\n",
    "variable5 = 85"
   ]
  },
  {
   "cell_type": "markdown",
   "metadata": {},
   "source": [
    "Trate de ejecutar la línea siguiente y observará que no se puede definir una variable si su nombre empieza con un número"
   ]
  },
  {
   "cell_type": "code",
   "execution_count": 20,
   "metadata": {},
   "outputs": [
    {
     "ename": "SyntaxError",
     "evalue": "invalid syntax (Temp/ipykernel_15944/3209057344.py, line 2)",
     "output_type": "error",
     "traceback": [
      "\u001b[1;36m  File \u001b[1;32m\"C:\\Users\\HP\\AppData\\Local\\Temp/ipykernel_15944/3209057344.py\"\u001b[1;36m, line \u001b[1;32m2\u001b[0m\n\u001b[1;33m    2x = 20\u001b[0m\n\u001b[1;37m     ^\u001b[0m\n\u001b[1;31mSyntaxError\u001b[0m\u001b[1;31m:\u001b[0m invalid syntax\n"
     ]
    }
   ],
   "source": [
    "# ACÁ TENEMOS UN HORROR\n",
    "2x = 20"
   ]
  },
  {
   "cell_type": "markdown",
   "metadata": {},
   "source": [
    "Este problema se arregla si ahora definimos la variable como \"x2\" en lugar de \"2x\""
   ]
  },
  {
   "cell_type": "code",
   "execution_count": 5,
   "metadata": {},
   "outputs": [],
   "source": [
    "x2 = 20"
   ]
  },
  {
   "cell_type": "markdown",
   "metadata": {},
   "source": [
    "Los nombres de las variables no admiten espacio. Por ejemplo no puede definir una variable cuyo nombre sea \"mi variable\". Observe:"
   ]
  },
  {
   "cell_type": "code",
   "execution_count": 22,
   "metadata": {},
   "outputs": [
    {
     "ename": "SyntaxError",
     "evalue": "invalid syntax (Temp/ipykernel_15944/1467271080.py, line 1)",
     "output_type": "error",
     "traceback": [
      "\u001b[1;36m  File \u001b[1;32m\"C:\\Users\\HP\\AppData\\Local\\Temp/ipykernel_15944/1467271080.py\"\u001b[1;36m, line \u001b[1;32m1\u001b[0m\n\u001b[1;33m    mi variable = 5\u001b[0m\n\u001b[1;37m       ^\u001b[0m\n\u001b[1;31mSyntaxError\u001b[0m\u001b[1;31m:\u001b[0m invalid syntax\n"
     ]
    }
   ],
   "source": [
    "mi variable = 5"
   ]
  },
  {
   "cell_type": "markdown",
   "metadata": {},
   "source": [
    "El error anterior lo puede solucionar cambiando \"mi variable\" por \"miVariable\""
   ]
  },
  {
   "cell_type": "code",
   "execution_count": 9,
   "metadata": {},
   "outputs": [],
   "source": [
    "miVariable = 5"
   ]
  },
  {
   "cell_type": "markdown",
   "metadata": {},
   "source": [
    "En Python se distingue las mayúsculas de las minúsculas. La variabe \"x\" es diferente a \"X\" ya que una está en minúscula y la otra en mayúscula"
   ]
  },
  {
   "cell_type": "code",
   "execution_count": 1,
   "metadata": {},
   "outputs": [
    {
     "name": "stdout",
     "output_type": "stream",
     "text": [
      "10\n",
      "20\n"
     ]
    }
   ],
   "source": [
    "x = 10\n",
    "X = 20\n",
    "print(x)\n",
    "print(X)"
   ]
  },
  {
   "cell_type": "markdown",
   "metadata": {},
   "source": [
    "## CASOS ESPECIALES"
   ]
  },
  {
   "cell_type": "markdown",
   "metadata": {},
   "source": [
    "* **SHORTHAND**: Que en español quiere decir taquigrafia, es un procedimiento muy util en python que nos permite reducir código para efectuar diversos tipos de operaciones como asignaciones o reasignaciones. En python se les conoce como asignaciones abreviadas. Por ahora nos basta decir que a la primera variable le corresponde el primer valor asignado, y así sucesivamente."
   ]
  },
  {
   "cell_type": "code",
   "execution_count": 6,
   "metadata": {},
   "outputs": [
    {
     "name": "stdout",
     "output_type": "stream",
     "text": [
      "2 <class 'int'>\n",
      "HOLA <class 'str'>\n",
      "568999 <class 'int'>\n",
      "(2+5j) <class 'complex'>\n",
      "[3, 5, 7] <class 'list'>\n",
      "() <class 'tuple'>\n"
     ]
    }
   ],
   "source": [
    "a,b,c,d,e,f=2,'HOLA',568999,2+5j,[3,5,7],()\n",
    "print(a,type(a))\n",
    "print(b,type(b))\n",
    "print(c,type(c))\n",
    "print(d,type(d))\n",
    "print(e,type(e))\n",
    "print(f,type(f))"
   ]
  },
  {
   "cell_type": "markdown",
   "metadata": {},
   "source": [
    "* **ASIGNACIONES CRUZADAS:** Pero python va más allá y nos permite la reasignación en una sola linea."
   ]
  },
  {
   "cell_type": "code",
   "execution_count": 11,
   "metadata": {},
   "outputs": [
    {
     "name": "stdout",
     "output_type": "stream",
     "text": [
      "el valor de x: 15 y el valor de y: 30\n",
      "el valor de id x: 2248783588080 y el valor de id y: 2248783588560 \n",
      "\n",
      "ahora el valor de x: 30 y ahora el valor de y: 15\n",
      "el valor de id x: 2248783588560 y el valor de id y: 2248783588080\n"
     ]
    }
   ],
   "source": [
    "x = 15\n",
    "y = 30\n",
    "print('el valor de x:',x,'y el valor de y:',y)\n",
    "print('el valor de id x:',id(x),'y el valor de id y:',id(y),'\\n')\n",
    "x,y=y,x\n",
    "print('ahora el valor de x:',x,'y ahora el valor de y:',y)\n",
    "print('el valor de id x:',id(x),'y el valor de id y:',id(y))"
   ]
  },
  {
   "cell_type": "code",
   "execution_count": 12,
   "metadata": {},
   "outputs": [
    {
     "name": "stdout",
     "output_type": "stream",
     "text": [
      "el valor de x: 15 y el valor de y: 30\n",
      "el valor de id x: 2248783588080 y el valor de id y: 2248783588560 \n",
      "\n",
      "ahora el valor de x: 30 y ahora el valor de y: 15\n",
      "el valor de id x: 2248783588560 y el valor de id y: 2248783588080\n"
     ]
    }
   ],
   "source": [
    "x = 15\n",
    "y = 30\n",
    "print('el valor de x:',x,'y el valor de y:',y)\n",
    "print('el valor de id x:',id(x),'y el valor de id y:',id(y),'\\n')\n",
    "x = 30\n",
    "y = 15\n",
    "print('ahora el valor de x:',x,'y ahora el valor de y:',y)\n",
    "print('el valor de id x:',id(x),'y el valor de id y:',id(y))"
   ]
  },
  {
   "cell_type": "markdown",
   "metadata": {},
   "source": [
    "* **GUIÓN BAJO:** Bueno hasta acá sabiamos que ' _ ' podría ser un identificador para un objeto; no es recomendable utilizarla individualmente pero que funciona, funciona. Pero en si el ' _ ' tiene otra utilidad más importante, es de invocar a la última variable en ser ejecutada, pero eso se ve mejor en el IDLE de python. "
   ]
  },
  {
   "cell_type": "code",
   "execution_count": 9,
   "metadata": {},
   "outputs": [
    {
     "name": "stdout",
     "output_type": "stream",
     "text": [
      "38\n"
     ]
    }
   ],
   "source": [
    "_ = 12\n",
    "b = 7\n",
    "c = ( _ + b )*2\n",
    "print(c)"
   ]
  },
  {
   "cell_type": "code",
   "execution_count": 21,
   "metadata": {},
   "outputs": [
    {
     "data": {
      "text/plain": [
       "13"
      ]
     },
     "execution_count": 21,
     "metadata": {},
     "output_type": "execute_result"
    }
   ],
   "source": [
    "a = 12\n",
    "b = 7\n",
    "c = a+b\n",
    "d = _ +1\n",
    "d"
   ]
  },
  {
   "cell_type": "markdown",
   "metadata": {},
   "source": [
    "## USO DE LA NEMOTÉCNICA Y CAMELCASE"
   ]
  },
  {
   "cell_type": "markdown",
   "metadata": {},
   "source": [
    "Nosotros como programadores tenemos la libertad de elegir los nombres para las variables, pero siempre teniendo en cuenta la nemotécnica: que es una ayuda para la memoria de facil recuerdo.\n",
    "**Ejemplo:**\n",
    " Si tenemos un problema en donde trabajaremos con variables que hablen de algo en particular.\n",
    "\n",
    "> |INCORRECTO | CORRECTO|\n",
    "> | :-----: | :------ |\n",
    "> | a = 35.5 | horas = 35.5 |\n",
    "> | b = 12.50 | tarifa = 12.50 |\n",
    "> | c = a * b | salario = horas * tarifa |"
   ]
  },
  {
   "cell_type": "markdown",
   "metadata": {},
   "source": [
    "y la técnica de **camalcase:** trata de reemplazar un espacio en blanco con la letra siguiente pero en mayúscula. También es opcional reemplazar por un subguión bajo."
   ]
  },
  {
   "cell_type": "markdown",
   "metadata": {},
   "source": [
    "## EXPRESIONES Y ENUNCIADOS"
   ]
  },
  {
   "cell_type": "markdown",
   "metadata": {},
   "source": [
    "Un *Enunciado*: es una oración que consta de expresiones. A nosotros nos va interesar los enunciados que tengan el siguiente operador: ' = ' entre las expresiones.\n",
    "Una *Expresión*: consta en el lado izquierdo de una variable y en el lado derecho tiene otra expresión.\n",
    "> **expresión:**\n",
    "> < variable > = < otra expresión : valor >\n",
    "\n",
    "Nosotros generalmente vamos a trabajar con expresiones matemáticas."
   ]
  },
  {
   "cell_type": "code",
   "execution_count": 13,
   "metadata": {},
   "outputs": [
    {
     "name": "stdout",
     "output_type": "stream",
     "text": [
      "-7.8\n"
     ]
    }
   ],
   "source": [
    "x=2\n",
    "x = 3.9 * x * (1 - x)\n",
    "print(x)"
   ]
  },
  {
   "cell_type": "markdown",
   "metadata": {},
   "source": [
    "Y ya que en nuestras expresiones estaremos trabajando con valores numéricos, la falta de los simbolos matemáticos en nuestro teclado nos obliga a reemplazarlos por ciertos símbolos que los llamaremos operadores."
   ]
  },
  {
   "cell_type": "markdown",
   "metadata": {},
   "source": [
    "## TIPOS DE OPERADORES"
   ]
  },
  {
   "cell_type": "markdown",
   "metadata": {},
   "source": [
    "Nosotros llamaremos operadores a los símbolos con los que operan nuestros objetos no necesariamente los de tipo numéricos, sino otros tipos que estudiaremos más adelante. Existen fundamentalmente 3 tipos de operadores y estos son:"
   ]
  },
  {
   "cell_type": "markdown",
   "metadata": {},
   "source": [
    "## OPERADORES ARITMÉTICOS\n",
    "Generalmente se encuentran los símbolos que se utilizán en la aritmética. Estos operadores será aplicable principalmente entre todos los objetos de tipo numérico. Obtendremos como resultado un valor numérico distinto al True y False; ya que estos son reemplazador por:\n",
    "\n",
    "> **True** = 1\n",
    "> **False** = 0\n"
   ]
  },
  {
   "cell_type": "markdown",
   "metadata": {},
   "source": [
    "> | OPERADOR | OPERACIÓN |\n",
    "> |:------------------------: | :-------------------- |\n",
    "> | + | SUMA |\n",
    "> | - | RESTA |\n",
    "> | * | MULTIPLICACIÓN |\n",
    "> | / | DIVISIÓN |\n",
    "> | ** | POTENCIA |\n",
    "> | % | RESTO |\n",
    "> | // | DIVISIÓN EXACTA |\n"
   ]
  },
  {
   "cell_type": "markdown",
   "metadata": {},
   "source": [
    "## OPERADORES RELACIONALES\n",
    "Generalmente se encuentran los símbolos que se utilizán en la álgebra. Es aplicable a todos los objetos de tipo numéricos, a excepción si combinamos los del tipo complex y cualquiera de los otros tipos numéricos. Obtendremos como respuestas: **True** y **False** no en su valor numérico sino en su forma booleana."
   ]
  },
  {
   "cell_type": "markdown",
   "metadata": {},
   "source": [
    "> | OPERADOR | SIGNIFICADO |\n",
    "> |:------------------------: | :-------------------- |\n",
    "> | < | MENOR |\n",
    "> | <= | MENOR O IGUAL QUE |\n",
    "> | > | MAYOR |\n",
    "> | >= | MAYOR O IGUAL QUE |\n",
    "> | == | IGUAL A |\n",
    "> | != | DIFERENTE A |\n"
   ]
  },
  {
   "cell_type": "markdown",
   "metadata": {},
   "source": [
    "## OPERADORES LÓGICOS\n",
    "Estos operadores son aplicables a todos los objetos del tipo numérico, cuyas respuestas solo serán: **True** y **False**. Los operadores and y or son también llamados operadores binarios mientras que el not es un operador unario."
   ]
  },
  {
   "cell_type": "markdown",
   "metadata": {},
   "source": [
    "> | OPERADOR | SIGNIFICADO |\n",
    "> |:------------------------ | :-------------------- |\n",
    "> | and | Y  |\n",
    "> | or | O |\n",
    "> | not | NEGACIÓN |\n",
    "> | is | ES EL MISMO OBJETO |\n",
    "> | is not | NO ES EL MISMO OBJETO |\n",
    ">\n",
    "> **Orden de precedencia:**\n",
    "> not > and > or\n"
   ]
  },
  {
   "cell_type": "markdown",
   "metadata": {},
   "source": [
    "## ORDEN DE PRIORIDAD ENTRE LOS OPERADORES\n",
    "\n"
   ]
  },
  {
   "cell_type": "markdown",
   "metadata": {},
   "source": [
    ">**OPERADORES ARIMÉTICOS > OPERADORES RELACIONALES > OPERADORE LÓGICOS**       \n",
    "\n",
    "\n",
    "> *MAYOR PRIORIDAD <------------------------------------------- MENOR PRIORIDAD*"
   ]
  },
  {
   "cell_type": "code",
   "execution_count": 5,
   "metadata": {},
   "outputs": [
    {
     "name": "stdout",
     "output_type": "stream",
     "text": [
      "False\n",
      "True\n",
      "False\n"
     ]
    }
   ],
   "source": [
    "print( (4 and ( 4.5 - False ) / 2 * 5 > 56.7 )**2 or False)\n",
    "print( 5 * 2 > 9 and not 3 > 4 )\n",
    "print(3<2==5) "
   ]
  },
  {
   "cell_type": "markdown",
   "metadata": {},
   "source": [
    "## REGLAS DE PRECEDENCIA EN LOS OPERADORES ARITMÉTICOS"
   ]
  },
  {
   "cell_type": "markdown",
   "metadata": {},
   "source": [
    "* Siempre se respetan los parentesis\n",
    "* Potenciación\n",
    "* Multiplicación, división y resto\n",
    "* Suma y resta\n",
    "\n",
    "Cuando se tenga operaciones del mismo nivel, estás se realizarán de izquierda a derecha."
   ]
  },
  {
   "cell_type": "code",
   "execution_count": 2,
   "metadata": {},
   "outputs": [
    {
     "name": "stdout",
     "output_type": "stream",
     "text": [
      "7.0\n",
      "6.999744016382952\n"
     ]
    }
   ],
   "source": [
    "# No te olvides que el '( )', cambia la precedencia de los operadores\n",
    "y= 8 - 6 / 2 + 1*2\n",
    "x = 1 + 2 * 3 - 4 / (5 ** 6 + 3 % 2)\n",
    "print(y)\n",
    "print(x)"
   ]
  },
  {
   "cell_type": "code",
   "execution_count": 3,
   "metadata": {},
   "outputs": [
    {
     "name": "stdout",
     "output_type": "stream",
     "text": [
      "4.0\n"
     ]
    }
   ],
   "source": [
    "# Hay que repartir una caja de 24 bombones, entre 2 grupos de 3 alumnos cada uno\n",
    "# cuanto le toca a cada uno\n",
    "c = ( 24 / 2 ) / 3\n",
    "print(c)"
   ]
  },
  {
   "cell_type": "markdown",
   "metadata": {},
   "source": [
    "## FUNCIONES PROPIAS DE PYTHON"
   ]
  },
  {
   "cell_type": "markdown",
   "metadata": {},
   "source": [
    "Para ejecutar una función de Python la sintaxis es:\n",
    "\n",
    "NombreDeLaFuncion(Argumento)\n",
    "\n",
    "Es decir se escribe el nombre de la función y dentro el argumento o argumentos de la función.\n",
    "Una función se puede asemejar a un proceso que tiene entradas y salidas.\n",
    "Los argumentos son los datos de entrada que necesita la función. Citemos algunas funciones propias o existentes de python.\n",
    "* ID\n",
    "* PRINT( )\n",
    "* TYPE( )\n",
    "* ROUND( )\n"
   ]
  },
  {
   "cell_type": "markdown",
   "metadata": {},
   "source": [
    "### TYPE\n",
    "Recordar que Type es un atributo más de un objeto, en python no tenemos que declarar ningún tipo para cualquier objeto, ya que no te olvides las 2 características más importantes de python que ofrece type.\n",
    "* TIPADO FUERTE\n",
    "* TIPADO DINÁMICO"
   ]
  },
  {
   "cell_type": "code",
   "execution_count": 14,
   "metadata": {},
   "outputs": [
    {
     "name": "stdout",
     "output_type": "stream",
     "text": [
      "\n",
      " ----------------------------- FUNCIÓN TYPE ----------------------------------- \n",
      "\n",
      "<class 'int'>\n",
      "\n",
      " ----------------------------- FUNCIÓN TYPE ----------------------------------- \n",
      "\n",
      "<class 'str'>\n"
     ]
    }
   ],
   "source": [
    "# TIPADO DINÁMICO\n",
    "\n",
    "m = 1 + 4  # el símbolo '+' funciona como simbolo aritmético\n",
    "print('\\n','----------------------------- FUNCIÓN TYPE -----------------------------------','\\n')\n",
    "print(type(m))\n",
    "m= 'hola' + ' a todos'  # el símbolo '+' concatena\n",
    "print('\\n','----------------------------- FUNCIÓN TYPE -----------------------------------','\\n')\n",
    "print(type(m))\n"
   ]
  },
  {
   "cell_type": "code",
   "execution_count": 38,
   "metadata": {},
   "outputs": [
    {
     "name": "stdout",
     "output_type": "stream",
     "text": [
      "<class 'str'>\n"
     ]
    },
    {
     "ename": "TypeError",
     "evalue": "can only concatenate str (not \"int\") to str",
     "output_type": "error",
     "traceback": [
      "\u001b[1;31m---------------------------------------------------------------------------\u001b[0m",
      "\u001b[1;31mTypeError\u001b[0m                                 Traceback (most recent call last)",
      "\u001b[1;32m~\\AppData\\Local\\Temp/ipykernel_15944/2040513454.py\u001b[0m in \u001b[0;36m<module>\u001b[1;34m\u001b[0m\n\u001b[0;32m      2\u001b[0m \u001b[0ms\u001b[0m\u001b[1;33m=\u001b[0m \u001b[1;34m'ROLLING STONES'\u001b[0m\u001b[1;33m\u001b[0m\u001b[1;33m\u001b[0m\u001b[0m\n\u001b[0;32m      3\u001b[0m \u001b[0mprint\u001b[0m\u001b[1;33m(\u001b[0m\u001b[0mtype\u001b[0m\u001b[1;33m(\u001b[0m\u001b[0ms\u001b[0m\u001b[1;33m)\u001b[0m\u001b[1;33m)\u001b[0m\u001b[1;33m\u001b[0m\u001b[1;33m\u001b[0m\u001b[0m\n\u001b[1;32m----> 4\u001b[1;33m \u001b[0ms\u001b[0m\u001b[1;33m=\u001b[0m \u001b[0ms\u001b[0m \u001b[1;33m+\u001b[0m \u001b[1;36m1\u001b[0m\u001b[1;33m\u001b[0m\u001b[1;33m\u001b[0m\u001b[0m\n\u001b[0m\u001b[0;32m      5\u001b[0m \u001b[0mprint\u001b[0m\u001b[1;33m(\u001b[0m\u001b[0mtype\u001b[0m\u001b[1;33m(\u001b[0m\u001b[0ms\u001b[0m\u001b[1;33m)\u001b[0m\u001b[1;33m)\u001b[0m\u001b[1;33m\u001b[0m\u001b[1;33m\u001b[0m\u001b[0m\n",
      "\u001b[1;31mTypeError\u001b[0m: can only concatenate str (not \"int\") to str"
     ]
    }
   ],
   "source": [
    "# TIPADO FUERTE\n",
    "\n",
    "s= 'ROLLING STONES'\n",
    "print(type(s))\n",
    "s= s + 1\n",
    "print(type(s))"
   ]
  },
  {
   "cell_type": "markdown",
   "metadata": {},
   "source": [
    "Entonces para que 2 objetos puedan realizar un tipo de operación tienen que ser del mismo tipo de dato y no de la misma clase como se vera más adelante."
   ]
  },
  {
   "cell_type": "markdown",
   "metadata": {},
   "source": [
    "## TIPOS DE DATOS"
   ]
  },
  {
   "cell_type": "markdown",
   "metadata": {},
   "source": [
    "| TIPO DE DATOS | EJEMPLO | CONNOTACIÓN |\n",
    "| :---------- | :-------------- | :------------ |\n",
    "| NUMERICOS | 12,  23.5,  True,  False,  3+6j | int, bool, complex, float |  \n",
    "| STRINGS O CADENAS | 'beatles' | str |\n",
    "| LISTAS | [ 3, 5, True, 'hola' ] | list |\n",
    "| TUPLAS | ( 4.6, 5, False, [1, 3, 4] ) | tuple |\n",
    "| DICCIONARIOS | { 'red' : 1, 'blue' : 2, 'green' : 3 } | dict |\n",
    "| CONJUNTOS | { 3,5,5,8 } | set |"
   ]
  },
  {
   "cell_type": "code",
   "execution_count": 16,
   "metadata": {},
   "outputs": [
    {
     "name": "stdout",
     "output_type": "stream",
     "text": [
      "(1.5-7j)\n"
     ]
    }
   ],
   "source": [
    "# DIJIMOS QUE SOLO PODEMOS OPERAR CON LOS DEL MISMO TIPO, PROBEMOS:\n",
    "w = 1 + 3.5 * True - (3 +7j + False)  \n",
    "print(w)"
   ]
  },
  {
   "cell_type": "code",
   "execution_count": 17,
   "metadata": {},
   "outputs": [
    {
     "name": "stdout",
     "output_type": "stream",
     "text": [
      "hello LIMA\n"
     ]
    }
   ],
   "source": [
    "r = 'hello' + ' LIMA'\n",
    "print(r)"
   ]
  },
  {
   "cell_type": "code",
   "execution_count": 18,
   "metadata": {},
   "outputs": [
    {
     "name": "stdout",
     "output_type": "stream",
     "text": [
      "[3, 5, 6, 'ahh', True]\n"
     ]
    }
   ],
   "source": [
    "t = [3, 5, 6, 'ahh'] + [True]\n",
    "print(t)\n"
   ]
  },
  {
   "cell_type": "markdown",
   "metadata": {},
   "source": [
    "## CURIOSIDAD"
   ]
  },
  {
   "cell_type": "code",
   "execution_count": 19,
   "metadata": {},
   "outputs": [
    {
     "name": "stdout",
     "output_type": "stream",
     "text": [
      "<class 'complex'> \n",
      "\n",
      "<class 'str'> \n",
      "\n",
      "<class 'list'> \n",
      "\n",
      "----------------------- DIAGRAMA DE HERENCIA ------------------------- \n",
      "\n",
      "<class 'type'> \n",
      "\n",
      "<class 'type'> \n",
      "\n",
      "<class 'type'> \n",
      "\n",
      "<class 'type'> \n",
      "\n",
      "<class 'type'> \n",
      "\n"
     ]
    }
   ],
   "source": [
    "print(type(w),'\\n')\n",
    "print(type(r),'\\n')\n",
    "print(type(t),'\\n')\n",
    "# Nos muestra diferentes clases, dijimos que las clases son generadores de objetos.\n",
    "# Más adelante cuando haguemos POO, endenderemos que son constructores, creadores de objetos.\n",
    "# son padres y a la misma ves serán hijos tbm.\n",
    "print('----------------------- DIAGRAMA DE HERENCIA -------------------------','\\n')\n",
    "print(type(int),'\\n')\n",
    "print(type(list),'\\n')\n",
    "print(type(complex),'\\n')\n",
    "print(type(str),'\\n')\n",
    "print(type(type),'\\n')"
   ]
  },
  {
   "cell_type": "markdown",
   "metadata": {},
   "source": [
    "## CONSTRUCTORES DE OBJETOS"
   ]
  },
  {
   "cell_type": "code",
   "execution_count": 54,
   "metadata": {},
   "outputs": [
    {
     "name": "stdout",
     "output_type": "stream",
     "text": [
      "1668774292400 \n",
      "\n",
      "<class 'str'> \n",
      "\n",
      "2 \n",
      "\n",
      "1668773669200 \n",
      "\n",
      "<class 'int'> \n",
      "\n",
      "<class 'str'> \n",
      "\n"
     ]
    }
   ],
   "source": [
    "a = '2'\n",
    "print(id(a),'\\n')\n",
    "print(type(a),'\\n')\n",
    "b = int(a)\n",
    "print(b,'\\n')\n",
    "print(id(b),'\\n')\n",
    "print(type(b),'\\n')\n",
    "print(type(a),'\\n')"
   ]
  },
  {
   "cell_type": "code",
   "execution_count": 56,
   "metadata": {},
   "outputs": [
    {
     "name": "stdout",
     "output_type": "stream",
     "text": [
      "1668855666352 \n",
      "\n",
      "<class 'str'> \n",
      "\n",
      "26.0 \n",
      "\n",
      "1668854827248 \n",
      "\n",
      "<class 'float'> \n",
      "\n",
      "<class 'str'> \n",
      "\n"
     ]
    }
   ],
   "source": [
    "x = '26'\n",
    "print(id(x),'\\n')\n",
    "print(type(x),'\\n')\n",
    "y = float(x)\n",
    "print(y,'\\n')\n",
    "print(id(y),'\\n')\n",
    "print(type(y),'\\n')\n",
    "print(type(x),'\\n')"
   ]
  },
  {
   "cell_type": "code",
   "execution_count": 125,
   "metadata": {},
   "outputs": [
    {
     "name": "stdout",
     "output_type": "stream",
     "text": [
      "1668856051504 \n",
      "\n",
      "<class 'str'> \n",
      "\n",
      "['T', 'H', 'E', ' ', 'B', 'E', 'A', 'T', 'L', 'E', 'S'] \n",
      "\n",
      "1668856052608 \n",
      "\n",
      "<class 'list'> \n",
      "\n",
      "<class 'str'> \n",
      "\n"
     ]
    }
   ],
   "source": [
    "a = 'THE BEATLES'\n",
    "print(id(a),'\\n')\n",
    "print(type(a),'\\n')\n",
    "b = list(a)\n",
    "print(b,'\\n')\n",
    "print(id(b),'\\n')\n",
    "print(type(b),'\\n')\n",
    "print(type(a),'\\n')"
   ]
  },
  {
   "cell_type": "code",
   "execution_count": 127,
   "metadata": {},
   "outputs": [
    {
     "name": "stdout",
     "output_type": "stream",
     "text": [
      "la temperatura es de: 80.02256 °F\n"
     ]
    }
   ],
   "source": [
    "# MÉTODO DE APLICACIÓN\n",
    "x = '26.6792'\n",
    "f = (9/5)*float(x) + 32\n",
    "print('la temperatura es de:',f,'°F')"
   ]
  },
  {
   "cell_type": "code",
   "execution_count": 80,
   "metadata": {},
   "outputs": [
    {
     "name": "stdout",
     "output_type": "stream",
     "text": [
      "199.0\n"
     ]
    }
   ],
   "source": [
    "r = float(99)\n",
    "print( r + 100)"
   ]
  },
  {
   "cell_type": "markdown",
   "metadata": {},
   "source": [
    "## DIVISIÓN DE NUMEROS ENTEROS"
   ]
  },
  {
   "cell_type": "markdown",
   "metadata": {},
   "source": [
    "La división de numeros enteros y flotantes siempre arroja como resultado un número del type float.\n"
   ]
  },
  {
   "cell_type": "code",
   "execution_count": 120,
   "metadata": {},
   "outputs": [
    {
     "name": "stdout",
     "output_type": "stream",
     "text": [
      "5.0 \n",
      "\n",
      "4.5 \n",
      "\n",
      "5.0 \n",
      "\n",
      "<class 'float'>\n"
     ]
    }
   ],
   "source": [
    "print(10 / 2,'\\n')\n",
    "print(9 / 2.0,'\\n')\n",
    "s=10.0 / 2.0\n",
    "print(s,'\\n')\n",
    "print(type(s))"
   ]
  },
  {
   "cell_type": "markdown",
   "metadata": {},
   "source": [
    "## COMENTARIOS\n",
    "Para comentar el código utilizamos la almohadilla y se pondra de un color azul marino. **¿pero porque comentario?:**\n",
    "* Permite descubir que está pasando en cada secuencia de código.\n",
    "* Permite documentar para que cualquier persona lo pueda entender.\n",
    "* Permite desactivar una linea de código, quizás de manera temporal"
   ]
  },
  {
   "cell_type": "code",
   "execution_count": 16,
   "metadata": {
    "tags": []
   },
   "outputs": [],
   "source": [
    "# Con respecto al tipo de dato string o cadena de caracteres. Estas se definen entre comillas\n",
    "# simples o dobles. Acá en python no exIste el tipo de dato *char*.\n",
    "# En python no existen tos tipos de datso: int8, int16, int32. Existe solo el tipo de dato int"
   ]
  },
  {
   "cell_type": "markdown",
   "metadata": {},
   "source": [
    "## USO DE LAS TRES COMILLAS"
   ]
  },
  {
   "cell_type": "code",
   "execution_count": 48,
   "metadata": {},
   "outputs": [
    {
     "name": "stdout",
     "output_type": "stream",
     "text": [
      "Sócrates dijo: \"solo sé que nada sé\" \n",
      "Sócrates dijo: 'solo sé que nada sé'  \n",
      "Sócrates dijo: \"solo sé que nada sé\" \n"
     ]
    }
   ],
   "source": [
    "#print('Sócrates dijo: 'solo sé que nada sé' ')\n",
    "print('Sócrates dijo: \"solo sé que nada sé\" ')\n",
    "print('''Sócrates dijo: 'solo sé que nada sé'  ''')\n",
    "print('''Sócrates dijo: \"solo sé que nada sé\" ''')"
   ]
  },
  {
   "cell_type": "markdown",
   "metadata": {},
   "source": [
    "## SECUENCIAS DE ESCAPE\n",
    "Las secuencias de escape te permiten incluir caracteres especiales en las cadenas. Para ello basta con añadir una barra invertida antes del caracter que deseas escapar.\n"
   ]
  },
  {
   "cell_type": "code",
   "execution_count": 20,
   "metadata": {},
   "outputs": [],
   "source": [
    "# uso de \\n,  \\t,  \\',  \\\", \\\\, \\b"
   ]
  },
  {
   "cell_type": "code",
   "execution_count": 37,
   "metadata": {},
   "outputs": [
    {
     "name": "stdout",
     "output_type": "stream",
     "text": [
      "  Sócrates dijo:  \"solo sé que nada sé\"\n"
     ]
    }
   ],
   "source": [
    "print('  Sócrates dijo:  \\\"solo sé que nada sé\\\"')  "
   ]
  },
  {
   "cell_type": "code",
   "execution_count": 36,
   "metadata": {},
   "outputs": [
    {
     "name": "stdout",
     "output_type": "stream",
     "text": [
      "  Sócrates dijo: \bsolo sé que nada sé \n"
     ]
    }
   ],
   "source": [
    "print('  Sócrates dijo: \\bsolo sé que nada sé ') "
   ]
  },
  {
   "cell_type": "markdown",
   "metadata": {},
   "source": [
    "## BUENAS PRÁCTICAS EN PROGRAMACIÓN\n"
   ]
  },
  {
   "cell_type": "markdown",
   "metadata": {},
   "source": [
    "1. UTILIZAR NOMBRES DE VARIABLES QUE TENGAN SENTIDO\n",
    "\n",
    "Por ejemplo si tiene una variable \"hola\" puede nombrarla \"mensaje\" o \"saludo\" ya que la cadena de caracteres es un mensaje o un saludo.\n",
    "Colocar nombres correctos a las variables permite entender mucho mejor las líneas de código que se están escribiendo."
   ]
  },
  {
   "cell_type": "code",
   "execution_count": null,
   "metadata": {},
   "outputs": [],
   "source": [
    "mensaje = \"hola\""
   ]
  },
  {
   "cell_type": "markdown",
   "metadata": {},
   "source": [
    "2. UTILIZAR CAMELCASE\n",
    "\n",
    "Camelcase es una forma de escritura en la cual se reemplaza los espacios por letras en mayúscula. En lugar de escribir \"mi variable\" puedo escribir \"miVariable\""
   ]
  },
  {
   "cell_type": "code",
   "execution_count": 15,
   "metadata": {},
   "outputs": [],
   "source": [
    "miVariable = 5"
   ]
  },
  {
   "cell_type": "markdown",
   "metadata": {},
   "source": [
    "3. COMENTAR EL CÓDIGO\n",
    "\n",
    "Al comentar oportunamente utilizando el \"#\" puede recordar más facilmente los algoritmos que se han utilizado. Al comentar el color del texto cambia."
   ]
  },
  {
   "cell_type": "code",
   "execution_count": 16,
   "metadata": {},
   "outputs": [
    {
     "name": "stdout",
     "output_type": "stream",
     "text": [
      "2021-01-16\n"
     ]
    }
   ],
   "source": [
    "import datetime\n",
    "# datetime es una biblioteca que permite trabajar con fechas y horas\n",
    "hoy = datetime.date.today()\n",
    "# el comando datetime.date.today() me devuelve la fecha de hoy\n",
    "print(hoy)"
   ]
  },
  {
   "cell_type": "markdown",
   "metadata": {},
   "source": [
    "4. UTILICE MAYÚSCULAS PARA DEFINIR VALORES CONSTANTES Y MINÚSCULAS PARA DEFINIR VALORES VARIABLES\n",
    "\n",
    "Las variables que contengan datos que no cambiarán con el tiempo deben escribirse todas con mayúsculas. Por ejemplo el puerto de un pin o puerto de salida, o una variable de entorno que guarda una dirección en su computador."
   ]
  },
  {
   "cell_type": "code",
   "execution_count": 17,
   "metadata": {},
   "outputs": [],
   "source": [
    "# VARIABLES GLOBALES\n",
    "PIN = 25\n",
    "DIRECCION = \"D:/BaseDeDatos\""
   ]
  },
  {
   "cell_type": "code",
   "execution_count": 18,
   "metadata": {},
   "outputs": [
    {
     "name": "stdout",
     "output_type": "stream",
     "text": [
      "25\n"
     ]
    }
   ],
   "source": [
    "print(PIN)"
   ]
  },
  {
   "cell_type": "markdown",
   "metadata": {},
   "source": [
    "## PRACTIQUEMOS\n",
    "\n",
    "Modifique los siguientes códigos de tal forma que ya no muestren errores:"
   ]
  },
  {
   "cell_type": "code",
   "execution_count": 1,
   "metadata": {},
   "outputs": [
    {
     "ename": "SyntaxError",
     "evalue": "invalid syntax (<ipython-input-1-b838c3d31f6e>, line 1)",
     "output_type": "error",
     "traceback": [
      "\u001b[1;36m  File \u001b[1;32m\"<ipython-input-1-b838c3d31f6e>\"\u001b[1;36m, line \u001b[1;32m1\u001b[0m\n\u001b[1;33m    mi nombre = \"Francisco\"\u001b[0m\n\u001b[1;37m       ^\u001b[0m\n\u001b[1;31mSyntaxError\u001b[0m\u001b[1;31m:\u001b[0m invalid syntax\n"
     ]
    }
   ],
   "source": [
    "mi nombre = \"Francisco\""
   ]
  },
  {
   "cell_type": "code",
   "execution_count": 2,
   "metadata": {},
   "outputs": [
    {
     "ename": "SyntaxError",
     "evalue": "invalid syntax (<ipython-input-2-423d17fc3c46>, line 1)",
     "output_type": "error",
     "traceback": [
      "\u001b[1;36m  File \u001b[1;32m\"<ipython-input-2-423d17fc3c46>\"\u001b[1;36m, line \u001b[1;32m1\u001b[0m\n\u001b[1;33m    2x = 48\u001b[0m\n\u001b[1;37m     ^\u001b[0m\n\u001b[1;31mSyntaxError\u001b[0m\u001b[1;31m:\u001b[0m invalid syntax\n"
     ]
    }
   ],
   "source": [
    "2x = 48"
   ]
  },
  {
   "cell_type": "code",
   "execution_count": 3,
   "metadata": {},
   "outputs": [
    {
     "ename": "SyntaxError",
     "evalue": "invalid syntax (<ipython-input-3-1eb0f21e7bfb>, line 1)",
     "output_type": "error",
     "traceback": [
      "\u001b[1;36m  File \u001b[1;32m\"<ipython-input-3-1eb0f21e7bfb>\"\u001b[1;36m, line \u001b[1;32m1\u001b[0m\n\u001b[1;33m    lista de datos = [58, 45 , 32]\u001b[0m\n\u001b[1;37m          ^\u001b[0m\n\u001b[1;31mSyntaxError\u001b[0m\u001b[1;31m:\u001b[0m invalid syntax\n"
     ]
    }
   ],
   "source": [
    "lista de datos = [58, 45 , 32] "
   ]
  }
 ],
 "metadata": {
  "kernelspec": {
   "display_name": "Python 3 (ipykernel)",
   "language": "python",
   "name": "python3"
  },
  "language_info": {
   "codemirror_mode": {
    "name": "ipython",
    "version": 3
   },
   "file_extension": ".py",
   "mimetype": "text/x-python",
   "name": "python",
   "nbconvert_exporter": "python",
   "pygments_lexer": "ipython3",
   "version": "3.9.7"
  }
 },
 "nbformat": 4,
 "nbformat_minor": 4
}
