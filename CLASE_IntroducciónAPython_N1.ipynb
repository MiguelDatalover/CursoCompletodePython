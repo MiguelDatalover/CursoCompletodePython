{
 "cells": [
  {
   "cell_type": "markdown",
   "metadata": {},
   "source": [
    "# PYTHON\n"
   ]
  },
  {
   "cell_type": "markdown",
   "metadata": {},
   "source": [
    "ENLACE: [MANUAL DE USO DEL LENGUAJE PYTHON:](https://docs.python.org/es/3/index.html)"
   ]
  },
  {
   "cell_type": "markdown",
   "metadata": {},
   "source": [
    "## INTRODUCCIÓN"
   ]
  },
  {
   "cell_type": "markdown",
   "metadata": {},
   "source": [
    "Python es un lenguaje amigable porque es comprensible y sencillo. Por eso se dice que es un lenguaje de alto nivel; pero aprovechemos a definir que esto último.**Lenguaje de alto nivel:** Se refiere a algo muy parecido al lenguaje humano, es decir, que tiene muchas palabras reservadas parecidas a las que manejamos día  a día.\n",
    ">Python fue creado por GUIDO VAN ROSSUM en 1991. El nombre de python no tiene ninguna connotación zoológica, sino es un homenaje de su autor al inolvidable grupo cómico ingles: *MONTY PYTHON*, una de las mejores comedias de la historia del cine."
   ]
  },
  {
   "cell_type": "markdown",
   "metadata": {},
   "source": [
    "Python es un lenguaje de programación compilado e interpretado de alto nivel que en la actualidad tiene múltiples aplicaciones donde resaltan el machine learning, el análisis de datos, el desarrollo Web y de Apps. **¿Pero que es un lenguaje de programación?**"
   ]
  },
  {
   "cell_type": "markdown",
   "metadata": {},
   "source": [
    "Un lenguaje de programación es un sistema de comunicación, y un sistema de comunicación tiene ciertas reglas gramaticales que tenemos que conocer para poder programar de forma correcta. "
   ]
  },
  {
   "cell_type": "markdown",
   "metadata": {},
   "source": [
    "## ¿CÚNTOS LENGUAJES DE PROGRAMACIÓN HAY?"
   ]
  },
  {
   "cell_type": "markdown",
   "metadata": {},
   "source": [
    "El hombre creo los diferentes lenguajes de programación que hoy conocemos por nesecidad, ya que nesecitábamos crear un nuevo idioma que sea procesado, es decir sometido a procesos internos para que lleguemos al código maquina. El lenguaje por el cual empezamos fue el ensamblador que es lo más cercano al codigo maquina, por lo cual era muy rápido la traducción, pero también muy extenso y complicado de entender, debido a las pocas palabras que tenia dicho lenguaje. Así que decidimos crear otro lenguaje que se parezcan mucho al idioma humano, los cuales ya no eran muy enmarañado sino por lo contrario, fáciles de entender en cuanto a la sintaxis por su diversidad de palabras pero si más lento el proceso de traducción a código máquina."
   ]
  },
  {
   "cell_type": "markdown",
   "metadata": {},
   "source": [
    "**¿Pero que es programar?**. Cuando escuches la palabrita programar reemplazo por: *programar en computadora* para que recuerdes más facil su significado. Programar es escribir una serie de instrucciones,ordenes y secuencias en una computadora con el fin de poder hacer algo. Y por último debemos saber algunos conceptos básicos como *programa* o *programa de computdora* también llamado así = conjunto de sentencias, declaraciones u ordenes que se deben programar en una computadora, *programa fuente* = programa escrito en algún lenguaje de programación, *programa objeto* = programa escrito en código máquina para que la CPU pueda entender. No te olvides que cuando escuches la palabrita *ejecutar* se incorpora a todo el proceso de compilación, y si el lenguaje es híbrido será el proceso de compilación e interpretación"
   ]
  },
  {
   "cell_type": "markdown",
   "metadata": {
    "tags": []
   },
   "source": [
    "## CARACTERÍSTICAS DE PYTHON:\n",
    "* **HIBRIDO:** Python es un lenguaje que se compila y luego se interpreta.\n",
    "* **FUERTEMENTE TIPADO:** Todo lo creado en python ya nace con un tipo fijo.\n",
    "* **TIPADO DINÁMICO:** Como python está orientado a la POO, tiene tipos de datos que funcionan como constructores que son capaces de cambiar la clase de diferentes objetos. \n",
    "* **MULTIPARADIGMA:** Al igual que otros lenguajes de programación python aplica varios paradigmas o estilos de programación, pero esta estructurdo y pensado en la POO, pero mencionemos a las paradigmas que tenemos como:\n",
    "  - programación estructural\n",
    "  - programación funcional\n",
    "  - programación orienta a objetos\n",
    "* **MULTIPLATAFORMA:** Que nuestro programa puede ejecutarse independientemente el sistema operativo que usemos.\n",
    "* **SOFTWARE LIBRE:** Tener en cuenta que software libre no nesecariamente quiere decir que es gratuito aunque python si lo sea, para que sea software libre tiene que cumplir estas 4 libertades:\n",
    "   - la libertad de usar el programa con cualquier propósito.\n",
    "   - la libertad de estudiar el programa y adaptarlo a tus nesecidades.\n",
    "   - la libertad de distribuir copias.\n",
    "   - la libertad de hacer mejoras al programa y de hacerlas públicas para el beneficio de la comunidad.\n",
    "* **OPEN SOURCE:** Es un lenguaje de código abierto. Ahora para que un programa sea considerado como open source tiene que cumplir 10 libertades entre ellas, tiene mucha relación con las 4 libertades del software libre.   "
   ]
  },
  {
   "cell_type": "markdown",
   "metadata": {},
   "source": [
    ">En conclusión: Un software libre son aquellos programas que una vez obtenidos pueden ser usados, copiados, estudiados, modificados y redistribuidos libremente."
   ]
  },
  {
   "cell_type": "markdown",
   "metadata": {
    "tags": []
   },
   "source": [
    "## ¿CÓMO NOS COMUNICAMOS CON LA COMPUTADORA?"
   ]
  },
  {
   "cell_type": "markdown",
   "metadata": {},
   "source": [
    "Nosotros nesecitamos el uso de una computadora para que haga el trabajo repetitivo,sucio y dificil para el hombre. La parte más importante de la computadora es el CPU, ya que este tiene que ordenar y/o gestionar a todos los periféricos hacer lo que usted quiere para su proyecto. Pero no le podemos indicar que haga todo eso en nuestro idioma humano, porque no nos va a entender. Para eso el hombre creo un nexo como son los lenguajes de programación como Python que con la ayuda de un traductor que seria la implementación de dicho lenguaje, se le van ha enviar todas esas intrucciones a la CPU, pero ya convertido en su idioma de este. Para eso todo lenguaje de programación tiene una implementación. Una implementación es el proceso que se encargará de traducir sus instrucciones en el lenguaje que eligió, a código máquina. Este es el único lenguaje que entiende la maquina. **implementación -> traductor**."
   ]
  },
  {
   "cell_type": "markdown",
   "metadata": {},
   "source": [
    "Supongamos que desemos mostrar un mensajito y que se visualize por un dispositivo de salida, en este caso el más común sería el monitor. Entonces escribimos esa instrucción en un lenguaje de programación que para el caso es python."
   ]
  },
  {
   "cell_type": "code",
   "execution_count": 1,
   "metadata": {},
   "outputs": [
    {
     "name": "stdout",
     "output_type": "stream",
     "text": [
      "¡¡¡¡ BIENVENIDOS AL CURSO DE PROGRAMACIÓN CON PYTHON !!!!\n"
     ]
    }
   ],
   "source": [
    "# codigo fuente( LO VEMOS ) -> códigp objeto( NO LO VEMOS )\n",
    "print('¡¡¡¡ BIENVENIDOS AL CURSO DE PROGRAMACIÓN CON PYTHON !!!!')"
   ]
  },
  {
   "cell_type": "markdown",
   "metadata": {},
   "source": [
    "Al parecer cumplio con nuestra orden, ¿pero en realidad que hizo?. Cuando presionamos play o ejecutamos, invocamos a la implemetación. La **implementación** se encarga de introducir y realizar todos los procesos necesarios para que todas esas ordenes le lleguen al **MCU** en su idioma y este realize todo lo ordenado. La implementación que es nuestro traductor podriamos dividirlo en tres:\n",
    "* Compilación.\n",
    "* Interpretación.\n",
    "* Híbrido( partes compiladas e interpretadas ).\n",
    "\n"
   ]
  },
  {
   "cell_type": "markdown",
   "metadata": {},
   "source": [
    ">Al decir que un lenguaje de programación sea compilado, interpretado, etc. En si no es una propiedad del propio lenguaje por naturaleza, sino es una característica de la implementación para ese lenguaje. Por ejemplo python tiene muchas implementaciones pero el oficial y el que tiene soporte es el **Cpython**. Eso es porque la implementación está escrito en lenguaje C, y por eso vemos alguna palabritas conocidas como *print*."
   ]
  },
  {
   "cell_type": "markdown",
   "metadata": {},
   "source": [
    "## LA IMPLEMENTACIÓN DE PYTHON"
   ]
  },
  {
   "cell_type": "markdown",
   "metadata": {},
   "source": [
    "La implementación de python se llama: **Cpython** -> *la implementación de python está escrito en C*. Lo que realmente pasa es que nuestro archivo con extensión **py** inicialmente escrito en un IDE o editor de texto en lenguaje python, pasa por un proceso primero de compilación teniendo como resultado otro archivo que está en lenguaje byteCode; que es un lenguaje intermedio entre el de alto nivel y codigo maquina, este archivo tiene una extención de **pyc**. Para luego pasar por la etapa de interpretación, también llamada maquina virtual de Cpython y finalmente tenemos como salida un archivo que el CPU pueda entender y realizar acciones. Todo esto lo realiza la implementación."
   ]
  },
  {
   "cell_type": "markdown",
   "metadata": {},
   "source": [
    "## EL ORIGEN DE PYTHON"
   ]
  },
  {
   "cell_type": "markdown",
   "metadata": {},
   "source": [
    "**EN PYTHON TODO ES UN OBJETO**, pero acá en python hay 2 tipos de objetos. Uno es el objeto propiamente de python y el otro objeto es el que todos conocemos de la POO. Hay un acercamiento un poco ambigua entre estos tipos de objeto, pero que más adelante se detallará. No te olvides que el divino creador de python es el lenguaje C, es decir es el creador  de las estructuras que hay python. Y así como en la religipon existe un Dios creo a Adan y Eva para procrear a toda la humanidad, el Dios C creo a: *object* de python y a *type*.\n",
    "* **ADAN -> OBJECT**\n",
    "* **EVA -> TYPE**\n",
    "\n",
    "En el nivel de object y type se dice que se hace la metaprogramación( pero es un nivel al cual no está enfocado el curso ) y también se crea el paradigma más importante en python y al cual está enfocado, como lo es la **POO**, pero no es una POO como tal, sino es una programación orientada a objetos virtual. Todo debajo de este nivel son herederos de Object y Type, y son tratados como objetos de la **POO** virtual. Podriamos poner algunos ejemplos que tiene por hijos a: int, listas, tuplas, modulos, nonetype, etc. "
   ]
  },
  {
   "cell_type": "code",
   "execution_count": 2,
   "metadata": {},
   "outputs": [
    {
     "data": {
      "text/plain": [
       "10"
      ]
     },
     "execution_count": 2,
     "metadata": {},
     "output_type": "execute_result"
    }
   ],
   "source": [
    "# tenemos a un objeto vivo virtual\n",
    "10"
   ]
  },
  {
   "cell_type": "markdown",
   "metadata": {},
   "source": [
    "Ahora estos hijos reciben el nombre de *Clase*. **¿y que es una Clase?:** Es un objeto que genera más objetos, algo así como un generador de objetos y tambien hay otra palabrita clave como son las *metaclases*, estas tambien son objetos porque todo en python es un objeto, pero las metaclases son generadores de clases y no de objetos. Entonces Object y Type son las metaclases más importantes de python. Así que podriamos decir que tenemos 2 niveles para el master en python -> el de la metaprogramación y de la POO virtual; la ruta de aprendizaje es de abajo hacia arriba, así que cuando escuches que hablo de objeto me estaré refiriendo al objeto de la **Poo virtual**."
   ]
  },
  {
   "cell_type": "markdown",
   "metadata": {},
   "source": [
    "## ¿QUÉ ES UN OBJETO EN PYTHON?"
   ]
  },
  {
   "cell_type": "markdown",
   "metadata": {},
   "source": [
    "Ya aclarado de que objetos nos referimos podemos continuar diciendo. Un objeto acá en python; en el primer nivel de aprendizaje, es un ser virtual vivo: es como tu y yo pero virtualmente. Ahora al igual que tú y yo nos identificamos con nuestro DNI o pasaporte si eres extranjero, acá en python cada objeto tiene algo similiar y se llama *id*, este es único para cada objeto. Este *id* forma parte de los atributos o características que tiene todo objeto, un objeto en python tiene 4 caracteristicas o atributos."
   ]
  },
  {
   "cell_type": "markdown",
   "metadata": {},
   "source": [
    ">                              **OBJECT**\n",
    ">- **ID:** Para Cpython es la dirección en memoria.\n",
    ">- **TYPE:** Es el tipo o clase de ese objeto.\n",
    ">- **VALOR:** Es el valor propiamente dicho del objeto.\n",
    ">- **CONTADOR DE REFERENCIA:** Es la cantidad de variables que le hacen referencia."
   ]
  },
  {
   "cell_type": "code",
   "execution_count": 3,
   "metadata": {},
   "outputs": [
    {
     "name": "stdout",
     "output_type": "stream",
     "text": [
      "2328108296784 \n",
      "\n",
      "<class 'int'> \n",
      "\n",
      "10 \n",
      "\n"
     ]
    }
   ],
   "source": [
    "# OBJECT = 10 ( objeto vivo virtualmente )\n",
    "print(id(10),'\\n')\n",
    "print(type(10),'\\n')\n",
    "print(10,'\\n')"
   ]
  },
  {
   "cell_type": "markdown",
   "metadata": {},
   "source": [
    "El rol que cumple cada objeto en python depende de sus características y de la clase o type al que pertenece. por ejemplo el 10 pertenece a la clase  o es de tipo entero, y de acuerdo a sus caracteristicas y type va a realizar ciertos comportamientos como por ejemplo: el no sumarse con un string. "
   ]
  },
  {
   "cell_type": "code",
   "execution_count": 6,
   "metadata": {},
   "outputs": [
    {
     "ename": "TypeError",
     "evalue": "unsupported operand type(s) for +: 'int' and 'str'",
     "output_type": "error",
     "traceback": [
      "\u001b[1;31m---------------------------------------------------------------------------\u001b[0m",
      "\u001b[1;31mTypeError\u001b[0m                                 Traceback (most recent call last)",
      "\u001b[1;32m~\\AppData\\Local\\Temp/ipykernel_7380/1869362258.py\u001b[0m in \u001b[0;36m<module>\u001b[1;34m\u001b[0m\n\u001b[1;32m----> 1\u001b[1;33m \u001b[0mprint\u001b[0m\u001b[1;33m(\u001b[0m\u001b[1;36m10\u001b[0m \u001b[1;33m+\u001b[0m \u001b[1;34m'hola'\u001b[0m\u001b[1;33m)\u001b[0m\u001b[1;33m\u001b[0m\u001b[1;33m\u001b[0m\u001b[0m\n\u001b[0m",
      "\u001b[1;31mTypeError\u001b[0m: unsupported operand type(s) for +: 'int' and 'str'"
     ]
    }
   ],
   "source": [
    "print(10 + 'hola')"
   ]
  },
  {
   "cell_type": "markdown",
   "metadata": {},
   "source": [
    "## TIEMPO DE VIDA"
   ]
  },
  {
   "cell_type": "markdown",
   "metadata": {},
   "source": [
    "Así como en la vida real todos tenemos un inicio y un fin. Tambien los objetos tienen un fin e inicio y en la vida real podemos decir que la muerte es aquel que nos lleva; en python podriamos decir que se los lleva un recolector de basura. Esto es bueno ya que ayuda a liberar memoria. En otros lenguajes para poder tratar el manejo de memoria tenemos que usar un par de comandos para gestionarlos, pero en pyton es de forma automática. El objeto vive mientras el contador de referencia sea mayor a 0, sino se lo llevará el recolector de basura."
   ]
  },
  {
   "cell_type": "markdown",
   "metadata": {},
   "source": [
    "## VARIABLES"
   ]
  },
  {
   "cell_type": "markdown",
   "metadata": {},
   "source": [
    "Acá en python las variables a la izquierda del operador igualdad, y los objetos que están a la derecha del operador igualdad; viven en dos partes o zonas de la memoria. Las variables son celditas de memoria pero no contenedores de datos. En python las variables son simples referencias a los objetos. También podemos decir que son etiquetas o alias, que hacen referencia a los objetos. Pero más adelante se detallará mejor sobre variables."
   ]
  },
  {
   "cell_type": "markdown",
   "metadata": {},
   "source": [
    ">Caundo vea cada vez esto:\n",
    ">**x = 10**\n",
    ">* Se dice que x es una referencia al objeto 10.\n",
    ">* Por ahora el objeto 10 tiene una sola referencia.\n",
    ">* El simbolo ' = ' es de referencia o asignación pero no de igualdad."
   ]
  },
  {
   "cell_type": "code",
   "execution_count": 4,
   "metadata": {},
   "outputs": [
    {
     "name": "stdout",
     "output_type": "stream",
     "text": [
      " ID DE X: 2328108296784 \n",
      "\n",
      " ID DE Y: 2328108296784 \n",
      "\n",
      " ID DE X: 2328108296816 \n",
      "\n",
      " ID DE Y: 2328108296848 \n",
      "\n",
      " ID DE X: 2328108296784 \n",
      "\n"
     ]
    }
   ],
   "source": [
    "# los numeros en python son objetos de tipo inmutables\n",
    "x=10\n",
    "print(' ID DE X:',id(x),'\\n')\n",
    "y=10\n",
    "print(' ID DE Y:',id(y),'\\n')\n",
    "x=x+1\n",
    "print(' ID DE X:',id(x),'\\n')\n",
    "y=y+2\n",
    "print(' ID DE Y:',id(y),'\\n')\n",
    "x=10\n",
    "print(' ID DE X:',id(x),'\\n')"
   ]
  },
  {
   "cell_type": "markdown",
   "metadata": {},
   "source": [
    "## OBJETO INMUTABLE"
   ]
  },
  {
   "cell_type": "markdown",
   "metadata": {},
   "source": [
    "Es aquel objeto que no cambia sus atributos más importantes como:\n",
    "* ID\n",
    "* VALOR\n",
    "\n",
    "Pero más adelante veremos más objetos mutables e inmutables."
   ]
  }
 ],
 "metadata": {
  "kernelspec": {
   "display_name": "Python 3 (ipykernel)",
   "language": "python",
   "name": "python3"
  },
  "language_info": {
   "codemirror_mode": {
    "name": "ipython",
    "version": 3
   },
   "file_extension": ".py",
   "mimetype": "text/x-python",
   "name": "python",
   "nbconvert_exporter": "python",
   "pygments_lexer": "ipython3",
   "version": "3.9.7"
  }
 },
 "nbformat": 4,
 "nbformat_minor": 4
}
