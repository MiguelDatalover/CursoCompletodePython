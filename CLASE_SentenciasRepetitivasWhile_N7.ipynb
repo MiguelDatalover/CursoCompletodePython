{
 "cells": [
  {
   "cell_type": "markdown",
   "metadata": {},
   "source": [
    "# SENTENCIA WHILE"
   ]
  },
  {
   "cell_type": "markdown",
   "metadata": {},
   "source": [
    "Es una sentencia que permite realizar una acción y repetirla hasta que una condición deje de cumplirse. A diferencia de la sentencia \"if\" que solo se evalúa una vez, la sentencia \"while\" se evalúa una cantidad indefinida de veces hasta que la condición sea Falsa.\n",
    "\n",
    "Para evitar entrar en un bucle infinito en el cual la condición siempre es verdadera, se debe tener en cuenta que dentro del cuerpo de la sentencia debe existir al menos una línea que modifique la condición de tal forma que en algún momento la condición sea Falsa.\n"
   ]
  },
  {
   "cell_type": "code",
   "execution_count": null,
   "metadata": {},
   "outputs": [],
   "source": [
    "num=0\n",
    "while num<=10:\n",
    "    print('Tenemos al número:',num)\n",
    "    num=num+1"
   ]
  },
  {
   "cell_type": "code",
   "execution_count": null,
   "metadata": {},
   "outputs": [],
   "source": [
    "# SERIE DE FIBONACCI\n",
    "# 1 , 1 , 2 , 3 , 5 , 8 ,..............\n",
    "a=0\n",
    "b=1\n",
    "c=[]\n",
    "print('---------------- SUCESIÓN DE FIBONACCI ------------------\\n')\n",
    "while(b<1000):\n",
    "    c.append(b)\n",
    "    a , b = b , a+b\n",
    "#           = 1 , 1 -> a=1 y b=1\n",
    "#           = 1 , 2 -> a=1 y b=2\n",
    "print(c)\n",
    "    "
   ]
  },
  {
   "cell_type": "code",
   "execution_count": null,
   "metadata": {},
   "outputs": [],
   "source": [
    "#contar de cero a un número determinado por teclado\n",
    "\n",
    "numero = 0 # asignacion\n",
    "\n",
    "fin = int(input(\"Ingrese el numero final: \"))\n",
    "while numero <= fin:\n",
    "    print(numero)\n",
    "    #numero = numero + 1\n",
    "    numero += 1 #cambio numero = numero+1\n",
    "    #numero = numero + 1 \n",
    "    \n",
    "print(\"Fin del bucle\")"
   ]
  },
  {
   "cell_type": "markdown",
   "metadata": {},
   "source": [
    "Una sentencia while se puede utilizar para verificar que una variable ingresada por teclado se encuentre dentro de un rango o cumpla ciertas características."
   ]
  },
  {
   "cell_type": "code",
   "execution_count": null,
   "metadata": {},
   "outputs": [],
   "source": [
    "# Bucle condicional para verificar que la variable ingresada es correcta\n",
    "\n",
    "numero = float(input(\"Ingrese un numero positivo: \"))#asignacion\n",
    "\n",
    "while numero <= 0:\n",
    "    print(\"El numero ingresado no es positivo, intentelo de nuevo\")\n",
    "    numero = float(input(\"Ingrese un numero positivo: \")) #cambio\n",
    "    \n",
    "print(\"El numero ingresado fue {}\".format(numero))\n"
   ]
  },
  {
   "cell_type": "markdown",
   "metadata": {},
   "source": [
    "## EJERCICIOS PLANTEADOS\n",
    "\n",
    "Reciba números ingresados por teclado hasta que el usuario escriba la palabra fin. Luego ordénelos e imprima el número mayor. "
   ]
  },
  {
   "cell_type": "markdown",
   "metadata": {},
   "source": [
    "### EJERCICIO N°1"
   ]
  },
  {
   "cell_type": "code",
   "execution_count": null,
   "metadata": {},
   "outputs": [],
   "source": [
    "n=input('Ingrese un numero aleatorio: ')\n",
    "s=n[-1]\n",
    "if s.isdigit():\n",
    "    r=[]\n",
    "    while n!='fin' and n!='FIN':\n",
    "        r.append(float(n))\n",
    "        n=input('Ingrese un numero aleatorio: ')\n",
    "        if n.isalpha():\n",
    "            print('ESE NO ES UN NÚMERO!!')\n",
    "            break\n",
    "    print('\\n',r,'\\n')\n",
    "    r.sort()\n",
    "    print('Son los números ingresados por teclado en orden ascendente:',r)\n",
    "    sum=0\n",
    "    for i in r:\n",
    "        sum=sum+i \n",
    "    print('\\n----------- De la lista en pantalla podemos sacar muchos datos:------------\\n ')\n",
    "    print('El mayor valor es:',r[-1])\n",
    "    print('El menor valor es:',r[0])\n",
    "    print('La suma de todos los números es:',sum)\n",
    "else:\n",
    "    print('El dato ingresado no es un número')\n"
   ]
  },
  {
   "cell_type": "code",
   "execution_count": null,
   "metadata": {},
   "outputs": [],
   "source": [
    "print(r)"
   ]
  },
  {
   "cell_type": "markdown",
   "metadata": {},
   "source": [
    "### EJERCICIO N°2"
   ]
  },
  {
   "cell_type": "code",
   "execution_count": null,
   "metadata": {},
   "outputs": [],
   "source": [
    "q=[]\n",
    "precio=0\n",
    "descuento=0.9\n",
    "y=input('Ingrese el precio de cada artículo: ')\n",
    "while y!='0':\n",
    "    if y[0].isdigit():\n",
    "        q.append(float(y))       \n",
    "    else:\n",
    "        print('No reconoce este artículo')\n",
    "    y=input('Ingrese el precio de cada artículo: ')\n",
    "print('\\nSe muestra la lista de precios por cada producto:',q,'\\n')\n",
    "for i in q:\n",
    "            precio=precio+i \n",
    "if precio>1000:\n",
    "        precio_a_pagar=precio*descuento\n",
    "        print('\\n!!! felicidades¡¡¡, usted aplica al descuento por sobrepasar la valla :)\\n')\n",
    "        print('{} {:.2f}'.format('Precio a pagar :( ->  s/',precio))\n",
    "        print('{} {:.2f}'.format('Precio con descuento :) ->  s/',precio_a_pagar))\n",
    "else:\n",
    "        print('{} {:.2f}'.format('\\nPrecio a pagar sin descuento  ->  s/',precio))\n",
    "        print('Le falta  s/',1000-precio,'para aplicar al descuento del día :)')"
   ]
  },
  {
   "cell_type": "markdown",
   "metadata": {},
   "source": [
    "### EJERCICIO N°3"
   ]
  },
  {
   "cell_type": "code",
   "execution_count": null,
   "metadata": {},
   "outputs": [],
   "source": [
    "m=[]\n",
    "cont1=0\n",
    "cont2=0\n",
    "q=input('Ingrese números enteros positivos: ')\n",
    "while q!='0':\n",
    "    if q.isdigit():\n",
    "        m.append(int(q))\n",
    "    else:\n",
    "        print('---------- Dijimos solamente números enteros POSITIVOS :( --------------\\n')\n",
    "    q=input('Ingrese números enteros positivos: ')    \n",
    "if len(m)>0:\n",
    "    print('\\nLa lista de números:',m,'\\n')\n",
    "    for i in m:\n",
    "        if i%2==0:\n",
    "            cont1=cont1+1\n",
    "        else:\n",
    "            cont2=cont2+1\n",
    "    print('La cantidad de números pares que ingresó fue:',cont1,'\\n')  \n",
    "    print('La cantidad de números impares que ingresó fue:',cont2) \n",
    "else:\n",
    "    print('ERROR, El número 0 no es positivo ni negativo :)')\n",
    "    "
   ]
  },
  {
   "cell_type": "markdown",
   "metadata": {},
   "source": [
    "### EJERCICIO N°4"
   ]
  },
  {
   "cell_type": "code",
   "execution_count": 12,
   "metadata": {},
   "outputs": [
    {
     "name": "stdout",
     "output_type": "stream",
     "text": [
      "Ingrese una frase: !!hola como están espero que bien :)\n",
      "\n",
      "Analizamos la frase que ingreso: ['!!hola', 'como', 'están', 'espero', 'que', 'bien', ':)'] \n",
      "\n",
      "['!!hola', 'como', 'están', 'espero', 'que', 'bien'] \n",
      "\n",
      "\n",
      "La cantidad de palabras que encontramos es: 6 \n",
      "\n",
      "{'!!hola': 6, 'como': 4, 'están': 5, 'espero': 6, 'que': 3, 'bien': 4}\n",
      "[3, 4, 4, 5, 6, 6]\n",
      "La palabra con más letras es: !!hola\n",
      "La palabra con más letras es: espero\n"
     ]
    }
   ],
   "source": [
    "w=input('Ingrese una frase: ')\n",
    "q={}\n",
    "x=[]\n",
    "t=w.split()\n",
    "print('\\nAnalizamos la frase que ingreso:',t,'\\n')\n",
    "for k in t:\n",
    "    if not(k[0].isalpha()) and not(k[-1].isalpha()):\n",
    "        t.remove(k)\n",
    "print(t,'\\n')\n",
    "print('\\nLa cantidad de palabras que encontramos es:',len(t),'\\n')\n",
    "for i in range(len(t)):\n",
    "    q[t[i]]=len(t[i])\n",
    "print(q)    \n",
    "for j in q.values():\n",
    "    x.append(j)\n",
    "    x.sort()\n",
    "print(x)    \n",
    "count=0    \n",
    "for s in range(len(x)):\n",
    "    if x[-1]==x[s]:\n",
    "        count=count+1\n",
    "for u in q:\n",
    "    if q.get(u)==x[-1]:\n",
    "        print('La palabra con más letras es:',u)        \n",
    "\n",
    "        \n",
    "    "
   ]
  }
 ],
 "metadata": {
  "kernelspec": {
   "display_name": "Python 3 (ipykernel)",
   "language": "python",
   "name": "python3"
  },
  "language_info": {
   "codemirror_mode": {
    "name": "ipython",
    "version": 3
   },
   "file_extension": ".py",
   "mimetype": "text/x-python",
   "name": "python",
   "nbconvert_exporter": "python",
   "pygments_lexer": "ipython3",
   "version": "3.9.7"
  }
 },
 "nbformat": 4,
 "nbformat_minor": 4
}
