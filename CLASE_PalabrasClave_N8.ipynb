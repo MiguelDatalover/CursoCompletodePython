{
 "cells": [
  {
   "cell_type": "markdown",
   "metadata": {},
   "source": [
    "# PALABRAS CLAVE: pass, break, continue"
   ]
  },
  {
   "cell_type": "markdown",
   "metadata": {},
   "source": [
    "## pass:\n",
    "\n",
    "Es una palabra clave que indica ausencia de acciones (no se ejecutará ninguna acción)."
   ]
  },
  {
   "cell_type": "code",
   "execution_count": null,
   "metadata": {},
   "outputs": [],
   "source": [
    "# Imprima los nombres de todos menos de Laura, Ana y Juan.\n",
    "# pass es una palabra clave para \"pasar\" sin ejecutar niguna acción.\n",
    "nombres = [\"José\", \"Ana\", \"Laura\",\"Alberto\", \"Carlos\", \"Juan\", \"María\"]\n",
    "listaNegra = [\"Juan\", \"Laura\", \"Ana\"]\n",
    "\n",
    "for nombre in nombres:\n",
    "    if nombre in listaNegra:\n",
    "        pass\n",
    "    else:\n",
    "        print(nombre)"
   ]
  },
  {
   "cell_type": "markdown",
   "metadata": {},
   "source": [
    "## break:\n",
    "\n",
    "Es una palabra clave que sirve para terminar de forma inmediata una sentencia o función."
   ]
  },
  {
   "cell_type": "code",
   "execution_count": 56,
   "metadata": {},
   "outputs": [
    {
     "name": "stdout",
     "output_type": "stream",
     "text": [
      "3\n",
      "5\n",
      "5\n",
      "7\n",
      "7\n"
     ]
    }
   ],
   "source": [
    "# La palabra clave break sirve para terminar intempestivamente una sentencia\n",
    "u=[3,5,2,4,7]\n",
    "for i in u:\n",
    "    for x in range(2, 4):\n",
    "        if i%x==0:\n",
    "            break\n",
    "        print(i)"
   ]
  },
  {
   "cell_type": "code",
   "execution_count": 50,
   "metadata": {},
   "outputs": [
    {
     "name": "stdout",
     "output_type": "stream",
     "text": [
      "0\n",
      "1\n",
      "2\n",
      "3\n",
      "4\n",
      "5\n",
      "6\n"
     ]
    }
   ],
   "source": [
    "for x in range(0, 10, 1):\n",
    "        if x == 7:\n",
    "            break\n",
    "        print(x)"
   ]
  },
  {
   "cell_type": "code",
   "execution_count": null,
   "metadata": {},
   "outputs": [],
   "source": [
    "while True:\n",
    "    nombre = input(\"Ingrese su nombre: \")\n",
    "    if nombre == \"fin\":\n",
    "        break"
   ]
  },
  {
   "cell_type": "markdown",
   "metadata": {},
   "source": [
    "## continue:\n",
    "\n",
    "Es una palabra clave que sirve para saltarse lo que sigue de la iteración actual y pasar directamente a la siguiente."
   ]
  },
  {
   "cell_type": "code",
   "execution_count": 1,
   "metadata": {},
   "outputs": [
    {
     "name": "stdout",
     "output_type": "stream",
     "text": [
      "0\n",
      "1\n",
      "3\n",
      "4\n",
      "5\n",
      "6\n",
      "8\n",
      "9\n"
     ]
    }
   ],
   "source": [
    "#la palabra clave continue sirve para saltarse lo que sigue de la iteracion actual\n",
    "for x in range(0, 10, 1):\n",
    "    if x == 2 or x == 7:\n",
    "        continue\n",
    "    print(x)  "
   ]
  },
  {
   "cell_type": "code",
   "execution_count": 29,
   "metadata": {},
   "outputs": [
    {
     "name": "stdout",
     "output_type": "stream",
     "text": [
      "-50.0\n",
      "-62.5\n",
      "-83.33333333333333\n",
      "-125.0\n",
      "-250.0\n",
      "250.0\n",
      "125.0\n",
      "83.33333333333333\n",
      "62.5\n"
     ]
    }
   ],
   "source": [
    "#La division por cero no es posible por lo cual es conveniente saltarla\n",
    "for x in range (-5, 5, 1):\n",
    "    if x == 0:\n",
    "        continue\n",
    "    print(250/x)\n",
    "    #cuerpo"
   ]
  },
  {
   "cell_type": "markdown",
   "metadata": {},
   "source": [
    "## EJERCICIOS PLANTEADOS:"
   ]
  },
  {
   "cell_type": "markdown",
   "metadata": {},
   "source": [
    "### EJERCICIO N°1"
   ]
  },
  {
   "cell_type": "markdown",
   "metadata": {},
   "source": [
    "Escriba un código que permita obtener el promedio de n notas, cada una con un peso ponderado de x:\n",
    "\n",
    "    nota1 con peso peso1\n",
    "\n",
    "    nota2 con peso peso2\n",
    "\n",
    "    nota3 con peso peso3\n",
    "\n",
    "\n",
    "De tal forma que el promedio final sea:\n",
    "\n",
    "    promedio = (nota_X*peso_X)/sumaDePesos\n",
    "    \n",
    "Por ejemplo:\n",
    "\n",
    "    nota1: 20 con peso 2\n",
    "    nota2: 18 con peso 2\n",
    "    nota3: 19 con peso 3\n",
    "    nota4: 17 con peso 1\n",
    "    \n",
    "    Promedio final: (20*2+18*2+19*3+17*1)/(2+2+3+1)\n",
    "\n",
    "Tome en cuenta que el número de notas, el valor de las notas y el valor de los pesos se ingresarán por teclado y que para finalizar el ingreso de datos por teclado se debe escribir \"fin\". Escriba un pseudocódigo antes de escribir el código."
   ]
  },
  {
   "cell_type": "code",
   "execution_count": 28,
   "metadata": {},
   "outputs": [
    {
     "name": "stdout",
     "output_type": "stream",
     "text": [
      "\n",
      "------------------- INGRESO DE NOTAS -----------------------\n",
      "\n",
      "Ingrese la nota para REGISTRAR: 1\n",
      "Ingrese la nota para REGISTRAR: 2\n",
      "Ingrese la nota para REGISTRAR: 3\n",
      "Ingrese la nota para REGISTRAR: FIN\n",
      "\n",
      "------------------- INGRESO DEL PESO DE CADA NOTA -----------------------\n",
      "\n",
      "Ingrese el peso de la nota para REGISTRAR: 9\n",
      "Ingrese el peso de la nota para REGISTRAR: 8\n",
      "Ingrese el peso de la nota para REGISTRAR: 7\n",
      "[1.0, 2.0, 3.0]\n",
      "[9.0, 8.0, 7.0]\n",
      "El promedio de las notas ingresadas es: 15.33\n",
      "¡¡¡ FELICIDADES APROBADO :) !!!\n"
     ]
    }
   ],
   "source": [
    "b=[]\n",
    "n=[]\n",
    "print('\\n------------------- INGRESO DE NOTAS -----------------------\\n')\n",
    "while True:\n",
    "    a=input('Ingrese la nota para REGISTRAR: ')\n",
    "    if a=='fin' or a=='FIN':\n",
    "        break\n",
    "    elif a.isalpha() or a[0]=='-':\n",
    "        print('!!! ERROR')\n",
    "    else:\n",
    "        b.append(float(a))\n",
    "cont=0\n",
    "print('\\n------------------- INGRESO DEL PESO DE CADA NOTA -----------------------\\n')\n",
    "while cont!=len(b):\n",
    "    m=input('Ingrese el peso de la nota para REGISTRAR: ')\n",
    "    if m.isalpha() or m[0]=='-' or m=='0':\n",
    "        print('!!! ERROR')\n",
    "    else:\n",
    "        n.append(float(m))\n",
    "        cont=cont+1 # [ 4   ,   5      ,  2     ,     1     ,    7      ]\n",
    "                    # cont=0   cont=1   cont=2    cont=3     cont=4\n",
    "        \n",
    "print(b)\n",
    "print(n)\n",
    "j=0\n",
    "suma=0\n",
    "sun=0\n",
    "for x in n:\n",
    "    sun=sun+x        \n",
    "for i in b:\n",
    "    p=i*n[j]\n",
    "    j=j+1\n",
    "    suma=suma+p\n",
    "prom=suma/len(b)\n",
    "print('{} {:.2f}'.format('El promedio de las notas ingresadas es:',prom))\n",
    "if prom>10.5:\n",
    "    print('¡¡¡ FELICIDADES APROBADO :) !!!')\n",
    "else:\n",
    "    print('SALIO DESAPROBADO :(')"
   ]
  },
  {
   "cell_type": "markdown",
   "metadata": {},
   "source": [
    "### EJERCICIO N°2"
   ]
  },
  {
   "cell_type": "code",
   "execution_count": 32,
   "metadata": {},
   "outputs": [
    {
     "name": "stdout",
     "output_type": "stream",
     "text": [
      "Ingrese usted un número:2\n",
      "4\n",
      "16\n"
     ]
    }
   ],
   "source": [
    "band=0\n",
    "cont=1\n",
    "while cont<=3: \n",
    "    if band==0:\n",
    "        band=1\n",
    "        x=int(input('Ingrese usted un número:'))\n",
    "    else:\n",
    "        x=x*x\n",
    "        print(x)\n",
    "    cont=cont+1    \n",
    "        \n"
   ]
  },
  {
   "cell_type": "markdown",
   "metadata": {},
   "source": [
    "### EJERCICIO N°3"
   ]
  },
  {
   "cell_type": "code",
   "execution_count": 36,
   "metadata": {},
   "outputs": [
    {
     "name": "stdout",
     "output_type": "stream",
     "text": [
      "Ingrese un número aleatorio2\n",
      "Ingrese un número aleatorio999\n",
      "Ingrese un número aleatorio999\n",
      "Ingrese un número aleatorio2\n",
      "Ingrese un número aleatorio3\n",
      "Se ingreso almenos un 999\n"
     ]
    }
   ],
   "source": [
    "cont=1\n",
    "band=0\n",
    "while cont<=5:\n",
    "    x=int(input('Ingrese un número aleatorio'))\n",
    "    if x==999:\n",
    "        band=1\n",
    "    cont=cont+1    \n",
    "if band==1:\n",
    "    print('Se ingreso almenos un 999')\n",
    "else:\n",
    "     print('No se ingreso nunca un 999')"
   ]
  },
  {
   "cell_type": "markdown",
   "metadata": {},
   "source": [
    "### EJERCICIO N°4"
   ]
  },
  {
   "cell_type": "code",
   "execution_count": 41,
   "metadata": {},
   "outputs": [
    {
     "name": "stdout",
     "output_type": "stream",
     "text": [
      "ingrese un numero aleatorio: 3\n",
      "ingrese un numero aleatorio: 45\n",
      "ingrese un numero aleatorio: 2.9\n",
      "ingrese un numero aleatorio: 10\n",
      "ingrese un numero aleatorio: 12\n",
      "ingrese un numero aleatorio: FIN\n",
      "El mayor numero de la lista ingresada es: 45.0\n",
      "El menor numero de la lista ingresada es: 2.9\n"
     ]
    }
   ],
   "source": [
    "s=[]\n",
    "x=input('ingrese un numero aleatorio: ')\n",
    "while x.lower()!='fin':\n",
    "    s.append(float(x))\n",
    "    x=input('ingrese un numero aleatorio: ')\n",
    "    \n",
    "s.sort()\n",
    "print('\\nEl mayor numero de la lista ingresada es:',s[-1])\n",
    "print('\\nEl menor numero de la lista ingresada es:',s[0])"
   ]
  },
  {
   "cell_type": "markdown",
   "metadata": {},
   "source": [
    "### EJERCICIO N°5"
   ]
  },
  {
   "cell_type": "code",
   "execution_count": 42,
   "metadata": {},
   "outputs": [
    {
     "name": "stdout",
     "output_type": "stream",
     "text": [
      "ingrese un numero aleatorio: 5\n",
      "ingrese un numero aleatorio: 12\n",
      "ingrese un numero aleatorio: 8.9\n",
      "ingrese un numero aleatorio: 12.4\n",
      "ingrese un numero aleatorio: 0\n",
      "ingrese un numero aleatorio: FIN\n",
      "\n",
      "El mayor numero de la lista ingresada es: 12.4\n",
      "\n",
      "El menor numero de la lista ingresada es: 0.0\n"
     ]
    }
   ],
   "source": [
    "s=[]\n",
    "band=0\n",
    "while band==0:\n",
    "    x=input('ingrese un numero aleatorio: ')\n",
    "    if x.lower()=='fin':\n",
    "        band=1\n",
    "    else:\n",
    "        s.append(float(x))\n",
    "s.sort()\n",
    "print('\\nEl mayor numero de la lista ingresada es:',s[-1])\n",
    "print('\\nEl menor numero de la lista ingresada es:',s[0])"
   ]
  },
  {
   "cell_type": "markdown",
   "metadata": {},
   "source": [
    "### EJERCICIO N°6"
   ]
  },
  {
   "cell_type": "code",
   "execution_count": 43,
   "metadata": {},
   "outputs": [
    {
     "name": "stdout",
     "output_type": "stream",
     "text": [
      "ingrese un numero aleatorio: 3\n",
      "ingrese un numero aleatorio: 5\n",
      "ingrese un numero aleatorio: 6\n",
      "ingrese un numero aleatorio: FIN\n",
      "\n",
      "El mayor numero de la lista ingresada es: 6.0\n",
      "\n",
      "El menor numero de la lista ingresada es: 3.0\n"
     ]
    }
   ],
   "source": [
    "s=[]\n",
    "while True:\n",
    "    x=input('ingrese un numero aleatorio: ')\n",
    "    if x.lower()=='fin':\n",
    "        break\n",
    "    else:\n",
    "        s.append(float(x))\n",
    "s.sort()\n",
    "print('\\nEl mayor numero de la lista ingresada es:',s[-1])\n",
    "print('\\nEl menor numero de la lista ingresada es:',s[0])"
   ]
  },
  {
   "cell_type": "markdown",
   "metadata": {},
   "source": [
    "### EJERCICIO N°7"
   ]
  },
  {
   "cell_type": "code",
   "execution_count": 8,
   "metadata": {},
   "outputs": [
    {
     "name": "stdout",
     "output_type": "stream",
     "text": [
      "\n",
      "--------------- BIENVENIDOS AL DETECTOR DE NÚMEROS PRIMOS -----------------\n",
      "\n",
      "Ingrese un número aleatorio: 5\n",
      "Ingrese un número aleatorio: 6\n",
      "Ingrese un número aleatorio: 8\n",
      "Ingrese un número aleatorio: 3\n",
      "Ingrese un número aleatorio: 1\n",
      "\n",
      " [5, 6, 8, 3]\n",
      "\n",
      "La cantidad de numeros primos de la lista es: 2\n",
      "Y la cantidad de números compuestos es: 2\n"
     ]
    }
   ],
   "source": [
    "band=0\n",
    "u=[]\n",
    "print('\\n--------------- BIENVENIDOS AL DETECTOR DE NÚMEROS PRIMOS -----------------\\n')\n",
    "while band==0:    \n",
    "    x=input('Ingrese un número aleatorio: ')\n",
    "    if not(x.isdigit()):\n",
    "        band=1\n",
    "    elif x=='0'or x=='1':\n",
    "        band=1\n",
    "    else:\n",
    "        u.append(int(x))\n",
    "print('\\n',u)\n",
    "m=0\n",
    "z=0\n",
    "cont=0\n",
    "w=0\n",
    "for i in u:\n",
    "    for j in range(1,i+1): # [3, 6, 9, 8, 5]\n",
    "        if i%j==0:\n",
    "            cont=cont+1\n",
    "        if cont>2:\n",
    "            w=w+1\n",
    "            break\n",
    "    cont=0    \n",
    "print('\\nLa cantidad de numeros primos de la lista es:',len(u)-w)\n",
    "print('Y la cantidad de números compuestos es:',w)"
   ]
  },
  {
   "cell_type": "markdown",
   "metadata": {},
   "source": [
    "### EJERCICIO N°8"
   ]
  },
  {
   "cell_type": "code",
   "execution_count": 6,
   "metadata": {},
   "outputs": [
    {
     "name": "stdout",
     "output_type": "stream",
     "text": [
      "Ingrese el límite máximo:2020\n",
      "Ingrese el límite mínimo:1945\n",
      "!correcto\n",
      "1948 \t1952 \t1956 \t1960 \t1964 \t1968 \t1972 \t1976 \t1980 \t1984 \t1988 \t1992 \t1996 \t2000 \t2004 \t2008 \t2012 \t2016 \t"
     ]
    }
   ],
   "source": [
    "x=int(input('Ingrese el límite máximo:'))\n",
    "y=int(input('Ingrese el límite mínimo:'))\n",
    "if x>y:\n",
    "    print('!correcto')\n",
    "    for i in range(y,x)[1:]:\n",
    "        if i%4==0 and ( i%100!=0 or i%400==0 ):\n",
    "            print(i,'\\t',end='')\n",
    "else:\n",
    "    print('!ERROR de límites')"
   ]
  }
 ],
 "metadata": {
  "kernelspec": {
   "display_name": "Python 3 (ipykernel)",
   "language": "python",
   "name": "python3"
  },
  "language_info": {
   "codemirror_mode": {
    "name": "ipython",
    "version": 3
   },
   "file_extension": ".py",
   "mimetype": "text/x-python",
   "name": "python",
   "nbconvert_exporter": "python",
   "pygments_lexer": "ipython3",
   "version": "3.9.7"
  }
 },
 "nbformat": 4,
 "nbformat_minor": 4
}
