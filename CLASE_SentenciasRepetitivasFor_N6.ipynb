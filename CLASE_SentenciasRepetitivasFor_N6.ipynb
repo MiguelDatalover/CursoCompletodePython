{
 "cells": [
  {
   "cell_type": "markdown",
   "metadata": {},
   "source": [
    "# SENTENCIA FOR"
   ]
  },
  {
   "cell_type": "markdown",
   "metadata": {},
   "source": [
    "Es una estructura que permite iterar a traves de los elementos de variables iterables. \n",
    "\n",
    "Las variables iterables son aquellas que tienen más de un dato dentro de sí, por ejemplo: listas, tuplas, diccionarios y rangos. \n",
    "\n",
    "Existen funciones que permiten crear elementos iterables como range() y enumerate()."
   ]
  },
  {
   "cell_type": "markdown",
   "metadata": {},
   "source": [
    "## SINTAXIS\n",
    "\n",
    "La sintaxis de la sentencia \"for\" es:\n",
    "\n",
    "for [variable] in [variableIterable]:\n",
    "    \n",
    "    cuerpo\n",
    "    \n",
    "    \n",
    "Observe que la sintaxis de la sentencia \"for\" requiere de una variable que será la que tome los valores de cada elemento de la variable iterable. Además requiere de sangrado en todo el cuerpo de la estructura. Por ejemplo:"
   ]
  },
  {
   "cell_type": "code",
   "execution_count": 2,
   "metadata": {},
   "outputs": [
    {
     "name": "stdout",
     "output_type": "stream",
     "text": [
      "Jose : 4 caracteres de longitud\n",
      "Ana : 3 caracteres de longitud\n",
      "Laura : 5 caracteres de longitud\n",
      "Alberto : 7 caracteres de longitud\n",
      "Carlos : 6 caracteres de longitud\n",
      "Juan : 4 caracteres de longitud\n",
      "Maria : 5 caracteres de longitud\n"
     ]
    }
   ],
   "source": [
    "nombres = [\"Jose\", \"Ana\", \"Laura\",\"Alberto\", \"Carlos\", \"Juan\", \"Maria\"]\n",
    "\n",
    "for n in nombres:\n",
    "    print(n,':', len(n),'caracteres de longitud')\n",
    "    #cuerpo"
   ]
  },
  {
   "cell_type": "code",
   "execution_count": 4,
   "metadata": {},
   "outputs": [
    {
     "name": "stdout",
     "output_type": "stream",
     "text": [
      "Juan\n",
      "Raúl\n",
      "Piero\n",
      "Ana\n"
     ]
    }
   ],
   "source": [
    "w={'Juan':'España','Raúl':'Perú','Piero':'Alemania','Ana':'Rusia'}\n",
    "for i in w:\n",
    "    print(i)"
   ]
  },
  {
   "cell_type": "code",
   "execution_count": 6,
   "metadata": {},
   "outputs": [
    {
     "name": "stdout",
     "output_type": "stream",
     "text": [
      "p\n",
      "a\n",
      "l\n",
      "a\n",
      "b\n",
      "r\n",
      "a\n"
     ]
    }
   ],
   "source": [
    "for letra in \"palabra\":\n",
    "    print(letra)"
   ]
  },
  {
   "cell_type": "code",
   "execution_count": 10,
   "metadata": {},
   "outputs": [
    {
     "name": "stdout",
     "output_type": "stream",
     "text": [
      "2  4  5  6  8  9  10  "
     ]
    }
   ],
   "source": [
    "e={ 2,4,5,5,6,8,9,10}\n",
    "for i in e:\n",
    "    print(i,' ',end='')"
   ]
  },
  {
   "cell_type": "markdown",
   "metadata": {},
   "source": [
    "Observe que en el ejemplo anterior la variable \"nombre\" va tomando el valor de cada elemento de la lista \"nombres\" y la variable \"letra\" va tomando el valor de cada elemento de la cadena de texto \"palabra\".\n",
    "\n",
    "Recuerde que, al igual que en las sentencias \"if\", se pueden crear estructuras de varios niveles."
   ]
  },
  {
   "cell_type": "code",
   "execution_count": 3,
   "metadata": {},
   "outputs": [
    {
     "name": "stdout",
     "output_type": "stream",
     "text": [
      "Jose\n",
      "J\n",
      "o\n",
      "s\n",
      "e\n",
      "Ana\n",
      "A\n",
      "n\n",
      "a\n",
      "Laura\n",
      "L\n",
      "a\n",
      "u\n",
      "r\n",
      "a\n",
      "Alberto\n",
      "A\n",
      "l\n",
      "b\n",
      "e\n",
      "r\n",
      "t\n",
      "o\n",
      "Carlos\n",
      "C\n",
      "a\n",
      "r\n",
      "l\n",
      "o\n",
      "s\n",
      "Juan\n",
      "J\n",
      "u\n",
      "a\n",
      "n\n",
      "Maria\n",
      "M\n",
      "a\n",
      "r\n",
      "i\n",
      "a\n"
     ]
    }
   ],
   "source": [
    "nombres = [\"Jose\", \"Ana\", \"Laura\",\"Alberto\", \"Carlos\", \"Juan\", \"Maria\"]\n",
    "\n",
    "for nombre in nombres:\n",
    "    print(nombre)\n",
    "    for letra in nombre:\n",
    "        print(letra)"
   ]
  },
  {
   "cell_type": "markdown",
   "metadata": {},
   "source": [
    "Tal como sucede con la sentencia \"if\", la sentencia \"for\" termina cuando se retira el sangrado."
   ]
  },
  {
   "cell_type": "code",
   "execution_count": 11,
   "metadata": {},
   "outputs": [
    {
     "name": "stdout",
     "output_type": "stream",
     "text": [
      "paise del mundo: ['Perú', 'Colombia', 'Mexico', 'Chile']\n",
      "paise del mundo: ['España', 'Rusia', 'Ucrania', 'China']\n"
     ]
    }
   ],
   "source": [
    "a=['Perú','Colombia','Mexico','Chile']\n",
    "b=['España','Rusia','Ucrania','China']\n",
    "for i in a,b:\n",
    "    print('paise del mundo:',i)"
   ]
  },
  {
   "cell_type": "code",
   "execution_count": 15,
   "metadata": {},
   "outputs": [
    {
     "name": "stdout",
     "output_type": "stream",
     "text": [
      "Mexico\n",
      "Chile\n",
      "---------------------------------\n",
      "C\n",
      "h\n",
      "i\n",
      "n\n",
      "a\n",
      "---------------------------------\n",
      "R\n",
      "u\n",
      "s\n",
      "i\n",
      "a\n"
     ]
    }
   ],
   "source": [
    "d=[['Perú','Colombia'],['Mexico','Chile'],['España','Rusia','Ucrania'],'China']\n",
    "for i in d[1]:\n",
    "    print(i)\n",
    "print('---------------------------------')    \n",
    "for i in d[-1]:\n",
    "    print(i)\n",
    "print('---------------------------------')     \n",
    "for i in d[2][1]:\n",
    "    print(i)"
   ]
  },
  {
   "cell_type": "code",
   "execution_count": 4,
   "metadata": {},
   "outputs": [
    {
     "name": "stdout",
     "output_type": "stream",
     "text": [
      "20\n",
      "dentro del cuerpo\n",
      "19\n",
      "dentro del cuerpo\n",
      "18\n",
      "dentro del cuerpo\n",
      "17\n",
      "dentro del cuerpo\n",
      "16\n",
      "dentro del cuerpo\n",
      "15\n",
      "dentro del cuerpo\n",
      "14\n",
      "dentro del cuerpo\n",
      "####################\n",
      "fuera del cuerpo\n"
     ]
    }
   ],
   "source": [
    "calificaciones = [20, 19, 18, 17, 16, 15, 14]\n",
    "for calificacion in calificaciones:\n",
    "    print(calificacion)\n",
    "    print(\"dentro del cuerpo\")\n",
    "    #.....\n",
    "    #....\n",
    "\n",
    "print(\"#\"*20)\n",
    "print(\"fuera del cuerpo\")"
   ]
  },
  {
   "cell_type": "markdown",
   "metadata": {},
   "source": [
    "Si desea dividir un texto en palabras puede utilizar el método \".split()\". Este método permite convertir una cadena de texto en una lista de cadenas de texto dividiendo el texto original en partes cada vez que encuentre el caracter que va dentro del método \"split()\" Observe el ejemplo:"
   ]
  },
  {
   "cell_type": "code",
   "execution_count": 1,
   "metadata": {},
   "outputs": [
    {
     "name": "stdout",
     "output_type": "stream",
     "text": [
      "['Hola,', 'buenas', 'noches']\n"
     ]
    }
   ],
   "source": [
    "mensaje = \"Hola, buenas noches\"\n",
    "mensajeSeparado = mensaje.split()\n",
    "# el mensaje es separado cada vez que se encuentra un espacio.\n",
    "print(mensajeSeparado)"
   ]
  },
  {
   "cell_type": "code",
   "execution_count": 19,
   "metadata": {},
   "outputs": [
    {
     "name": "stdout",
     "output_type": "stream",
     "text": [
      "Hola,\n",
      "buenas\n",
      "noches\n"
     ]
    }
   ],
   "source": [
    "for palabra in mensajeSeparado:\n",
    "    print(palabra)"
   ]
  },
  {
   "cell_type": "markdown",
   "metadata": {},
   "source": [
    "## GENERADOR DE FUNCIONES( range )"
   ]
  },
  {
   "cell_type": "markdown",
   "metadata": {},
   "source": [
    "Si desea iterar utilizando un rango de número puede utilizar la función \"range()\", la cual permite crear una serie de números según tres datos de entrada: inicio, fin y paso. A esta función se le puede dar uno, dos o tres argumentos (datos de entrada). Observe:"
   ]
  },
  {
   "cell_type": "code",
   "execution_count": 15,
   "metadata": {
    "collapsed": true
   },
   "outputs": [
    {
     "name": "stdout",
     "output_type": "stream",
     "text": [
      "Help on class range in module builtins:\n",
      "\n",
      "class range(object)\n",
      " |  range(stop) -> range object\n",
      " |  range(start, stop[, step]) -> range object\n",
      " |  \n",
      " |  Return an object that produces a sequence of integers from start (inclusive)\n",
      " |  to stop (exclusive) by step.  range(i, j) produces i, i+1, i+2, ..., j-1.\n",
      " |  start defaults to 0, and stop is omitted!  range(4) produces 0, 1, 2, 3.\n",
      " |  These are exactly the valid indices for a list of 4 elements.\n",
      " |  When step is given, it specifies the increment (or decrement).\n",
      " |  \n",
      " |  Methods defined here:\n",
      " |  \n",
      " |  __bool__(self, /)\n",
      " |      self != 0\n",
      " |  \n",
      " |  __contains__(self, key, /)\n",
      " |      Return key in self.\n",
      " |  \n",
      " |  __eq__(self, value, /)\n",
      " |      Return self==value.\n",
      " |  \n",
      " |  __ge__(self, value, /)\n",
      " |      Return self>=value.\n",
      " |  \n",
      " |  __getattribute__(self, name, /)\n",
      " |      Return getattr(self, name).\n",
      " |  \n",
      " |  __getitem__(self, key, /)\n",
      " |      Return self[key].\n",
      " |  \n",
      " |  __gt__(self, value, /)\n",
      " |      Return self>value.\n",
      " |  \n",
      " |  __hash__(self, /)\n",
      " |      Return hash(self).\n",
      " |  \n",
      " |  __iter__(self, /)\n",
      " |      Implement iter(self).\n",
      " |  \n",
      " |  __le__(self, value, /)\n",
      " |      Return self<=value.\n",
      " |  \n",
      " |  __len__(self, /)\n",
      " |      Return len(self).\n",
      " |  \n",
      " |  __lt__(self, value, /)\n",
      " |      Return self<value.\n",
      " |  \n",
      " |  __ne__(self, value, /)\n",
      " |      Return self!=value.\n",
      " |  \n",
      " |  __reduce__(...)\n",
      " |      Helper for pickle.\n",
      " |  \n",
      " |  __repr__(self, /)\n",
      " |      Return repr(self).\n",
      " |  \n",
      " |  __reversed__(...)\n",
      " |      Return a reverse iterator.\n",
      " |  \n",
      " |  count(...)\n",
      " |      rangeobject.count(value) -> integer -- return number of occurrences of value\n",
      " |  \n",
      " |  index(...)\n",
      " |      rangeobject.index(value) -> integer -- return index of value.\n",
      " |      Raise ValueError if the value is not present.\n",
      " |  \n",
      " |  ----------------------------------------------------------------------\n",
      " |  Static methods defined here:\n",
      " |  \n",
      " |  __new__(*args, **kwargs) from builtins.type\n",
      " |      Create and return a new object.  See help(type) for accurate signature.\n",
      " |  \n",
      " |  ----------------------------------------------------------------------\n",
      " |  Data descriptors defined here:\n",
      " |  \n",
      " |  start\n",
      " |  \n",
      " |  step\n",
      " |  \n",
      " |  stop\n",
      "\n"
     ]
    }
   ],
   "source": [
    "help(range)"
   ]
  },
  {
   "cell_type": "code",
   "execution_count": 21,
   "metadata": {},
   "outputs": [
    {
     "name": "stdout",
     "output_type": "stream",
     "text": [
      "range(0, 5)\n",
      "<class 'range'>\n",
      "[0, 1, 2, 3, 4]\n"
     ]
    }
   ],
   "source": [
    "#funcion range(), iteracion en un rango de numeros naturales\n",
    "print(range(5))\n",
    "print(type(range(5)))\n",
    "print(list(range(5)))"
   ]
  },
  {
   "cell_type": "code",
   "execution_count": 10,
   "metadata": {},
   "outputs": [
    {
     "name": "stdout",
     "output_type": "stream",
     "text": [
      "range(3, 8)\n",
      "<class 'range'>\n",
      "[3, 4, 5, 6, 7]\n"
     ]
    }
   ],
   "source": [
    "print(range(3,8))\n",
    "print(type(range(3,8)))\n",
    "print(list(range(3,8)))"
   ]
  },
  {
   "cell_type": "code",
   "execution_count": 11,
   "metadata": {},
   "outputs": [
    {
     "name": "stdout",
     "output_type": "stream",
     "text": [
      "range(3, 8, 2)\n",
      "<class 'range'>\n",
      "[3, 5, 7]\n"
     ]
    }
   ],
   "source": [
    "print(range(3,8, 2))\n",
    "print(type(range(3,8, 2)))\n",
    "print(list(range(3,8,2)))"
   ]
  },
  {
   "cell_type": "markdown",
   "metadata": {},
   "source": [
    "Si a la función range se le da un solo argumento (un solo dato de entrada) asume por defecto que la serie de números empieza en cero y el paso es la unidad. Si se le da dos argumentos, asume que por defecto el paso es 1."
   ]
  },
  {
   "cell_type": "code",
   "execution_count": 24,
   "metadata": {},
   "outputs": [
    {
     "name": "stdout",
     "output_type": "stream",
     "text": [
      "10\n",
      "12\n",
      "14\n",
      "16\n",
      "18\n",
      "20\n"
     ]
    }
   ],
   "source": [
    "#range(n) por defecto empiezo en 0 y el paso es 1 y termina en n\n",
    "#range(n1,n2) por defecto el paso es 1\n",
    "#range(n1, n2, paso)\n",
    "for x in range(10, 20+1, 2):\n",
    "    print(x)"
   ]
  },
  {
   "cell_type": "code",
   "execution_count": 26,
   "metadata": {},
   "outputs": [
    {
     "name": "stdout",
     "output_type": "stream",
     "text": [
      "19\n",
      "22\n",
      "25\n",
      "28\n",
      "31\n",
      "34\n",
      "37\n",
      "40\n",
      "43\n",
      "46\n",
      "49\n"
     ]
    }
   ],
   "source": [
    "for x in range(10, 52, 3)[3:]:\n",
    "    print(x)"
   ]
  },
  {
   "cell_type": "markdown",
   "metadata": {},
   "source": [
    "Se puede iterar en reversa utilizando un paso negativo."
   ]
  },
  {
   "cell_type": "code",
   "execution_count": 27,
   "metadata": {},
   "outputs": [
    {
     "name": "stdout",
     "output_type": "stream",
     "text": [
      "21\n",
      "19\n",
      "17\n",
      "15\n"
     ]
    }
   ],
   "source": [
    "#Iterar en reversa\n",
    "for x in range(21, 2, -2)[:4]:\n",
    "    print(x)"
   ]
  },
  {
   "cell_type": "markdown",
   "metadata": {},
   "source": [
    "Si se desea iterar una lista en reversa es necesario utilizar la función \"reversed()\""
   ]
  },
  {
   "cell_type": "code",
   "execution_count": 21,
   "metadata": {},
   "outputs": [
    {
     "name": "stdout",
     "output_type": "stream",
     "text": [
      "María\n",
      "Juan\n",
      "Carlos\n",
      "Alberto\n",
      "Laura\n",
      "Ana\n",
      "José\n"
     ]
    }
   ],
   "source": [
    "#Iterar una lista en reversa\n",
    "nombres = [\"José\", \"Ana\", \"Laura\",\"Alberto\", \"Carlos\", \"Juan\", \"María\"]\n",
    "for nombre in reversed(nombres):\n",
    "    print(nombre)"
   ]
  },
  {
   "cell_type": "markdown",
   "metadata": {},
   "source": [
    "Adicionalmente, en ocasiones es necesario enumerar los datos de una lista y crear un par ordenado por cada elemento, para conseguirlo se utiliza la función \"enumerate()\""
   ]
  },
  {
   "cell_type": "code",
   "execution_count": 46,
   "metadata": {},
   "outputs": [
    {
     "name": "stdout",
     "output_type": "stream",
     "text": [
      "(0, 'José')\n",
      "(1, 'Laura')\n",
      "(2, 'Carlos')\n"
     ]
    }
   ],
   "source": [
    "asistentes = {\"José\": \"Ana\", \"Laura\":\"Alberto\", \"Carlos\": \"Juan\"}\n",
    "# [(0, \"Jose\"), (1, \"Ana\"), (2, Laura), ....]\n",
    "# enumerate nesecita como parametro un objeto iterable.\n",
    "for i in enumerate(asistentes):\n",
    "    print(i)"
   ]
  },
  {
   "cell_type": "code",
   "execution_count": 49,
   "metadata": {},
   "outputs": [
    {
     "name": "stdout",
     "output_type": "stream",
     "text": [
      "0 -> José\n",
      "1 -> Laura\n",
      "2 -> Carlos\n"
     ]
    }
   ],
   "source": [
    "for (i, nombre) in enumerate(asistentes):\n",
    "    print(i,'->', nombre)"
   ]
  },
  {
   "cell_type": "code",
   "execution_count": 23,
   "metadata": {},
   "outputs": [
    {
     "name": "stdout",
     "output_type": "stream",
     "text": [
      "10\n",
      "23\n",
      "37\n",
      "4\n"
     ]
    }
   ],
   "source": [
    "# Estamos iterando sobre un diccionario\n",
    "# En versiones anteriores cuando se iteraba sobre un diccionario o conjuntos\n",
    "# se hacia de forma desordenada.\n",
    "diccionario = {10: \"uno\", 23: \"dos\", 37:\"tres\", 4:\"cuatro\"}\n",
    "for i in diccionario:\n",
    "    print(i)"
   ]
  },
  {
   "cell_type": "markdown",
   "metadata": {},
   "source": [
    "Para iterar a través de un diccionario se utiliza el método \".items()\", \".keys()\" o \".values()\""
   ]
  },
  {
   "cell_type": "code",
   "execution_count": 35,
   "metadata": {},
   "outputs": [
    {
     "name": "stdout",
     "output_type": "stream",
     "text": [
      "dict_items([(10, 'uno'), (23, 'dos'), (37, 'tres'), (4, 'cuatro')]) \n",
      "\n",
      "(10, 'uno')\n",
      "(23, 'dos')\n",
      "(37, 'tres')\n",
      "(4, 'cuatro')\n"
     ]
    }
   ],
   "source": [
    "#Iterara a través de un diccionario\n",
    "# Estamos aplicando un método del diccionario\n",
    "diccionario = {10: \"uno\", 23: \"dos\", 37:\"tres\", 4:\"cuatro\"}\n",
    "print(diccionario.items(),'\\n')\n",
    "for i in diccionario.items():\n",
    "    print(i)"
   ]
  },
  {
   "cell_type": "code",
   "execution_count": 36,
   "metadata": {},
   "outputs": [
    {
     "name": "stdout",
     "output_type": "stream",
     "text": [
      "10 uno\n",
      "23 dos\n",
      "37 tres\n",
      "4 cuatro\n"
     ]
    }
   ],
   "source": [
    "for (clave, valor) in diccionario.items():\n",
    "    print(clave, valor)"
   ]
  },
  {
   "cell_type": "code",
   "execution_count": 26,
   "metadata": {},
   "outputs": [
    {
     "name": "stdout",
     "output_type": "stream",
     "text": [
      "uno\n",
      "dos\n",
      "tres\n",
      "cuatro\n"
     ]
    }
   ],
   "source": [
    "diccionario = {10: \"uno\", 25: \"dos\", 37:\"tres\", 4:\"cuatro\"}\n",
    "#diccionario.values()\n",
    "#diccionario.keys()\n",
    "# diccionario {clave: valor, key: value}\n",
    "\n",
    "for element in diccionario.values():\n",
    "    print(element)"
   ]
  },
  {
   "cell_type": "markdown",
   "metadata": {},
   "source": [
    "## EJERCICIOS PLANTEADOS\n",
    "\n",
    "Imprima en pantalla la sucesión de números múltiplos de 3 desde el 0 hasta 100\n"
   ]
  },
  {
   "cell_type": "markdown",
   "metadata": {},
   "source": [
    "### EJERCICIO N°1"
   ]
  },
  {
   "cell_type": "code",
   "execution_count": 50,
   "metadata": {},
   "outputs": [
    {
     "name": "stdout",
     "output_type": "stream",
     "text": [
      "[0, 3, 6, 9, 12, 15, 18, 21, 24, 27, 30, 33, 36, 39, 42, 45, 48, 51, 54, 57, 60, 63, 66, 69, 72, 75, 78, 81, 84, 87, 90, 93, 96, 99]\n"
     ]
    }
   ],
   "source": [
    "# Nos piden los múltiplos de 3: 3*0 , 3*1 , 3*2 ,............\n",
    "# Nos damos cuenta que no es más que los números consecutivos de 3 en 3\n",
    "w=[]\n",
    "for i in range(0,100,3):\n",
    "    w.append(i)\n",
    "print(w)    \n"
   ]
  },
  {
   "cell_type": "markdown",
   "metadata": {},
   "source": [
    "### EJERCICIO N°2"
   ]
  },
  {
   "cell_type": "markdown",
   "metadata": {},
   "source": [
    "A partir del diccionario \"calificaciones\" itere a través del diccionario y muestre el nombre y la calificacion de cada alumno línea por linea"
   ]
  },
  {
   "cell_type": "code",
   "execution_count": 51,
   "metadata": {},
   "outputs": [
    {
     "name": "stdout",
     "output_type": "stream",
     "text": [
      "{'José': 20, 'Ana': 19, 'Laura': 18, 'Alberto': 17, 'Carlos': 16, 'Juan': 15, 'María': 14}\n"
     ]
    }
   ],
   "source": [
    "calificaciones = {\"José\": 20, \"Ana\": 19, \"Laura\": 18,\"Alberto\": 17,\n",
    "                  \"Carlos\": 16, \"Juan\": 15, \"María\": 14}\n",
    "print(calificaciones)"
   ]
  },
  {
   "cell_type": "code",
   "execution_count": 56,
   "metadata": {},
   "outputs": [
    {
     "name": "stdout",
     "output_type": "stream",
     "text": [
      "José -> 20\n",
      "Ana -> 19\n",
      "Laura -> 18\n",
      "Alberto -> 17\n",
      "Carlos -> 16\n",
      "Juan -> 15\n",
      "María -> 14\n"
     ]
    }
   ],
   "source": [
    "# PRIMERA FORMA\n",
    "for i in calificaciones:\n",
    "    print(i,'->',calificaciones.get(i))"
   ]
  },
  {
   "cell_type": "code",
   "execution_count": 58,
   "metadata": {},
   "outputs": [
    {
     "name": "stdout",
     "output_type": "stream",
     "text": [
      "José -> 20\n",
      "Ana -> 19\n",
      "Laura -> 18\n",
      "Alberto -> 17\n",
      "Carlos -> 16\n",
      "Juan -> 15\n",
      "María -> 14\n"
     ]
    }
   ],
   "source": [
    "# SEGUNDA FORMA\n",
    "for (i,j) in calificaciones.items():\n",
    "    print(i,'->',j)"
   ]
  },
  {
   "cell_type": "markdown",
   "metadata": {},
   "source": [
    "### EJERCICIO N°3"
   ]
  },
  {
   "cell_type": "code",
   "execution_count": 60,
   "metadata": {},
   "outputs": [],
   "source": [
    "# Escribe un programa que muestre la sumatoria de todos los números del 1 al 100"
   ]
  },
  {
   "cell_type": "code",
   "execution_count": 63,
   "metadata": {},
   "outputs": [
    {
     "name": "stdout",
     "output_type": "stream",
     "text": [
      "Se muestran los números: [1, 2, 3, 4, 5, 6, 7, 8, 9, 10, 11, 12, 13, 14, 15, 16, 17, 18, 19, 20, 21, 22, 23, 24, 25, 26, 27, 28, 29, 30, 31, 32, 33, 34, 35, 36, 37, 38, 39, 40, 41, 42, 43, 44, 45, 46, 47, 48, 49, 50, 51, 52, 53, 54, 55, 56, 57, 58, 59, 60, 61, 62, 63, 64, 65, 66, 67, 68, 69, 70, 71, 72, 73, 74, 75, 76, 77, 78, 79, 80, 81, 82, 83, 84, 85, 86, 87, 88, 89, 90, 91, 92, 93, 94, 95, 96, 97, 98, 99, 100] \n",
      "\n",
      "La suma de los números del 1 al 100: 5050\n"
     ]
    }
   ],
   "source": [
    "e=[]\n",
    "sum=0\n",
    "for i in range(1,101):\n",
    "    e.append(i)\n",
    "    sum=sum+i\n",
    "print('Se muestran los números:',e,'\\n')\n",
    "print('La suma de los números del 1 al 100:',sum)"
   ]
  },
  {
   "cell_type": "markdown",
   "metadata": {},
   "source": [
    "### EJERCICIO N°4"
   ]
  },
  {
   "cell_type": "code",
   "execution_count": 65,
   "metadata": {},
   "outputs": [],
   "source": [
    "# Del ejercicio anterior hacer lo mismo pero ahora solo multiplos de 3."
   ]
  },
  {
   "cell_type": "code",
   "execution_count": 70,
   "metadata": {},
   "outputs": [
    {
     "name": "stdout",
     "output_type": "stream",
     "text": [
      "Se muestran los números: [3, 6, 9, 12, 15, 18, 21, 24, 27, 30, 33, 36, 39, 42, 45, 48, 51, 54, 57, 60, 63, 66, 69, 72, 75, 78, 81, 84, 87, 90, 93, 96, 99] \n",
      "\n",
      "La suma de los números del 1 al 100: 1683\n"
     ]
    }
   ],
   "source": [
    "w=[]\n",
    "sum=0\n",
    "for i in range(0,100,3)[1:]:\n",
    "    w.append(i)\n",
    "    sum=sum+i\n",
    "print('Se muestran los números:',w,'\\n')\n",
    "print('La suma de los números del 1 al 100:',sum)"
   ]
  },
  {
   "cell_type": "markdown",
   "metadata": {},
   "source": [
    "### EJERCICIO N°5"
   ]
  },
  {
   "cell_type": "code",
   "execution_count": 72,
   "metadata": {},
   "outputs": [],
   "source": [
    "# Muestre el factorial de un número"
   ]
  },
  {
   "cell_type": "code",
   "execution_count": 84,
   "metadata": {},
   "outputs": [
    {
     "name": "stdout",
     "output_type": "stream",
     "text": [
      "Ingrese un número entero positivo:-3\n",
      "Debe ingresar un número entero positivo\n"
     ]
    }
   ],
   "source": [
    "x=input('Ingrese un número entero positivo:')\n",
    "prod=1\n",
    "if x.isdigit():\n",
    "    w=int(x)\n",
    "    if w==0:\n",
    "        print(w,'!  =',1)\n",
    "    else:\n",
    "        for i in range(1,w+1): # 1 al 4\n",
    "            prod=prod*i\n",
    "        print(w,'!  =',prod)    \n",
    "else:\n",
    "    print('Debe ingresar un número entero positivo')"
   ]
  },
  {
   "cell_type": "markdown",
   "metadata": {},
   "source": [
    "### EJERCICIO N°6"
   ]
  },
  {
   "cell_type": "code",
   "execution_count": null,
   "metadata": {},
   "outputs": [],
   "source": [
    "# Pedir por teclado 6 número enteros. Ya sean entre positivos o negativos.\n",
    "# Luego mostrar la suma de los números negativos escritos por teclado.\n",
    "# y también mostrar el promedio de los números positivos escritos por teclado."
   ]
  },
  {
   "cell_type": "code",
   "execution_count": 104,
   "metadata": {},
   "outputs": [
    {
     "name": "stdout",
     "output_type": "stream",
     "text": [
      "Ingrese usted un número entero: 3\n",
      "Ingrese usted un número entero: -5\n",
      "Ingrese usted un número entero: t\n",
      "ERROR, ingresé solo números enteros\n",
      "Ingrese usted un número entero: d\n",
      "ERROR, ingresé solo números enteros\n",
      "Ingrese usted un número entero: vss\n",
      "ERROR, ingresé solo números enteros\n",
      "Ingrese usted un número entero: 3.5\n",
      "ERROR, ingresé solo números enteros\n",
      "Ingrese usted un número entero: 1\n",
      "Ingrese usted un número entero: -3\n",
      "Ingrese usted un número entero: 4\n",
      "Ingrese usted un número entero: 1\n",
      "\n",
      "Números que ingresó por teclado: [3, -5, 1, -3, 4, 1] \n",
      "\n",
      "Números positivos que ingresó: [3, 1, 4, 1] \n",
      "\n",
      "Números negativos que ingresó: [-5, -3] \n",
      "\n",
      "Sumatoria de los números negativos: -8 \n",
      "\n",
      "Promedio de los números positivos: 2.25\n"
     ]
    }
   ],
   "source": [
    "s=[]\n",
    "w1=[]\n",
    "w2=[]\n",
    "suma=0\n",
    "SUMA=0\n",
    "n=0\n",
    "while n<6:\n",
    "    x=input('Ingrese usted un número entero: ')\n",
    "    if x.isdigit() or x[0]=='-':\n",
    "        s.append(int(x))\n",
    "        n=n+1\n",
    "    else:\n",
    "        print('ERROR, ingresé solo números enteros')\n",
    "for j in s:\n",
    "    if j>0:\n",
    "        w1.append(j)\n",
    "        suma=suma+j\n",
    "        prom=suma/len(w1)\n",
    "    else:\n",
    "        w2.append(j)\n",
    "        SUMA=SUMA+j\n",
    "print('\\nNúmeros que ingresó por teclado:',s,'\\n')\n",
    "print('Números positivos que ingresó:',w1,'\\n')\n",
    "print('Números negativos que ingresó:',w2,'\\n')\n",
    "print('Sumatoria de los números negativos:',SUMA,'\\n')\n",
    "print('{} {:.2f}'.format('Promedio de los números positivos:',prom))"
   ]
  },
  {
   "cell_type": "markdown",
   "metadata": {},
   "source": [
    "### EJERCICIO N°7"
   ]
  },
  {
   "cell_type": "code",
   "execution_count": 106,
   "metadata": {},
   "outputs": [],
   "source": [
    "# Encontrar los 10 primeros números de la sucesión Fibonacci.\n",
    "# Empezando desde el cero.-> 0  ,  1  ,  1  ,  2  ,  3   ,  5 , 8\n",
    "#                            a     b   a+b\n",
    "#                                  a   b     a+b\n",
    "#                                      a      b     a+b"
   ]
  },
  {
   "cell_type": "code",
   "execution_count": 127,
   "metadata": {},
   "outputs": [
    {
     "name": "stdout",
     "output_type": "stream",
     "text": [
      "\n",
      "------------------- SUCESIÓN DE FIBONACCI --------------------\n",
      "\n",
      "Ingrese la cantidad de números que desea ver en la sucesión: 12\n",
      "0 , 1 , 1 , 2 , 3 , 5 , 8 , 13 , 21 , 34 , 55 , 89\n"
     ]
    }
   ],
   "source": [
    "print('\\n------------------- SUCESIÓN DE FIBONACCI --------------------\\n')\n",
    "w=int(input('Ingrese la cantidad de números que desea ver en la sucesión: '))\n",
    "a=0\n",
    "b=1\n",
    "print(a,',',end=' ')\n",
    "for i in range(1,w):\n",
    "    if i==w-1:\n",
    "        print(b)\n",
    "    else:  \n",
    "        print(b,',',end=' ')\n",
    "        a,b=b,a+b # a=1 y b=1 / a=1 y b= 2\n",
    "    \n",
    "        "
   ]
  },
  {
   "cell_type": "markdown",
   "metadata": {},
   "source": [
    "### EJERCICIO N°8"
   ]
  },
  {
   "cell_type": "markdown",
   "metadata": {},
   "source": [
    "Itere a través de la lista de números y cuente cuántas veces aparece el número 5"
   ]
  },
  {
   "cell_type": "code",
   "execution_count": 1,
   "metadata": {},
   "outputs": [
    {
     "name": "stdout",
     "output_type": "stream",
     "text": [
      "[9, 15, 64, 28, 89, 93, 29, 8, 73, 0, 40, 36, 16, 11, 54, 88, 62, 33, 72, 78, 49, 51, 54, 77, 69, 13, 25, 13, 92, 86, 30, 30, 89, 12, 65, 31, 57, 36, 27, 18, 93, 77, 22, 23, 94, 11, 28, 74, 88, 9, 15, 18, 80, 71, 88, 11, 17, 46, 7, 75, 28, 33, 84, 96, 88, 44, 5, 4, 71, 88, 88, 50, 54, 34, 15, 77, 88, 15, 6, 85, 22, 11, 12, 92, 96, 62, 57, 79, 42, 57, 97, 50, 45, 40, 89, 73, 37, 0, 18, 23, 3, 29, 16, 84, 82, 14, 51, 79, 17, 50, 53, 25, 48, 17, 32, 81, 80, 41, 90, 12, 30, 81, 17, 16, 0, 31, 73, 64, 38, 22, 96, 66, 67, 62, 95, 99, 27, 82, 62, 77, 48, 93, 75, 86, 37, 11, 21, 33, 95, 43, 88, 96, 73, 40, 43, 90, 71, 8, 85, 72, 28, 30, 89, 25, 78, 81, 85, 62, 13, 41, 33, 4, 87, 94, 28, 39, 91, 9, 7, 22, 32, 3, 9, 52, 76, 68, 30, 70, 74, 30, 9, 2, 65, 13, 75, 52, 5, 93, 84, 48, 62, 42, 34, 40, 46, 32, 94, 86, 58, 69, 45, 18, 50, 44, 1, 63, 77, 18, 27, 83, 37, 71, 88, 15, 55, 6, 44, 9, 50, 0, 44, 68, 14, 4, 6, 42, 73, 44, 90, 38, 20, 9, 40, 16, 75, 39, 58, 81, 39, 49, 97, 11, 78, 79, 21, 69, 48, 60, 58, 13, 3, 31, 76, 87, 17, 29, 69, 50, 51, 20, 5, 70, 61, 16, 74, 4, 22, 19, 85, 73, 35, 35, 11, 41, 54, 82, 19, 41, 81, 61, 10, 36, 0, 30, 62, 85, 32, 81, 13, 67, 31, 32, 96, 38, 37, 79, 59, 20, 31, 89, 0, 96, 25, 63, 59, 2, 30, 17, 59, 70, 63, 86, 29, 71, 92, 19, 0, 7, 93, 42, 87, 57, 80, 2, 34, 58, 76, 10, 79, 32, 69, 91, 16, 5, 63, 83, 75, 42, 38, 57, 7, 88, 96, 38, 48, 27, 64, 49, 90, 9, 27, 52, 90, 57, 48, 23, 25, 19, 48, 97, 76, 75, 93, 30, 31, 28, 79, 84, 21, 84, 99, 46, 46, 45, 94, 84, 20, 49, 33, 2, 97, 97, 98, 12, 82, 77, 66, 37, 31, 56, 81, 87, 81, 55, 97, 74, 15, 79, 80, 38, 55, 49, 90, 2, 70, 97, 5, 72, 29, 19, 25, 15, 54, 99, 96, 82, 56, 41, 90, 26, 74, 8, 92, 32, 71, 87, 68, 86, 14, 35, 84, 37, 62, 67, 14, 37, 57, 78, 34, 51, 50, 50, 85, 14, 52, 30, 81, 10, 61, 23, 1, 28, 58, 10, 11, 1, 82, 34, 11, 46, 74, 36, 6, 63, 60, 3, 50, 59, 34, 21, 16, 18, 61, 54, 60, 21, 87, 83, 71, 16, 67, 38, 27, 96, 87, 98, 89, 16, 82, 19]\n"
     ]
    }
   ],
   "source": [
    "import numpy as np\n",
    "np.random.seed(10)\n",
    "numeros = list(np.random.randint(0, 100, 500))\n",
    "print(numeros)"
   ]
  },
  {
   "cell_type": "code",
   "execution_count": 5,
   "metadata": {},
   "outputs": [
    {
     "name": "stdout",
     "output_type": "stream",
     "text": [
      "Ingrese el número que quiere saber cuantas veces existe: 10\n",
      "El número 10 se encuentra en la lista\n",
      "El número 10 existe 4 veces en la lista\n"
     ]
    }
   ],
   "source": [
    "cont = 0\n",
    "# se usa una variable contador para ir contando cuántas veces aparece 5\n",
    "f=int(input('Ingrese el número que quiere saber cuantas veces existe: '))\n",
    "if f in numeros:\n",
    "    print('El número',f,'se encuentra en la lista')\n",
    "    for i in numeros:\n",
    "        if i==f:\n",
    "            cont=cont+1\n",
    "    print('\\nEl número',f,'existe',cont,'veces en la lista')        \n",
    "else:\n",
    "    print('El número',f,'no se encuentra en la lista')"
   ]
  },
  {
   "cell_type": "markdown",
   "metadata": {},
   "source": [
    "También se puede lograr el mismo resultado utilizando el método \".count()\" "
   ]
  },
  {
   "cell_type": "code",
   "execution_count": 1,
   "metadata": {},
   "outputs": [
    {
     "ename": "NameError",
     "evalue": "name 'numeros' is not defined",
     "output_type": "error",
     "traceback": [
      "\u001b[1;31m---------------------------------------------------------------------------\u001b[0m",
      "\u001b[1;31mNameError\u001b[0m                                 Traceback (most recent call last)",
      "\u001b[1;32m~\\AppData\\Local\\Temp/ipykernel_9028/165854440.py\u001b[0m in \u001b[0;36m<module>\u001b[1;34m\u001b[0m\n\u001b[1;32m----> 1\u001b[1;33m \u001b[0mprint\u001b[0m\u001b[1;33m(\u001b[0m\u001b[0mnumeros\u001b[0m\u001b[1;33m.\u001b[0m\u001b[0mcount\u001b[0m\u001b[1;33m(\u001b[0m\u001b[1;36m10\u001b[0m\u001b[1;33m)\u001b[0m\u001b[1;33m)\u001b[0m\u001b[1;33m\u001b[0m\u001b[1;33m\u001b[0m\u001b[0m\n\u001b[0m",
      "\u001b[1;31mNameError\u001b[0m: name 'numeros' is not defined"
     ]
    }
   ],
   "source": [
    "print(numeros.count(10))"
   ]
  },
  {
   "cell_type": "markdown",
   "metadata": {},
   "source": [
    "## FIGURITAS"
   ]
  },
  {
   "cell_type": "code",
   "execution_count": 4,
   "metadata": {},
   "outputs": [
    {
     "name": "stdout",
     "output_type": "stream",
     "text": [
      "Digite el número de lados en su cuadrado: 5\n",
      "\n",
      "\n",
      "*  *  *  *  *  \n",
      "*  *  *  *  *  \n",
      "*  *  *  *  *  \n",
      "*  *  *  *  *  \n",
      "*  *  *  *  *  \n"
     ]
    }
   ],
   "source": [
    "d=int(input('Digite el número de lados en su cuadrado: '))\n",
    "print('\\n')\n",
    "for i in range(d):\n",
    "    print('*  '*d)"
   ]
  },
  {
   "cell_type": "code",
   "execution_count": null,
   "metadata": {},
   "outputs": [],
   "source": []
  }
 ],
 "metadata": {
  "kernelspec": {
   "display_name": "Python 3 (ipykernel)",
   "language": "python",
   "name": "python3"
  },
  "language_info": {
   "codemirror_mode": {
    "name": "ipython",
    "version": 3
   },
   "file_extension": ".py",
   "mimetype": "text/x-python",
   "name": "python",
   "nbconvert_exporter": "python",
   "pygments_lexer": "ipython3",
   "version": "3.9.7"
  }
 },
 "nbformat": 4,
 "nbformat_minor": 4
}
