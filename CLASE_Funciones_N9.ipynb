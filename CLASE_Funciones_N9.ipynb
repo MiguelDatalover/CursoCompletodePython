{
 "cells": [
  {
   "cell_type": "markdown",
   "metadata": {},
   "source": [
    "# FUNCIONES EN PYTHON"
   ]
  },
  {
   "cell_type": "markdown",
   "metadata": {},
   "source": [
    "Una de los temas más importantes es este. Lo que vamos hacer acá es agrupar un bloque de código que en un programa puede ser redundante, se lo agrupa y se le pone un alias. A todo ese bloque de código lo vamos a invocar o llamar por su alias. Hay dos tipos de funciones: las que creamos los programadores y las que están construidos como parte de la sintaxis del lenguaje propiamente dicho. A estos últimos se le conocen como built_ins. Se podria decir que hacemos uso de funciones primordialmente para optimizar nuestro código."
   ]
  },
  {
   "cell_type": "markdown",
   "metadata": {},
   "source": [
    "Una función es una **porción de código encapsulada** que tiene como objetivo realizar alguna tarea en específico. Tiene entradas, también denominadas parámetros, argumentos y salidas, o resultados. \n",
    "\n",
    "Utilizar funciones tiene como ventaja que se divide el código en partes más pequeñas, sencillas y reutilizables, por lo que el código se observa más limpio, entendible y organizado. \n"
   ]
  },
  {
   "cell_type": "markdown",
   "metadata": {},
   "source": [
    "## CASO PRÁCTICO"
   ]
  },
  {
   "cell_type": "code",
   "execution_count": 4,
   "metadata": {},
   "outputs": [
    {
     "name": "stdout",
     "output_type": "stream",
     "text": [
      "Hola, bienvenido a su salón de clase!!!\n",
      "Hola, bienvenido a su salón de clase!!!\n",
      "Hola, bienvenido a su salón de clase!!!\n",
      "Hola, bienvenido a su salón de clase!!!\n"
     ]
    }
   ],
   "source": [
    "# SUPONGAMOS QUE TENEMOS 5 ALUMNOS NUEVOS A LOS QUE TENEMOS QUE DARLE LA BIENVENIDA\n",
    "print('Hola, bienvenido a su salón de clase!!!')\n",
    "print('Hola, bienvenido a su salón de clase!!!')\n",
    "print('Hola, bienvenido a su salón de clase!!!')\n",
    "print('Hola, bienvenido a su salón de clase!!!')\n",
    "print('Hola, bienvenido a su salón de clase!!!')"
   ]
  },
  {
   "cell_type": "markdown",
   "metadata": {},
   "source": [
    "## SINTAXIS\n",
    "\n",
    "Las funciones tienen la siguiente sintaxis:\n",
    "\n",
    "def [nombreDeLaFunción] ([parámetros]):\n",
    "    \n",
    "    cuerpo\n",
    "    \n",
    "    return [salida]\n",
    "    \n",
    "  "
   ]
  },
  {
   "cell_type": "markdown",
   "metadata": {},
   "source": [
    "## PARÁMETROS Y ARGUMENTOS"
   ]
  },
  {
   "cell_type": "markdown",
   "metadata": {},
   "source": [
    "Son dos términos muy confundidos por la comunidad.\n",
    " > **Los parmétros**: son los valores que podrían estar previamente definidos, o sino esperando los valores que nosotros enviaremos.\n",
    " >\n",
    " > **Los argumentos**: son los valores que nosotros definimos y que son copias que mandamos a los parámetros para su uso.  \n",
    " >\n",
    " > *Una funcion puede estár con o sin argumentos y/o parámetros.*"
   ]
  },
  {
   "cell_type": "markdown",
   "metadata": {},
   "source": [
    "**def [nombreDeLaFunción] ([parámetros]):**\n",
    "\n",
    "          cuerpo de la funcion\n",
    "          return -> algo\n",
    "fuera de la funcion\n",
    "s= [nombreDeLaFunción] ([argumentos])"
   ]
  },
  {
   "cell_type": "code",
   "execution_count": 2,
   "metadata": {},
   "outputs": [],
   "source": [
    "def miFuncion (a,b):\n",
    "    suma = a + b\n",
    "    # cuerpo de la función\n",
    "    return suma"
   ]
  },
  {
   "cell_type": "code",
   "execution_count": 10,
   "metadata": {},
   "outputs": [
    {
     "name": "stdout",
     "output_type": "stream",
     "text": [
      "None\n"
     ]
    }
   ],
   "source": [
    "r=miFuncion(11,15)\n",
    "print(r)"
   ]
  },
  {
   "cell_type": "markdown",
   "metadata": {},
   "source": [
    "## TODAS LAS FUNCIONES EN PYTHON RETORNAN ALGO"
   ]
  },
  {
   "cell_type": "markdown",
   "metadata": {},
   "source": [
    "Observe que para definir funciones se usa la palabra clave *def* y para definir la salida de la función se utiliza la palabra clave *return*. \n",
    "\n",
    "Tenga en cuenta que los argumentos pueden ser muchos, solo uno o incluso ninguno. El nombre de estos argumentos, al igual que el nombre de la función, siguen las mismas reglas de nomenclatura que las variables, se recomienda que el nombre de las funciones sean escritas en minúsculas.\n",
    "\n",
    "Al igual que con las estructuras de las sentencias \"if\", \"for\" y \"while\", todo el código dentro de la función se identifica porque tiene sangrado y esto permite delimitar en dónde termina la función. "
   ]
  },
  {
   "cell_type": "markdown",
   "metadata": {},
   "source": [
    "> Acá en python toda función retorna algo implícitamente. Cuando veamos una funcíon definida sin un *return*, debemos pensar que retorna la nada o como se le llama acá en python el objeto *None* de la *clase NoneType*."
   ]
  },
  {
   "cell_type": "code",
   "execution_count": 11,
   "metadata": {},
   "outputs": [
    {
     "name": "stdout",
     "output_type": "stream",
     "text": [
      "None \n",
      "\n",
      "<class 'NoneType'>\n"
     ]
    }
   ],
   "source": [
    "def miFuncion(a,b):\n",
    "    suma = a + b\n",
    "    # cuerpo de la función\n",
    "s=miFuncion(3,5)\n",
    "print(s,'\\n')\n",
    "print(type(s))"
   ]
  },
  {
   "cell_type": "markdown",
   "metadata": {},
   "source": [
    "## MÉTODOS"
   ]
  },
  {
   "cell_type": "markdown",
   "metadata": {},
   "source": [
    "Cuando lleguemos al tema de POO, nos toparemos con la definición de una estructura muy similar a la que llamaremos *método*, que también empieza con:\n",
    "\n",
    "**def [nombre del método] (self,parametros):**\n",
    "   \n",
    "     cuerpo del método\n",
    "De las muchas diferencias, la que resalta a la vista es que los métodos tienen un parámetro que si o si tiene que estar definido. En cambio las funciones pueden tener cero parámetros y eso es por que a la par también tiene cero argumentos.    "
   ]
  },
  {
   "cell_type": "markdown",
   "metadata": {},
   "source": [
    "> **Los métodos al igual que las funciones son objetos del tipo invocable.** "
   ]
  },
  {
   "cell_type": "markdown",
   "metadata": {},
   "source": [
    "## EJEMPLOS DE FUNCIONES"
   ]
  },
  {
   "cell_type": "code",
   "execution_count": 5,
   "metadata": {},
   "outputs": [],
   "source": [
    "def cuadrado_de_la_suma(x1, x2, x3):\n",
    "    resultado1 = ( x1 + x2 + x3 )**2\n",
    "    # Operaciones\n",
    "    # Sentencias\n",
    "    # Órdenes\n",
    "    return resultado1\n",
    "    # Dentro de la funcion \n",
    "    \n",
    "# fuera de la funcion\n"
   ]
  },
  {
   "cell_type": "markdown",
   "metadata": {},
   "source": [
    "Si ejecuta la celda anterior observará que no se arroja ningún resultado, esto ocurre porque en la celda anterior solo se ha definido la función \"miFunción\" mas no se ha utilizado. \n",
    "\n",
    "Para utilizar (llamar o invocar) una función se escribe el nombre de la función y luego entre paréntesis se escriben los argumentos que necesita."
   ]
  },
  {
   "cell_type": "code",
   "execution_count": 20,
   "metadata": {},
   "outputs": [
    {
     "ename": "NameError",
     "evalue": "name 'cuadrado_de_la_suma' is not defined",
     "output_type": "error",
     "traceback": [
      "\u001b[1;31m---------------------------------------------------------------------------\u001b[0m",
      "\u001b[1;31mNameError\u001b[0m                                 Traceback (most recent call last)",
      "\u001b[1;32m~\\AppData\\Local\\Temp/ipykernel_4324/3795030178.py\u001b[0m in \u001b[0;36m<module>\u001b[1;34m\u001b[0m\n\u001b[1;32m----> 1\u001b[1;33m \u001b[0mfactor\u001b[0m \u001b[1;33m=\u001b[0m \u001b[0mcuadrado_de_la_suma\u001b[0m\u001b[1;33m(\u001b[0m\u001b[0mx2\u001b[0m\u001b[1;33m=\u001b[0m\u001b[1;36m2\u001b[0m\u001b[1;33m,\u001b[0m \u001b[0mx1\u001b[0m\u001b[1;33m=\u001b[0m\u001b[1;36m5\u001b[0m\u001b[1;33m,\u001b[0m \u001b[0mx3\u001b[0m\u001b[1;33m=\u001b[0m\u001b[1;36m7\u001b[0m\u001b[1;33m)\u001b[0m\u001b[1;33m\u001b[0m\u001b[1;33m\u001b[0m\u001b[0m\n\u001b[0m\u001b[0;32m      2\u001b[0m \u001b[0mprint\u001b[0m\u001b[1;33m(\u001b[0m\u001b[0mfactor\u001b[0m\u001b[1;33m)\u001b[0m\u001b[1;33m\u001b[0m\u001b[1;33m\u001b[0m\u001b[0m\n",
      "\u001b[1;31mNameError\u001b[0m: name 'cuadrado_de_la_suma' is not defined"
     ]
    }
   ],
   "source": [
    "factor = cuadrado_de_la_suma(x2=2, x1=5, x3=7)\n",
    "print(factor)"
   ]
  },
  {
   "cell_type": "markdown",
   "metadata": {},
   "source": [
    "## VARIABLES LOCALES Y GLOBALES"
   ]
  },
  {
   "cell_type": "markdown",
   "metadata": {},
   "source": [
    "Una función es una porción de código que ejecuta una acción en específico y no es obligatorio que retorne un valor, existen funciones que modifican estados o realizan otras tareas que no requieren que se utilice la palabra clave return."
   ]
  },
  {
   "cell_type": "code",
   "execution_count": 8,
   "metadata": {},
   "outputs": [
    {
     "name": "stdout",
     "output_type": "stream",
     "text": [
      "True\n",
      "entorno local\n",
      "True\n",
      "entorno global\n"
     ]
    }
   ],
   "source": [
    "estado = \"feliz\"\n",
    "lista = [0,1]\n",
    "#fuera tenemos variables globales\n",
    "\n",
    "def ordenar(x,y):\n",
    "    #dentro de una estructura tenemos variables locales\n",
    "    global estado\n",
    "    if x < y:\n",
    "        estado = True\n",
    "    else:\n",
    "        estado = False\n",
    "    print(estado)\n",
    "    print(\"entorno local\")\n",
    "    # return none\n",
    "    \n",
    "ordenar(50,60)\n",
    "print(estado)\n",
    "print(\"entorno global\")"
   ]
  },
  {
   "cell_type": "code",
   "execution_count": 22,
   "metadata": {},
   "outputs": [
    {
     "name": "stdout",
     "output_type": "stream",
     "text": [
      "True\n"
     ]
    }
   ],
   "source": [
    "print(estado)"
   ]
  },
  {
   "cell_type": "code",
   "execution_count": 13,
   "metadata": {},
   "outputs": [
    {
     "name": "stdout",
     "output_type": "stream",
     "text": [
      "True\n",
      "entorno local\n"
     ]
    }
   ],
   "source": [
    "ordenar(40,205)"
   ]
  },
  {
   "cell_type": "markdown",
   "metadata": {},
   "source": [
    "Por ejemplo, la función anterior no retorna ningún valor porque su tarea es imprimir en pantalla los números ingresados siguiendo un orden. "
   ]
  },
  {
   "cell_type": "markdown",
   "metadata": {},
   "source": [
    "Observe que si intenta guardar en un espacio de memoria (en una variable) el resultado de una función que no retorna nigún valor, dicho espacio de memoria tendrá almacenado un \"None\", palabra clave reservada para valores \"vacios\" o \"nulos\"."
   ]
  },
  {
   "cell_type": "code",
   "execution_count": 15,
   "metadata": {},
   "outputs": [
    {
     "name": "stdout",
     "output_type": "stream",
     "text": [
      "True\n",
      "entorno local\n",
      "variable s: None\n"
     ]
    }
   ],
   "source": [
    "s = ordenar(40,205)\n",
    "print(\"variable s:\",s)"
   ]
  },
  {
   "cell_type": "code",
   "execution_count": 20,
   "metadata": {},
   "outputs": [
    {
     "name": "stdout",
     "output_type": "stream",
     "text": [
      "ingrese x1: 4\n",
      "ingrese y1: 8\n",
      "El valor de d: 132\n"
     ]
    }
   ],
   "source": [
    "def mult(x,y):\n",
    "    return x * y\n",
    "\n",
    "x1 = int(input(\"ingrese x1: \"))\n",
    "y1 = int(input(\"ingrese y1: \"))\n",
    "\n",
    "d=3 + 4 * mult(x1,y1) + True\n",
    "print('El valor de d:',d)"
   ]
  },
  {
   "cell_type": "code",
   "execution_count": 21,
   "metadata": {},
   "outputs": [
    {
     "name": "stdout",
     "output_type": "stream",
     "text": [
      "ingrese x1: 3\n",
      "ingrese y1: 2\n"
     ]
    },
    {
     "ename": "TypeError",
     "evalue": "unsupported operand type(s) for *: 'int' and 'NoneType'",
     "output_type": "error",
     "traceback": [
      "\u001b[1;31m---------------------------------------------------------------------------\u001b[0m",
      "\u001b[1;31mTypeError\u001b[0m                                 Traceback (most recent call last)",
      "\u001b[1;32m~\\AppData\\Local\\Temp/ipykernel_14248/1445313801.py\u001b[0m in \u001b[0;36m<module>\u001b[1;34m\u001b[0m\n\u001b[0;32m      5\u001b[0m \u001b[0my1\u001b[0m \u001b[1;33m=\u001b[0m \u001b[0mint\u001b[0m\u001b[1;33m(\u001b[0m\u001b[0minput\u001b[0m\u001b[1;33m(\u001b[0m\u001b[1;34m\"ingrese y1: \"\u001b[0m\u001b[1;33m)\u001b[0m\u001b[1;33m)\u001b[0m\u001b[1;33m\u001b[0m\u001b[1;33m\u001b[0m\u001b[0m\n\u001b[0;32m      6\u001b[0m \u001b[1;33m\u001b[0m\u001b[0m\n\u001b[1;32m----> 7\u001b[1;33m \u001b[0md\u001b[0m\u001b[1;33m=\u001b[0m\u001b[1;36m3\u001b[0m \u001b[1;33m+\u001b[0m \u001b[1;36m4\u001b[0m \u001b[1;33m*\u001b[0m \u001b[0mmult\u001b[0m\u001b[1;33m(\u001b[0m\u001b[0mx1\u001b[0m\u001b[1;33m,\u001b[0m\u001b[0my1\u001b[0m\u001b[1;33m)\u001b[0m \u001b[1;33m+\u001b[0m \u001b[1;32mTrue\u001b[0m\u001b[1;33m\u001b[0m\u001b[1;33m\u001b[0m\u001b[0m\n\u001b[0m\u001b[0;32m      8\u001b[0m \u001b[0mprint\u001b[0m\u001b[1;33m(\u001b[0m\u001b[1;34m'El valor de d:'\u001b[0m\u001b[1;33m,\u001b[0m\u001b[0md\u001b[0m\u001b[1;33m)\u001b[0m\u001b[1;33m\u001b[0m\u001b[1;33m\u001b[0m\u001b[0m\n",
      "\u001b[1;31mTypeError\u001b[0m: unsupported operand type(s) for *: 'int' and 'NoneType'"
     ]
    }
   ],
   "source": [
    "def mult(x,y):\n",
    "     x * y\n",
    "\n",
    "x1 = int(input(\"ingrese x1: \"))\n",
    "y1 = int(input(\"ingrese y1: \"))\n",
    "\n",
    "d=3 + 4 * mult(x1,y1) + True\n",
    "print('El valor de d:',d)"
   ]
  },
  {
   "cell_type": "markdown",
   "metadata": {},
   "source": [
    "Para utilizar una función, esta debe haberse definido con anticipación o importado de alguna biblioteca, por lo tanto si intenta utilizar una función que no ha sido definida obtendrá el mensaje de error: \"NameError\""
   ]
  },
  {
   "cell_type": "code",
   "execution_count": null,
   "metadata": {},
   "outputs": [],
   "source": [
    "a = funcionSumar(5,8)\n",
    "print(a)"
   ]
  },
  {
   "cell_type": "markdown",
   "metadata": {},
   "source": [
    "## PASOS PARA DEFINIR UNA FUNCIÓN\n",
    "\n",
    "1. Definir cuál será la salida de la función. En primer lugar debe tener en cuenta cuál será el objetivo de la función, es decir, cuál es la salida o resultado final que debe retornar. Por lo general este primer paso es definido como un requerimiento por parte del cliente.\n",
    "2. Definir las entradas. Es decir cuáles son los argumentos necesarios que proporcionan la información suficiente para obtener el resultado final. Aquí toma importancia definir de qué tipo de dato deben ser las entradas.\n",
    "3. Diseñar el algoritmo de la función. Es decir definir cuáles serán los pasos que permitirán convertir las entradas en salidas. Se recomienda utilizar diagramas de flujo para esquematizar el algoritmo.\n",
    "4. Depuración. Es la fase en la que se prueba el funcionamiento del código, se corrigen los errores y se optimiza la función. \n",
    "5. Documentación. Consiste en comentar oportunamente el código escrito."
   ]
  },
  {
   "cell_type": "markdown",
   "metadata": {},
   "source": [
    "A continuación se seguirán los pasos indicados para definir una función que devolverá una lista con la sucesión de fibonacci desde cero hasta un número \"n\". La sucesión de fibonacci se caracteriza porque siempre empieza con 0 y 1, y a partir del tercer valor este es el resultado de sumar los dos anteriores: 0 , 1 , 1 , 2 , 3 , 5 , 8 , 13 , 21 , 34 , 55 , 89 , 144 , 233 ...\n",
    "\n",
    "\n",
    "1. La salida será una lista que contenga la sucesión de números de fibonacci desde cero hasta \"n\"\n",
    "2. El argumento que necesita la función es el número \"n\", el cual indicará en qué momento se truncará la sucesión de números. Es el único que se necesita.\n",
    "3. El algoritmo de la función será el siguiente:\n",
    "\n",
    "    a) definir dos variables \"int\" denominadas \"a\" y \"b\" que al inicio tendrán los valores 0 y 1 y luego se irá actualizando según la regla de la sucesión ( x3 = x2 + x1)\n",
    "    \n",
    "    b) definir una lista denominada \"sucesión\" en donde se guardará la sucesión\n",
    "    \n",
    "    c) utilizar una estructura while para que mientras la variable \"a\" sea menor que \"n\", se guarde \"a\" en la sucesión y se actualicen los valores de \"a\" y \"b\" de tal manera que el nuevo \"a\" sea el antiguo \"b\" y el nuevo \"b\" sea la suma de los antiguos \"a\" y \"b\"\n",
    "    \n",
    "    \n",
    "    0  ,  1  ,   1    ,   2  ,   3 , 5 , 8 , 13 , 21 ...\n",
    "    a0 , b0\n",
    "        a1=b0, b1=a0+b0\n",
    "               a2=b1, b2=a1+b1\n",
    "                       a3=b2, b3=a2+a1\n",
    "    \n",
    "    \n",
    "    d) retornar la sucesion"
   ]
  },
  {
   "cell_type": "markdown",
   "metadata": {},
   "source": [
    "### SUCESIÓN DE FIBONACCI"
   ]
  },
  {
   "cell_type": "code",
   "execution_count": 10,
   "metadata": {},
   "outputs": [],
   "source": [
    "# Definimos nuestra función llamada fibonacci\n",
    "def fibonacci(n):\n",
    "    a, b = 0, 1 # nesecitamos inicializar 2 valores\n",
    "    sucesion = []\n",
    "    while a < n:\n",
    "        serie.append(a)\n",
    "        # 0 , 1 , 0+1\n",
    "        a,b=b,a+b\n",
    "        \n",
    "        # a nuevo = b anterior\n",
    "        # b nuevo = a anterior + b anterior\n",
    "    return sucesion"
   ]
  },
  {
   "cell_type": "code",
   "execution_count": 8,
   "metadata": {},
   "outputs": [
    {
     "name": "stdout",
     "output_type": "stream",
     "text": [
      "[0, 1, 1, 2, 3, 5, 8, 13, 21, 34, 55, 89, 144, 233, 377, 610]\n"
     ]
    }
   ],
   "source": [
    "resultado = fibonacci(800)\n",
    "print(resultado)"
   ]
  },
  {
   "cell_type": "code",
   "execution_count": 9,
   "metadata": {},
   "outputs": [
    {
     "name": "stdout",
     "output_type": "stream",
     "text": [
      "3\n",
      "5.6\n"
     ]
    }
   ],
   "source": [
    "a,b=3,5.6\n",
    "print(a)\n",
    "print(b)\n"
   ]
  },
  {
   "cell_type": "markdown",
   "metadata": {},
   "source": [
    "4. La depuración se realiza probando la función con múltiples entradas y validando que las salidas sean correctas."
   ]
  },
  {
   "cell_type": "code",
   "execution_count": 11,
   "metadata": {},
   "outputs": [
    {
     "name": "stdout",
     "output_type": "stream",
     "text": [
      "[0, 1, 1, 2, 3, 5, 8, 13, 21, 34, 55, 89, 144, 233, 377, 610, 987, 1597, 2584, 4181, 6765, 10946, 17711, 28657, 46368, 75025, 121393, 196418]\n"
     ]
    }
   ],
   "source": [
    "resultado = fibonacci(270000)\n",
    "print(resultado)"
   ]
  },
  {
   "cell_type": "code",
   "execution_count": 12,
   "metadata": {},
   "outputs": [
    {
     "name": "stdout",
     "output_type": "stream",
     "text": [
      "[0, 1, 1, 2, 3, 5, 8, 13, 21, 34, 55, 89, 144, 233, 377, 610, 987, 1597, 2584, 4181, 6765, 10946, 17711, 28657, 46368, 75025, 121393, 196418, 317811, 514229, 832040, 1346269, 2178309, 3524578, 5702887, 9227465, 14930352, 24157817, 39088169, 63245986, 102334155, 165580141, 267914296, 433494437]\n"
     ]
    }
   ],
   "source": [
    "resultado = fibonacci(500000000)\n",
    "print(resultado)"
   ]
  },
  {
   "cell_type": "markdown",
   "metadata": {},
   "source": [
    "5. El último paso consiste en comentar la función, para ello se recomienda el siguiente esquema:\n",
    "\n",
    "def miFuncion (argumentos):\n",
    "    \n",
    "    \"\"\" #Describir qué hace la función\n",
    "        #Describir sus argumentos\n",
    "        #Describir qué excepciones tiene\n",
    "    \"\"\""
   ]
  },
  {
   "cell_type": "code",
   "execution_count": 16,
   "metadata": {},
   "outputs": [],
   "source": [
    "def fibonacci(n):\n",
    "    \"\"\"Retorna la serie de fibonacci desde cero hasta \"n\"\n",
    "        Argumentos:\n",
    "            n(int): el limite maximo de la funcion\n",
    "        excepciones: si el numero n es menor que 1, retorna una lista vacia.\n",
    "    \"\"\"\n",
    "    a, b = 0, 1\n",
    "    serie = []\n",
    "    while a < n:\n",
    "        serie.append(a)\n",
    "        a, b = b, a+b\n",
    "    return serie"
   ]
  },
  {
   "cell_type": "code",
   "execution_count": 15,
   "metadata": {},
   "outputs": [
    {
     "name": "stdout",
     "output_type": "stream",
     "text": [
      "[]\n"
     ]
    }
   ],
   "source": [
    "print(fibonacci(0))"
   ]
  },
  {
   "cell_type": "markdown",
   "metadata": {},
   "source": [
    "Después de documentar una función, cualquier usuario puede utilzar la línea help([nombreDeLaFuncion]) para leer lo que se ha comentado."
   ]
  },
  {
   "cell_type": "code",
   "execution_count": 17,
   "metadata": {},
   "outputs": [
    {
     "name": "stdout",
     "output_type": "stream",
     "text": [
      "Help on function fibonacci in module __main__:\n",
      "\n",
      "fibonacci(n)\n",
      "    Retorna la serie de fibonacci desde cero hasta \"n\"\n",
      "    Argumentos:\n",
      "        n(int): el limite maximo de la funcion\n",
      "    excepciones: si el numero n es menor que 1, retorna una lista vacia.\n",
      "\n"
     ]
    }
   ],
   "source": [
    "help(fibonacci)"
   ]
  },
  {
   "cell_type": "markdown",
   "metadata": {},
   "source": [
    "Otro ejemplo de cómo documentar una función:"
   ]
  },
  {
   "cell_type": "code",
   "execution_count": 18,
   "metadata": {},
   "outputs": [],
   "source": [
    "# Tal vez si la definición de la funcion es simple y corta\n",
    "# No se necesitaria especificar que hace la función\n",
    "def miFuncion(x,y):\n",
    "    \"\"\"Devuelve el cuadro de la suma de las entradas.\n",
    "    Argumentos:\n",
    "        x (int): numero cualquiera\n",
    "        y (int): numero cualquiera\n",
    "    Excepciones: solo se aceptan número como entrada\n",
    "    \"\"\"\n",
    "    z = (x+y)**2\n",
    "    return z "
   ]
  },
  {
   "cell_type": "code",
   "execution_count": 19,
   "metadata": {},
   "outputs": [
    {
     "name": "stdout",
     "output_type": "stream",
     "text": [
      "Help on function miFuncion in module __main__:\n",
      "\n",
      "miFuncion(x, y)\n",
      "    Devuelve el cuadro de la suma de las entradas.\n",
      "    Argumentos:\n",
      "        x (int): numero cualquiera\n",
      "        y (int): numero cualquiera\n",
      "    Excepciones: solo se aceptan número como entrada\n",
      "\n"
     ]
    }
   ],
   "source": [
    "help(miFuncion)"
   ]
  },
  {
   "cell_type": "markdown",
   "metadata": {},
   "source": [
    "En la clase anterior se presentó la función range, la cual tiene tres argumentos, pero si se dan menos datos de entrada, la función toma algunos valores por defecto."
   ]
  },
  {
   "cell_type": "markdown",
   "metadata": {},
   "source": [
    "## FUNCÍON RANGE( )"
   ]
  },
  {
   "cell_type": "code",
   "execution_count": 20,
   "metadata": {},
   "outputs": [
    {
     "name": "stdout",
     "output_type": "stream",
     "text": [
      "range(0, 10)\n",
      "[0, 1, 2, 3, 4, 5, 6, 7, 8, 9]\n"
     ]
    }
   ],
   "source": [
    "# Valores por defecto en los argumentos\n",
    "rango = range(10) # por defecto: inicio = 0, paso = 1\n",
    "print(rango)\n",
    "print(list(rango))"
   ]
  },
  {
   "cell_type": "code",
   "execution_count": 21,
   "metadata": {},
   "outputs": [
    {
     "name": "stdout",
     "output_type": "stream",
     "text": [
      "range(5, 10)\n",
      "[5, 6, 7, 8, 9]\n"
     ]
    }
   ],
   "source": [
    "rango = range(5, 10) # por defecto: paso = 1\n",
    "print(rango)\n",
    "print(list(rango))"
   ]
  },
  {
   "cell_type": "code",
   "execution_count": 22,
   "metadata": {},
   "outputs": [
    {
     "name": "stdout",
     "output_type": "stream",
     "text": [
      "range(5, 10, 2)\n",
      "[5, 7, 9]\n"
     ]
    }
   ],
   "source": [
    "rango = range(5, 10, 2)\n",
    "print(rango)\n",
    "print(list(rango))"
   ]
  },
  {
   "cell_type": "markdown",
   "metadata": {},
   "source": [
    "Puede utilizar la función \"help()\" para entender mejor cualquier función. Observe la documentación de la función \"range()\":"
   ]
  },
  {
   "cell_type": "code",
   "execution_count": null,
   "metadata": {},
   "outputs": [],
   "source": [
    "help(range)"
   ]
  },
  {
   "cell_type": "markdown",
   "metadata": {},
   "source": [
    "Al igual que con la función \"range()\" se pueden definir funciones que tengan valores predeterminados. Para esto se define el valor por defecto del argumento dentro de los paréntesis al momento de definir la función."
   ]
  },
  {
   "cell_type": "code",
   "execution_count": 14,
   "metadata": {},
   "outputs": [],
   "source": [
    "# Definir funciones con valores por defecto\n",
    "def imprimir (mensaje, veces = 3):\n",
    "    \"\"\"Imprime un mensaje n veces\n",
    "        Argumentos:\n",
    "            mensaje (str): mensaje a imprimir\n",
    "            veces (int): cantidad de veces que se repitel el mensaje\n",
    "        excepciones: no acepta números negativos\n",
    "    \"\"\"\n",
    "    print(mensaje*veces)   "
   ]
  },
  {
   "cell_type": "markdown",
   "metadata": {},
   "source": [
    "Al definir valores predeterminados podrá omitir dicho argumento:"
   ]
  },
  {
   "cell_type": "code",
   "execution_count": 15,
   "metadata": {},
   "outputs": [
    {
     "name": "stdout",
     "output_type": "stream",
     "text": [
      "hola hola hola \n"
     ]
    }
   ],
   "source": [
    "imprimir(\"hola \")"
   ]
  },
  {
   "cell_type": "markdown",
   "metadata": {},
   "source": [
    "O por el contrario, modificar el valor y no utilizar el predeterminado."
   ]
  },
  {
   "cell_type": "code",
   "execution_count": 16,
   "metadata": {},
   "outputs": [
    {
     "name": "stdout",
     "output_type": "stream",
     "text": [
      "hola hola \n"
     ]
    }
   ],
   "source": [
    "# ENVIO DE ARGUMENTOS POR POSICIÓN\n",
    "imprimir(\"hola \", 2)"
   ]
  },
  {
   "cell_type": "code",
   "execution_count": 17,
   "metadata": {},
   "outputs": [
    {
     "name": "stdout",
     "output_type": "stream",
     "text": [
      "hola hola hola hola hola \n"
     ]
    }
   ],
   "source": [
    "imprimir(\"hola \", veces = 5)"
   ]
  },
  {
   "cell_type": "code",
   "execution_count": 18,
   "metadata": {},
   "outputs": [
    {
     "name": "stdout",
     "output_type": "stream",
     "text": [
      "hola hola hola hola \n"
     ]
    }
   ],
   "source": [
    "# ENVÍO DE ARGUMENTOS POR NOMBRE\n",
    "imprimir(mensaje = \"hola \", veces = 4)"
   ]
  },
  {
   "cell_type": "markdown",
   "metadata": {},
   "source": [
    "Si coloca el nombre de los argumentos al llamar a la función puede incluso modificar el orden con el que escribe los argumentos."
   ]
  },
  {
   "cell_type": "code",
   "execution_count": null,
   "metadata": {},
   "outputs": [],
   "source": [
    "# ENVÍO DE ARGUMENTOS POR NOMBRE\n",
    "imprimir (veces = 2, mensaje = \"hola \")"
   ]
  },
  {
   "cell_type": "markdown",
   "metadata": {},
   "source": [
    "Observe que el número de argumentos que se utiliza cuando se llama a una funcion debe coincidir con los indicados cuando se define la función (sin contar los predeterminados)."
   ]
  },
  {
   "cell_type": "markdown",
   "metadata": {},
   "source": [
    "Observe que si se entregan argumentos de menos o de más, se encontrará con mensajes de error. \n"
   ]
  },
  {
   "cell_type": "code",
   "execution_count": null,
   "metadata": {},
   "outputs": [],
   "source": [
    "def miFuncion (x,y):\n",
    "    z = (x+y)**2\n",
    "    return z"
   ]
  },
  {
   "cell_type": "code",
   "execution_count": null,
   "metadata": {},
   "outputs": [],
   "source": [
    "miFuncion(5)"
   ]
  },
  {
   "cell_type": "code",
   "execution_count": 19,
   "metadata": {},
   "outputs": [],
   "source": [
    "miFuncion(5,9,8)"
   ]
  },
  {
   "cell_type": "markdown",
   "metadata": {},
   "source": [
    "## EJERCICIOS"
   ]
  },
  {
   "cell_type": "code",
   "execution_count": 28,
   "metadata": {},
   "outputs": [
    {
     "name": "stdout",
     "output_type": "stream",
     "text": [
      "5\n",
      "5\n",
      "8\n"
     ]
    }
   ],
   "source": [
    "# EJERCICIO N°1\n",
    "\n",
    "def suma(a,b):\n",
    "    print(a+b)\n",
    "    return a+b\n",
    "x=suma(3,2)\n",
    "print(suma(3,2)+3)"
   ]
  },
  {
   "cell_type": "code",
   "execution_count": 5,
   "metadata": {},
   "outputs": [
    {
     "name": "stdout",
     "output_type": "stream",
     "text": [
      "Ingrese numeros enteros para sumar sus dígitos: 100\n",
      "Ingrese numeros enteros para sumar sus dígitos: 34\n",
      "Ingrese numeros enteros para sumar sus dígitos: 124\n",
      "Ingrese numeros enteros para sumar sus dígitos: 210\n",
      "Ingrese numeros enteros para sumar sus dígitos: 7\n",
      "Ingrese numeros enteros para sumar sus dígitos: 0\n",
      "\n",
      "Los números ingresados y sus sumas de cifras es: {100: 1, 34: 7, 124: 7, 210: 3, 7: 7}\n",
      "\n",
      "La suma de múmeros en la lista es: 475 y su suma de dígitos es: 16\n"
     ]
    }
   ],
   "source": [
    "# EJERCICIO N°2\n",
    "def sumar_digitos(i):\n",
    "    suma=0\n",
    "    while i!=0: \n",
    "        i,r=int(i/10),i%10\n",
    "        suma=suma+r\n",
    "    return suma    \n",
    "b=1\n",
    "e=[]\n",
    "while b!=0:\n",
    "    b=int(input('Ingrese numeros enteros para sumar sus dígitos: '))\n",
    "    if b==0:\n",
    "        break\n",
    "    e.append(b)\n",
    "t={}\n",
    "s=0\n",
    "for i in e:\n",
    "    t[i]=sumar_digitos(i)\n",
    "    s=s+i\n",
    "v=sumar_digitos(s)    \n",
    "print('\\nLos números ingresados y sus sumas de cifras es:')\n",
    "print(t)\n",
    "print('\\nLa suma de múmeros en la lista es:',s,'y su suma de dígitos es:',v)"
   ]
  },
  {
   "cell_type": "code",
   "execution_count": 46,
   "metadata": {},
   "outputs": [
    {
     "name": "stdout",
     "output_type": "stream",
     "text": [
      "Ingrese números primos aleatorios, sino el programa se saldrá: 5\n",
      "Ingrese números primos aleatorios, sino el programa se saldrá: 7\n",
      "Ingrese números primos aleatorios, sino el programa se saldrá: 3\n",
      "Ingrese números primos aleatorios, sino el programa se saldrá: 2\n",
      "Ingrese números primos aleatorios, sino el programa se saldrá: 1\n",
      "\n",
      "El número 1 no es primo ni compuesto\n",
      "\n",
      "El mayor número primo de la lista es:  7\n",
      "\n",
      "El factorial del mayor número primo -> 7 ! es: 5040\n",
      "\n",
      "La suma de dígitos de los números impares ingresados es:\n",
      "{2: 2, 3: 3, 5: 5, 7: 7}\n"
     ]
    }
   ],
   "source": [
    "# EJERCICIO N°3\n",
    "def numero_primo(b):\n",
    "    for i in range(2,b):\n",
    "        if b%i==0:\n",
    "            return 0\n",
    "    else:\n",
    "        return 1\n",
    "    \n",
    "def sumar_digitos(i):\n",
    "    suma=0\n",
    "    while i!=0:\n",
    "        i,r=int(i/10),i%10\n",
    "        suma=suma+r\n",
    "    return suma\n",
    "\n",
    "def factorial(n):\n",
    "    #caso base\n",
    "    if n==0:\n",
    "        m=1\n",
    "        return m \n",
    "    #caso recursivo\n",
    "    else:\n",
    "        s=n*factorial(n-1)\n",
    "    return s\n",
    "b=1\n",
    "x=[]\n",
    "w={}\n",
    "while b!=0:\n",
    "    q=int(input('Ingrese números primos aleatorios, sino el programa se saldrá: '))\n",
    "    if q==1:\n",
    "        print('\\nEl número 1 no es primo ni compuesto')\n",
    "        break\n",
    "    b=numero_primo(q)\n",
    "    if b==1:\n",
    "        x.append(q)\n",
    "x.sort()\n",
    "for i in x:\n",
    "    w[i]=sumar_digitos(i)\n",
    "print('\\nEl mayor número primo de la lista es: ',x[-1])\n",
    "print('\\nEl factorial del mayor número primo ->',x[-1],'! es:',factorial(x[-1]))\n",
    "print('\\nLa suma de dígitos de los números impares ingresados es:')\n",
    "print(w)\n",
    "  "
   ]
  },
  {
   "cell_type": "markdown",
   "metadata": {},
   "source": [
    "## PARÁMETROS INDETERMINADOS"
   ]
  },
  {
   "cell_type": "markdown",
   "metadata": {},
   "source": [
    "Sin embargo existe la posibilidad de definir funciones que acepten un número indefinido de argumentos. Esto se logra escribiendo un \" * \" antes del nombre de una variable de tipo tupla que almacenará a todos los argumentos de más que se escriban."
   ]
  },
  {
   "cell_type": "markdown",
   "metadata": {},
   "source": [
    "### INDETERMINADOS POR POSICIÓN"
   ]
  },
  {
   "cell_type": "code",
   "execution_count": 30,
   "metadata": {},
   "outputs": [
    {
     "name": "stdout",
     "output_type": "stream",
     "text": [
      "(1, 2, 3, 4, 5, 7, 10)\n",
      "<class 'tuple'>\n"
     ]
    }
   ],
   "source": [
    "def indeter_posicion(*arg):\n",
    "    print(arg)\n",
    "    print(type(arg))\n",
    "indeter_posicion(1,2,3,4,5,7,10)    "
   ]
  },
  {
   "cell_type": "code",
   "execution_count": 31,
   "metadata": {},
   "outputs": [
    {
     "name": "stdout",
     "output_type": "stream",
     "text": [
      "5 \tBeatles \tTrue \t[666, 'R'] \t"
     ]
    }
   ],
   "source": [
    "# Recordar que una tupla es un objeto iterable:\n",
    "# Crea una tupla teniendo como items, todos los argumentos que mandemos.\n",
    "def indeter_posicion(*arg):\n",
    "    for i in arg:\n",
    "        print(i,'\\t',end='')\n",
    "indeter_posicion(5,'Beatles',True,[666,'R'])        "
   ]
  },
  {
   "cell_type": "code",
   "execution_count": 33,
   "metadata": {},
   "outputs": [],
   "source": [
    "def varios(param1, param2, *m):\n",
    "    print(\"suma de parametros: \",param1 + param2)\n",
    "    print(\"otros: \", m)"
   ]
  },
  {
   "cell_type": "code",
   "execution_count": 34,
   "metadata": {},
   "outputs": [
    {
     "name": "stdout",
     "output_type": "stream",
     "text": [
      "suma de parametros:  11\n",
      "otros:  (8, 8, 8, 5)\n"
     ]
    }
   ],
   "source": [
    "varios(5,6,8,8,8,5)"
   ]
  },
  {
   "cell_type": "code",
   "execution_count": 35,
   "metadata": {},
   "outputs": [
    {
     "name": "stdout",
     "output_type": "stream",
     "text": [
      "suma de parametros:  11\n",
      "otros:  (8, 'hola', [8, 5, 'o'], (1, 2), 5j, 'a')\n"
     ]
    }
   ],
   "source": [
    "varios(5,6, 8, \"hola\", [8, 5, \"o\"], (1,2), 5j, \"a\")"
   ]
  },
  {
   "cell_type": "markdown",
   "metadata": {},
   "source": [
    "Observe que todos los argumentos de más se almacenan en la tupla \"extras\"."
   ]
  },
  {
   "cell_type": "markdown",
   "metadata": {},
   "source": [
    "Se puede definir una función para sumar un número indeterminado de sumando utilizando el concepto anterior: "
   ]
  },
  {
   "cell_type": "code",
   "execution_count": 36,
   "metadata": {},
   "outputs": [],
   "source": [
    "def adicion(*sumandos):\n",
    "    suma = 0\n",
    "    for sumando in sumandos:\n",
    "        suma = suma + sumando\n",
    "    return suma"
   ]
  },
  {
   "cell_type": "code",
   "execution_count": 37,
   "metadata": {},
   "outputs": [
    {
     "name": "stdout",
     "output_type": "stream",
     "text": [
      "466\n"
     ]
    }
   ],
   "source": [
    "r = adicion(20,30,40,50, 22, 38, -88, 88, 54, 212)\n",
    "print(r)"
   ]
  },
  {
   "cell_type": "code",
   "execution_count": 39,
   "metadata": {},
   "outputs": [
    {
     "name": "stdout",
     "output_type": "stream",
     "text": [
      "128\n"
     ]
    }
   ],
   "source": [
    "r2 = adicion(57,25, 5, 41)\n",
    "print(r2)"
   ]
  },
  {
   "cell_type": "markdown",
   "metadata": {},
   "source": [
    "### INDETERMINADOS POR NOMBRE"
   ]
  },
  {
   "cell_type": "code",
   "execution_count": 40,
   "metadata": {},
   "outputs": [
    {
     "name": "stdout",
     "output_type": "stream",
     "text": [
      "{'a': 1, 'b': 2, 'c': 3, 'd': 4, 'e': 5}\n"
     ]
    }
   ],
   "source": [
    "# Recordar la manera tal vez más exótica de crear un diccionario\n",
    "a=dict(a=1,b=2,c=3,d=4,e=5)\n",
    "print(a)"
   ]
  },
  {
   "cell_type": "code",
   "execution_count": 41,
   "metadata": {},
   "outputs": [
    {
     "name": "stdout",
     "output_type": "stream",
     "text": [
      "{'a': 1, 'b': 2, 'c': 3, 'd': 4, 'e': 5}\n",
      "<class 'dict'>\n"
     ]
    }
   ],
   "source": [
    "def inteder_nombre(**kwargs):\n",
    "    print(kwargs)\n",
    "    print(type(kwargs))\n",
    "inteder_nombre(a=1,b=2,c=3,d=4,e=5)    \n"
   ]
  },
  {
   "cell_type": "markdown",
   "metadata": {},
   "source": [
    "Hasta el momento las funciones retornaban solo un dato, sin embargo se puede retornar los datos que sean necesarios, siempre y cuando estos se expresen como una lista o como una tupla."
   ]
  },
  {
   "cell_type": "markdown",
   "metadata": {},
   "source": [
    "## MÚLTIPLES RETORNOS"
   ]
  },
  {
   "cell_type": "code",
   "execution_count": 1,
   "metadata": {},
   "outputs": [],
   "source": [
    "#Puedo retornar más de un valor\n",
    "#Se crea una tupla con todos los elementos que retorno\n",
    "def miFuncion2(x, y):\n",
    "    return x**2, y**2"
   ]
  },
  {
   "cell_type": "code",
   "execution_count": 2,
   "metadata": {},
   "outputs": [
    {
     "name": "stdout",
     "output_type": "stream",
     "text": [
      "(4, 9)\n",
      "<class 'tuple'>\n"
     ]
    }
   ],
   "source": [
    "resultado = miFuncion2(2,3)\n",
    "print(resultado)\n",
    "print(type(resultado))"
   ]
  },
  {
   "cell_type": "code",
   "execution_count": 45,
   "metadata": {},
   "outputs": [
    {
     "name": "stdout",
     "output_type": "stream",
     "text": [
      "4\n",
      "9\n"
     ]
    }
   ],
   "source": [
    "r1, r2 =  miFuncion2(2,3)\n",
    "print(r1)\n",
    "print(r2)"
   ]
  },
  {
   "cell_type": "markdown",
   "metadata": {},
   "source": [
    "## FUNCIONES ANIDADAS"
   ]
  },
  {
   "cell_type": "markdown",
   "metadata": {},
   "source": [
    "Al igual que con las otras estructuras de Python, se pueden definir funciones dentro de otras:"
   ]
  },
  {
   "cell_type": "code",
   "execution_count": null,
   "metadata": {},
   "outputs": [],
   "source": [
    "def operaciones (a, b, operacion):\n",
    "    \"\"\" Suma o multiplica a y b según la variable operacion\n",
    "        Argumentos:\n",
    "            a (numero): numero cualquiera\n",
    "            b (numero): numero cualquiera\n",
    "            operacion (str): puede tomar el valor de suma o multiplicacion\n",
    "    \"\"\"\n",
    "    if operacion == \"suma\":\n",
    "        r = sumar(a,b)\n",
    "    if operacion == \"multiplicacion\":\n",
    "        r = multiplicar(a,b)\n",
    "        \n",
    "    # numero hace referencia a int, float o complex\n",
    "    def sumar (sumando1, sumando2):\n",
    "        return sumando1 + sumando2\n",
    "    def multiplicar (factor1, factor2):\n",
    "        return factor1 * factor2\n",
    "    \n",
    "    return r"
   ]
  },
  {
   "cell_type": "markdown",
   "metadata": {},
   "source": [
    "## FUNCIONES DECORADAS"
   ]
  },
  {
   "cell_type": "markdown",
   "metadata": {},
   "source": [
    "Las funciones decoradas, son funciones a las que se les ha añadido funcionalidades de otras funciones. Poe eso ha las funciones que se encargan de añadir funcionalidades o decorar como se dice popularmente, se las llama funciones decoradoras."
   ]
  },
  {
   "cell_type": "markdown",
   "metadata": {},
   "source": [
    ">**FUNCIONES DECORADORAS O DECORATIVAS:** Es la función encargada de agregar funcionalidades a cualquier función que desee. \n",
    ">\n",
    ">**FUNCIONES A DECORAR:** Es la función a la que se le va a modificar o maquillar.\n",
    ">\n",
    ">**FUNCIONES DECORADAS:** Es el resultado luego de añadir las funcionalidades.\n"
   ]
  },
  {
   "cell_type": "code",
   "execution_count": 50,
   "metadata": {},
   "outputs": [
    {
     "name": "stdout",
     "output_type": "stream",
     "text": [
      "45\n"
     ]
    }
   ],
   "source": [
    "# EMPECEMOS CON UNA FUNCIÓN FACILONA.\n",
    "def suma():\n",
    "    print(15+30)\n",
    "suma()"
   ]
  },
  {
   "cell_type": "code",
   "execution_count": 51,
   "metadata": {},
   "outputs": [
    {
     "name": "stdout",
     "output_type": "stream",
     "text": [
      "VAMOS A SUMAR!!!!\n",
      "45\n",
      "HEMOS TERMINADO\n"
     ]
    }
   ],
   "source": [
    "def suma():\n",
    "    print('VAMOS A SUMAR!!!!')\n",
    "    print(15+30)\n",
    "    print('HEMOS TERMINADO')\n",
    "        \n",
    "suma()"
   ]
  },
  {
   "cell_type": "code",
   "execution_count": 57,
   "metadata": {},
   "outputs": [
    {
     "name": "stdout",
     "output_type": "stream",
     "text": [
      "VAMOS A OPERAR!!!!\n",
      "17\n",
      "HEMOS TERMINADO\n",
      "\n",
      "VAMOS A OPERAR!!!!\n",
      "990\n",
      "HEMOS TERMINADO\n",
      "\n",
      "VAMOS A OPERAR!!!!\n",
      "700507\n",
      "HEMOS TERMINADO\n",
      "\n",
      "VAMOS A OPERAR!!!!\n",
      "5.583\n",
      "HEMOS TERMINADO\n",
      "\n"
     ]
    }
   ],
   "source": [
    "def funcion_decorador(funcion_a_decorar):\n",
    "    def funcion_decorada(a,b):\n",
    "        print('VAMOS A OPERAR!!!!')\n",
    "        funcion_a_decorar(a,b)\n",
    "        print('HEMOS TERMINADO\\n')\n",
    "    return funcion_decorada    \n",
    "#esta llevando esa funcion suma como argumento\n",
    "\n",
    "@funcion_decorador\n",
    "def suma(a,b):\n",
    "    print(a+b)\n",
    "    \n",
    "@funcion_decorador    \n",
    "def resta(a,b):\n",
    "    print(a-b)\n",
    "    \n",
    "@funcion_decorador\n",
    "def mult(a,b):\n",
    "    print(a*b)\n",
    "    \n",
    "@funcion_decorador\n",
    "def div(a,b):\n",
    "    print('{:.3f}'.format(a/b))\n",
    "\n",
    "suma(12,5)\n",
    "resta(999,9)\n",
    "mult(1829,383)\n",
    "div(67,12)\n"
   ]
  },
  {
   "cell_type": "markdown",
   "metadata": {},
   "source": [
    "## RECURSIVIDAD"
   ]
  },
  {
   "cell_type": "markdown",
   "metadata": {},
   "source": [
    "Se llama recursividad a aquellas funciones que en su algoritmo hace referncias así mismo. Python admite las llamadas funciones recursivas, permitiendo una función autollamarse cuantas veces desee. "
   ]
  },
  {
   "cell_type": "code",
   "execution_count": 3,
   "metadata": {},
   "outputs": [
    {
     "name": "stdout",
     "output_type": "stream",
     "text": [
      "10\n",
      "9\n",
      "8\n",
      "7\n",
      "6\n",
      "5\n",
      "4\n",
      "3\n",
      "2\n",
      "1\n"
     ]
    }
   ],
   "source": [
    "def imprimir(x):\n",
    "    if x>0:\n",
    "        print(x)\n",
    "        imprimir(x-1)\n",
    "\n",
    "imprimir(10)         "
   ]
  },
  {
   "cell_type": "markdown",
   "metadata": {},
   "source": [
    "Recordar que todas las variables de una función, son variables locales. Solamente existen a la hora que son invocadas en el stack memory. \n",
    "**DESAPILAR:**"
   ]
  },
  {
   "cell_type": "code",
   "execution_count": 4,
   "metadata": {},
   "outputs": [
    {
     "name": "stdout",
     "output_type": "stream",
     "text": [
      "1\n",
      "2\n",
      "3\n",
      "4\n",
      "5\n"
     ]
    }
   ],
   "source": [
    "def imprimir(x):\n",
    "    if x>0:\n",
    "        imprimir(x-1)\n",
    "        print(x) \n",
    "    #return none    \n",
    "\n",
    "imprimir(5)   "
   ]
  },
  {
   "cell_type": "markdown",
   "metadata": {},
   "source": [
    "### EJERCICIOS"
   ]
  },
  {
   "cell_type": "code",
   "execution_count": 5,
   "metadata": {},
   "outputs": [
    {
     "name": "stdout",
     "output_type": "stream",
     "text": [
      "60\n"
     ]
    }
   ],
   "source": [
    "# EJERCICIO N°1:\n",
    "# Sumar los elementos de la lista\n",
    "\n",
    "l=[10,20,30]\n",
    "# s= l[0] + [20,30]\n",
    "#          s= 30 + [30]\n",
    "#                  s= 60 + 0    \n",
    "def sumar(lista):\n",
    "    if lista==[]:\n",
    "        s=0\n",
    "    else:\n",
    "        s=lista[0] + sumar(lista[1:]) # 10 + [20,30] -> 10 + 20 + [30]\n",
    "    return s\n",
    "\n",
    "print(sumar(l))"
   ]
  },
  {
   "cell_type": "code",
   "execution_count": 6,
   "metadata": {},
   "outputs": [
    {
     "name": "stdout",
     "output_type": "stream",
     "text": [
      "10\n",
      "9\n",
      "8\n",
      "7\n",
      "6\n",
      "5\n",
      "4\n",
      "3\n",
      "2\n",
      "1\n",
      "0\n"
     ]
    }
   ],
   "source": [
    "# EJERCICIO N°2\n",
    "# Decrementamos números con while\n",
    "\n",
    "def decre(n):\n",
    "    while n>=0:\n",
    "        print(n)\n",
    "        n=n-1\n",
    "    #return none    \n",
    "decre(10)"
   ]
  },
  {
   "cell_type": "code",
   "execution_count": 7,
   "metadata": {},
   "outputs": [
    {
     "name": "stdout",
     "output_type": "stream",
     "text": [
      "10\n",
      "9\n",
      "8\n",
      "7\n",
      "6\n",
      "5\n",
      "4\n",
      "3\n",
      "2\n",
      "1\n",
      "0\n",
      "fin\n"
     ]
    }
   ],
   "source": [
    "# EJERCICIO N°3\n",
    "# Decrementar números apartir del 10 con recursividad\n",
    "\n",
    "def decre(n):\n",
    "    #caso base\n",
    "    if n<0:\n",
    "        print('fin')\n",
    "    #caso recursivo\n",
    "    else:\n",
    "        print(n)\n",
    "        n=n-1\n",
    "        decre(n)\n",
    "    #return none\n",
    "    \n",
    "decre(10)    "
   ]
  },
  {
   "cell_type": "code",
   "execution_count": 1,
   "metadata": {},
   "outputs": [
    {
     "name": "stdout",
     "output_type": "stream",
     "text": [
      "32768\n"
     ]
    }
   ],
   "source": [
    "# EJERCICIO N°4\n",
    "# HALLAR LA POTENCIA DE UN NÚMERO\n",
    "\n",
    "# 2^5=32 = 2^5 * 2^4 * 2^3 * 2^2 * 2^1 * 2^0\n",
    "def potencia(b,e):\n",
    "    if e==0:\n",
    "        m=1\n",
    "    else:\n",
    "        m=b*potencia(b,e-1)\n",
    "    return m\n",
    "w1=int(input('Ingrese la base: '))\n",
    "w2=int(input('Ingrese el exponente a elevar: '))\n",
    "print(w1,'^',w2,' = ',potencia(w1,w2))   "
   ]
  },
  {
   "cell_type": "code",
   "execution_count": 39,
   "metadata": {},
   "outputs": [
    {
     "name": "stdout",
     "output_type": "stream",
     "text": [
      "Ingrese el número del cual desea saber su factorial: 3\n",
      "3 ! =  6\n"
     ]
    }
   ],
   "source": [
    "# EJERCICIO N°5\n",
    "# HALLAR EL FACTORIAL DE UN NÚMERO\n",
    "\n",
    "def factorial(n):\n",
    "    #caso base\n",
    "    if n==0:\n",
    "        m=1\n",
    "        return m\n",
    "    #caso recursivo\n",
    "    else:\n",
    "        s=n*factorial(n-1)\n",
    "    return s\n",
    "w=int(input('Ingrese el número del cual desea saber su factorial: '))\n",
    "print(w,'! = ',factorial(w))"
   ]
  },
  {
   "cell_type": "code",
   "execution_count": null,
   "metadata": {},
   "outputs": [],
   "source": []
  }
 ],
 "metadata": {
  "kernelspec": {
   "display_name": "Python 3 (ipykernel)",
   "language": "python",
   "name": "python3"
  },
  "language_info": {
   "codemirror_mode": {
    "name": "ipython",
    "version": 3
   },
   "file_extension": ".py",
   "mimetype": "text/x-python",
   "name": "python",
   "nbconvert_exporter": "python",
   "pygments_lexer": "ipython3",
   "version": "3.9.7"
  }
 },
 "nbformat": 4,
 "nbformat_minor": 4
}
