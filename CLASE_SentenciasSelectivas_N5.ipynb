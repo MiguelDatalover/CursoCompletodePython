{
 "cells": [
  {
   "cell_type": "markdown",
   "metadata": {},
   "source": [
    "# PROGRAMACIÓN ESTRUCTURAL\n",
    "Por ahora veremos uno de los paradigmas de programación más recurrente por los programadores.\n",
    "Podemos decir que la programación estructural se dividen en tres estructuras:\n",
    "* **ESTRUCTURA SECUENCIAL**: Las instrucciones se ejecutan de arriba hacia abajo de forma secuencial u ordenada( una sola dirección ).\n",
    "* **ESTRUCTURA CONDICIONAL**: Tenemos una toma de decisión, la cual nos obliga a decidir a tomar más de un set de instrucciones diferentes, dependiendo de la veracidad de la condición.\n",
    "* **ESTRUCTURA REPETITIVA O BUCLE**: Las instrucciones dejan de ejecutarse de manera secuencial en el momento que aparece el bucle."
   ]
  },
  {
   "cell_type": "markdown",
   "metadata": {},
   "source": [
    "> Hasta ahora hemos visualizado ejercicios del tipo secuencial, pero ahora veremos a los de tipo condicional. El objetivo acá es tomar desiciones para realizar ciertas instrucciones. Para eso nesecitamos a las sentencias condicionales o de bifurcación, como lo son: if/else."
   ]
  },
  {
   "cell_type": "markdown",
   "metadata": {},
   "source": [
    "## SENTENCIA IF "
   ]
  },
  {
   "cell_type": "markdown",
   "metadata": {},
   "source": [
    "Es una estructura condicional que permite tomar decisiones al evaluar condiciones.\n",
    "\n",
    "Las condiciones son expresiones lógicas que tienen como resultado True o False."
   ]
  },
  {
   "cell_type": "markdown",
   "metadata": {},
   "source": [
    "### SINTAXIS\n",
    "\n",
    "La estructura \"if\" tiene la siguiente sintaxis:\n",
    "\n",
    "if [condición]:\n",
    "    \n",
    "    cuerpo\n",
    "    \n",
    "    \n",
    "    \n",
    "Tome en cuenta que:\n",
    "\n",
    ">      Se debe reemplazar [condición] por alguna expresión lógica.\n",
    ">      Se debe escribir dos puntos después de la condición.\n",
    ">      Todo el cuerpo debe tener un sangrado (identación).\n",
    ">      El cuerpo es el conjunto de órdenes a ejecutar solo si la condición es True.\n",
    "      \n",
    "Observe los siguientes ejemplos:"
   ]
  },
  {
   "cell_type": "code",
   "execution_count": null,
   "metadata": {},
   "outputs": [],
   "source": [
    "# La condición debe tener un resultado verdadero o True\n",
    "if 5<7:\n",
    "    print('hola Amiguitos')"
   ]
  },
  {
   "cell_type": "code",
   "execution_count": null,
   "metadata": {},
   "outputs": [],
   "source": [
    "semaforo = \"verde\"\n",
    "\n",
    "if semaforo == \"verde\":\n",
    "    print(\"cruzar la calle\")\n",
    "    #.............................\n",
    "    #..... cuerpo del if .........\n",
    "    #.............................\n",
    "\n",
    "#Pruebe cambiar el valor de la variable semaforo a \"verde\""
   ]
  },
  {
   "cell_type": "markdown",
   "metadata": {},
   "source": [
    "El código anterior devuelve el texo \"cruzar la calle\" solo si la variable \"semaforo\" es igual a la cadena de texto \"verde\". De lo contrario no se ejecuta ninguna acción. \n",
    "\n",
    "Tenga en cuenta que el cuerpo de la estructura puede tener muchas líneas y que la forma de indicar el fin de la estructura \"if\" es retirar el sangrado."
   ]
  },
  {
   "cell_type": "code",
   "execution_count": null,
   "metadata": {},
   "outputs": [],
   "source": [
    "semaforo = \"rojo\"\n",
    "\n",
    "if semaforo == \"verde\":\n",
    "    print(\"cruzar la calle\")\n",
    "    #cuerpo\n",
    "    print(\"dentro de la sentencia if\")\n",
    "# Ya no tenemos identación, asi que estamos fuera del if\n",
    "print(\"fuera de la sentencia if\")"
   ]
  },
  {
   "cell_type": "markdown",
   "metadata": {},
   "source": [
    "En el siguiente ejemplo se evaluará si un número es positivo o no."
   ]
  },
  {
   "cell_type": "code",
   "execution_count": null,
   "metadata": {},
   "outputs": [],
   "source": [
    "numero = 50\n",
    "\n",
    "if numero > 0:\n",
    "    print(\"numero positivo\")"
   ]
  },
  {
   "cell_type": "code",
   "execution_count": null,
   "metadata": {},
   "outputs": [],
   "source": [
    "if 8 in [7,8]:\n",
    "    print('si')"
   ]
  },
  {
   "cell_type": "code",
   "execution_count": null,
   "metadata": {},
   "outputs": [],
   "source": [
    "8 in [7,8]"
   ]
  },
  {
   "cell_type": "code",
   "execution_count": null,
   "metadata": {},
   "outputs": [],
   "source": [
    "# OPERADORES ARITMÉTICOS > OPERADORES RELACIONALES > OPERADORES LÓGICOS > OPERADORES DE ASIGNACION,INCREMENTO,DECREMENTO\n",
    "(7>8) or not(8 in [7,8]) "
   ]
  },
  {
   "cell_type": "markdown",
   "metadata": {},
   "source": [
    "## SENTENCIA IF / ELSE"
   ]
  },
  {
   "cell_type": "markdown",
   "metadata": {},
   "source": [
    "La palabra clave else acompaña a \"if\". Se traduce como \"sino\". Permite definir qué acciones se tomarán si la condición de “if” no se cumple.\n",
    "\n",
    "Su sintaxis es la siguiente:\n",
    "\n",
    "if [condición]:\n",
    "\n",
    "    cuerpo (órdenes si la condición es True)\n",
    "else:\n",
    "\n",
    "    cuerpo (órdenes si la condición es False)\n",
    "    \n",
    "    \n",
    "Observe el ejemplo:"
   ]
  },
  {
   "cell_type": "code",
   "execution_count": 14,
   "metadata": {},
   "outputs": [
    {
     "name": "stdout",
     "output_type": "stream",
     "text": [
      "no cruzar la calle\n"
     ]
    }
   ],
   "source": [
    "semaforo = \"rojo\"\n",
    "if semaforo == \"verde\":\n",
    "    #Bloque1\n",
    "    print(\"cruzar la calle\")\n",
    "    #\n",
    "    #\n",
    "else:\n",
    "    #Bloque2\n",
    "    print(\"no cruzar la calle\")\n",
    "    #\n",
    "    #"
   ]
  },
  {
   "cell_type": "markdown",
   "metadata": {},
   "source": [
    "## RECORDANDO A LA FUNCIÓN input( )"
   ]
  },
  {
   "cell_type": "markdown",
   "metadata": {},
   "source": [
    "A continuación aprenderemos a utilzar la función input() para solicitar datos por teclado y así tener códigos más dinámicos."
   ]
  },
  {
   "cell_type": "code",
   "execution_count": null,
   "metadata": {},
   "outputs": [],
   "source": [
    "#la funcion input() sirve para ingresar datos por teclado\n",
    "nombre = input(\"Ingrese su nombre: \")\n",
    "print(nombre)\n",
    "print(type(nombre))"
   ]
  },
  {
   "cell_type": "markdown",
   "metadata": {},
   "source": [
    "La función input tiene la particularidad de que recibe datos solo en formato de cadena de texto (str). Por lo tanto si lo que se desea es recibir datos numéricos deberá convertir el texto a dato númerico con la función int() o float(). De igual manera si necesita convertirlo a algún otro tipo de dato deberá indicarlo en el código."
   ]
  },
  {
   "cell_type": "code",
   "execution_count": null,
   "metadata": {},
   "outputs": [],
   "source": [
    "# sin convertir a entero\n",
    "edad = int(input(\"Ingresa tu edad: \"))\n",
    "print(edad)\n",
    "print(type (edad))\n",
    "print(edad-18)"
   ]
  },
  {
   "cell_type": "code",
   "execution_count": null,
   "metadata": {},
   "outputs": [],
   "source": [
    "# conversión a entero\n",
    "edad = float(input(\"Ingresa tu edad: \"))\n",
    "print(edad)\n",
    "print(type (edad))\n",
    "# al ser de tipo flotante ahora puede operarse con otros números\n",
    "print(edad + 10)"
   ]
  },
  {
   "cell_type": "markdown",
   "metadata": {},
   "source": [
    "Se usará la función input para evaluar los diferentes casos en las estructuras \"if\""
   ]
  },
  {
   "cell_type": "code",
   "execution_count": 15,
   "metadata": {},
   "outputs": [
    {
     "name": "stdin",
     "output_type": "stream",
     "text": [
      "Ingresa tu edad:  18\n"
     ]
    },
    {
     "name": "stdout",
     "output_type": "stream",
     "text": [
      "eres mayor de edad\n"
     ]
    }
   ],
   "source": [
    "edad = int(input(\"Ingresa tu edad: \"))\n",
    "if edad >= 18:\n",
    "    print(\"eres mayor de edad\")\n",
    "else:\n",
    "    print(\"eres menor de edad\")"
   ]
  },
  {
   "cell_type": "code",
   "execution_count": 37,
   "metadata": {},
   "outputs": [
    {
     "name": "stdout",
     "output_type": "stream",
     "text": [
      "a\n",
      "a\n",
      "a\n",
      "a\n",
      "c\n",
      "b\n",
      "b\n",
      "b\n",
      "b\n"
     ]
    }
   ],
   "source": [
    "a=[1,2,3,4,5,6,7,8,9]\n",
    "for x in a:\n",
    "    if x<5:\n",
    "        print('a')\n",
    "    elif x>5:\n",
    "        print('b')\n",
    "    else:\n",
    "        print('c')"
   ]
  },
  {
   "cell_type": "markdown",
   "metadata": {},
   "source": [
    "## SIMPLIFICANDO LAS SENTENCIAS CONDICIONALES ?"
   ]
  },
  {
   "cell_type": "code",
   "execution_count": 38,
   "metadata": {},
   "outputs": [
    {
     "name": "stdout",
     "output_type": "stream",
     "text": [
      "2 es mayor que 1\n"
     ]
    }
   ],
   "source": [
    "# No es recomendable simplificar estos tipos de estructuras.\n",
    "# Pero si es una toma de desición simple, se puede hacer.\n",
    "\n",
    "# SIMPLIFICACIÓN DE LA SENTENCIA IF\n",
    "a=2\n",
    "b=1\n",
    "if a>b: print(a,'es mayor que',b)"
   ]
  },
  {
   "cell_type": "code",
   "execution_count": 42,
   "metadata": {},
   "outputs": [
    {
     "name": "stdout",
     "output_type": "stream",
     "text": [
      "4 es mayor que 2\n"
     ]
    }
   ],
   "source": [
    "# SIMPLIFICACIÓN DE LA SENTENCIA IF/ELSE\n",
    "# sintaxis:\n",
    "#     espresion1 if (condicion) else expresion2\n",
    "\n",
    "a=2\n",
    "b=4\n",
    "print(a,'es mayor que',b) if a>b else print(b,'es mayor que',a)"
   ]
  },
  {
   "cell_type": "markdown",
   "metadata": {},
   "source": [
    "## SENTENCIA IF / ELIF / ELSE"
   ]
  },
  {
   "cell_type": "markdown",
   "metadata": {},
   "source": [
    "Python acepta estructuras más compleja si se utiliza la palabra clave “elif”, la cual permite introducir nuevas condiciones y bloques de acciones. Se pueden agregar tantas condiciones como sean necesarias agregando un \"elif\" y un bloque de órdenes por cada vez.\n",
    "\n",
    "Observe los ejemplos:"
   ]
  },
  {
   "cell_type": "code",
   "execution_count": null,
   "metadata": {},
   "outputs": [],
   "source": [
    "#Calificacion A si nota > 15, B si nota >= 11 y <=15, C si nota es < 11 \n",
    "nota = float(input(\"Ingresa tu nota: \"))\n",
    "if nota > 15:\n",
    "    print(\"Tu calificación es A\")\n",
    "elif nota >= 11:\n",
    "    print(\"Tu calificación es B\")\n",
    "else:\n",
    "    print(\"Tu calificación es C\")\n"
   ]
  },
  {
   "cell_type": "code",
   "execution_count": null,
   "metadata": {},
   "outputs": [],
   "source": [
    "#Se pueden añadir tantos elif como sean necesarios\n",
    "x = int(input(\"Ingresa el valor de x: \")) \n",
    "y = int(input(\"Ingresa el valor de y: \")) \n",
    "operacion = input(\"Ingresa la operación que quiere realizar: \")\n",
    "if operacion == \"suma\":\n",
    "     print(x+y)\n",
    "elif operacion == \"multiplicacion\":\n",
    "    print(x*y)\n",
    "elif operacion == \"potencia\":\n",
    "    print(x**y)\n",
    "elif operacion == \"division\":\n",
    "    print(x/y)\n",
    "else:\n",
    "    mensaje = \"No hay soporte para el tipo de operación indicado\"\n",
    "    print(mensaje)"
   ]
  },
  {
   "cell_type": "markdown",
   "metadata": {},
   "source": [
    "Las estructuras condicionales, al igual que cualquier otra, puede tener múltiples niveles, por lo que es común encontrar estructuras condicionales dentro de otras."
   ]
  },
  {
   "cell_type": "code",
   "execution_count": null,
   "metadata": {},
   "outputs": [],
   "source": [
    "# Calificacion A si nota > 15, B si nota >= 11, C si nota es < 11 \n",
    "# Se mejora el algoritmo anterior\n",
    "nota = float(input(\"Ingresa tu nota: \"))\n",
    "if nota <= 20 and nota >= 0:\n",
    "    if nota > 15:\n",
    "        print(\"Tu calificación es A\")\n",
    "    elif nota >= 11:\n",
    "        print(\"Tu calificación es B\")\n",
    "    else:\n",
    "        print(\"Tu calificación es C\")\n",
    "else:\n",
    "    print(\"nota fuera de rango\")"
   ]
  },
  {
   "cell_type": "markdown",
   "metadata": {},
   "source": [
    "## EJERCICIOS PLANTEADOS\n",
    "\n",
    "Resuelva los siguientes ejercicios:\n",
    "\n",
    "### EJERCICIO N°1:\n",
    "\n",
    "En un supermercado se ofrece un descuento del 10% si la compra supera el monto de 100 soles. Escriba un código que devuelva la cantidad total a pagar considerando el descuento."
   ]
  },
  {
   "cell_type": "code",
   "execution_count": null,
   "metadata": {},
   "outputs": [],
   "source": [
    "# Si la compra es mayor a 100 soles, obtengo un descuento del 10%\n",
    "# Existen dos posibilidades:\n",
    "\n",
    "# que el monto sea mayor a 100 y se realice el descuento de 10%\n",
    "# que el monto sea menor a 100 y no se realice ningun descuento\n"
   ]
  },
  {
   "cell_type": "code",
   "execution_count": 6,
   "metadata": {},
   "outputs": [
    {
     "name": "stdin",
     "output_type": "stream",
     "text": [
      "Ingrese la cantidad total en soles que gasto:  250\n"
     ]
    },
    {
     "name": "stdout",
     "output_type": "stream",
     "text": [
      "felicidades aplica al decuento!!!! el precio a pagar es: s/ 225.00\n"
     ]
    }
   ],
   "source": [
    "#SOLUCION:\n",
    "precio_total=float(input('Ingrese la cantidad total en soles que gasto: '))\n",
    "descuento=0.9\n",
    "if precio_total>100:\n",
    "    precio_a_pagar = precio_total * descuento\n",
    "    print('{} {} s/ {:.2f}'.format('felicidades aplica al decuento!!!!','el precio a pagar es:',precio_a_pagar))\n",
    "elif precio_total>0 and precio_total<=100:\n",
    "    precio_a_pagar = precio_total\n",
    "    print('{} {} s/ {:.2f}'.format(':( No aplica al decuento!!!!','el precio a pagar es:',precio_a_pagar))\n",
    "else:\n",
    "    print('ERROR, cantidad no válida')"
   ]
  },
  {
   "cell_type": "markdown",
   "metadata": {},
   "source": [
    "### EJERCICIO N°2"
   ]
  },
  {
   "cell_type": "markdown",
   "metadata": {},
   "source": [
    "La competencia del primer supermercado ofrece un descuento similar pero con una condición adicional: el monto máximo de descuento es de 20 soles. "
   ]
  },
  {
   "cell_type": "code",
   "execution_count": 13,
   "metadata": {},
   "outputs": [],
   "source": [
    "# Si la compra es mayor a 100 soles, obtengo un descuento del 10%\n",
    "# Ahora el monto máximo de descuento es 20 soles\n",
    "# Con esta nueva condición se crea una tercera posibilidad:"
   ]
  },
  {
   "cell_type": "code",
   "execution_count": null,
   "metadata": {},
   "outputs": [],
   "source": [
    "# SOLUCIÓN:\n",
    "precio_total=float(input('Ingrese la cantidad total en soles: '))\n",
    "Descuento=0.9\n",
    "if precio_total>100:\n",
    "    precio_a_pagar = precio_total * Descuento\n",
    "    descuento=precio_total-precio_a_pagar\n",
    "    if descuento>=20:\n",
    "        print('Usted ha alcanzado el límite de descuento de s/ 20.00 soles, su precio a pagar fue:',precio_a_pagar)\n",
    "    else:\n",
    "        print('¡¡¡Felicidades!!! usted aplica al decuento, el monto a pagar es: s/',precio_a_pagar) \n",
    "elif precio_total<=100:\n",
    "        precio_a_pagar = precio_total\n",
    "        print('No aplica al descuento, el monto a pagar es: s/',precio_a_pagar)\n",
    "else:\n",
    "    print('ERROR, cantidad no válida')"
   ]
  },
  {
   "cell_type": "markdown",
   "metadata": {},
   "source": [
    "### EJERCICIO N°3"
   ]
  },
  {
   "cell_type": "code",
   "execution_count": 9,
   "metadata": {},
   "outputs": [],
   "source": [
    "# Escriba un programa para un valor entero y muestre su valor absoluto."
   ]
  },
  {
   "cell_type": "code",
   "execution_count": 12,
   "metadata": {},
   "outputs": [
    {
     "name": "stdin",
     "output_type": "stream",
     "text": [
      "Ingrese un número entero:  0\n"
     ]
    },
    {
     "name": "stdout",
     "output_type": "stream",
     "text": [
      "el valor absoluto de 0 es: 0 \n"
     ]
    }
   ],
   "source": [
    "# SOLUCIÓN:\n",
    "x=int(input('Ingrese un número entero: '))\n",
    "if x==0:\n",
    "    print('el valor absoluto de', x,'es: 0 ')\n",
    "elif x>0:\n",
    "    print('el valor absoluto de', x,'es: ',x)\n",
    "else:\n",
    "    print('el valor absoluto de', x,'es: ',x*(-1))"
   ]
  },
  {
   "cell_type": "markdown",
   "metadata": {},
   "source": [
    "### EJERCICIO N°4"
   ]
  },
  {
   "cell_type": "code",
   "execution_count": 17,
   "metadata": {},
   "outputs": [],
   "source": [
    "# Pedir al usuario que ingrese los nombre de dos personas, luego imprimir ' coincidencia ',\n",
    "# si el nombre de ambas personas comienzan con la misma letra o terminan con la misma letra.\n",
    "# De lo contrario imprimir ' no hay coincidencia '"
   ]
  },
  {
   "cell_type": "code",
   "execution_count": 23,
   "metadata": {},
   "outputs": [
    {
     "name": "stdin",
     "output_type": "stream",
     "text": [
      "Ingrese el nombre de la primera persona:  kevin\n",
      "Ingrese el nombre de la segunda persona:  juan\n"
     ]
    },
    {
     "name": "stdout",
     "output_type": "stream",
     "text": [
      "¡¡¡¡ COINCIDENCIA :)\n"
     ]
    }
   ],
   "source": [
    "x=input('Ingrese el nombre de la primera persona: ')\n",
    "y=input('Ingrese el nombre de la segunda persona: ')\n",
    "x1=x.lower()\n",
    "y1=y.lower()\n",
    "if x1[0]==y1[0] or x1[-1]==y1[-1]:\n",
    "    print('¡¡¡¡ COINCIDENCIA :)')\n",
    "else:\n",
    "    print('NO HAY COINCIDENCIA :(')"
   ]
  },
  {
   "cell_type": "markdown",
   "metadata": {},
   "source": [
    "### EJERCICIO N°5"
   ]
  },
  {
   "cell_type": "code",
   "execution_count": 5,
   "metadata": {},
   "outputs": [],
   "source": [
    "# Crear un programa que permita elegir su candidato favorito. Las posibilidades\n",
    "# son que el candidato A es de color: rojo,  el candidato B es de color: verde y\n",
    "# el candidato C es de color: azul. Al final mostrar en pantalla el color del\n",
    "# candidato por el cual voto y error y no es ninguno."
   ]
  },
  {
   "cell_type": "code",
   "execution_count": 4,
   "metadata": {},
   "outputs": [
    {
     "name": "stdout",
     "output_type": "stream",
     "text": [
      "Ingrese usted el símbolo de su candidato a elegir: b\n",
      "Usted ha votado por el partido de color: verde\n"
     ]
    }
   ],
   "source": [
    "c=input('Ingrese usted el símbolo de su candidato a elegir: ')\n",
    "m=['rojo','verde','azul']\n",
    "if c.upper()=='A':\n",
    "    print('Usted ha votado por el partido de color:',m[-3])\n",
    "elif c.upper()=='B':\n",
    "    print('Usted ha votado por el partido de color:',m[-2])\n",
    "elif c.upper()=='C':\n",
    "    print('Usted ha votado por el partido de color:',m[-1])\n",
    "else:\n",
    "    print('OPCIÓN ERRONEA')"
   ]
  },
  {
   "cell_type": "markdown",
   "metadata": {},
   "source": [
    "### EJERCICIO N°6"
   ]
  },
  {
   "cell_type": "code",
   "execution_count": null,
   "metadata": {},
   "outputs": [],
   "source": [
    "# Ingrese una letra para saber si es vocal o si es consonante. Si el dato\n",
    "# contiene más de una letra, imprimir que se trata de un str( más de un caracter )."
   ]
  },
  {
   "cell_type": "code",
   "execution_count": 21,
   "metadata": {},
   "outputs": [
    {
     "name": "stdout",
     "output_type": "stream",
     "text": [
      "\n",
      "------------------- BIENVENIDOS AL DETECTOR DE VOCALES -----------------\n",
      "\n",
      "Ingrese un objeto del tipo str para su verificación: e\n",
      "!! Correcto, su entra es válido.\n",
      "La letra que ingreso es una vocal :)\n"
     ]
    }
   ],
   "source": [
    "print('\\n------------------- BIENVENIDOS AL DETECTOR DE VOCALES -----------------')\n",
    "z=input('\\nIngrese un objeto del tipo str para su verificación: ')\n",
    "if  z.isalpha():\n",
    "    print('!! Correcto, su entra es válido.')\n",
    "    if len(z)<2:\n",
    "        if z.lower()=='a' or z.lower()=='e' or z.lower()=='i' or z.lower()=='o' or z.lower()=='u':\n",
    "            print('La letra que ingreso es una vocal :)')\n",
    "        else:\n",
    "            print('La letra que ingreso es una consonante y no una vocal :)')\n",
    "    else:\n",
    "        print('Su caracter que ingreso no califica como letra, sino más bien como string :(')\n",
    "else: \n",
    "    print('Incorrecto, en este programa solo se procesa strings, no números.')"
   ]
  },
  {
   "cell_type": "markdown",
   "metadata": {},
   "source": [
    "### EJERCICIO N°7"
   ]
  },
  {
   "cell_type": "code",
   "execution_count": null,
   "metadata": {},
   "outputs": [],
   "source": [
    "# Crear un programa para determinar si el año que ingresamos es bisiesto."
   ]
  },
  {
   "cell_type": "code",
   "execution_count": 36,
   "metadata": {},
   "outputs": [
    {
     "name": "stdout",
     "output_type": "stream",
     "text": [
      "\n",
      "------------------ AÑOS BISIESTOS ----------------------------\n",
      "\n",
      "Ingrese un año cualquiera, para saber si es bisiesto: 2000\n",
      "El año que ingreso es bisiesto\n"
     ]
    }
   ],
   "source": [
    "print('\\n------------------ AÑOS BISIESTOS ----------------------------\\n')\n",
    "x=int(input('Ingrese un año cualquiera, para saber si es bisiesto: '))\n",
    "if x%4==0 and (x%100!=0 or x%400==0):\n",
    "      print('El año que ingreso es bisiesto')\n",
    "else:\n",
    "      print('El año que ingreso no es bisiesto')"
   ]
  }
 ],
 "metadata": {
  "kernelspec": {
   "display_name": "Python 3 (ipykernel)",
   "language": "python",
   "name": "python3"
  },
  "language_info": {
   "codemirror_mode": {
    "name": "ipython",
    "version": 3
   },
   "file_extension": ".py",
   "mimetype": "text/x-python",
   "name": "python",
   "nbconvert_exporter": "python",
   "pygments_lexer": "ipython3",
   "version": "3.9.7"
  }
 },
 "nbformat": 4,
 "nbformat_minor": 4
}
