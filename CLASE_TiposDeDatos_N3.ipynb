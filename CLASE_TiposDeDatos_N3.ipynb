{
 "cells": [
  {
   "cell_type": "markdown",
   "metadata": {},
   "source": [
    "# PROFUNDIZANDO LOS TIPOS DE DATOS EN PYTHON"
   ]
  },
  {
   "cell_type": "markdown",
   "metadata": {},
   "source": [
    "En Python existen diferentes tipos de datos básicos, los cuales está definidos ya por defecto: enteros (int), flotantes (float), complejos (complex), cadenas de caracteres (str), booleanos (bool) que es un subconjunto de los enteros, listas (list), tuplas (tuple), diccionarios (dict), rangos (range) y conjuntos (set).\n",
    "\n",
    "Además de estos tipos de datos básicos, se pueden importar bibliotecas que definen nuevas \"clases\" las cuales introducen nuevos tipos de datos, por ejemplo la biblioteca datetime introduce los tipos de datos: date, time, datetime, timedelta, tzinfo y timezone o la biblioteca math que tiene a sin, abs, factorial, log, etc.\n",
    "\n",
    "Por último, se puede escribir un código en el cual se definan nuevas \"clases\" para introducir nuevos tipos de datos que necesite para el desarrollo de su software. Más adelante, en el apartado de \"clases y objetos\" se verá a detalle cómo definir nuevos tipos de datos a los que se llamará objetos.\n"
   ]
  },
  {
   "cell_type": "markdown",
   "metadata": {},
   "source": [
    "## TIPOS DE DATOS NUMÉRICOS"
   ]
  },
  {
   "cell_type": "markdown",
   "metadata": {},
   "source": [
    "### ENTEROS (int)"
   ]
  },
  {
   "cell_type": "markdown",
   "metadata": {},
   "source": [
    "Corresponden a los números enteros positivos y negativos, e incluyen al 0. "
   ]
  },
  {
   "cell_type": "code",
   "execution_count": null,
   "metadata": {
    "jupyter": {
     "outputs_hidden": true
    },
    "tags": []
   },
   "outputs": [],
   "source": [
    "# int?\n",
    "help(int)"
   ]
  },
  {
   "cell_type": "code",
   "execution_count": null,
   "metadata": {},
   "outputs": [],
   "source": [
    "a = 10\n",
    "print(a,'\\n')\n",
    "print(id(a),'\\n')\n",
    "print(type(a))\n",
    "# la función type devuelve la clase o tipo del objeto.\n",
    "# Observe que en la útima línea se ha utilizado una función dentro de otra función."
   ]
  },
  {
   "cell_type": "markdown",
   "metadata": {},
   "source": [
    "Si multiplica dos datos enteros, el resultado será otro dato entero."
   ]
  },
  {
   "cell_type": "code",
   "execution_count": null,
   "metadata": {},
   "outputs": [],
   "source": [
    "x = 5\n",
    "X = 10\n",
    "r = x*X\n",
    "print(r)\n",
    "print(type(x))"
   ]
  },
  {
   "cell_type": "markdown",
   "metadata": {},
   "source": [
    "### VEAMOS ALGUNOS MÉTODOS DEL INT\n",
    "**int.bit_length( ):**\n",
    "Retorna el número de bits necesarios para representar un número entero, excluyendo el bit de signo y los ceros a la izquierda\n",
    "\n",
    "**int.bit_count( ):**\n",
    "Devuelve el número de unos en la representación binaria del valor absoluto del entero. Esto también se conoce como recuento de población.\n",
    "\n",
    "**int.as_integer_ratio( ):**\n",
    "Retorna una pareja de números enteros cuya proporción es igual a la del numero entero original, y con un denominador positivo. En el caso de números enteros, la proporción siempre es el número original y 1 en el denominador.\n"
   ]
  },
  {
   "cell_type": "code",
   "execution_count": 1,
   "metadata": {},
   "outputs": [
    {
     "name": "stdout",
     "output_type": "stream",
     "text": [
      "0b1100 \n",
      "\n",
      "4 \n",
      "\n",
      "(12, 1) \n",
      "\n"
     ]
    }
   ],
   "source": [
    "# APLICANDO ALGUNOS MÉTODOS DEL OBJECTO INT\n",
    "n=12\n",
    "x=n.bit_length()\n",
    "#y=n.bit_count() válido en la version 3.10\n",
    "z=n.as_integer_ratio()\n",
    "print(bin(n),'\\n')\n",
    "print(x,'\\n')\n",
    "#print(y,'\\n')\n",
    "print(z,'\\n')\n"
   ]
  },
  {
   "cell_type": "markdown",
   "metadata": {},
   "source": [
    "### FLOTANTES (float)"
   ]
  },
  {
   "cell_type": "markdown",
   "metadata": {},
   "source": [
    "Corresponden a los números que forman parte del conjunto de los reales. Se expresan como decimales o fracciones. "
   ]
  },
  {
   "cell_type": "code",
   "execution_count": null,
   "metadata": {
    "jupyter": {
     "outputs_hidden": true
    },
    "tags": []
   },
   "outputs": [],
   "source": [
    "help(float)"
   ]
  },
  {
   "cell_type": "code",
   "execution_count": null,
   "metadata": {},
   "outputs": [],
   "source": [
    "y = 0.52\n",
    "z = 8/3\n",
    "a = 9.7589357532\n",
    "print(type(y))\n",
    "print(type(z))\n",
    "print(type(a))"
   ]
  },
  {
   "cell_type": "markdown",
   "metadata": {},
   "source": [
    "Python tiene soporte para manejar diferentes tipos de datos numéricos, puede operar con enteros y flotantes."
   ]
  },
  {
   "cell_type": "code",
   "execution_count": null,
   "metadata": {},
   "outputs": [],
   "source": [
    "r2 = y + z - a\n",
    "print(r2)\n",
    "r3 = y*x\n",
    "print(r3)"
   ]
  },
  {
   "cell_type": "code",
   "execution_count": null,
   "metadata": {},
   "outputs": [],
   "source": [
    "r = 5.5 * 4\n",
    "print(type(r))"
   ]
  },
  {
   "cell_type": "markdown",
   "metadata": {},
   "source": [
    "### METODOS DEL FLOAT\n",
    "**float.is_integer( ):**\n",
    "Retorna True si el valor en coma flotante se puede representar sin perdida con un número entero, y False si no se puede.\n",
    "\n",
    "**float.hex( ):**\n",
    "Retorna la representación de un valor en coma flotante en forma de cadena de texto en hexadecimal. Para números finitos, la representación siempre empieza con el prefijo 0x, y con una p justo antes del exponente.\n",
    "\n",
    "**float.as_integer_ratio( ):**\n",
    "Retorna una pareja de números enteros cuya proporción es exactamente igual que la del valor en punto flotante original, con un denominador positivo."
   ]
  },
  {
   "cell_type": "code",
   "execution_count": 2,
   "metadata": {},
   "outputs": [
    {
     "name": "stdout",
     "output_type": "stream",
     "text": [
      "False \n",
      "\n",
      "(2455587696823763, 70368744177664) \n",
      "\n",
      "0x1.172b020c49ba6p+5 \n",
      "\n",
      "<class 'str'> \n",
      "\n",
      "False \n",
      "\n",
      "True \n",
      "\n"
     ]
    }
   ],
   "source": [
    "b=34.896\n",
    "c=3.9999999\n",
    "d=3.9999999999999999999999999999999999999\n",
    "x=b.is_integer()\n",
    "y=b.as_integer_ratio()\n",
    "z=b.hex()\n",
    "m=c.is_integer()\n",
    "n=d.is_integer()\n",
    "print(x,'\\n')\n",
    "print(y,'\\n')\n",
    "print(z,'\\n')\n",
    "print(type(z),'\\n')\n",
    "print(m,'\\n')\n",
    "print(n,'\\n')"
   ]
  },
  {
   "cell_type": "markdown",
   "metadata": {},
   "source": [
    "El resultado de operar datos flotantes con datos enteros resultará un dato flotante"
   ]
  },
  {
   "cell_type": "code",
   "execution_count": 3,
   "metadata": {},
   "outputs": [
    {
     "name": "stdout",
     "output_type": "stream",
     "text": [
      "22.799999999999997 \n",
      "\n",
      "22.0 \n",
      "\n",
      "<class 'float'> \n",
      "\n",
      "<class 'float'>\n"
     ]
    }
   ],
   "source": [
    "r4 = 6*3.8 # 22.8\n",
    "r5 = 5*4.4 # 22.0\n",
    "print(r4,'\\n')\n",
    "print(r5,'\\n')\n",
    "print(type(r4),'\\n')\n",
    "print(type(r5))"
   ]
  },
  {
   "cell_type": "markdown",
   "metadata": {},
   "source": [
    "En la celda anterior se observa que el resultado 22.80 se muestra como 22.799999999999, por lo que se estará preguntando: ¿Porque no se muestra el valor como tal? o si se ¿Puedo limitar la cantidad de decimales?\n",
    "\n",
    "Por defecto los números de tipo \" float \" están almacenados en un formato llamado IEEE-754, lo cual ocasiona que se expresen con una cantidad considerable de números decimales. Y es que el principal motivo es que los números flotante no se pueden representar en binario de forma exacta. Sin embargo, al mostrar sus datos como cadenas de caracteres puede formatear los datos con el método \" .format( ) \", el cual tiene la siguiente sintaxis:\n",
    "\n",
    "str.format(variable)"
   ]
  },
  {
   "cell_type": "markdown",
   "metadata": {},
   "source": [
    "## MÉTODO DE FORMATEO ( str.format( ) )"
   ]
  },
  {
   "cell_type": "markdown",
   "metadata": {},
   "source": [
    "*link:* https://docs.python.org/es/3/library/string.html#string-formatting"
   ]
  },
  {
   "cell_type": "code",
   "execution_count": null,
   "metadata": {},
   "outputs": [],
   "source": [
    "format?"
   ]
  },
  {
   "cell_type": "code",
   "execution_count": 10,
   "metadata": {},
   "outputs": [
    {
     "name": "stdout",
     "output_type": "stream",
     "text": [
      "Mi resultado de 22.799999999999997 es 22.80\n"
     ]
    }
   ],
   "source": [
    "r4 = 6*3.8 # 22.8\n",
    "print(\"Mi resultado de\",r4,\"es %.2f\" %r4 )"
   ]
  },
  {
   "cell_type": "code",
   "execution_count": 6,
   "metadata": {},
   "outputs": [
    {
     "name": "stdout",
     "output_type": "stream",
     "text": [
      "Mi resultado es 22.80\n"
     ]
    }
   ],
   "source": [
    "#r4 = 6*3.8 -> 22.8\n",
    "resultado = \"Mi resultado es {:.2f}\".format(r4)\n",
    "print(resultado)"
   ]
  },
  {
   "cell_type": "markdown",
   "metadata": {},
   "source": [
    "Dentro de la cadena de caracteres (str) se introducirán un par de llaves que indicarán el lugar en donde se introducirá la variable a al que se va a dar formato.\n",
    "\n",
    "Dentro de los paréntesis de format se escribe la variable que reemplazará a las llaves de la cadena de caracteres.\n",
    "\n",
    "Dentro de las llaves puede esciribir \" : . Nf \" donde N es el número de decimales que se mostrará en pantalla."
   ]
  },
  {
   "cell_type": "code",
   "execution_count": 5,
   "metadata": {},
   "outputs": [
    {
     "name": "stdout",
     "output_type": "stream",
     "text": [
      "Mi resultado es 22.799999999999997 \n",
      "\n",
      "Mi resultado es 22.8000000 \n",
      "\n",
      "Mi resultado es 100.00000\n"
     ]
    }
   ],
   "source": [
    "resultado1 = \"Mi resultado es {}\".format(r4)\n",
    "resultado2 = \"Mi resultado es {:.7f}\".format(r4)\n",
    "resultado3 = \"Mi resultado es {:.5f}\".format(100)\n",
    "\n",
    "print(resultado1,'\\n')\n",
    "print(resultado2,'\\n')\n",
    "print(resultado3)"
   ]
  },
  {
   "cell_type": "markdown",
   "metadata": {},
   "source": [
    "Puede revisar la documentación oficial de Python sobre las limitaciones de los números \"float\" en el siguiente link https://docs.python.org/es/3/tutorial/floatingpoint.html"
   ]
  },
  {
   "cell_type": "markdown",
   "metadata": {},
   "source": [
    "### COMPLEJOS (complex)"
   ]
  },
  {
   "cell_type": "markdown",
   "metadata": {},
   "source": [
    "Corresponden a los números complejos, definidos por una parte real y una parte imaginaria. Con el fin de representar la parte imaginaria, la variable j está definida por defecto como el número imaginario \"i\" que representa a la raiz de -1."
   ]
  },
  {
   "cell_type": "code",
   "execution_count": null,
   "metadata": {
    "jupyter": {
     "outputs_hidden": true
    },
    "tags": []
   },
   "outputs": [],
   "source": [
    "help(complex)"
   ]
  },
  {
   "cell_type": "code",
   "execution_count": null,
   "metadata": {},
   "outputs": [],
   "source": [
    "complejo = 8 + 5j\n",
    "print(id(complejo),'\\n')\n",
    "print(complejo,'\\n')\n",
    "print(type(complejo),'\\n')\n",
    "\n",
    "# METODO PARA COMPLEX\n",
    "a=complejo.conjugate()\n",
    "print(id(a),'\\n')\n",
    "print(a)"
   ]
  },
  {
   "cell_type": "markdown",
   "metadata": {},
   "source": [
    "Recuerde que si quiere utilizar número complejos se recomienda no utilizar la variable j para almacenar otro datos."
   ]
  },
  {
   "cell_type": "markdown",
   "metadata": {},
   "source": [
    "## BOLEANOS (bool)"
   ]
  },
  {
   "cell_type": "markdown",
   "metadata": {},
   "source": [
    "Los booleanos son: True (verdadero) y False (falso). Estos tipos de datos son muy útiles porque permiten realizar operaciones lógicas. "
   ]
  },
  {
   "cell_type": "code",
   "execution_count": null,
   "metadata": {
    "tags": []
   },
   "outputs": [],
   "source": [
    "#help(bool)\n",
    "bool?"
   ]
  },
  {
   "cell_type": "code",
   "execution_count": null,
   "metadata": {},
   "outputs": [],
   "source": [
    "T = True\n",
    "F = False\n",
    "print(T)\n",
    "print(type(T))\n",
    "print(F)\n",
    "print(type(F))"
   ]
  },
  {
   "cell_type": "markdown",
   "metadata": {},
   "source": [
    "El resultado de comparar dos números es un booleano:"
   ]
  },
  {
   "cell_type": "code",
   "execution_count": null,
   "metadata": {},
   "outputs": [],
   "source": [
    "b1 = 5 < 8\n",
    "print(b1)"
   ]
  },
  {
   "cell_type": "markdown",
   "metadata": {},
   "source": [
    "El resultado de operar de manera lógica dos booleanos es otro booleano:"
   ]
  },
  {
   "cell_type": "code",
   "execution_count": null,
   "metadata": {},
   "outputs": [],
   "source": [
    "b2 = True or False\n",
    "print(b2)"
   ]
  },
  {
   "cell_type": "markdown",
   "metadata": {},
   "source": [
    "True es equivalente a 1 y False es equivalente a 0. Puede utilizar booleanos para realizar operaciones matemáticas:"
   ]
  },
  {
   "cell_type": "code",
   "execution_count": 17,
   "metadata": {},
   "outputs": [
    {
     "name": "stdout",
     "output_type": "stream",
     "text": [
      "63\n",
      "0\n"
     ]
    }
   ],
   "source": [
    "r1 = (58 + 5) * True\n",
    "print(r1)\n",
    "r2 = (58 + 5) * False\n",
    "print(r2)"
   ]
  },
  {
   "cell_type": "markdown",
   "metadata": {},
   "source": [
    "### COMO EXPRESARIAMOS LAS SIGUIENTES OPERACIONES"
   ]
  },
  {
   "cell_type": "code",
   "execution_count": 18,
   "metadata": {},
   "outputs": [
    {
     "data": {
      "text/plain": [
       "False"
      ]
     },
     "execution_count": 18,
     "metadata": {},
     "output_type": "execute_result"
    }
   ],
   "source": [
    "# El número es múltiplo de 4 y tbm es negativo\n",
    "    #a%4==0 and a<0"
   ]
  },
  {
   "cell_type": "code",
   "execution_count": 22,
   "metadata": {},
   "outputs": [],
   "source": [
    "# Decidiste comprar un auto usado, pero debe cumplir ciertas condiciones:\n",
    "# El kilometraje debe ser menor a 30000 y el modelo debe estar entre 2015 y 2017\n",
    "    # m -> kilometraje\n",
    "    # n -> modelo\n",
    "    #m<30000 and ( n>2015 and n<2017 )"
   ]
  },
  {
   "cell_type": "code",
   "execution_count": 23,
   "metadata": {},
   "outputs": [],
   "source": [
    "# Una agrupación tiene ciertos requisitos para que cualquiera ingrese\n",
    "# debe tener más del 30% de estudios completos y no debe ser miembro de otro grupo\n",
    "    # porcentaje_ec><30 and not(miembro_agrupacion) "
   ]
  },
  {
   "cell_type": "markdown",
   "metadata": {},
   "source": [
    "## TIPOS DE DATOS ESTRUCTURA O DE COLECCIÓN"
   ]
  },
  {
   "cell_type": "markdown",
   "metadata": {},
   "source": [
    "[enlace del modelo de los datos](https://docs.python.org/es/3/reference/datamodel.html?highlight=mutabilidad)"
   ]
  },
  {
   "cell_type": "markdown",
   "metadata": {},
   "source": [
    "**LOS TIPOS INTEGRADOS BÁSICOS EN PYTHON**\n",
    "\n",
    "| TIPO | OBJETO |\n",
    "| :-------- | :------------- |\n",
    "| Secuencias Mutable | list |\n",
    "| Secuencias Inmutable | str, tuple |\n",
    "| Conjuntos | set |\n",
    "| Mapeos | dict |\n",
    "| Invocable | funciones y/o métodos|\n",
    "| Módulo | archivos .py|"
   ]
  },
  {
   "cell_type": "markdown",
   "metadata": {},
   "source": [
    "### CADENA DE CARACTERES (str)"
   ]
  },
  {
   "cell_type": "markdown",
   "metadata": {},
   "source": [
    "Se definen encerrando un texto con comillas simples, dobles o triples.\n",
    "\n",
    "Las comillas triples se utilizan para mensajes largos que tienen una exentesión de dos o más líneas."
   ]
  },
  {
   "cell_type": "code",
   "execution_count": null,
   "metadata": {
    "tags": []
   },
   "outputs": [],
   "source": [
    "#help(str)\n",
    "str?"
   ]
  },
  {
   "cell_type": "code",
   "execution_count": 34,
   "metadata": {},
   "outputs": [
    {
     "name": "stdout",
     "output_type": "stream",
     "text": [
      "hola\n",
      "<class 'str'>\n",
      "a\n",
      "<class 'str'>\n",
      "\n",
      "            Estimado, este es un ejemplo\n",
      "            Buenas noches .......\n",
      "            ....................\n",
      "            ....................\n",
      "            ...................\n",
      "            Saludos\n",
      "        \n",
      "<class 'str'>\n"
     ]
    }
   ],
   "source": [
    "mensaje = \"hola\"\n",
    "letra = \"a\"\n",
    "correo = \"\"\"\n",
    "            Estimado, este es un ejemplo\n",
    "            Buenas noches .......\n",
    "            ....................\n",
    "            ....................\n",
    "            ...................\n",
    "            Saludos\n",
    "        \"\"\"\n",
    "print(mensaje)\n",
    "print(type(mensaje))\n",
    "print(letra)\n",
    "print(type(letra))\n",
    "print(correo)\n",
    "print(type(correo))"
   ]
  },
  {
   "cell_type": "markdown",
   "metadata": {},
   "source": [
    "Observe que un único caracter también es de la clase str"
   ]
  },
  {
   "cell_type": "markdown",
   "metadata": {},
   "source": [
    "Las listas es un tipo de dato secuencia y por ende soporta la indexación y por ende el slacing. También por eso se puede estudiar su mutabilidad."
   ]
  },
  {
   "cell_type": "code",
   "execution_count": 37,
   "metadata": {},
   "outputs": [
    {
     "name": "stdout",
     "output_type": "stream",
     "text": [
      "L mgncó smsiprat u lcncmet \n",
      "\n",
      "imaginación y conocimiento \n",
      "\n"
     ]
    }
   ],
   "source": [
    "g = 'La imaginación es más importante que el conocimiento'\n",
    "print(g[::2],'\\n')\n",
    "print(g[3:14] +' y '+ g[40:],'\\n')"
   ]
  },
  {
   "cell_type": "code",
   "execution_count": 38,
   "metadata": {},
   "outputs": [
    {
     "ename": "TypeError",
     "evalue": "'str' object does not support item assignment",
     "output_type": "error",
     "traceback": [
      "\u001b[1;31m---------------------------------------------------------------------------\u001b[0m",
      "\u001b[1;31mTypeError\u001b[0m                                 Traceback (most recent call last)",
      "\u001b[1;32m~\\AppData\\Local\\Temp/ipykernel_6396/2438288487.py\u001b[0m in \u001b[0;36m<module>\u001b[1;34m\u001b[0m\n\u001b[0;32m      1\u001b[0m \u001b[1;31m# POR QUE DECIMOS QUE LAS LISTAS ES UN DATO DE TIPO SECUENCIAL PERO INMUTABLE\u001b[0m\u001b[1;33m\u001b[0m\u001b[1;33m\u001b[0m\u001b[0m\n\u001b[0;32m      2\u001b[0m \u001b[0mmensaje\u001b[0m \u001b[1;33m=\u001b[0m \u001b[1;34m\"hola\"\u001b[0m\u001b[1;33m\u001b[0m\u001b[1;33m\u001b[0m\u001b[0m\n\u001b[1;32m----> 3\u001b[1;33m \u001b[0mmensaje\u001b[0m\u001b[1;33m[\u001b[0m\u001b[1;36m0\u001b[0m\u001b[1;33m]\u001b[0m \u001b[1;33m=\u001b[0m \u001b[1;34m'H'\u001b[0m\u001b[1;33m\u001b[0m\u001b[1;33m\u001b[0m\u001b[0m\n\u001b[0m\u001b[0;32m      4\u001b[0m \u001b[0mprint\u001b[0m\u001b[1;33m(\u001b[0m\u001b[0mmensaje\u001b[0m\u001b[1;33m)\u001b[0m\u001b[1;33m\u001b[0m\u001b[1;33m\u001b[0m\u001b[0m\n",
      "\u001b[1;31mTypeError\u001b[0m: 'str' object does not support item assignment"
     ]
    }
   ],
   "source": [
    "# POR QUE DECIMOS QUE LAS LISTAS ES UN DATO DE TIPO SECUENCIAL PERO INMUTABLE\n",
    "mensaje = \"hola\"\n",
    "mensaje[0] = 'H'\n",
    "print(mensaje)"
   ]
  },
  {
   "cell_type": "markdown",
   "metadata": {},
   "source": [
    "### LISTAS (list)"
   ]
  },
  {
   "cell_type": "markdown",
   "metadata": {},
   "source": [
    "Son un conjunto de datos ordenados. Se definen encerrando los datos entre corchetes \"[ ]\" y separándolos por comas.  "
   ]
  },
  {
   "cell_type": "code",
   "execution_count": null,
   "metadata": {},
   "outputs": [],
   "source": [
    "#help(list)\n",
    "list?"
   ]
  },
  {
   "cell_type": "code",
   "execution_count": null,
   "metadata": {},
   "outputs": [],
   "source": [
    "t=[]\n",
    "print(t,'\\n')\n",
    "print(id(t),'\\n')\n",
    "print(type(t),'\\n')"
   ]
  },
  {
   "cell_type": "code",
   "execution_count": null,
   "metadata": {},
   "outputs": [],
   "source": [
    "lista1 = [False, 5, 5]\n",
    "print(lista1,'\\n')\n",
    "print(type(lista1))"
   ]
  },
  {
   "cell_type": "markdown",
   "metadata": {},
   "source": [
    "Las listas pueden contener cualquier tipo de dato dentro de sí. Incluso se pueden crear listas dentro de listas. "
   ]
  },
  {
   "cell_type": "code",
   "execution_count": null,
   "metadata": {},
   "outputs": [],
   "source": [
    "lista2 = [8, 7, 9.875, 20, \"hola\", True, [5,8,10], lista1]\n",
    "print(lista2,'\\n')\n",
    "print(type(lista2))"
   ]
  },
  {
   "cell_type": "code",
   "execution_count": null,
   "metadata": {},
   "outputs": [],
   "source": [
    "w = [2, 4, True, 6]\n",
    "print(w,'\\n')\n",
    "print(id(w),'\\n')\n",
    "w = [2, 4, True, 6, (5,7,False)]\n",
    "print(w,'\\n')\n",
    "print(id(w),'\\n')"
   ]
  },
  {
   "cell_type": "markdown",
   "metadata": {},
   "source": [
    "### INDEX Y SLACING"
   ]
  },
  {
   "cell_type": "markdown",
   "metadata": {},
   "source": [
    "Los datos de las listas están enumerados, de tal forma que podemos acceder a ellos a través de la notación de los corchetes. Esta notación consiste en escribir el nombre de la lista y luego entre corchetes escribir el número de orden del dato."
   ]
  },
  {
   "cell_type": "code",
   "execution_count": 24,
   "metadata": {},
   "outputs": [
    {
     "name": "stdout",
     "output_type": "stream",
     "text": [
      "[False, (9+4j), 4.6, 'Viva el Perú'] \n",
      "\n",
      "2121155896000 \n",
      "\n",
      "[(9+4j), 4.6, 'Viva el Perú'] \n",
      "\n",
      "2121155908800 \n",
      "\n"
     ]
    }
   ],
   "source": [
    "# TENEMOS INDEXACIÓN POSITIVA Y NEGATIVA\n",
    "q = [False, 9+4j , 4.6, 'Viva el Perú']\n",
    "print(q,'\\n')\n",
    "print(id(q),'\\n')\n",
    "Q = q[1:]\n",
    "print(Q,'\\n')\n",
    "print(id(Q),'\\n')"
   ]
  },
  {
   "cell_type": "code",
   "execution_count": null,
   "metadata": {},
   "outputs": [],
   "source": [
    "# lista1 = [False, 5, 5]\n",
    "# lista2 = [8, 7, 9.875, 20, \"hola\", True, [5,8,10], lista1]\n",
    "dato1 = lista2[5]\n",
    "dato2 = lista2[2:5]\n",
    "dato3 = lista2[:7]\n",
    "dato4 = lista2[3:]\n",
    "dato5 = lista2[6][1]\n",
    "dato6 = lista2[4][2]\n",
    "dato7 = lista2[::2]\n",
    "dato8 = lista2[::3]\n",
    "dato9 = lista2[-1][-3]\n",
    "print(dato1,'\\n')\n",
    "print(dato2,'\\n')\n",
    "print(dato3,'\\n')\n",
    "print(dato4,'\\n')\n",
    "print(dato5,'\\n')\n",
    "print(dato6,'\\n')\n",
    "print(dato7,'\\n')\n",
    "print(dato8,'\\n')\n",
    "print(dato9,'\\n')\n",
    "print('------------------------------------ TYPES ------------------------------------------')\n",
    "print(type(dato1),'\\n')\n",
    "print(type(dato2),'\\n')\n",
    "print(type(dato3),'\\n')\n",
    "print(type(dato4),'\\n')\n",
    "print(type(dato5),'\\n')\n",
    "print(type(dato6),'\\n')\n",
    "print(type(dato7),'\\n')\n",
    "print(type(dato8),'\\n')\n",
    "print(type(dato9),'\\n')"
   ]
  },
  {
   "cell_type": "code",
   "execution_count": 25,
   "metadata": {},
   "outputs": [
    {
     "name": "stdout",
     "output_type": "stream",
     "text": [
      "2121155909056 \n",
      "\n",
      "[5.7, 7.5, 'lennon', False] \n",
      "\n",
      "<class 'list'> \n",
      "\n",
      "nn \n",
      "\n",
      "2121155857072 \n",
      "\n",
      "<class 'str'>\n"
     ]
    }
   ],
   "source": [
    "lista3 = [5.7, 7.5, \"lennon\", False]\n",
    "print(id(lista3),'\\n')\n",
    "print(lista3,'\\n')\n",
    "print(type(lista3),'\\n')\n",
    "\n",
    "s=lista3[2][2:4]\n",
    "print(s,'\\n')\n",
    "print(id(s),'\\n')\n",
    "print(type(s))"
   ]
  },
  {
   "cell_type": "code",
   "execution_count": 26,
   "metadata": {},
   "outputs": [
    {
     "name": "stdout",
     "output_type": "stream",
     "text": [
      "['Hendrix', 7.5, 'lennon', False]\n"
     ]
    }
   ],
   "source": [
    "# POR QUE DECIMOS QUE LAS LISTAS ES UN DATO DE TIPO SECUENCIAL PERO MUTABLE\n",
    "lista3 = [5.7, 7.5, \"lennon\", False]\n",
    "lista3[0]='Hendrix'\n",
    "print(lista3)"
   ]
  },
  {
   "cell_type": "markdown",
   "metadata": {},
   "source": [
    "### TUPLAS (tuple)"
   ]
  },
  {
   "cell_type": "markdown",
   "metadata": {},
   "source": [
    "Son un conjunto de datos numerados, muy similares a las listas. Se diferencia de las listas porque las tuplas son estáticas e inmutables, mientras que las listas son dinámicas y mutables."
   ]
  },
  {
   "cell_type": "code",
   "execution_count": null,
   "metadata": {},
   "outputs": [],
   "source": [
    "#help(tuple)\n",
    "tuple?"
   ]
  },
  {
   "cell_type": "code",
   "execution_count": null,
   "metadata": {},
   "outputs": [],
   "source": [
    "# TUPLA DE UN SOLO VALOR\n",
    "v=()\n",
    "print(v,'\\n')\n",
    "print(type(v),'\\n')\n",
    "print(id(v),'\\n')\n",
    "\n",
    "e=(5,)\n",
    "print(e,'\\n')\n",
    "print(type(e),'\\n')\n",
    "print(id(e))"
   ]
  },
  {
   "cell_type": "code",
   "execution_count": null,
   "metadata": {},
   "outputs": [],
   "source": [
    "tupla1 = (4, 8, 9, 10)\n",
    "print(id(tupla1),'\\n')\n",
    "print(tupla1,'\\n')\n",
    "print(type(tupla1))"
   ]
  },
  {
   "cell_type": "markdown",
   "metadata": {},
   "source": [
    "### INDEX Y SLACING"
   ]
  },
  {
   "cell_type": "code",
   "execution_count": null,
   "metadata": {},
   "outputs": [],
   "source": [
    "tupla2 = (5, 7.5, \"hola\", False, tupla1)\n",
    "print(id(tupla2),'\\n')\n",
    "print(tupla2,'\\n')\n",
    "print(type(tupla2),'\\n')\n",
    "\n",
    "s=tupla2[:4]\n",
    "print(s,'\\n')\n",
    "print(id(s),'\\n')\n",
    "print(type(s))"
   ]
  },
  {
   "cell_type": "code",
   "execution_count": 27,
   "metadata": {},
   "outputs": [
    {
     "name": "stdout",
     "output_type": "stream",
     "text": [
      "4 \n",
      "\n",
      "(4, 9, [3, 'HOLA', True]) \n",
      "\n",
      "HO \n",
      "\n",
      "HOLA\n"
     ]
    }
   ],
   "source": [
    "tupla3 = (4, 8, 9, 10,[3,'HOLA',True])\n",
    "print(tupla3[0],'\\n')\n",
    "print(tupla3[::2],'\\n')\n",
    "print(tupla3[4][1][:2],'\\n')\n",
    "print(tupla3[-1][-2])"
   ]
  },
  {
   "cell_type": "code",
   "execution_count": 28,
   "metadata": {},
   "outputs": [
    {
     "ename": "TypeError",
     "evalue": "'tuple' object does not support item assignment",
     "output_type": "error",
     "traceback": [
      "\u001b[1;31m---------------------------------------------------------------------------\u001b[0m",
      "\u001b[1;31mTypeError\u001b[0m                                 Traceback (most recent call last)",
      "\u001b[1;32m~\\AppData\\Local\\Temp/ipykernel_6396/744057849.py\u001b[0m in \u001b[0;36m<module>\u001b[1;34m\u001b[0m\n\u001b[0;32m      1\u001b[0m \u001b[1;31m# POR QUE DECIMOS QUE LAS LISTAS ES UN DATO DE TIPO SECUENCIAL PERO MUTABLE\u001b[0m\u001b[1;33m\u001b[0m\u001b[1;33m\u001b[0m\u001b[0m\n\u001b[0;32m      2\u001b[0m \u001b[0mtupla3\u001b[0m \u001b[1;33m=\u001b[0m \u001b[1;33m(\u001b[0m\u001b[1;36m5.7\u001b[0m\u001b[1;33m,\u001b[0m \u001b[1;36m7.5\u001b[0m\u001b[1;33m,\u001b[0m \u001b[1;34m\"lennon\"\u001b[0m\u001b[1;33m,\u001b[0m \u001b[1;32mFalse\u001b[0m\u001b[1;33m)\u001b[0m\u001b[1;33m\u001b[0m\u001b[1;33m\u001b[0m\u001b[0m\n\u001b[1;32m----> 3\u001b[1;33m \u001b[0mtupla3\u001b[0m\u001b[1;33m[\u001b[0m\u001b[1;36m0\u001b[0m\u001b[1;33m]\u001b[0m\u001b[1;33m=\u001b[0m\u001b[1;34m'Hendrix'\u001b[0m\u001b[1;33m\u001b[0m\u001b[1;33m\u001b[0m\u001b[0m\n\u001b[0m\u001b[0;32m      4\u001b[0m \u001b[0mprint\u001b[0m\u001b[1;33m(\u001b[0m\u001b[0mtupla3\u001b[0m\u001b[1;33m)\u001b[0m\u001b[1;33m\u001b[0m\u001b[1;33m\u001b[0m\u001b[0m\n",
      "\u001b[1;31mTypeError\u001b[0m: 'tuple' object does not support item assignment"
     ]
    }
   ],
   "source": [
    "# POR QUE DECIMOS QUE LAS LISTAS ES UN DATO DE TIPO SECUENCIAL PERO INMUTABLE\n",
    "tupla3 = (5.7, 7.5, \"lennon\", False)\n",
    "tupla3[0]='Hendrix'\n",
    "print(tupla3)"
   ]
  },
  {
   "cell_type": "markdown",
   "metadata": {},
   "source": [
    "### DICCIONARIOS (dict)"
   ]
  },
  {
   "cell_type": "markdown",
   "metadata": {},
   "source": [
    "Son un conjunto ordenando de pares de claves y valores. Las claves, llamadas \"keys\", son los nombres que se utilizan para etiquetar a los valores, también llamados \"values\".\n",
    "\n",
    "Se definen escribiendo parejas de claves y valores encerradas entre llaves \"{ }\" y separadas por comas. Las claves y valores se separan por dos puntos \" : \". Observe el ejemplo:"
   ]
  },
  {
   "cell_type": "code",
   "execution_count": null,
   "metadata": {
    "tags": []
   },
   "outputs": [],
   "source": [
    "#help(dict)\n",
    "dict?"
   ]
  },
  {
   "cell_type": "code",
   "execution_count": null,
   "metadata": {},
   "outputs": [],
   "source": [
    "diccionario = {\"nombre\": \"Francisco\", \"apellido\": \"Arevalo\", \"nota\": 20}\n",
    "print(diccionario,'\\n')\n",
    "print(type(diccionario))"
   ]
  },
  {
   "cell_type": "markdown",
   "metadata": {},
   "source": [
    "Las claves pueden ser cadenas de caracteres o datos numéricos , mientras que los valores pueden ser cualquier tipo de dato."
   ]
  },
  {
   "cell_type": "code",
   "execution_count": 29,
   "metadata": {},
   "outputs": [
    {
     "name": "stdout",
     "output_type": "stream",
     "text": [
      "{'nombre': 'Francisco', 'apellido': 'Arevalo', 'nota': 20} \n",
      "\n",
      "{1: 'Francisco', 2: 'Arevalo', 3: 20} \n",
      "\n",
      "<class 'dict'> \n",
      "\n",
      "<class 'dict'>\n"
     ]
    }
   ],
   "source": [
    "diccionario = {\"nombre\": \"Francisco\", \"apellido\": \"Arevalo\", \"nota\": 20}\n",
    "dic = {1: \"Francisco\", 2: \"Arevalo\", 3: 20}\n",
    "print(diccionario,'\\n')\n",
    "print(dic,'\\n')\n",
    "print(type(diccionario),'\\n')\n",
    "print(type(dic))"
   ]
  },
  {
   "cell_type": "markdown",
   "metadata": {},
   "source": [
    "Si un diccionario es extenso puede ordenarlo de mejor manera si lo separa por comas y saltos de linea."
   ]
  },
  {
   "cell_type": "code",
   "execution_count": null,
   "metadata": {},
   "outputs": [],
   "source": [
    "diccionario2 = {\n",
    "    \"ejemplo\": \"este es un ejemplo\",\n",
    "    \"string\": \"hola\",\n",
    "    \"int\": 58,\n",
    "    \"float\": 1.5856,\n",
    "    \"bool\": True,\n",
    "    \"lista\": [10,20,30,\"cuarenta\", True],\n",
    "    \"tupla\": (4,5,10.525,\"cincuenta\", False),\n",
    "    \"diccionario\": {\"lista2\":[1,2,3], \"tupla2\": (4,5)},\n",
    "}\n",
    "print(diccionario2,'\\n')\n",
    "print(id(diccionario2),'\\n')\n",
    "print(type(diccionario2),'\\n')\n",
    "print('---------------------- CREANDO OTRO OBJETO -----------------------------\\n')\n",
    "s = diccionario2[\"diccionario\"]\n",
    "print(id(s),'\\n')\n",
    "print(s[\"lista2\"][::2])"
   ]
  },
  {
   "cell_type": "markdown",
   "metadata": {},
   "source": [
    "Puede solicitar un dato del diccionario con la notación de los corchetes: \n",
    "\n",
    "nombreDelDiccionario[clave] \n",
    "\n",
    "Lo anterior devolverá como respuesta el valor de dicha clave. Los diccionario no soportan la indexación y/o slacing, justamente por que los diccionarios no son tipos de datos secuencia."
   ]
  },
  {
   "cell_type": "code",
   "execution_count": null,
   "metadata": {},
   "outputs": [],
   "source": [
    "print(diccionario2[\"bool\"])\n",
    "print(diccionario2[\"diccionario\"]['tupla2'])"
   ]
  },
  {
   "cell_type": "markdown",
   "metadata": {},
   "source": [
    "La notación de corchetes es muy útil para solicitar datos que se encuentran ordenados bajo estructuras complejas."
   ]
  },
  {
   "cell_type": "code",
   "execution_count": null,
   "metadata": {},
   "outputs": [],
   "source": [
    "print(diccionario2[\"diccionario\"][\"lista2\"][:2])"
   ]
  },
  {
   "cell_type": "code",
   "execution_count": 30,
   "metadata": {},
   "outputs": [
    {
     "name": "stdout",
     "output_type": "stream",
     "text": [
      "{'nombre': 'jose', 'apellido': 'Arevalo', 'nota': 20} \n",
      "\n"
     ]
    }
   ],
   "source": [
    "# AHORA A LOS DATOS TIPO SECUENCIA SE LES PUEDE CLASIFICAR SEGÚN LA MUTABILIDAD\n",
    "diccionario = {\"nombre\": \"Francisco\", \"apellido\": \"Arevalo\", \"nota\": 20}\n",
    "diccionario['nombre']='jose'\n",
    "print(diccionario,'\\n')\n"
   ]
  },
  {
   "cell_type": "markdown",
   "metadata": {},
   "source": [
    "### CONJUNTOS (set)"
   ]
  },
  {
   "cell_type": "code",
   "execution_count": null,
   "metadata": {},
   "outputs": [],
   "source": [
    "conjunto_vacio = set() # no puede ser {}, ya que este es un dict vacio\n",
    "print(conjunto_vacio,'\\n')\n",
    "print(type(conjunto_vacio))"
   ]
  },
  {
   "cell_type": "code",
   "execution_count": 31,
   "metadata": {},
   "outputs": [
    {
     "name": "stdout",
     "output_type": "stream",
     "text": [
      "{17.5, 2, 4, 7, 8, 9} \n",
      "\n",
      "2121156722976 \n",
      "\n",
      "<class 'set'> \n",
      "\n",
      "\n",
      " --------------------------------------------------------------- \n",
      "\n",
      "{True, 4, 6, (False, 0), 'lep zeppelin'} \n",
      "\n",
      "2121156723648 \n",
      "\n",
      "<class 'set'> \n",
      "\n"
     ]
    }
   ],
   "source": [
    "# EJEMPLO1\n",
    "a = {2, 4, 7, 8, 8, 9, 17.5}\n",
    "print(a,'\\n')\n",
    "print(id(a),'\\n')\n",
    "print(type(a),'\\n')\n",
    "\n",
    "print('\\n','---------------------------------------------------------------','\\n')\n",
    "\n",
    "# EJEMPLO 2\n",
    "b = {4,True,'lep zeppelin',6,6, (False,0),4,(False,0)}\n",
    "print(b,'\\n')\n",
    "print(id(b),'\\n')\n",
    "print(type(b),'\\n')"
   ]
  },
  {
   "cell_type": "markdown",
   "metadata": {},
   "source": [
    "Los conjuntos no tiene propiedades como la indexación o slacing. Ahora los conjuntos no es un tipo de dato secuencia pero es un caso particular porque según la documentación esta es inmutable y hay que tomarla como tal."
   ]
  },
  {
   "cell_type": "markdown",
   "metadata": {},
   "source": [
    "## MÉTODOS EN LA SALIDAD CON PRINT"
   ]
  },
  {
   "cell_type": "code",
   "execution_count": 12,
   "metadata": {},
   "outputs": [
    {
     "name": "stdout",
     "output_type": "stream",
     "text": [
      "Hola, me presento soy: Miguel Stephano Albornoz Rivera , tengo 21 años y soy del Perú\n"
     ]
    }
   ],
   "source": [
    "# PRIMER MÉTODO\n",
    "nombre = 'Miguel Stephano Albornoz Rivera'\n",
    "edad = 21\n",
    "pais = 'Perú'\n",
    "print('Hola, me presento soy:',nombre,', tengo',edad,'años y soy del',pais)"
   ]
  },
  {
   "cell_type": "code",
   "execution_count": 14,
   "metadata": {},
   "outputs": [
    {
     "name": "stdout",
     "output_type": "stream",
     "text": [
      "Hola, me presento soy: Miguel Stephano Albornoz Rivera, tengo 25 años y soy de Chile.\n"
     ]
    }
   ],
   "source": [
    "# SEGUNDO MÉTODO\n",
    "nombre = 'Miguel Stephano Albornoz Rivera'\n",
    "edad = 25\n",
    "pais = 'Chile'\n",
    "print(f'Hola, me presento soy: {nombre}, tengo {edad} años y soy de {pais}.')"
   ]
  },
  {
   "cell_type": "code",
   "execution_count": 16,
   "metadata": {},
   "outputs": [
    {
     "name": "stdout",
     "output_type": "stream",
     "text": [
      "Hola, me presento soy: Miguel Stephano Albornoz Rivera, tengo 32 años y soy de España.\n"
     ]
    }
   ],
   "source": [
    "# TERCER MÉTODO\n",
    "nombre = 'Miguel Stephano Albornoz Rivera'\n",
    "edad = 32\n",
    "pais = 'España'\n",
    "print('Hola, me presento soy: {}, tengo {} años y soy de {}.'.format(nombre,edad,pais))"
   ]
  },
  {
   "cell_type": "markdown",
   "metadata": {},
   "source": [
    "## IMPORTANDO MÓDULOS"
   ]
  },
  {
   "cell_type": "code",
   "execution_count": null,
   "metadata": {},
   "outputs": [],
   "source": [
    "# import math\n",
    "import math as mt\n",
    "# from math import sqrt\n",
    "# from math import log\n",
    "# from math import fabs\n",
    "# from math import factorial"
   ]
  },
  {
   "cell_type": "code",
   "execution_count": null,
   "metadata": {},
   "outputs": [],
   "source": [
    "# OPERACIONES COMBINADAS\n",
    "X = mt.log(100) + pow(mt.sqrt(4),8) - mt.factorial(5) * mt.fabs(-12)\n",
    "print(x)"
   ]
  },
  {
   "cell_type": "code",
   "execution_count": null,
   "metadata": {},
   "outputs": [],
   "source": [
    "# CALCULAR EL AREA DE UN CIRCULO\n",
    "# A = pi * r^2\n",
    "r=3.5\n",
    "A = mt.pi * pow(r,2)\n",
    "print('el area del cieculo es: {:.3f}'.format(A))"
   ]
  },
  {
   "cell_type": "code",
   "execution_count": null,
   "metadata": {},
   "outputs": [],
   "source": [
    "# CALCULAR FUNCIONES TRIGONOMÉTRICAS\n",
    "x = 30 # tenemos que convertir a radianes\n",
    "z = mt.sin((x * mt.pi) / 180)\n",
    "print(' el seno de',x,'es:',z)"
   ]
  },
  {
   "cell_type": "code",
   "execution_count": null,
   "metadata": {
    "jupyter": {
     "outputs_hidden": true
    },
    "tags": []
   },
   "outputs": [],
   "source": [
    "help(mt)\n"
   ]
  },
  {
   "cell_type": "markdown",
   "metadata": {},
   "source": [
    "## INPUT( )\n",
    "La función input( ) regresa o retorna siempre una cadena, es semejante a un dispositivo de entrada como el teclado."
   ]
  },
  {
   "cell_type": "code",
   "execution_count": null,
   "metadata": {},
   "outputs": [],
   "source": [
    "input?\n",
    "#help(input)"
   ]
  },
  {
   "cell_type": "code",
   "execution_count": null,
   "metadata": {},
   "outputs": [],
   "source": [
    "s = input()\n",
    "print(type(s),'\\n')\n",
    "print(id(s))"
   ]
  },
  {
   "cell_type": "markdown",
   "metadata": {},
   "source": [
    "## PRIMEROS SCRIPTS"
   ]
  },
  {
   "cell_type": "code",
   "execution_count": null,
   "metadata": {},
   "outputs": [],
   "source": [
    "a = input('ingrese la cantidad de bicicletas que tiene: ')\n",
    "print(type(a))\n",
    "b = eval(a)\n",
    "print(b)\n",
    "print(type(b))"
   ]
  },
  {
   "cell_type": "code",
   "execution_count": 1,
   "metadata": {},
   "outputs": [
    {
     "data": {
      "text/plain": [
       "5"
      ]
     },
     "execution_count": 1,
     "metadata": {},
     "output_type": "execute_result"
    }
   ],
   "source": [
    "# saca el valor absoluto de x\n",
    "e = abs(-5)\n",
    "e"
   ]
  },
  {
   "cell_type": "code",
   "execution_count": 2,
   "metadata": {},
   "outputs": [
    {
     "data": {
      "text/plain": [
       "32768"
      ]
     },
     "execution_count": 2,
     "metadata": {},
     "output_type": "execute_result"
    }
   ],
   "source": [
    "# eleva la potencia 2**15\n",
    "w = pow(2,15)\n",
    "w"
   ]
  },
  {
   "cell_type": "code",
   "execution_count": 4,
   "metadata": {},
   "outputs": [
    {
     "data": {
      "text/plain": [
       "1"
      ]
     },
     "execution_count": 4,
     "metadata": {},
     "output_type": "execute_result"
    }
   ],
   "source": [
    "# eleva la potencia 2**6 y luego saca el resto de 3\n",
    "s = pow(2,6,3)\n",
    "s"
   ]
  },
  {
   "cell_type": "code",
   "execution_count": 8,
   "metadata": {},
   "outputs": [
    {
     "name": "stdout",
     "output_type": "stream",
     "text": [
      "(2, 0)\n",
      "(5, 2)\n"
     ]
    }
   ],
   "source": [
    "x = divmod(6,3)\n",
    "print(x)\n",
    "y = divmod(17,3)\n",
    "print(y)"
   ]
  },
  {
   "cell_type": "code",
   "execution_count": 24,
   "metadata": {},
   "outputs": [
    {
     "data": {
      "text/plain": [
       "15.0"
      ]
     },
     "execution_count": 24,
     "metadata": {},
     "output_type": "execute_result"
    }
   ],
   "source": [
    "#s = round(14.5,2)\n",
    "s= round(14.537849930,0)\n",
    "s"
   ]
  },
  {
   "cell_type": "code",
   "execution_count": 25,
   "metadata": {},
   "outputs": [
    {
     "name": "stdout",
     "output_type": "stream",
     "text": [
      "The Zen of Python, by Tim Peters\n",
      "\n",
      "Beautiful is better than ugly.\n",
      "Explicit is better than implicit.\n",
      "Simple is better than complex.\n",
      "Complex is better than complicated.\n",
      "Flat is better than nested.\n",
      "Sparse is better than dense.\n",
      "Readability counts.\n",
      "Special cases aren't special enough to break the rules.\n",
      "Although practicality beats purity.\n",
      "Errors should never pass silently.\n",
      "Unless explicitly silenced.\n",
      "In the face of ambiguity, refuse the temptation to guess.\n",
      "There should be one-- and preferably only one --obvious way to do it.\n",
      "Although that way may not be obvious at first unless you're Dutch.\n",
      "Now is better than never.\n",
      "Although never is often better than *right* now.\n",
      "If the implementation is hard to explain, it's a bad idea.\n",
      "If the implementation is easy to explain, it may be a good idea.\n",
      "Namespaces are one honking great idea -- let's do more of those!\n"
     ]
    }
   ],
   "source": [
    "import this"
   ]
  },
  {
   "cell_type": "markdown",
   "metadata": {},
   "source": [
    "enlace: [PEP8](https://www.python.org/dev/peps/pep-0008/)"
   ]
  },
  {
   "cell_type": "markdown",
   "metadata": {},
   "source": [
    "## PARA PRACTICAR:\n",
    "\n",
    "a) Solicite el valor 58 de la variable diccionario2"
   ]
  },
  {
   "cell_type": "code",
   "execution_count": 2,
   "metadata": {},
   "outputs": [],
   "source": [
    "diccionario2 = {\n",
    "    \"ejemplo\": \"este es un ejemplo\",\n",
    "    \"string\": \"hola\",\n",
    "    \"int\": 58,\n",
    "    \"float\": 1.5856,\n",
    "    \"bool\": True,\n",
    "    \"lista\": [10,20,30,\"cuarenta\", True],\n",
    "    \"tupla\": (4,5,10.525,\"cincuenta\", False),\n",
    "    \"diccionario\": {\"lista2\":[1,2,3], \"tupla2\": (4,5)},\n",
    "}"
   ]
  },
  {
   "cell_type": "code",
   "execution_count": 3,
   "metadata": {},
   "outputs": [
    {
     "data": {
      "text/plain": [
       "58"
      ]
     },
     "execution_count": 3,
     "metadata": {},
     "output_type": "execute_result"
    }
   ],
   "source": [
    "diccionario2['int']"
   ]
  },
  {
   "cell_type": "markdown",
   "metadata": {},
   "source": [
    "b) Solicite el valor 5 de clave \"tupla2\" que se encuentra en la clave \"diccionario\" de la variable diccionario2"
   ]
  },
  {
   "cell_type": "code",
   "execution_count": 5,
   "metadata": {},
   "outputs": [
    {
     "data": {
      "text/plain": [
       "5"
      ]
     },
     "execution_count": 5,
     "metadata": {},
     "output_type": "execute_result"
    }
   ],
   "source": [
    "diccionario2['tupla'][1]"
   ]
  },
  {
   "cell_type": "markdown",
   "metadata": {},
   "source": [
    "c) Cree un variable con cada tipo de dato presentado en este documento (son 8 en total) y utilice la función type para mostrar en pantalla el tipo de dato de cada variable. "
   ]
  },
  {
   "cell_type": "code",
   "execution_count": 16,
   "metadata": {},
   "outputs": [
    {
     "name": "stdout",
     "output_type": "stream",
     "text": [
      "5  ->  <class 'int'> \n",
      "\n",
      "8.0  ->  <class 'float'> \n",
      "\n",
      "True  ->  <class 'bool'> \n",
      "\n",
      "(3+5j)  ->  <class 'complex'> \n",
      "\n",
      "(4,)  ->  <class 'tuple'> \n",
      "\n",
      "[2, False, (9, 0)]  ->  <class 'list'> \n",
      "\n",
      "{'lunes': 1, 'martes': 2, 'miercoles': 3, 'jueves': 4, 'viernes': 5}  ->  <class 'dict'> \n",
      "\n",
      "{0, 3, 'hola'}  ->  <class 'set'> \n",
      "\n"
     ]
    }
   ],
   "source": [
    "a=5\n",
    "print(a,' -> ',type(a),'\\n')\n",
    "b=8.0\n",
    "print(b,' -> ',type(b),'\\n')\n",
    "c=True\n",
    "print(c,' -> ',type(c),'\\n')\n",
    "d=3 + 5j\n",
    "print(d,' -> ',type(d),'\\n')\n",
    "e=4,\n",
    "print(e,' -> ',type(e),'\\n')\n",
    "f=[2,False,(9,0)]\n",
    "print(f,' -> ',type(f),'\\n')\n",
    "g={'lunes':1,'martes':2,'miercoles':3,'jueves':4,'viernes':5}\n",
    "print(g,' -> ',type(g),'\\n')\n",
    "h={3,3,0,'hola'}\n",
    "print(h,' -> ',type(h),'\\n')"
   ]
  },
  {
   "cell_type": "markdown",
   "metadata": {},
   "source": [
    "d) Imprima en pantalla el resultado de la siguiente operación, expresado con 3 decimales de precisión: \n",
    "\n",
    "(38 x 3 - 45) x (1/2)\n",
    "\n",
    "El símbolo \"x\" expresa multiplicación"
   ]
  },
  {
   "cell_type": "code",
   "execution_count": 7,
   "metadata": {},
   "outputs": [
    {
     "name": "stdout",
     "output_type": "stream",
     "text": [
      "el resultado de (38 * 3 - 45) * (1/2) es: 34.500\n"
     ]
    }
   ],
   "source": [
    "print('{} {:.3f}'.format('el resultado de (38 * 3 - 45) * (1/2) es:',(38*3-45)*(1/2)))\n"
   ]
  }
 ],
 "metadata": {
  "kernelspec": {
   "display_name": "Python 3 (ipykernel)",
   "language": "python",
   "name": "python3"
  },
  "language_info": {
   "codemirror_mode": {
    "name": "ipython",
    "version": 3
   },
   "file_extension": ".py",
   "mimetype": "text/x-python",
   "name": "python",
   "nbconvert_exporter": "python",
   "pygments_lexer": "ipython3",
   "version": "3.9.7"
  }
 },
 "nbformat": 4,
 "nbformat_minor": 4
}
