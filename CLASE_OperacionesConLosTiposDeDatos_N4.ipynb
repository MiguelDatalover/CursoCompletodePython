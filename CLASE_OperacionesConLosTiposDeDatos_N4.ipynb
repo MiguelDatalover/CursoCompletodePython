{
 "cells": [
  {
   "cell_type": "markdown",
   "metadata": {},
   "source": [
    "# OPERACIONES CON LOS TIPOS DE DATOS EN PYTHON"
   ]
  },
  {
   "cell_type": "markdown",
   "metadata": {},
   "source": [
    "**TODO EN PYTHON ES UN OBJETO**. En clases anteriores hemos estudiado de forma superficial los objetos como: int, float, bool, list, tuple, dict, set. Pero ahora los estudiaremos aun más y como son objetos de la POO virtual, estos tienen ciertos atributos. Los atributos es lo que se conocen como todo tipo de características que le describen a un objeto y de acuerdo a esas característica estos realizan ciertas acciones o métodos, también podemos decir que de acuerdo a sus atributos, se van a poder relacionar con otros tipos de objetos, por no decir operar. "
   ]
  },
  {
   "cell_type": "markdown",
   "metadata": {},
   "source": [
    "> Todos los tipos de datos básico que hemos visto hasta ahora podemos  clasificarlo de la siguiente forma:\n",
    "> * **TIPOS DE DATOS NUMÉRICOS:** int, float, bool, complex\n",
    "> * **TIPOS DE DATOS ESTRUCTURALES O COMPLEJOS:** list, tuple, str, dict, "
   ]
  },
  {
   "cell_type": "markdown",
   "metadata": {},
   "source": [
    "Nosotros las llamamos tipos de datos estructurales, pero según la documentación se llaman tipo secuenciales, tipo conjunto y mapeo. Las secuencias: son representaciones con conjuntos de datos finitos, algo así como contenedores. Pero estos datos tipo secuencia también se distinguen según su mutabilidad.\n",
    "\n",
    "> * **SECUENCIAS MUTABLES:** list\n",
    "> * **SECUENCIAS INMUTABLES:** str,tuple\n",
    "> * **CONJUNTOS:** set\n",
    "> * **MAPEO:** dict"
   ]
  },
  {
   "cell_type": "markdown",
   "metadata": {},
   "source": [
    "## OPERACIONES CON DATOS NUMÉRICOS"
   ]
  },
  {
   "cell_type": "markdown",
   "metadata": {},
   "source": [
    "En python se pueden realizar por defecto las operaciones de suma, resta, multiplicación, división, potenciación, residuo y cociente. Mientras que operaciones más complejas como las trigonométricas se pueden realizar importando bibliotecas especializadas como numpy, math o scipy."
   ]
  },
  {
   "cell_type": "code",
   "execution_count": null,
   "metadata": {},
   "outputs": [],
   "source": [
    "suma = 58 + 7\n",
    "print(suma)"
   ]
  },
  {
   "cell_type": "code",
   "execution_count": null,
   "metadata": {},
   "outputs": [],
   "source": [
    "resta = 58 - 7\n",
    "print(resta)"
   ]
  },
  {
   "cell_type": "code",
   "execution_count": null,
   "metadata": {},
   "outputs": [],
   "source": [
    "multiplicacion = 58 *7\n",
    "print(multiplicacion)"
   ]
  },
  {
   "cell_type": "code",
   "execution_count": null,
   "metadata": {},
   "outputs": [],
   "source": [
    "division = 58 /             7\n",
    "print(division)"
   ]
  },
  {
   "cell_type": "markdown",
   "metadata": {},
   "source": [
    "Observe en celda anterior que Python no lee los espacios vacios (los que introduce con la barra espaciadora)"
   ]
  },
  {
   "cell_type": "code",
   "execution_count": null,
   "metadata": {},
   "outputs": [],
   "source": [
    "potencia = 58 ** 7\n",
    "print(potencia)"
   ]
  },
  {
   "cell_type": "code",
   "execution_count": null,
   "metadata": {},
   "outputs": [],
   "source": [
    "residuo = 58 % 7\n",
    "print(residuo)"
   ]
  },
  {
   "cell_type": "code",
   "execution_count": null,
   "metadata": {},
   "outputs": [],
   "source": [
    "cociente = 58 // 7\n",
    "print(cociente)"
   ]
  },
  {
   "cell_type": "markdown",
   "metadata": {},
   "source": [
    "Las raices las puede obtener utilizando potencia de fracciones"
   ]
  },
  {
   "cell_type": "code",
   "execution_count": null,
   "metadata": {},
   "outputs": [],
   "source": [
    "raiz = 58 ** (1/2)\n",
    "print(raiz)"
   ]
  },
  {
   "cell_type": "markdown",
   "metadata": {},
   "source": [
    "En las operaciones de Python se respeta el orden de operacion (o también llamada jerarquía). La mayor jerarquía la tienen las potencias y la menor las sumas y restas. Omitir los paréntesis de la operación de la celda anterior generará un resultado diferente"
   ]
  },
  {
   "cell_type": "code",
   "execution_count": null,
   "metadata": {},
   "outputs": [],
   "source": [
    "raiz = 58 ** 1 / 2\n",
    "print(raiz)"
   ]
  },
  {
   "cell_type": "code",
   "execution_count": null,
   "metadata": {},
   "outputs": [],
   "source": [
    "operacion = 58 + 45 + (33 / 2) ** 2\n",
    "print(operacion)"
   ]
  },
  {
   "cell_type": "code",
   "execution_count": 135,
   "metadata": {},
   "outputs": [
    {
     "name": "stdout",
     "output_type": "stream",
     "text": [
      "3100\n"
     ]
    }
   ],
   "source": [
    "x = 50\n",
    "y = 20\n",
    "z = 30\n",
    "operacion = x**2 + y*z \n",
    "print(operacion)"
   ]
  },
  {
   "cell_type": "markdown",
   "metadata": {},
   "source": [
    "## STRINGS"
   ]
  },
  {
   "cell_type": "markdown",
   "metadata": {},
   "source": [
    "### CARÁCTERES ESPECIALES Y SÍMBOLOS ANSCII EN PYTHON"
   ]
  },
  {
   "cell_type": "markdown",
   "metadata": {},
   "source": [
    "Si quisieramos que nos aparezquen algunos simbolos ANSII y UNICODE, tenemos que llamarlo mediante una sintaxis que corresponde al siguiente formato: **\\uxxxx**, donde x puede tomar cualquier valor alfanumérico, pero en general al primer x se le asiga el 2, pero tambien las podemos encontar de esta forma: **\\xxx**. Si quisiera conocer los muchos de los caracteres especiales que puedes mostar en pantalla presione el link.\n",
    "[link de simbolos ANSII Y UNICODE](http://w3.unpocodetodo.info/utiles/glyphs.php)"
   ]
  },
  {
   "cell_type": "code",
   "execution_count": 1,
   "metadata": {},
   "outputs": [
    {
     "name": "stdout",
     "output_type": "stream",
     "text": [
      "⚽\n",
      "<class 'str'>\n"
     ]
    }
   ],
   "source": [
    "q= '\\u26bd'\n",
    "print(q)\n",
    "print(type(q))"
   ]
  },
  {
   "cell_type": "markdown",
   "metadata": {},
   "source": [
    "### CURIOSIDADES "
   ]
  },
  {
   "cell_type": "markdown",
   "metadata": {},
   "source": [
    "Si comparamos a los string. Python orienta la devolución de acuerdo al orden alfabético, por ejemplo ' h ' sera mayor que ' c ' pero menor que ' z '. Ahora los números construidos como str  son menores que las letras. \n",
    "Se considera también que las letras minúsculas son mayores que las letras mayusculas."
   ]
  },
  {
   "cell_type": "code",
   "execution_count": 5,
   "metadata": {},
   "outputs": [
    {
     "name": "stdout",
     "output_type": "stream",
     "text": [
      "False \n",
      "\n",
      "False \n",
      "\n",
      "False \n",
      "\n",
      "False \n",
      "\n",
      "True\n"
     ]
    }
   ],
   "source": [
    "print('a'>'m','\\n')\n",
    "print('cartón'<'carbón','\\n')\n",
    "print('1'>'z','\\n')\n",
    "print('a'<'A','\\n')\n",
    "print('a'>'B')"
   ]
  },
  {
   "cell_type": "code",
   "execution_count": 8,
   "metadata": {},
   "outputs": [
    {
     "data": {
      "text/plain": [
       "'A'"
      ]
     },
     "execution_count": 8,
     "metadata": {},
     "output_type": "execute_result"
    }
   ],
   "source": [
    "# DEVOLVERÁ LA LETRA MAS PRÓXIMA AL INICIO DEL ABECEDARIO\n",
    "s='Abc'\n",
    "min(s)"
   ]
  },
  {
   "cell_type": "code",
   "execution_count": 7,
   "metadata": {},
   "outputs": [
    {
     "data": {
      "text/plain": [
       "'x'"
      ]
     },
     "execution_count": 7,
     "metadata": {},
     "output_type": "execute_result"
    }
   ],
   "source": [
    "# DEVOLVERÁ LA LETRA MAS PRÓXIMA AL FINAL DEL ABECEDARIO\n",
    "s='aBx'\n",
    "max(s)"
   ]
  },
  {
   "cell_type": "code",
   "execution_count": 14,
   "metadata": {},
   "outputs": [
    {
     "name": "stdout",
     "output_type": "stream",
     "text": [
      "x\n",
      "0\n"
     ]
    }
   ],
   "source": [
    "# SI MEZCLAMOS NUMEROS Y LETRAS, MIN NOS DEVOLVERA LA CIFRA MÁS PEQUEÑA\n",
    "# Y SI USAMOS MAX, NOS DEVOLVERA LA LETRA MAS ALTA\n",
    "s='abx90'\n",
    "print(max(s))\n",
    "print(min(s))"
   ]
  },
  {
   "cell_type": "code",
   "execution_count": 12,
   "metadata": {},
   "outputs": [
    {
     "name": "stdout",
     "output_type": "stream",
     "text": [
      "0\n",
      "9\n"
     ]
    }
   ],
   "source": [
    "# DEVOLVERA LA CIFRA MÁS PEQUEÑA Y LA MÁS ALTA\n",
    "s='987032'\n",
    "print(min(s))\n",
    "print(max(s))"
   ]
  },
  {
   "cell_type": "markdown",
   "metadata": {},
   "source": [
    "### OPERACIONES CON CADENA DE CARACTERES"
   ]
  },
  {
   "cell_type": "markdown",
   "metadata": {},
   "source": [
    "Se pueden realizar operaciones de suma y multiplicación con las cadenas de caracteres.\n",
    "\n",
    "Al sumar cadenas de caracteres se muestran los caracteres unos después de otros.\n",
    "\n",
    "Al multiplicar por un número N se repite la cadena N veces."
   ]
  },
  {
   "cell_type": "code",
   "execution_count": null,
   "metadata": {},
   "outputs": [],
   "source": [
    "mensaje1 = \"Hola\"\n",
    "mensaje2 = \"Bienvenido\"\n",
    "print(mensaje1 + mensaje2)"
   ]
  },
  {
   "cell_type": "code",
   "execution_count": null,
   "metadata": {},
   "outputs": [],
   "source": [
    "print(mensaje1 + \" \" + mensaje2)"
   ]
  },
  {
   "cell_type": "code",
   "execution_count": null,
   "metadata": {},
   "outputs": [],
   "source": [
    "print(mensaje1 * 5)"
   ]
  },
  {
   "cell_type": "markdown",
   "metadata": {},
   "source": [
    "Observe que los caracteres \"\\n\" indican un salto de línea"
   ]
  },
  {
   "cell_type": "code",
   "execution_count": null,
   "metadata": {},
   "outputs": [],
   "source": [
    "print(mensaje1 + \"\\n\" + mensaje2) "
   ]
  },
  {
   "cell_type": "code",
   "execution_count": null,
   "metadata": {},
   "outputs": [],
   "source": [
    "mensaje3 = \"hola\\nBienvenido\"\n",
    "print(mensaje3)"
   ]
  },
  {
   "cell_type": "markdown",
   "metadata": {},
   "source": [
    "En ocasiones necesitará omitir los saltos de línea ocacionados por los caracteres \"\\n\", por ejemplo al definir una dirección."
   ]
  },
  {
   "cell_type": "code",
   "execution_count": 1,
   "metadata": {},
   "outputs": [
    {
     "name": "stdout",
     "output_type": "stream",
     "text": [
      "C:Users\n",
      "ame\n"
     ]
    }
   ],
   "source": [
    "mensajeConFormato = \"C:Users\\name\"\n",
    "print(mensajeConFormato)"
   ]
  },
  {
   "cell_type": "markdown",
   "metadata": {},
   "source": [
    "Para obtener una cadena sin formato (es decir que no tome en cuenta saltos de línea) debe añadir una \"r\" delante. "
   ]
  },
  {
   "cell_type": "code",
   "execution_count": 2,
   "metadata": {},
   "outputs": [
    {
     "name": "stdout",
     "output_type": "stream",
     "text": [
      "C:Users\\name\n"
     ]
    }
   ],
   "source": [
    "# Para obviar el salto de línea se colocar una \"r\" delante\n",
    "mensajeSinFormato = r\"C:Users\\name\"\n",
    "print(mensajeSinFormato)"
   ]
  },
  {
   "cell_type": "markdown",
   "metadata": {},
   "source": [
    "Las cadenas de caracteres se pueden dividir en caracteres, los cuales están enumerados según el orden en que aparecen en la cadena."
   ]
  },
  {
   "cell_type": "code",
   "execution_count": null,
   "metadata": {},
   "outputs": [],
   "source": [
    "# Las cadenas de caracteres las puede dividir en caracteres \n",
    "mensaje4 = \"hola\"\n",
    "# Recuerde que Python empieza a contar desde 0\n",
    "print(mensaje4[0])\n",
    "print(mensaje4[1])\n",
    "print(mensaje4[2])\n",
    "print(mensaje4[3])"
   ]
  },
  {
   "cell_type": "markdown",
   "metadata": {},
   "source": [
    "Si desea convertir datos numéricos en cadenas de caracteres, una opción es utilizar el método \".format\". Este método permite convertir cualquier tipo de dato en un str."
   ]
  },
  {
   "cell_type": "code",
   "execution_count": null,
   "metadata": {},
   "outputs": [],
   "source": [
    "#El método \".format\" formatea los datos y los convierte a string\n",
    "nota = 15.461258236\n",
    "estado = True \n",
    "print(\"Mi nota es {}. Mi estado es {}\".format(nota, estado))"
   ]
  },
  {
   "cell_type": "code",
   "execution_count": null,
   "metadata": {},
   "outputs": [],
   "source": [
    "# Puedo definir la cantidad de decimales del flot\n",
    "print(\"Mi nota es {:.0f}\".format(nota))"
   ]
  },
  {
   "cell_type": "code",
   "execution_count": 17,
   "metadata": {},
   "outputs": [
    {
     "name": "stdout",
     "output_type": "stream",
     "text": [
      "Mi lista es [5, 8, 9]\n"
     ]
    }
   ],
   "source": [
    "# puedo convertir cualquier tipo de dato en str\n",
    "print(\"Mi lista es {}\".format([5,8,9]))"
   ]
  },
  {
   "cell_type": "markdown",
   "metadata": {},
   "source": [
    "### MÉTODOS DE LAS CADENAS DE CARACTERES"
   ]
  },
  {
   "cell_type": "markdown",
   "metadata": {},
   "source": [
    "**MÉTODO:** Es informal decir que un método es una función pero tampoco está mal. Generalmente confundimos a los método con una función ya que en ambos realizamos varias acciones sobre nuestros objetos. Además también porque se parecen ambos en sintaxis.\n",
    ">Recuerda que python se apoya de la POO y que por eso todo en python es un objeto y estos son entidades virtuales con un determinado estado y con con comportamientos específicos. La sintaxis para el uso de los métodos son:\n",
    "* *objeto . método ( parámetros ):*\n",
    "\n",
    "**OBJETO, MÉTODO Y OPERADOR PUNTO:** Con el operador punto podemos acceder a un atributo o a un método. Todo atributo/método es un nuevo objeto que cuenta con sus propios atributos/métodos.\n",
    "* *objeto . método1 . método2 . método3 . método4 . método5 ( parámetros ):* "
   ]
  },
  {
   "cell_type": "markdown",
   "metadata": {},
   "source": [
    "#### 1.- MÉTODO CAPITALIZE( )\n",
    "Este método nos retorna un string muy similar al original, pero con la letra del indice 0 con mayúscula y todo lo demás en minúscula."
   ]
  },
  {
   "cell_type": "code",
   "execution_count": 26,
   "metadata": {},
   "outputs": [
    {
     "name": "stdout",
     "output_type": "stream",
     "text": [
      "Manzana chilena\n",
      "Lima\n"
     ]
    }
   ],
   "source": [
    "s='manzana CHILENA'\n",
    "d=s.capitalize()\n",
    "print(d)\n",
    "\n",
    "s='LIMA'\n",
    "x=s.capitalize()\n",
    "print(x)"
   ]
  },
  {
   "cell_type": "markdown",
   "metadata": {},
   "source": [
    "#### 2. MÉTODO CENTER ( ancho, caracter de relleno )\n",
    "Este método también retorna nuestro str centrado entre los caracteres que eligamos, tanto izquierda como derecha. Para eso haremos uso de la función len para sacar la longitud del str y a eso le añadimo el doble de la cantidad de caracteres que estarán en ambos lados."
   ]
  },
  {
   "cell_type": "code",
   "execution_count": 27,
   "metadata": {},
   "outputs": [
    {
     "name": "stdout",
     "output_type": "stream",
     "text": [
      "**********BIENVENIDOS AL CURSO DE PYTHON********** \n",
      "\n",
      "_______________BIENVENIDOS AL CURSO DE RSTUDIO_______________\n"
     ]
    }
   ],
   "source": [
    "s='BIENVENIDOS AL CURSO DE PYTHON'\n",
    "e=s.center(len(s)+2*10,'*')\n",
    "print(e,'\\n')\n",
    "\n",
    "s='BIENVENIDOS AL CURSO DE RSTUDIO'\n",
    "e=s.center(len(s)+2*15,'_')\n",
    "print(e)"
   ]
  },
  {
   "cell_type": "markdown",
   "metadata": {},
   "source": [
    "#### 3. MÉTODO COUNT ( substrings, indice inicial, indice final )\n",
    "Este metodo no retorna. Pero lo que hace es contar la cantidad de substrings que aparecen en el str, ya sea de un caracter o más. "
   ]
  },
  {
   "cell_type": "code",
   "execution_count": 32,
   "metadata": {},
   "outputs": [
    {
     "name": "stdout",
     "output_type": "stream",
     "text": [
      "3\n",
      "2\n",
      "4\n"
     ]
    }
   ],
   "source": [
    "x= 'elefante'\n",
    "print(x.count('e'))\n",
    "print(x.count('e',2,len(x)))\n",
    "\n",
    "q= 'tres tristes trigres comen trigo en un trigal'\n",
    "print(q.count('tri',5,100))"
   ]
  },
  {
   "cell_type": "markdown",
   "metadata": {},
   "source": [
    "#### 4. MÉTODO ENDSWITH ( sufijo, indice inicial, indice final )\n",
    "Este método retorna un boleano. Retornará True si termina en el sufijo que mandamos como argumento sino será False, podemos personalizar la búsqueda con los índices."
   ]
  },
  {
   "cell_type": "code",
   "execution_count": 3,
   "metadata": {},
   "outputs": [
    {
     "name": "stdout",
     "output_type": "stream",
     "text": [
      "True\n",
      "True\n",
      "True\n",
      "True\n"
     ]
    }
   ],
   "source": [
    "s = 'pablito clavo un clavito sobre un huequito'\n",
    "d1=s.endswith('quito')\n",
    "d2=s.endswith('huequito')\n",
    "d3=s.endswith('o')\n",
    "d4=s.endswith('vo',6,13)\n",
    "print(d1)\n",
    "print(d2)\n",
    "print(d3)\n",
    "print(d4)"
   ]
  },
  {
   "cell_type": "code",
   "execution_count": 17,
   "metadata": {},
   "outputs": [
    {
     "name": "stdout",
     "output_type": "stream",
     "text": [
      "True\n"
     ]
    }
   ],
   "source": [
    "s = 'pablito clavo un clavito'\n",
    "d1=s.endswith('b',0,3)\n",
    "print(d1)"
   ]
  },
  {
   "cell_type": "markdown",
   "metadata": {},
   "source": [
    "#### 5. MÉTODO EXPANDTABS ( tabsize=8 )\n",
    "Este método retorna una copia de nuestro str de tal modo que los espacios de separación las podemos modificar. El tabsize por defecto es de 8 espacios, contando desde el primer string que escribes, si como argumento mandas un número negativo, el espacio por defecto que se verá es uno."
   ]
  },
  {
   "cell_type": "code",
   "execution_count": 21,
   "metadata": {},
   "outputs": [
    {
     "name": "stdout",
     "output_type": "stream",
     "text": [
      "908\t48\t343\t11\n",
      "908         48          343         11\n"
     ]
    }
   ],
   "source": [
    "t='908\\t48\\t343\\t11'\n",
    "print(t)\n",
    "w=t.expandtabs(12)\n",
    "print(w)"
   ]
  },
  {
   "cell_type": "code",
   "execution_count": 27,
   "metadata": {},
   "outputs": [
    {
     "name": "stdout",
     "output_type": "stream",
     "text": [
      "limon\tpera\tmelocoton\tuva\tdurazno \n",
      "\n",
      "limon      pera       melocoton  uva        durazno\n"
     ]
    }
   ],
   "source": [
    "t='limon\\tpera\\tmelocoton\\tuva\\tdurazno'\n",
    "print(t,'\\n')\n",
    "w=t.expandtabs(11)\n",
    "print(w)"
   ]
  },
  {
   "cell_type": "markdown",
   "metadata": {},
   "source": [
    "#### 6. MÉTODO FIND ( substring, índice inicial, índice final ) \n",
    "Este es un método que retorna el lugar donde se encuentra el substring que mandamos como argumento. Si no encuentra lo que pedimos nos devuelve un -1. Y si es más de un char, solo considerará buscar el indice de la primera letra."
   ]
  },
  {
   "cell_type": "code",
   "execution_count": 31,
   "metadata": {},
   "outputs": [
    {
     "name": "stdout",
     "output_type": "stream",
     "text": [
      "True \n",
      "\n",
      "1 \n",
      "\n",
      "4 \n",
      "\n",
      "3\n"
     ]
    }
   ],
   "source": [
    "a = 'manzanita'\n",
    "print('a' in a,'\\n')\n",
    "s=a.find('a')\n",
    "print(s,'\\n')\n",
    "b=a.find('a',3,len(a))\n",
    "print(b,'\\n')\n",
    "print(a.find('zan'))"
   ]
  },
  {
   "cell_type": "markdown",
   "metadata": {},
   "source": [
    "#### 7. MÉTODO FORMAT( **arg, ***kwargs )\n",
    "Este es un método que retorna. Ejecuta formatos de salida, una forma de presentar el resultado de un script. Este método incorpora los campos de reemplazo que están delimitadas por llaves. Cada campo de reemplazo puede contener 2 tipos de datos: el índice de un argumento posicional (*args) o el nombre de una palabra reservada (keyword). "
   ]
  },
  {
   "cell_type": "code",
   "execution_count": 6,
   "metadata": {},
   "outputs": [
    {
     "name": "stdout",
     "output_type": "stream",
     "text": [
      "la multiplicacion de x por y es: 14 \n"
     ]
    }
   ],
   "source": [
    "x=2\n",
    "y=7\n",
    "a='la multiplicacion de x por y es: {0} '\n",
    "s=a.format(x*y)\n",
    "print(s)"
   ]
  },
  {
   "cell_type": "code",
   "execution_count": 7,
   "metadata": {},
   "outputs": [
    {
     "name": "stdout",
     "output_type": "stream",
     "text": [
      "la multiplicacion de x que es un número entero por y que es otro número entero es: 14 y su suma es: 9 \n"
     ]
    }
   ],
   "source": [
    "x=2\n",
    "y=7\n",
    "a='la multiplicacion de x {0} por y {1} es: {2} y su suma es: {3} '\n",
    "s=a.format('que es un número entero','que es otro número entero',x*y,x+y)\n",
    "print(s)"
   ]
  },
  {
   "cell_type": "code",
   "execution_count": 12,
   "metadata": {},
   "outputs": [
    {
     "name": "stdout",
     "output_type": "stream",
     "text": [
      "la suma de x que tiene el valor de 5 más y que es igual a 3.6 es: 8.6 \n",
      "y el tipo de dato del resultado es: <class 'float'>\n"
     ]
    }
   ],
   "source": [
    "x=5\n",
    "y=3.6\n",
    "print('''la suma de x que tiene el valor de {0} más y que es igual a {1} es: {2} \n",
    "y el tipo de dato del resultado es: {3}'''.format(x,y,x+y,type(x+y)))"
   ]
  },
  {
   "cell_type": "code",
   "execution_count": 14,
   "metadata": {},
   "outputs": [
    {
     "name": "stdout",
     "output_type": "stream",
     "text": [
      "la capital de España es la ciudad de: Madrid\n"
     ]
    }
   ],
   "source": [
    "y=['España','Madrid']\n",
    "print('la capital de {0} es la ciudad de: {1}'.format(y[0],y[-1]))"
   ]
  },
  {
   "cell_type": "code",
   "execution_count": 16,
   "metadata": {},
   "outputs": [
    {
     "name": "stdout",
     "output_type": "stream",
     "text": [
      "la capital de España es la ciudad de: Madrid\n"
     ]
    }
   ],
   "source": [
    "y={'País':'España','Capital':'Madrid'}\n",
    "print('la capital de {0} es la ciudad de: {1}'.format(y['País'],y['Capital']))"
   ]
  },
  {
   "cell_type": "markdown",
   "metadata": {},
   "source": [
    "#### 8. MÉTODO INDEX( substring, indice inicial, indice final )\n",
    "Este es un método muy similar al método find, tambien retorna el índice del string que pasamos por argumento. La única diferencia es en el manejo de errores, el método find mostraba un -1 si no lo encontraba pero este método arroja un error del tipo ValueError."
   ]
  },
  {
   "cell_type": "code",
   "execution_count": 33,
   "metadata": {},
   "outputs": [
    {
     "name": "stdout",
     "output_type": "stream",
     "text": [
      "True \n",
      "\n",
      "7 \n",
      "\n",
      "7 \n",
      "\n",
      "5\n"
     ]
    }
   ],
   "source": [
    "a = 'mueve la cabeza'\n",
    "print('a' in a,'\\n')\n",
    "s=a.index('a')\n",
    "print(s,'\\n')\n",
    "b=a.index('a',3,len(a))\n",
    "print(b,'\\n')\n",
    "print(a.index(' '))"
   ]
  },
  {
   "cell_type": "markdown",
   "metadata": {},
   "source": [
    "#### 9. MÉTODO ISALNUM( )\n",
    "Apartir de ahora utilizaremos métodos que empiezan con IS, que indica identidad. Estos métodos solo retornan valore booleanos. Es un método que verifica si en ese string están escritos caracteres alfa numéricos."
   ]
  },
  {
   "cell_type": "code",
   "execution_count": 43,
   "metadata": {},
   "outputs": [
    {
     "name": "stdout",
     "output_type": "stream",
     "text": [
      "True\n"
     ]
    }
   ],
   "source": [
    "s='454ahdk0'\n",
    "print(s.isalnum())"
   ]
  },
  {
   "cell_type": "code",
   "execution_count": 44,
   "metadata": {},
   "outputs": [
    {
     "name": "stdout",
     "output_type": "stream",
     "text": [
      "False\n"
     ]
    }
   ],
   "source": [
    "s='454ahdk 0'\n",
    "print(s.isalnum())"
   ]
  },
  {
   "cell_type": "markdown",
   "metadata": {},
   "source": [
    "#### 10. MÉTODO ISALPHA( )\n",
    "Este método es similar a la anterior en el sentido que solo admitirá valores alfabéticos y retornará True o False."
   ]
  },
  {
   "cell_type": "code",
   "execution_count": 45,
   "metadata": {},
   "outputs": [
    {
     "name": "stdout",
     "output_type": "stream",
     "text": [
      "True\n"
     ]
    }
   ],
   "source": [
    "w='MAnzaNa'\n",
    "print(w.isalpha())"
   ]
  },
  {
   "cell_type": "code",
   "execution_count": 46,
   "metadata": {},
   "outputs": [
    {
     "name": "stdout",
     "output_type": "stream",
     "text": [
      "False\n"
     ]
    }
   ],
   "source": [
    "w='MAnzaNa?'\n",
    "print(w.isalpha())"
   ]
  },
  {
   "cell_type": "markdown",
   "metadata": {},
   "source": [
    "#### 11. MÉTODO ISDECIMAL( )\n",
    "Este método devuelve True cuando todos los caracteres que integra la cadena son valores numéricos."
   ]
  },
  {
   "cell_type": "code",
   "execution_count": 47,
   "metadata": {},
   "outputs": [
    {
     "name": "stdout",
     "output_type": "stream",
     "text": [
      "False\n"
     ]
    }
   ],
   "source": [
    "w='1234a?'\n",
    "print(w.isdecimal())"
   ]
  },
  {
   "cell_type": "code",
   "execution_count": 49,
   "metadata": {},
   "outputs": [
    {
     "name": "stdout",
     "output_type": "stream",
     "text": [
      "True\n"
     ]
    }
   ],
   "source": [
    "w='12340'\n",
    "print(w.isdecimal())"
   ]
  },
  {
   "cell_type": "markdown",
   "metadata": {},
   "source": [
    "#### 12. MÉTODO ISDIGIT( )\n",
    "Este método es muy similar al método isdecimal. Aceptarán únicamente valores numéricos. La única diferencia es que el método isdecimal es aplicable tbm a strings sujetas a un esquema de codificación Unicode -> u'123'."
   ]
  },
  {
   "cell_type": "code",
   "execution_count": 53,
   "metadata": {},
   "outputs": [
    {
     "name": "stdout",
     "output_type": "stream",
     "text": [
      "False\n"
     ]
    }
   ],
   "source": [
    "p=' 320'\n",
    "print(p.isdigit())"
   ]
  },
  {
   "cell_type": "code",
   "execution_count": 52,
   "metadata": {},
   "outputs": [
    {
     "name": "stdout",
     "output_type": "stream",
     "text": [
      "False\n"
     ]
    }
   ],
   "source": [
    "p='93.20'\n",
    "print(p.isdigit())"
   ]
  },
  {
   "cell_type": "markdown",
   "metadata": {},
   "source": [
    "#### 13. MÉTODO ISLOWER( )\n",
    "Este método retorna True, si todos los caracteres están en minuscula y false si hay algún caracter en mayuscula. "
   ]
  },
  {
   "cell_type": "code",
   "execution_count": 55,
   "metadata": {},
   "outputs": [
    {
     "name": "stdout",
     "output_type": "stream",
     "text": [
      "False\n"
     ]
    }
   ],
   "source": [
    "r='El país de las maravillas es Perú'\n",
    "print(r.islower())"
   ]
  },
  {
   "cell_type": "code",
   "execution_count": 56,
   "metadata": {},
   "outputs": [
    {
     "name": "stdout",
     "output_type": "stream",
     "text": [
      "True\n"
     ]
    }
   ],
   "source": [
    "r='el país de las maravillas es perú'\n",
    "print(r.islower())"
   ]
  },
  {
   "cell_type": "markdown",
   "metadata": {},
   "source": [
    "#### 14. MÉTODO ISSPACE( )\n",
    "Este método retorna True si almenos el string contiene un espacio en blanco, pero ningún otro caracter."
   ]
  },
  {
   "cell_type": "code",
   "execution_count": 57,
   "metadata": {},
   "outputs": [
    {
     "name": "stdout",
     "output_type": "stream",
     "text": [
      "False\n"
     ]
    }
   ],
   "source": [
    "e = 'Bienvenidos a Umaker'\n",
    "print(e.isspace())"
   ]
  },
  {
   "cell_type": "code",
   "execution_count": 58,
   "metadata": {},
   "outputs": [
    {
     "name": "stdout",
     "output_type": "stream",
     "text": [
      "True\n"
     ]
    }
   ],
   "source": [
    "e = '        '\n",
    "print(e.isspace())"
   ]
  },
  {
   "cell_type": "markdown",
   "metadata": {},
   "source": [
    "#### 15. MÉTODO ISTITLE( )\n",
    "Este método retornará True si todos los elementos comiencen en mayúsculas en el string, caso contrario retornará False."
   ]
  },
  {
   "cell_type": "code",
   "execution_count": 4,
   "metadata": {},
   "outputs": [
    {
     "name": "stdout",
     "output_type": "stream",
     "text": [
      "True\n"
     ]
    }
   ],
   "source": [
    "e = 'Bienvenidos A Umaker'\n",
    "print(e.istitle())"
   ]
  },
  {
   "cell_type": "code",
   "execution_count": 2,
   "metadata": {},
   "outputs": [
    {
     "name": "stdout",
     "output_type": "stream",
     "text": [
      "False\n"
     ]
    }
   ],
   "source": [
    "e = 'BIENVENIDOS a UMAKER'\n",
    "print(e.istitle())"
   ]
  },
  {
   "cell_type": "markdown",
   "metadata": {},
   "source": [
    "#### 16. MÉTODO LOWER( )\n",
    "Este método podria ser complemento del método islower. Este método retorna nuestro string, conviertiendola cada caracter en minúscula."
   ]
  },
  {
   "cell_type": "code",
   "execution_count": 63,
   "metadata": {},
   "outputs": [
    {
     "name": "stdout",
     "output_type": "stream",
     "text": [
      "asi en la vida\n"
     ]
    }
   ],
   "source": [
    "a= 'ASI en La Vida'\n",
    "v=a.lower()\n",
    "print(v)"
   ]
  },
  {
   "cell_type": "markdown",
   "metadata": {},
   "source": [
    "#### 17. MÉTODO JOIN( iterable )\n",
    "Este método no retorna nada. Recibe por argumento un objeto iterable, lo que quiere decir, que es un objeto de tipo secuencia que se puede iterar elemento por elemento. Lo genial de este método es que nosotros podemos unir cada uno de esos items del objeto iterable con un strig que eligamos."
   ]
  },
  {
   "cell_type": "code",
   "execution_count": 65,
   "metadata": {},
   "outputs": [
    {
     "name": "stdout",
     "output_type": "stream",
     "text": [
      "a-b-c-d\n"
     ]
    }
   ],
   "source": [
    "a='-'\n",
    "b=('a','b','c','d')\n",
    "print(a.join(b))"
   ]
  },
  {
   "cell_type": "code",
   "execution_count": 69,
   "metadata": {},
   "outputs": [
    {
     "name": "stdout",
     "output_type": "stream",
     "text": [
      "uva !!! pera !!! uvas !!! platano\n"
     ]
    }
   ],
   "source": [
    "a=' !!! '\n",
    "b=['uva','pera','uvas','platano']\n",
    "print(a.join(b))"
   ]
  },
  {
   "cell_type": "markdown",
   "metadata": {},
   "source": [
    "#### 18. MÉTODO LJUST( ancho, rellenar caracter )\n",
    "Este método que retorna, consiste en añadir a la derecha del string tantos caracteres de relleno, teniendo en cuenta que el ancho comienza a contarse desde el str[0]"
   ]
  },
  {
   "cell_type": "code",
   "execution_count": 72,
   "metadata": {},
   "outputs": [
    {
     "name": "stdout",
     "output_type": "stream",
     "text": [
      "platanito       y manzanita\n"
     ]
    }
   ],
   "source": [
    "a = 'platanito'\n",
    "z=a.ljust(len(a)+7)+'y manzanita'\n",
    "print(z)"
   ]
  },
  {
   "cell_type": "code",
   "execution_count": 75,
   "metadata": {},
   "outputs": [
    {
     "name": "stdout",
     "output_type": "stream",
     "text": [
      "platanito@@@@@@@ y manzanita\n"
     ]
    }
   ],
   "source": [
    "a = 'platanito'\n",
    "z=a.ljust(len(a)+7,'@')+' y manzanita'\n",
    "print(z)"
   ]
  },
  {
   "cell_type": "code",
   "execution_count": 80,
   "metadata": {},
   "outputs": [
    {
     "name": "stdout",
     "output_type": "stream",
     "text": [
      "Es usted un maldito, un malagradecido, ...*******\n"
     ]
    }
   ],
   "source": [
    "a = 'Es usted un maldito, un malagradecido, ...'\n",
    "z=a.ljust(len(a)+7,'*')\n",
    "print(z)"
   ]
  },
  {
   "cell_type": "markdown",
   "metadata": {},
   "source": [
    "#### 19. MÉTODO LSTRIP( strings ) \n",
    "Con este método que retorna, lo que podemos  hacer es suprimir de todo el  string escrito, su primer o primeros caracteres para finalmente devolvernos suprimido."
   ]
  },
  {
   "cell_type": "code",
   "execution_count": 12,
   "metadata": {},
   "outputs": [
    {
     "name": "stdout",
     "output_type": "stream",
     "text": [
      "l bosque fui por naranjas y melones\n",
      "Al bosque fui por naranjas y melones\n",
      "fui por naranjas y melones\n"
     ]
    }
   ],
   "source": [
    "w= 'Al bosque fui por naranjas y melones'\n",
    "a= w.lstrip('A')\n",
    "b= w.lstrip('b')\n",
    "c= w.lstrip('Al bosque')\n",
    "print(a)\n",
    "print(b)\n",
    "print(c)"
   ]
  },
  {
   "cell_type": "markdown",
   "metadata": {},
   "source": [
    "#### 20. MÉTODO PARTITION( separador )\n",
    "Este método retorna y lo que permite es separar, sustraer, encapsular entre comas una porción del string, quedando separado por comas el substring anterior y posterior al que nosotros queremos encapsular. Y como la coma es constructor de una tupla, esta misma se devolverá."
   ]
  },
  {
   "cell_type": "code",
   "execution_count": 88,
   "metadata": {},
   "outputs": [
    {
     "name": "stdout",
     "output_type": "stream",
     "text": [
      "('en el mar ', 'la vida', ' es más sabrosa') \n",
      "\n",
      "<class 'tuple'>\n"
     ]
    }
   ],
   "source": [
    "d='en el mar la vida es más sabrosa'\n",
    "f=d.partition('la vida')\n",
    "print(f,'\\n')\n",
    "print(type(f))"
   ]
  },
  {
   "cell_type": "markdown",
   "metadata": {},
   "source": [
    "#### 21. MÉTODO REPLACE( viejo str, nuevo str, conteo )\n",
    "Este método retorna y lo que hace es sustituir un str viejo por uno nuevo que nosotros mandaremos por argumento, también podemos indicarle el número de veces a reemplazar."
   ]
  },
  {
   "cell_type": "code",
   "execution_count": 90,
   "metadata": {},
   "outputs": [
    {
     "name": "stdout",
     "output_type": "stream",
     "text": [
      "Hace mucho bochorno\n",
      "Hace mucho frío\n"
     ]
    }
   ],
   "source": [
    "r= 'Hace mucho bochorno'\n",
    "print(r)\n",
    "print(r.replace('bochorno','frío'))"
   ]
  },
  {
   "cell_type": "code",
   "execution_count": 9,
   "metadata": {},
   "outputs": [
    {
     "name": "stdout",
     "output_type": "stream",
     "text": [
      "Te dije que compres tres platanos,tres peras y tres melones.\n",
      "Te dije que compres dos platanos,dos peras y tres melones.\n"
     ]
    }
   ],
   "source": [
    "r= 'Te dije que compres tres platanos,tres peras y tres melones.'\n",
    "print(r)\n",
    "print(r.replace('tres','dos',2))"
   ]
  },
  {
   "cell_type": "markdown",
   "metadata": {},
   "source": [
    "#### 22. MÉTODO RJUST( ancho, rellenar caracter )\n",
    "Este método que retorna, consiste en añadir a la izquierda del string tantos caracteres de relleno, teniendo en cuenta que el ancho comienza a contarse desde el str[0], es análogo al método ljust."
   ]
  },
  {
   "cell_type": "code",
   "execution_count": 95,
   "metadata": {},
   "outputs": [
    {
     "name": "stdout",
     "output_type": "stream",
     "text": [
      "!!!!!!! platanito y manzanita\n"
     ]
    }
   ],
   "source": [
    "a = ' platanito'\n",
    "z=a.rjust(len(a)+7,'!')+' y manzanita'\n",
    "print(z)"
   ]
  },
  {
   "cell_type": "markdown",
   "metadata": {},
   "source": [
    "#### 23. MÉTODO SPLIT( separador= NONE, maxsplit=-1 )\n",
    "En castellano split significa ruptura o división. Este es un método que retorna, y retorna una lista. Cuando no se modifica el separador por defecto, toma a los espacios en blanco como separador, como tbm nosotros indicarle que separador usar. El maxplit hace referencia a la cantidad de veces que una palabra pueda usarse como separador.  "
   ]
  },
  {
   "cell_type": "code",
   "execution_count": 96,
   "metadata": {},
   "outputs": [
    {
     "name": "stdout",
     "output_type": "stream",
     "text": [
      "['Salí', 'mojado', 'del', 'mar']\n"
     ]
    }
   ],
   "source": [
    "v='Salí mojado del mar'\n",
    "c=v.split()\n",
    "print(c)"
   ]
  },
  {
   "cell_type": "code",
   "execution_count": 98,
   "metadata": {},
   "outputs": [
    {
     "name": "stdout",
     "output_type": "stream",
     "text": [
      "['Salí ', ' del mar']\n"
     ]
    }
   ],
   "source": [
    "v='Salí mojado del mar'\n",
    "c=v.split('mojado')\n",
    "print(c)"
   ]
  },
  {
   "cell_type": "code",
   "execution_count": 107,
   "metadata": {},
   "outputs": [
    {
     "name": "stdout",
     "output_type": "stream",
     "text": [
      "['Salí mo', 'ado del mar']\n"
     ]
    }
   ],
   "source": [
    "v='Salí mojado del mar'\n",
    "c=v.split('j')\n",
    "print(c)"
   ]
  },
  {
   "cell_type": "code",
   "execution_count": 109,
   "metadata": {},
   "outputs": [
    {
     "name": "stdout",
     "output_type": "stream",
     "text": [
      "['', ' rojas, ', ' puras y aguas negras']\n"
     ]
    }
   ],
   "source": [
    "x='aguas rojas, aguas puras y aguas negras'\n",
    "c=x.split('aguas',2)\n",
    "print(c)"
   ]
  },
  {
   "cell_type": "markdown",
   "metadata": {},
   "source": [
    "#### 24. MÉTODO RSPLIT( separador=NONE, maxplit=-1)\n",
    "Es un método que retorna, es análogo al método split anterior, con la única diferencia que empieza de derecha a izquierda para las referencias."
   ]
  },
  {
   "cell_type": "code",
   "execution_count": 111,
   "metadata": {},
   "outputs": [
    {
     "name": "stdout",
     "output_type": "stream",
     "text": [
      "['aguas rojas, ', ' puras y ', ' negras']\n"
     ]
    }
   ],
   "source": [
    "x='aguas rojas, aguas puras y aguas negras'\n",
    "c=x.rsplit('aguas',2)\n",
    "print(c)"
   ]
  },
  {
   "cell_type": "markdown",
   "metadata": {},
   "source": [
    "#### 25. MÉTODO SPLITLINES( mostrar finales de linea )\n",
    "Este es un método que retorna todo nuestro string en forma de una lista, pero reconociendo a los saltos de linea como separadores. Pero esto último hace si no pasamos nada como argumento. La cosa cambia si mandamos un entero, esto muestra donde están los saltos de linea."
   ]
  },
  {
   "cell_type": "code",
   "execution_count": 121,
   "metadata": {},
   "outputs": [
    {
     "name": "stdout",
     "output_type": "stream",
     "text": [
      "['Al mar fui por naranjas']\n",
      "<class 'list'>\n"
     ]
    }
   ],
   "source": [
    "d='Al mar fui por naranjas'\n",
    "r=d.splitlines()\n",
    "print(r)\n",
    "print(type(r))"
   ]
  },
  {
   "cell_type": "code",
   "execution_count": 122,
   "metadata": {},
   "outputs": [
    {
     "name": "stdout",
     "output_type": "stream",
     "text": [
      "['Al mar fui por naranjas', 'cosa que el mar no tiene']\n",
      "cosa que el mar no tiene\n"
     ]
    }
   ],
   "source": [
    "d='''Al mar fui por naranjas\n",
    "cosa que el mar no tiene'''\n",
    "r=d.splitlines()\n",
    "print(r)\n",
    "print(r[-1])"
   ]
  },
  {
   "cell_type": "code",
   "execution_count": 120,
   "metadata": {},
   "outputs": [
    {
     "name": "stdout",
     "output_type": "stream",
     "text": [
      "['Al mar fui por naranjas\\n', 'cosa que el mar no tiene\\n', 'y nadie me avisó que había muchas olas']\n"
     ]
    }
   ],
   "source": [
    "d='''Al mar fui por naranjas\n",
    "cosa que el mar no tiene\n",
    "y nadie me avisó que había muchas olas'''\n",
    "r=d.splitlines(1000)\n",
    "print(r)"
   ]
  },
  {
   "cell_type": "markdown",
   "metadata": {},
   "source": [
    "#### 26. MÉTODO SWAPCASE( )\n",
    "Este es un método que no retorna, y que hace es intercambiar mayúsculas a minúsculas y viceversa, mostrando eso como resultado."
   ]
  },
  {
   "cell_type": "code",
   "execution_count": 123,
   "metadata": {},
   "outputs": [
    {
     "name": "stdout",
     "output_type": "stream",
     "text": [
      "cAlAbAzA\n"
     ]
    }
   ],
   "source": [
    "s='CaLaBaZa'\n",
    "print(s.swapcase())"
   ]
  },
  {
   "cell_type": "markdown",
   "metadata": {},
   "source": [
    "#### 27. MÉTODO TITLE( )\n",
    "Este es un método que retorna. Su principal función es convertir la primera letra de cada substring en mayúscula."
   ]
  },
  {
   "cell_type": "code",
   "execution_count": 126,
   "metadata": {},
   "outputs": [
    {
     "name": "stdout",
     "output_type": "stream",
     "text": [
      "El Rock De Los 80 Es Lo Mejor De Lo Mejor\n"
     ]
    }
   ],
   "source": [
    "w='El rock de los 80 es lo mejor de lo mejor'\n",
    "print(w.title())"
   ]
  },
  {
   "cell_type": "markdown",
   "metadata": {},
   "source": [
    "#### 28. MÉTODO UPPER( )\n",
    "Este es un método que retorna. Su principal función es convertir cada string en mayúscula."
   ]
  },
  {
   "cell_type": "code",
   "execution_count": 128,
   "metadata": {},
   "outputs": [
    {
     "name": "stdout",
     "output_type": "stream",
     "text": [
      "IRON MAIDEN ES MI BANDA FAVORITA\n"
     ]
    }
   ],
   "source": [
    "h='IRON MAIDEN Es Mi Banda Favorita'\n",
    "print(h.upper())"
   ]
  },
  {
   "cell_type": "markdown",
   "metadata": {},
   "source": [
    "#### 29. MÉTODO ZFILL( ancho )\n",
    "Este método no retorna. Y lo que hace es anteponer ceros a la izquierda de nuestro string. Debemos tomar en cuenta en el ancho como argumento, el tamaño de la palabra -> len(str)."
   ]
  },
  {
   "cell_type": "code",
   "execution_count": 130,
   "metadata": {},
   "outputs": [
    {
     "name": "stdout",
     "output_type": "stream",
     "text": [
      "00000 Al concierto de Coldplay fuí\n"
     ]
    }
   ],
   "source": [
    "w= ' Al concierto de Coldplay fuí'\n",
    "print(w.zfill(len(w)+5))"
   ]
  },
  {
   "cell_type": "markdown",
   "metadata": {},
   "source": [
    "#### 30. MÉTODO STRIP( strings )\n",
    "Este es un método que retorna. Y elimina el caracter inicial o final del string."
   ]
  },
  {
   "cell_type": "code",
   "execution_count": 5,
   "metadata": {},
   "outputs": [
    {
     "name": "stdout",
     "output_type": "stream",
     "text": [
      "Al infinito y más allá\n",
      "Al infinito y más \n"
     ]
    }
   ],
   "source": [
    "u='Al infinito y más allá'\n",
    "d=u.strip('i')\n",
    "print(d)\n",
    "d=u.strip('allá')\n",
    "print(d)"
   ]
  },
  {
   "cell_type": "markdown",
   "metadata": {},
   "source": [
    "## LISTAS ( referencias de objetos )\n",
    "Como nos pudimos darnos cuenta en la clase anterior tanto las listas como las tuplas son contenedores de objetos de diferente tipos. Los objetos que están en una lista, las delimitamos con corchetes. El objeto lista es una secuencia.\n",
    "\n",
    "Como todo en python es un objeto, una lista también es un objeto por eso cuenta con los 4 atributos que tiene todo objeto en python( IDE, VALOR, TYPE, contador de referencias ). Pero también como lo mencionamos en un pricipio, este objeto tiene atributos y métodos como cualquier otro objeto en python.\n",
    "> *El constructor de las listas son los corchetes:* [ 2, 3, 'hola' ]\n",
    "\n",
    "> **ATRIBUTOS:** \n",
    "> * *items:*  Cada uno de los miembros que conforman la lista. \n",
    "> * *longitud:*  La cantidad de elementos de toda la lista.\n",
    "\n",
    "> **MÉTODOS:**\n",
    "> * Son las aciones o comportamientos que pueden hacer las listas.\n",
    "> * La única forma de modificar a las listas es con sus métodos, pero tbm es aceptable con la indexación o slacing.\n",
    "> * Con la intrucción help(list) podemos encontar muchos métodos."
   ]
  },
  {
   "cell_type": "markdown",
   "metadata": {},
   "source": [
    "Mencionamos que las listas son mutables porque vamos a modificar en si el objeto, es decir sus atributos serán variables, y cuando mencionan inmutables es porque sus atributos se mantienen constantes. Las listas se caracterizan por ser mutables( esto es, que se puede modificar su contenido con los métodos preconstruidos ), es llamado objeto iterable( que puede ser recorrida en orden de principio a fin por un bucle como el for ), son más versátiles que las tuplas, y son más homogeneos que heterogeneos, a diferencia de las tuplas que son más heterogeneas. Es decir tiende a tener un proclive por items del mismo tipo. \n",
    "\n",
    "Todos los lenguajes de programación tienen la nesecidad de trabajar con colecciones de datos como array en el C. En el caso de python el tipo de dato que hace eso es: *list* . En una lista, realmente se genera varios espacios de memoria correlativos( es decir espacios de sucesión inmediata ), claro excepto una lista vacia que no contiene ningún elemento por ahora. Tanto los items que contiene la lista en memoria se mantienen como una sola unidad. "
   ]
  },
  {
   "cell_type": "code",
   "execution_count": 4,
   "metadata": {},
   "outputs": [
    {
     "name": "stdout",
     "output_type": "stream",
     "text": [
      "[2, 4, 7, 10]\n"
     ]
    }
   ],
   "source": [
    "# LISTAS\n",
    "a = [2, 4, 7, 10]\n",
    "# La variable que le hemos dado como etiqueta actua como si fuera unico\n",
    "# espacio de memoria que engloba a todos los subespacios que se generan por elemento.\n",
    "print(a)\n",
    "# este concepto puede ser extensible a otro tipo de dato de colección o secuencia."
   ]
  },
  {
   "cell_type": "markdown",
   "metadata": {},
   "source": [
    "### TECNICISMO"
   ]
  },
  {
   "cell_type": "markdown",
   "metadata": {},
   "source": [
    "Veamos que es lo que realmente pasa cuando hicimos lo anterior: Ya sea una lista o tupla, estos no almacenan en memoria los objetos que contienen; lo que pasa es que python de forma automáticamente una vez definido tu lista, realiza una copia de cada objeto o de las variables que los refieran. Y es esa copia y no el objeto en si, la que se coloca en la lista. Es por eso que cuando se elimina un elemento o item de la lista, lo que se elimina es la copia( la referencia al objeto) y no el objeto original. Y este objeto se va a la basura pues se elimino la referencia al objeto. Esta referencia es irrecuperable, pero si podemos recuperar es el objeto que está en la basura. "
   ]
  },
  {
   "cell_type": "code",
   "execution_count": 1,
   "metadata": {},
   "outputs": [
    {
     "name": "stdout",
     "output_type": "stream",
     "text": [
      "(['1', '2'], 'casa', 4.67, 'árbol', {1, 2, 3, 4, 5, 6}, 7, {'primero': 1, 'segundo': 2}) \n",
      "\n",
      "1982589866912 \n",
      "\n",
      "<class 'tuple'>\n"
     ]
    }
   ],
   "source": [
    "a = ['1', '2'],'casa', 4.67, 'árbol', {1,2,3,4,5,6}, 7,{'primero':1,'segundo':2}\n",
    "print(a,'\\n')\n",
    "print(id(a),'\\n')\n",
    "print(type(a))"
   ]
  },
  {
   "cell_type": "markdown",
   "metadata": {},
   "source": [
    "> **Python por defecto ante una colección de objetos como la de a, de manera automáticamente categoriza a la variable que los contiene como una tupla.**"
   ]
  },
  {
   "cell_type": "code",
   "execution_count": 3,
   "metadata": {},
   "outputs": [
    {
     "name": "stdout",
     "output_type": "stream",
     "text": [
      "[['1', '2'], 'casa', 4.67, 'árbol', {1, 2, 3, 4, 5, 6}, 7, {'primero': 1, 'segundo': 2}] \n",
      "\n",
      "1982597687808 \n",
      "\n",
      "<class 'list'>\n"
     ]
    }
   ],
   "source": [
    "a=list(a)\n",
    "print(a,'\\n')\n",
    "print(id(a),'\\n')\n",
    "print(type(a))"
   ]
  },
  {
   "cell_type": "code",
   "execution_count": 4,
   "metadata": {},
   "outputs": [],
   "source": [
    "# FORMAS MÁS SEGURAS DE COSTRUIR UNA LISTA ( listas homogeneas, heterogeneas, anidadas )\n",
    "x = [1,2,3,4,5,6,7,8,9]\n",
    "y = ['pera', 'coco', 'naranja', 'limon', 'fresa']\n",
    "z = [0.45, 23.67, 1.3, 0.5]\n",
    "w = ['caballo', 77, 122.32, ('a', 'b', 'c')]\n",
    "h = [x, y, z, w]"
   ]
  },
  {
   "cell_type": "code",
   "execution_count": 14,
   "metadata": {},
   "outputs": [
    {
     "name": "stdout",
     "output_type": "stream",
     "text": [
      "True \n",
      "\n",
      "False \n",
      "\n",
      "False \n",
      "\n",
      "True \n",
      "\n"
     ]
    }
   ],
   "source": [
    "# las listas como secuencias que son, estos son suceptibles a compararse\n",
    "a = ['a','b','c','d'] \n",
    "b = ['a','b','c','d']\n",
    "c = ['a','b','c']\n",
    "d = [1,2,3,4,5]\n",
    "e = ['1','2','3','4','5','6']\n",
    "f = [3,4,5]\n",
    "print(a==b,'\\n')\n",
    "print(a!=b,'\\n')\n",
    "print(d>f,'\\n')\n",
    "print(b>c,'\\n')"
   ]
  },
  {
   "cell_type": "code",
   "execution_count": 3,
   "metadata": {},
   "outputs": [
    {
     "name": "stdout",
     "output_type": "stream",
     "text": [
      "['ANA', 'CLARA', 'LUIS', 'JOSE', 'RAÚL', 'ROSITA'] \n",
      "\n",
      "2473526357248 \n",
      "\n",
      "['LUIS', 'JOSE', 'RAÚL'] \n",
      "\n",
      "2473526353664 \n",
      "\n",
      "['ANA', 'CLARA', 'pepa', 'pipa', 'popa', 'ROSITA'] \n",
      "\n",
      "2473526357248 \n",
      "\n",
      "[] \n",
      "\n",
      "2473526357248 \n",
      "\n"
     ]
    }
   ],
   "source": [
    "lista = ['ANA', 'CLARA', 'LUIS', 'JOSE', 'RAÚL', 'ROSITA']\n",
    "print(lista,'\\n')\n",
    "print(id(lista),'\\n')\n",
    "print(lista[2:5],'\\n')\n",
    "lista[2:5]=['pepa', 'pipa', 'popa']\n",
    "print(id(lista[2:5]),'\\n')\n",
    "print(lista,'\\n')\n",
    "print(id(lista),'\\n')\n",
    "lista[:]=[]\n",
    "print(lista,'\\n')\n",
    "print(id(lista),'\\n')\n"
   ]
  },
  {
   "cell_type": "markdown",
   "metadata": {},
   "source": [
    "### CURIOSIDADES"
   ]
  },
  {
   "cell_type": "code",
   "execution_count": 35,
   "metadata": {},
   "outputs": [
    {
     "name": "stdout",
     "output_type": "stream",
     "text": [
      "(['a', 'b', 'c'], [1.2, 2.3, 3.4]) \n",
      "\n",
      "<class 'tuple'> \n",
      "\n",
      "([1, 2, 3, 'a', 'b', 'c'], [1.2, 2.3, 3.4]) \n",
      "\n",
      "<class 'tuple'> \n",
      "\n",
      "([1.2, 2.3, 3.4, 1.2, 2.3, 3.4, 1, 2, 3], ['a', 'b', 'c'], [1.2, 2.3, 3.4]) \n",
      "\n",
      "<class 'tuple'>\n"
     ]
    },
    {
     "data": {
      "text/plain": [
       "[[1.2, 2.3, 3.4, 1.2, 2.3, 3.4, 1, 2, 3], ['a', 'b', 'c'], [1.2, 2.3, 3.4]]"
      ]
     },
     "execution_count": 35,
     "metadata": {},
     "output_type": "execute_result"
    }
   ],
   "source": [
    "a = [1,2,3]\n",
    "b = ['a', 'b', 'c']\n",
    "c = [1.2, 2.3, 3.4]\n",
    "\n",
    "s = b,c\n",
    "print(s,'\\n')\n",
    "print(type(s),'\\n')\n",
    "\n",
    "p = a + b,c\n",
    "print(p,'\\n')\n",
    "print(type(p),'\\n')\n",
    " \n",
    "e = c*2 + a,b,c\n",
    "print(e,'\\n')\n",
    "print(type(e))\n",
    "# si queremos ibtener una lista\n",
    "r = list(e)\n",
    "r"
   ]
  },
  {
   "cell_type": "markdown",
   "metadata": {},
   "source": [
    "Las listas así como soportan algunos operadores de comparación o relacionales, tambien soportan los operadores de verificación o pertenecia como: \n",
    "> **in**\n",
    "\n",
    "> **not in**\n",
    "\n",
    "Así como el uso de la función len( )."
   ]
  },
  {
   "cell_type": "code",
   "execution_count": 45,
   "metadata": {},
   "outputs": [
    {
     "name": "stdout",
     "output_type": "stream",
     "text": [
      "True \n",
      "\n",
      "False \n",
      "\n",
      "5 \n",
      "\n",
      "4\n"
     ]
    }
   ],
   "source": [
    "lista = ['PARIS', 'LIMA', 'BRASILIA', 'ROMA', 'SANTIAGO']\n",
    "print('PARIS' in lista,'\\n')\n",
    "print('MOSCÚ' in lista,'\\n')\n",
    "print(len(lista),'\\n')\n",
    "print(len(lista[1]))"
   ]
  },
  {
   "cell_type": "markdown",
   "metadata": {},
   "source": [
    "### OPERACIONES CON LISTAS"
   ]
  },
  {
   "cell_type": "markdown",
   "metadata": {},
   "source": [
    "Al igual que con las cadenas de caracteres, se pueden realizar operaciones de suma y multiplicación con las cadenas de caracteres.\n",
    "\n",
    "Al sumar dos listas se obtiene una nueva lista con los valores de las dos que han sido sumadas.\n",
    "\n",
    "Al multiplicar por un número N se repite la lista N veces."
   ]
  },
  {
   "cell_type": "code",
   "execution_count": 33,
   "metadata": {},
   "outputs": [
    {
     "name": "stdout",
     "output_type": "stream",
     "text": [
      "[40, 50, 10, 20, 30]\n"
     ]
    }
   ],
   "source": [
    "lista1 = [10, 20, 30]\n",
    "lista2 = [40, 50]\n",
    "print(lista2 + lista1)"
   ]
  },
  {
   "cell_type": "code",
   "execution_count": 34,
   "metadata": {},
   "outputs": [
    {
     "name": "stdout",
     "output_type": "stream",
     "text": [
      "[10, 20, 30, 10, 20, 30, 10, 20, 30, 10, 20, 30, 10, 20, 30]\n"
     ]
    }
   ],
   "source": [
    "print(lista1 * 5)"
   ]
  },
  {
   "cell_type": "markdown",
   "metadata": {},
   "source": [
    "Lo que caracteriza a las listas es que se pueden modificar sus valores (es mutable). Observe cómo podemos modificar los valores de una lista."
   ]
  },
  {
   "cell_type": "code",
   "execution_count": 1,
   "metadata": {},
   "outputs": [
    {
     "name": "stdout",
     "output_type": "stream",
     "text": [
      "[40, 50] \n",
      "\n",
      "2598501253504\n"
     ]
    }
   ],
   "source": [
    "#se define lista2\n",
    "lista2 = [40, 50]\n",
    "print(lista2,'\\n')\n",
    "print(id(lista2))"
   ]
  },
  {
   "cell_type": "code",
   "execution_count": 2,
   "metadata": {},
   "outputs": [
    {
     "name": "stdout",
     "output_type": "stream",
     "text": [
      "[1600, 60] \n",
      "\n",
      "2598501253504\n"
     ]
    }
   ],
   "source": [
    "#se modifican los valores de lista2 \n",
    "lista2[0] = lista2[0]**2\n",
    "lista2[1] = 60\n",
    "print(lista2,'\\n')\n",
    "print(id(lista2))"
   ]
  },
  {
   "cell_type": "markdown",
   "metadata": {},
   "source": [
    "### METODOS DE LAS LISTAS"
   ]
  },
  {
   "cell_type": "markdown",
   "metadata": {},
   "source": [
    "Mencionamos que las listas son objetos y tiene ciertos comportamientos propios de él, de acuerdo a sus atributos. Mencionamos que las listas son secuencias del tipo mutable, es decir que el objeto puede cambiar sus atributos como lo es sus items y la longitud."
   ]
  },
  {
   "cell_type": "markdown",
   "metadata": {},
   "source": [
    "> Para poder visualizar algunos de los métodos de las listas podemos usar el comando *help(list)* o sino buscar en la documentación. Hay algunos métodos que retornan algo y los que no. Los métodos que retornan algo crean un nuevo objeto, mientras que el otro caso modifica al objeto original"
   ]
  },
  {
   "cell_type": "code",
   "execution_count": 47,
   "metadata": {
    "collapsed": true,
    "jupyter": {
     "outputs_hidden": true
    },
    "tags": []
   },
   "outputs": [
    {
     "name": "stdout",
     "output_type": "stream",
     "text": [
      "Help on class list in module builtins:\n",
      "\n",
      "class list(object)\n",
      " |  list(iterable=(), /)\n",
      " |  \n",
      " |  Built-in mutable sequence.\n",
      " |  \n",
      " |  If no argument is given, the constructor creates a new empty list.\n",
      " |  The argument must be an iterable if specified.\n",
      " |  \n",
      " |  Methods defined here:\n",
      " |  \n",
      " |  __add__(self, value, /)\n",
      " |      Return self+value.\n",
      " |  \n",
      " |  __contains__(self, key, /)\n",
      " |      Return key in self.\n",
      " |  \n",
      " |  __delitem__(self, key, /)\n",
      " |      Delete self[key].\n",
      " |  \n",
      " |  __eq__(self, value, /)\n",
      " |      Return self==value.\n",
      " |  \n",
      " |  __ge__(self, value, /)\n",
      " |      Return self>=value.\n",
      " |  \n",
      " |  __getattribute__(self, name, /)\n",
      " |      Return getattr(self, name).\n",
      " |  \n",
      " |  __getitem__(...)\n",
      " |      x.__getitem__(y) <==> x[y]\n",
      " |  \n",
      " |  __gt__(self, value, /)\n",
      " |      Return self>value.\n",
      " |  \n",
      " |  __iadd__(self, value, /)\n",
      " |      Implement self+=value.\n",
      " |  \n",
      " |  __imul__(self, value, /)\n",
      " |      Implement self*=value.\n",
      " |  \n",
      " |  __init__(self, /, *args, **kwargs)\n",
      " |      Initialize self.  See help(type(self)) for accurate signature.\n",
      " |  \n",
      " |  __iter__(self, /)\n",
      " |      Implement iter(self).\n",
      " |  \n",
      " |  __le__(self, value, /)\n",
      " |      Return self<=value.\n",
      " |  \n",
      " |  __len__(self, /)\n",
      " |      Return len(self).\n",
      " |  \n",
      " |  __lt__(self, value, /)\n",
      " |      Return self<value.\n",
      " |  \n",
      " |  __mul__(self, value, /)\n",
      " |      Return self*value.\n",
      " |  \n",
      " |  __ne__(self, value, /)\n",
      " |      Return self!=value.\n",
      " |  \n",
      " |  __repr__(self, /)\n",
      " |      Return repr(self).\n",
      " |  \n",
      " |  __reversed__(self, /)\n",
      " |      Return a reverse iterator over the list.\n",
      " |  \n",
      " |  __rmul__(self, value, /)\n",
      " |      Return value*self.\n",
      " |  \n",
      " |  __setitem__(self, key, value, /)\n",
      " |      Set self[key] to value.\n",
      " |  \n",
      " |  __sizeof__(self, /)\n",
      " |      Return the size of the list in memory, in bytes.\n",
      " |  \n",
      " |  append(self, object, /)\n",
      " |      Append object to the end of the list.\n",
      " |  \n",
      " |  clear(self, /)\n",
      " |      Remove all items from list.\n",
      " |  \n",
      " |  copy(self, /)\n",
      " |      Return a shallow copy of the list.\n",
      " |  \n",
      " |  count(self, value, /)\n",
      " |      Return number of occurrences of value.\n",
      " |  \n",
      " |  extend(self, iterable, /)\n",
      " |      Extend list by appending elements from the iterable.\n",
      " |  \n",
      " |  index(self, value, start=0, stop=9223372036854775807, /)\n",
      " |      Return first index of value.\n",
      " |      \n",
      " |      Raises ValueError if the value is not present.\n",
      " |  \n",
      " |  insert(self, index, object, /)\n",
      " |      Insert object before index.\n",
      " |  \n",
      " |  pop(self, index=-1, /)\n",
      " |      Remove and return item at index (default last).\n",
      " |      \n",
      " |      Raises IndexError if list is empty or index is out of range.\n",
      " |  \n",
      " |  remove(self, value, /)\n",
      " |      Remove first occurrence of value.\n",
      " |      \n",
      " |      Raises ValueError if the value is not present.\n",
      " |  \n",
      " |  reverse(self, /)\n",
      " |      Reverse *IN PLACE*.\n",
      " |  \n",
      " |  sort(self, /, *, key=None, reverse=False)\n",
      " |      Sort the list in ascending order and return None.\n",
      " |      \n",
      " |      The sort is in-place (i.e. the list itself is modified) and stable (i.e. the\n",
      " |      order of two equal elements is maintained).\n",
      " |      \n",
      " |      If a key function is given, apply it once to each list item and sort them,\n",
      " |      ascending or descending, according to their function values.\n",
      " |      \n",
      " |      The reverse flag can be set to sort in descending order.\n",
      " |  \n",
      " |  ----------------------------------------------------------------------\n",
      " |  Class methods defined here:\n",
      " |  \n",
      " |  __class_getitem__(...) from builtins.type\n",
      " |      See PEP 585\n",
      " |  \n",
      " |  ----------------------------------------------------------------------\n",
      " |  Static methods defined here:\n",
      " |  \n",
      " |  __new__(*args, **kwargs) from builtins.type\n",
      " |      Create and return a new object.  See help(type) for accurate signature.\n",
      " |  \n",
      " |  ----------------------------------------------------------------------\n",
      " |  Data and other attributes defined here:\n",
      " |  \n",
      " |  __hash__ = None\n",
      "\n"
     ]
    }
   ],
   "source": [
    "help(list)"
   ]
  },
  {
   "cell_type": "markdown",
   "metadata": {},
   "source": [
    "#### 1. MÉTODO APPEND ( objeto )"
   ]
  },
  {
   "cell_type": "markdown",
   "metadata": {},
   "source": [
    "El método append() sirve para agregar elementos a una lista. Pero solo permite añadir un único elemento a la vez  y este se coloca al final de la lista. Este método no retorna nada."
   ]
  },
  {
   "cell_type": "code",
   "execution_count": 51,
   "metadata": {},
   "outputs": [
    {
     "name": "stdout",
     "output_type": "stream",
     "text": [
      "['rojo', 'verde', 'azul', 'celeste', 'negro'] \n",
      "\n",
      "5 \n",
      "\n",
      "2473526354752 \n",
      "\n",
      "['rojo', 'verde', 'azul', 'celeste', 'negro', 'blanco'] \n",
      "\n",
      "6\n",
      "2473526354752 \n",
      "\n"
     ]
    }
   ],
   "source": [
    "l = ['rojo', 'verde', 'azul', 'celeste', 'negro']\n",
    "print(l,'\\n')\n",
    "print(len(l),'\\n')\n",
    "print(id(l),'\\n')\n",
    "l.append('blanco')\n",
    "print(l,'\\n')\n",
    "print(len(l))\n",
    "print(id(l),'\\n')"
   ]
  },
  {
   "cell_type": "code",
   "execution_count": 52,
   "metadata": {},
   "outputs": [
    {
     "name": "stdout",
     "output_type": "stream",
     "text": [
      "[40, 50, 15]\n"
     ]
    }
   ],
   "source": [
    "lista2 = [40, 50]\n",
    "lista2.append(15)\n",
    "print(lista2)"
   ]
  },
  {
   "cell_type": "code",
   "execution_count": 53,
   "metadata": {},
   "outputs": [
    {
     "name": "stdout",
     "output_type": "stream",
     "text": [
      "[40, 50, 15, 300]\n"
     ]
    }
   ],
   "source": [
    "lista2.append(300)\n",
    "print(lista2)"
   ]
  },
  {
   "cell_type": "code",
   "execution_count": 54,
   "metadata": {},
   "outputs": [
    {
     "name": "stdout",
     "output_type": "stream",
     "text": [
      "[40, 50, 15, 300, [200, 300]]\n"
     ]
    }
   ],
   "source": [
    "lista2.append([200, 300])\n",
    "print(lista2)"
   ]
  },
  {
   "cell_type": "code",
   "execution_count": 55,
   "metadata": {},
   "outputs": [
    {
     "name": "stdout",
     "output_type": "stream",
     "text": [
      "300\n"
     ]
    }
   ],
   "source": [
    "# Para practicar solicite el elemento 300 de la lista anterior\n",
    "print(lista2[-1][-1])"
   ]
  },
  {
   "cell_type": "markdown",
   "metadata": {},
   "source": [
    "En ocasiones será necesario crear listas vacias y luego utilizar el método append para agregar elementos a la lista."
   ]
  },
  {
   "cell_type": "code",
   "execution_count": 57,
   "metadata": {},
   "outputs": [
    {
     "name": "stdout",
     "output_type": "stream",
     "text": [
      "[]\n",
      "<class 'list'>\n",
      "0\n"
     ]
    }
   ],
   "source": [
    "lista3 = []\n",
    "print(lista3)\n",
    "print(type(lista3))\n",
    "print(len(lista3))"
   ]
  },
  {
   "cell_type": "code",
   "execution_count": 58,
   "metadata": {},
   "outputs": [
    {
     "name": "stdout",
     "output_type": "stream",
     "text": [
      "[20]\n",
      "1\n"
     ]
    }
   ],
   "source": [
    "lista3.append(20)\n",
    "print(lista3)\n",
    "print(len(lista3))"
   ]
  },
  {
   "cell_type": "markdown",
   "metadata": {},
   "source": [
    "La palabra clave \"del\" sirve para eliminar el contenido de las variables (o partes de ese contenido). A continuación se elimina el elemento 2 de la lista4."
   ]
  },
  {
   "cell_type": "code",
   "execution_count": 62,
   "metadata": {},
   "outputs": [
    {
     "name": "stdout",
     "output_type": "stream",
     "text": [
      "[10, 11, 22, 33, 44, 55, 66, 77, 88, 99]\n"
     ]
    }
   ],
   "source": [
    "lista4 = [10,11,22,33,44,55,66,77,88,99]\n",
    "            #0,1,2, 3, 4\n",
    "print(lista4)"
   ]
  },
  {
   "cell_type": "code",
   "execution_count": 64,
   "metadata": {},
   "outputs": [
    {
     "name": "stdout",
     "output_type": "stream",
     "text": [
      "[55, 66, 88, 99]\n",
      "[]\n"
     ]
    }
   ],
   "source": [
    "del lista4[2]\n",
    "print(lista4)\n",
    "del lista4[:4]\n",
    "print(lista4)"
   ]
  },
  {
   "cell_type": "markdown",
   "metadata": {},
   "source": [
    "#### 2. MÉTODO CLEAR ( )"
   ]
  },
  {
   "cell_type": "markdown",
   "metadata": {},
   "source": [
    "El método \".clear\" limpia una lista y deja una lista vacía. Este método no retorna nada."
   ]
  },
  {
   "cell_type": "code",
   "execution_count": 67,
   "metadata": {},
   "outputs": [
    {
     "name": "stdout",
     "output_type": "stream",
     "text": [
      "2473527162240\n"
     ]
    }
   ],
   "source": [
    "lista4 = [10,11,22,33,44,55,66,77,88,99]\n",
    "print(id(lista4))"
   ]
  },
  {
   "cell_type": "code",
   "execution_count": 69,
   "metadata": {},
   "outputs": [
    {
     "name": "stdout",
     "output_type": "stream",
     "text": [
      "[]\n",
      "2473527162240\n"
     ]
    }
   ],
   "source": [
    "lista4.clear()\n",
    "print(lista4)\n",
    "print(id(lista4))"
   ]
  },
  {
   "cell_type": "markdown",
   "metadata": {},
   "source": [
    "#### 3. MÉTODO COPY (lista) "
   ]
  },
  {
   "cell_type": "markdown",
   "metadata": {},
   "source": [
    "Este método nos retoena algo, y es la copia simple de la lista creada."
   ]
  },
  {
   "cell_type": "code",
   "execution_count": 71,
   "metadata": {},
   "outputs": [
    {
     "name": "stdout",
     "output_type": "stream",
     "text": [
      "[3, 5, 6, 8, 9, 23, 8, 999] \n",
      "\n",
      "2473527178752 \n",
      "\n",
      "[3, 5, 6, 8, 9, 23, 8, 999] \n",
      "\n",
      "2473527195200\n"
     ]
    }
   ],
   "source": [
    "l = [3,5,6,8,9,23,8,999]\n",
    "s = l.copy()\n",
    "print(l,'\\n')\n",
    "print(id(l),'\\n')\n",
    "print(s,'\\n')\n",
    "print(id(s))"
   ]
  },
  {
   "cell_type": "markdown",
   "metadata": {},
   "source": [
    "#### 4. MÉTODO COUNT ( item ) "
   ]
  },
  {
   "cell_type": "markdown",
   "metadata": {},
   "source": [
    "Este método retorna algo, y eso es el número de veces que se repite un item de la lista."
   ]
  },
  {
   "cell_type": "code",
   "execution_count": 75,
   "metadata": {},
   "outputs": [
    {
     "name": "stdout",
     "output_type": "stream",
     "text": [
      "2\n",
      "1\n"
     ]
    }
   ],
   "source": [
    "l = ['M','I','G','U','E','L','S','T','E','P','H','A','N','O']\n",
    "a= l.count('A') + l.count('O')\n",
    "b= l.count('N')\n",
    "print(a)\n",
    "print(b)"
   ]
  },
  {
   "cell_type": "markdown",
   "metadata": {},
   "source": [
    "#### 5. MÉTODO EXTEND ( objeto iterable)"
   ]
  },
  {
   "cell_type": "markdown",
   "metadata": {},
   "source": [
    "Con este método podemos conseguir un duplicado de nuestra lista original, pero no me refiero a una copia; sino en la misma lista. Es equivalente a concatenar lista + lista, la misma lista. Aunque en realidad como argumento podemos ingresar cualquier otra lista, tambien podemos ingresar el operador lista * n, que es el número de veces. Este método no retirna sino modifica a la lista original."
   ]
  },
  {
   "cell_type": "code",
   "execution_count": 77,
   "metadata": {},
   "outputs": [
    {
     "name": "stdout",
     "output_type": "stream",
     "text": [
      "[1, 2, 3, 4, 1, 2, 3, 4]\n"
     ]
    }
   ],
   "source": [
    "l = [1,2,3,4]\n",
    "l.extend(l)\n",
    "print(l)"
   ]
  },
  {
   "cell_type": "code",
   "execution_count": 81,
   "metadata": {},
   "outputs": [
    {
     "name": "stdout",
     "output_type": "stream",
     "text": [
      "[1, 2, 3, True, 1, 2, 3, True, 1, 2, 3, True]\n"
     ]
    }
   ],
   "source": [
    "l = [1,2,3,True]\n",
    "l.extend(l*2)\n",
    "print(l)"
   ]
  },
  {
   "cell_type": "code",
   "execution_count": 85,
   "metadata": {},
   "outputs": [
    {
     "name": "stdout",
     "output_type": "stream",
     "text": [
      "[1, 2, 3, True, 2.4, 7.9, [True, False], {3}]\n"
     ]
    }
   ],
   "source": [
    "l = [1,2,3,True]\n",
    "m=(2.4,7.9,[True,False],{3,3,3})\n",
    "l.extend(m)\n",
    "print(l)"
   ]
  },
  {
   "cell_type": "code",
   "execution_count": 131,
   "metadata": {},
   "outputs": [
    {
     "name": "stdout",
     "output_type": "stream",
     "text": [
      "[1, 2, 3, True, 3]\n"
     ]
    }
   ],
   "source": [
    "l = [1,2,3,True]\n",
    "m=(2.4,7.9,{3,3,3})\n",
    "l.extend(m[-1])\n",
    "print(l)"
   ]
  },
  {
   "cell_type": "code",
   "execution_count": 134,
   "metadata": {},
   "outputs": [
    {
     "name": "stdout",
     "output_type": "stream",
     "text": [
      "[1, 2, 3, True, 'h', 'o', 'l', 'a']\n"
     ]
    }
   ],
   "source": [
    "l = [1,2,3,True]\n",
    "m=(2.4,7.9,{3,3,3},'hola')\n",
    "l.extend(m[-1])\n",
    "print(l)"
   ]
  },
  {
   "cell_type": "markdown",
   "metadata": {},
   "source": [
    "#### 6. MÉTODO INDEX ( item , inicio , final )"
   ]
  },
  {
   "cell_type": "markdown",
   "metadata": {},
   "source": [
    "Este método nos retorna el índice del item que pasamos por argumento la primera vez, pero también podemos poner el intervalo de búsqueda de ese item."
   ]
  },
  {
   "cell_type": "code",
   "execution_count": 99,
   "metadata": {},
   "outputs": [
    {
     "name": "stdout",
     "output_type": "stream",
     "text": [
      "3\n",
      "4\n"
     ]
    }
   ],
   "source": [
    "m=(2.4,7.9,[True,False],{3,3,3},0,999)\n",
    "d=m.index({3,3,3})\n",
    "c=m.index(0,2,5)\n",
    "print(d)\n",
    "print(c)"
   ]
  },
  {
   "cell_type": "markdown",
   "metadata": {},
   "source": [
    "#### 7. MÉTODO INSERT ( index , objeto )"
   ]
  },
  {
   "cell_type": "markdown",
   "metadata": {},
   "source": [
    "Este método es más general que el método append ya que podemos insertar cualquier objeto en la ubicación que deseamos de una lista. Las ubicaciones las rncontramos con la indexación. Pero en la indexación negativa pasa algo curioso, se suma una posición más."
   ]
  },
  {
   "cell_type": "code",
   "execution_count": 102,
   "metadata": {},
   "outputs": [
    {
     "name": "stdout",
     "output_type": "stream",
     "text": [
      "['rojo', 'verde', 'azul', 'naranja', 'celeste', 'negro']\n"
     ]
    }
   ],
   "source": [
    "s= ['rojo', 'verde', 'azul', 'celeste', 'negro']\n",
    "s.insert(3,'naranja')\n",
    "print(s)"
   ]
  },
  {
   "cell_type": "code",
   "execution_count": 106,
   "metadata": {},
   "outputs": [
    {
     "name": "stdout",
     "output_type": "stream",
     "text": [
      "['rojo', 'verde', 'azul', 'celeste', 'naranja', 'negro']\n"
     ]
    }
   ],
   "source": [
    "s= ['rojo', 'verde', 'azul', 'celeste', 'negro']\n",
    "s.insert(-1,'naranja')\n",
    "print(s)"
   ]
  },
  {
   "cell_type": "markdown",
   "metadata": {},
   "source": [
    "#### 8. MÉTODO POP ( index )\n"
   ]
  },
  {
   "cell_type": "markdown",
   "metadata": {},
   "source": [
    "Este método es lo contrario del método append, lo que hace este es eliminar un item de la lista pasando como argumento el index de ese elemento. Lo que me retorna es el valor de ese elemento eliminado en si."
   ]
  },
  {
   "cell_type": "code",
   "execution_count": 3,
   "metadata": {},
   "outputs": [
    {
     "name": "stdout",
     "output_type": "stream",
     "text": [
      "5\n",
      "[20, 50, 10, 80, 1]\n"
     ]
    }
   ],
   "source": [
    "t =  [20, 50, 10, 80, 1, 5]\n",
    "x = t.pop()\n",
    "print(x)\n",
    "print(t)"
   ]
  },
  {
   "cell_type": "code",
   "execution_count": 4,
   "metadata": {},
   "outputs": [
    {
     "name": "stdout",
     "output_type": "stream",
     "text": [
      "50\n",
      "[20, 10, 80, 1, 5]\n"
     ]
    }
   ],
   "source": [
    "t =  [20, 50, 10, 80, 1, 5]\n",
    "x = t.pop(1)\n",
    "print(x)\n",
    "print(t)"
   ]
  },
  {
   "cell_type": "markdown",
   "metadata": {},
   "source": [
    "#### 9. MÉTODO REMOVE ( item )"
   ]
  },
  {
   "cell_type": "markdown",
   "metadata": {},
   "source": [
    "Lo que hace este método es remover cualquier elemeneto de la lista pero ahora pasandolé en si el valor, mas no la indexación. El primero en eliminar es el que se encuentra más a la izquierda. Este método no retorna."
   ]
  },
  {
   "cell_type": "code",
   "execution_count": 117,
   "metadata": {},
   "outputs": [
    {
     "name": "stdout",
     "output_type": "stream",
     "text": [
      "['a', 'e', 'i', 'o', 'u']\n"
     ]
    }
   ],
   "source": [
    "e = ['a','e','e','i','o','u']\n",
    "e.remove('e')\n",
    "print(e)"
   ]
  },
  {
   "cell_type": "markdown",
   "metadata": {},
   "source": [
    "#### 10. MÉTODO REVERSE ( )"
   ]
  },
  {
   "cell_type": "markdown",
   "metadata": {},
   "source": [
    "Este método invierte el orden de los items de la lista original. Este método no retorna nada."
   ]
  },
  {
   "cell_type": "code",
   "execution_count": 129,
   "metadata": {},
   "outputs": [
    {
     "name": "stdout",
     "output_type": "stream",
     "text": [
      "['A', 'E', 'I', 'O', 'U'] \n",
      "\n",
      "2473527260992 \n",
      "\n",
      "['U', 'O', 'I', 'E', 'A'] \n",
      "\n",
      "2473527260992\n"
     ]
    }
   ],
   "source": [
    "d=  ['A','E','I','O','U']\n",
    "print(d,'\\n')\n",
    "print(id(d),'\\n')\n",
    "d.reverse()\n",
    "print(d,'\\n')\n",
    "print(id(d))"
   ]
  },
  {
   "cell_type": "code",
   "execution_count": 130,
   "metadata": {},
   "outputs": [
    {
     "name": "stdout",
     "output_type": "stream",
     "text": [
      "['A', 'E', 'I', 'O', 'U'] \n",
      "\n",
      "['U', 'O', 'I', 'E', 'A']\n"
     ]
    }
   ],
   "source": [
    "# EXISTE OTRA FORMA DE HACER LO MISMO SIN NESECIDAD DE RECURRIR AL MÉTODO REVERSE( )\n",
    "d=  ['A','E','I','O','U']\n",
    "print(d,'\\n')\n",
    "print(d[::-1])"
   ]
  },
  {
   "cell_type": "markdown",
   "metadata": {},
   "source": [
    "#### 11. MÉTODO SORT ( reverse = True, False )"
   ]
  },
  {
   "cell_type": "markdown",
   "metadata": {},
   "source": [
    "El método \".sort\" permite ordenar listas. Este método permite ordenar números y cadenas de caracteres. Ordena los elemntos em orden ascendente por defecto pero podemos cambiar eso modificando el parametro por defecto."
   ]
  },
  {
   "cell_type": "code",
   "execution_count": 126,
   "metadata": {},
   "outputs": [
    {
     "name": "stdout",
     "output_type": "stream",
     "text": [
      "[20, 50, 10, 80, 1, 5] \n",
      "\n",
      "[1, 5, 10, 20, 50, 80]\n"
     ]
    }
   ],
   "source": [
    "lista8 = [20, 50, 10, 80, 1, 5]\n",
    "print(lista8,'\\n')\n",
    "lista8.sort()\n",
    "print(lista8)"
   ]
  },
  {
   "cell_type": "code",
   "execution_count": 128,
   "metadata": {},
   "outputs": [
    {
     "name": "stdout",
     "output_type": "stream",
     "text": [
      "[20, 50, 10, 80, 1, 5] \n",
      "\n",
      "[80, 50, 20, 10, 5, 1]\n"
     ]
    }
   ],
   "source": [
    "lista8 = [20, 50, 10, 80, 1, 5]\n",
    "print(lista8,'\\n')\n",
    "lista8.sort(reverse=True)\n",
    "print(lista8)"
   ]
  },
  {
   "cell_type": "markdown",
   "metadata": {},
   "source": [
    "> *Aunque podemos djar el parametro por defecto para que ordene de forma ascendente; y si lo queremos descendente aplicariamos el método reverse().* "
   ]
  },
  {
   "cell_type": "code",
   "execution_count": 2,
   "metadata": {},
   "outputs": [
    {
     "name": "stdout",
     "output_type": "stream",
     "text": [
      "['a', 'd', 'j', 'z']\n"
     ]
    }
   ],
   "source": [
    "letras = [\"a\", \"z\", \"d\", \"j\"]\n",
    "letras.sort()\n",
    "print(letras)"
   ]
  },
  {
   "cell_type": "markdown",
   "metadata": {},
   "source": [
    "## TUPLAS\n",
    "Al igual que las listas son contenedores de objetos y también es una secuencia. Al igual que los strings, comparten la condición de ser secuencias del tipo inmutable\n",
    "* Las tuplas no requieren paresentesis, estas se usan cuando contiene a un objeto iterable\n",
    "> El constructor de las tuplas es la coma"
   ]
  },
  {
   "cell_type": "markdown",
   "metadata": {},
   "source": [
    "### MÉTODOS DE LA TUPLA\n",
    "Dada la condición de inmutabilidad de las tuplas, solo tendremos 2 métodos que no afectarán el contenido de estas. Pero recordar que eso no implica que la tupla o str por ser inmutables, sean intocables."
   ]
  },
  {
   "cell_type": "code",
   "execution_count": 5,
   "metadata": {
    "collapsed": true,
    "jupyter": {
     "outputs_hidden": true
    }
   },
   "outputs": [
    {
     "name": "stdout",
     "output_type": "stream",
     "text": [
      "Help on class tuple in module builtins:\n",
      "\n",
      "class tuple(object)\n",
      " |  tuple(iterable=(), /)\n",
      " |  \n",
      " |  Built-in immutable sequence.\n",
      " |  \n",
      " |  If no argument is given, the constructor returns an empty tuple.\n",
      " |  If iterable is specified the tuple is initialized from iterable's items.\n",
      " |  \n",
      " |  If the argument is a tuple, the return value is the same object.\n",
      " |  \n",
      " |  Built-in subclasses:\n",
      " |      asyncgen_hooks\n",
      " |      UnraisableHookArgs\n",
      " |  \n",
      " |  Methods defined here:\n",
      " |  \n",
      " |  __add__(self, value, /)\n",
      " |      Return self+value.\n",
      " |  \n",
      " |  __contains__(self, key, /)\n",
      " |      Return key in self.\n",
      " |  \n",
      " |  __eq__(self, value, /)\n",
      " |      Return self==value.\n",
      " |  \n",
      " |  __ge__(self, value, /)\n",
      " |      Return self>=value.\n",
      " |  \n",
      " |  __getattribute__(self, name, /)\n",
      " |      Return getattr(self, name).\n",
      " |  \n",
      " |  __getitem__(self, key, /)\n",
      " |      Return self[key].\n",
      " |  \n",
      " |  __getnewargs__(self, /)\n",
      " |  \n",
      " |  __gt__(self, value, /)\n",
      " |      Return self>value.\n",
      " |  \n",
      " |  __hash__(self, /)\n",
      " |      Return hash(self).\n",
      " |  \n",
      " |  __iter__(self, /)\n",
      " |      Implement iter(self).\n",
      " |  \n",
      " |  __le__(self, value, /)\n",
      " |      Return self<=value.\n",
      " |  \n",
      " |  __len__(self, /)\n",
      " |      Return len(self).\n",
      " |  \n",
      " |  __lt__(self, value, /)\n",
      " |      Return self<value.\n",
      " |  \n",
      " |  __mul__(self, value, /)\n",
      " |      Return self*value.\n",
      " |  \n",
      " |  __ne__(self, value, /)\n",
      " |      Return self!=value.\n",
      " |  \n",
      " |  __repr__(self, /)\n",
      " |      Return repr(self).\n",
      " |  \n",
      " |  __rmul__(self, value, /)\n",
      " |      Return value*self.\n",
      " |  \n",
      " |  count(self, value, /)\n",
      " |      Return number of occurrences of value.\n",
      " |  \n",
      " |  index(self, value, start=0, stop=9223372036854775807, /)\n",
      " |      Return first index of value.\n",
      " |      \n",
      " |      Raises ValueError if the value is not present.\n",
      " |  \n",
      " |  ----------------------------------------------------------------------\n",
      " |  Class methods defined here:\n",
      " |  \n",
      " |  __class_getitem__(...) from builtins.type\n",
      " |      See PEP 585\n",
      " |  \n",
      " |  ----------------------------------------------------------------------\n",
      " |  Static methods defined here:\n",
      " |  \n",
      " |  __new__(*args, **kwargs) from builtins.type\n",
      " |      Create and return a new object.  See help(type) for accurate signature.\n",
      "\n"
     ]
    }
   ],
   "source": [
    "help(tuple)"
   ]
  },
  {
   "cell_type": "markdown",
   "metadata": {},
   "source": [
    "#### 1. MÉTODO COUNT( item )\n",
    "Este es un método que retorna algo. Retorna la cantidad de veces que aparece un item en la tupla. Si no lo encuentra retornará 0."
   ]
  },
  {
   "cell_type": "code",
   "execution_count": 1,
   "metadata": {},
   "outputs": [
    {
     "name": "stdout",
     "output_type": "stream",
     "text": [
      "0\n"
     ]
    }
   ],
   "source": [
    "t=(4,4,5,2,4,2,0,8,6,5,4,3)\n",
    "g=t.count(1000)\n",
    "print(g)"
   ]
  },
  {
   "cell_type": "markdown",
   "metadata": {},
   "source": [
    "#### 1. MÉTODO INDEX( item )\n",
    "Este método retorna algo. Nos devuelve el indice del item, que nosotros enviamos por argumento."
   ]
  },
  {
   "cell_type": "code",
   "execution_count": 12,
   "metadata": {},
   "outputs": [
    {
     "name": "stdout",
     "output_type": "stream",
     "text": [
      "0\n"
     ]
    }
   ],
   "source": [
    "t=(4,4,5,2,4,2,0,8,6,5,4,3)\n",
    "g=t.index(4)\n",
    "print(g)"
   ]
  },
  {
   "cell_type": "code",
   "execution_count": 5,
   "metadata": {},
   "outputs": [
    {
     "name": "stdout",
     "output_type": "stream",
     "text": [
      "rock\n",
      "<class 'tuple'>\n",
      "True\n"
     ]
    }
   ],
   "source": [
    "# DESEMPACANDO LA TUPLA\n",
    "t='rock','salsa','cumbia'\n",
    "a,b,c=t\n",
    "print(a)\n",
    "print(type(t))\n",
    "print('rock' in t)"
   ]
  },
  {
   "cell_type": "markdown",
   "metadata": {},
   "source": [
    "Acá en Python tenemos constantes, pero no tiene el mismo objetivo como en otros lenguajes que conservan su mismo valor durante todo el programa. En python una tupla es lo más proximo o se comporta como una constante."
   ]
  },
  {
   "cell_type": "code",
   "execution_count": 15,
   "metadata": {},
   "outputs": [
    {
     "name": "stdout",
     "output_type": "stream",
     "text": [
      "22.667\n",
      "2021-12-06\n"
     ]
    }
   ],
   "source": [
    "import datetime \n",
    "def funcion(partidos,fecha_actual):\n",
    "    amistosos,liga,competiciones_internacionales=partidos\n",
    "    return (amistosos+liga+competiciones_internacionales)/3,fecha_actual\n",
    "promedio,fecha=funcion((12,23,33),datetime.date.today())\n",
    "print('{:.3f}'.format(promedio))\n",
    "print(fecha)"
   ]
  },
  {
   "cell_type": "markdown",
   "metadata": {},
   "source": [
    "## CONJUNTOS\n",
    "Siempre es bueno recordar lo que estamos viendo. Hasta acá,sabemos que estamos manejando tipos de datos estructurales, complejos o de tipo colección. Es decir que son contenedores o que coleccionan objetos de diferentes tipos. Mencionamos también que los strings, tuplas y listas son tipos de datos secuenciales porque son estructuras de datos ordenados. Ahora estamos manejando los conjuntos que es el tipo de dato menos usado; tiene una estructura de datos no ordenado."
   ]
  },
  {
   "cell_type": "markdown",
   "metadata": {},
   "source": [
    ">Existen 2 tipos de conjuntos:\n",
    ">* **set(propiamente dicho)**: Se refiere a un tipo de dato colección mutable.\n",
    ">* **frozenset**: Se refiere a un tipo de dato colección inmutable.\n",
    ">Sea cual sea el tipo de conjunto, estas no son secuenciales. Es decir, que no es aplicable la indexación o el slacing. También es conocido como un caso especial de una tupla.\n",
    ">A los conjuntos solo les podemos añadir elementos o items del tipo hash"
   ]
  },
  {
   "cell_type": "markdown",
   "metadata": {},
   "source": [
    "*Todos los tipos de datos inmutables, es decir, aquellos que no se pueden modificar como los: str, tuple, frozenset, int, float son objetos del tipo hash. Por el contrario los tipos de datos mutables como: list, set, dict son objetos no hash.*"
   ]
  },
  {
   "cell_type": "markdown",
   "metadata": {},
   "source": [
    "| OBJETO HASH   |    OBJETO NO HASH |\n",
    "| :------------ | :------------ |\n",
    "| str | list |\n",
    "| tuple | set |\n",
    "| int | dict |\n",
    "| float |\n",
    "| frozenset |"
   ]
  },
  {
   "cell_type": "code",
   "execution_count": 35,
   "metadata": {},
   "outputs": [
    {
     "name": "stdout",
     "output_type": "stream",
     "text": [
      "{2, 4, 6, (2+7j), (3, 5), 'hola'}\n",
      "<class 'set'>\n"
     ]
    }
   ],
   "source": [
    "# UNA CONJUNTO SOLO CONTIENE OBJETOS HASH\n",
    "a={2,4,6,(3,5),'hola',2+7j}\n",
    "print(a)\n",
    "print(type(a))"
   ]
  },
  {
   "cell_type": "code",
   "execution_count": 39,
   "metadata": {},
   "outputs": [
    {
     "ename": "TypeError",
     "evalue": "unhashable type: 'list'",
     "output_type": "error",
     "traceback": [
      "\u001b[1;31m---------------------------------------------------------------------------\u001b[0m",
      "\u001b[1;31mTypeError\u001b[0m                                 Traceback (most recent call last)",
      "\u001b[1;32m~\\AppData\\Local\\Temp/ipykernel_19412/1764740131.py\u001b[0m in \u001b[0;36m<module>\u001b[1;34m\u001b[0m\n\u001b[0;32m      1\u001b[0m \u001b[1;31m# UN CONJUNTO NO CONTIENE OBJETOS NO HASH\u001b[0m\u001b[1;33m\u001b[0m\u001b[1;33m\u001b[0m\u001b[0m\n\u001b[1;32m----> 2\u001b[1;33m \u001b[0ma\u001b[0m\u001b[1;33m=\u001b[0m\u001b[1;33m{\u001b[0m\u001b[1;36m2\u001b[0m\u001b[1;33m,\u001b[0m\u001b[1;36m4\u001b[0m\u001b[1;33m,\u001b[0m\u001b[1;36m6\u001b[0m\u001b[1;33m,\u001b[0m\u001b[1;33m(\u001b[0m\u001b[1;36m3\u001b[0m\u001b[1;33m,\u001b[0m\u001b[1;36m5\u001b[0m\u001b[1;33m)\u001b[0m\u001b[1;33m,\u001b[0m\u001b[1;34m'hola'\u001b[0m\u001b[1;33m,\u001b[0m\u001b[1;33m[\u001b[0m\u001b[1;32mTrue\u001b[0m\u001b[1;33m,\u001b[0m\u001b[1;32mFalse\u001b[0m\u001b[1;33m]\u001b[0m\u001b[1;33m}\u001b[0m\u001b[1;33m\u001b[0m\u001b[1;33m\u001b[0m\u001b[0m\n\u001b[0m\u001b[0;32m      3\u001b[0m \u001b[0mprint\u001b[0m\u001b[1;33m(\u001b[0m\u001b[0ma\u001b[0m\u001b[1;33m)\u001b[0m\u001b[1;33m\u001b[0m\u001b[1;33m\u001b[0m\u001b[0m\n\u001b[0;32m      4\u001b[0m \u001b[0mprint\u001b[0m\u001b[1;33m(\u001b[0m\u001b[0mtype\u001b[0m\u001b[1;33m(\u001b[0m\u001b[0ma\u001b[0m\u001b[1;33m)\u001b[0m\u001b[1;33m)\u001b[0m\u001b[1;33m\u001b[0m\u001b[1;33m\u001b[0m\u001b[0m\n",
      "\u001b[1;31mTypeError\u001b[0m: unhashable type: 'list'"
     ]
    }
   ],
   "source": [
    "# UN CONJUNTO NO CONTIENE OBJETOS NO HASH\n",
    "a={2,4,6,(3,5),'hola',[True,False]}\n",
    "print(a)\n",
    "print(type(a))\n"
   ]
  },
  {
   "cell_type": "code",
   "execution_count": 36,
   "metadata": {},
   "outputs": [
    {
     "name": "stdout",
     "output_type": "stream",
     "text": [
      "{2, 4, 6, (3, 5), 'hola'} \n",
      "\n",
      "<class 'set'> \n",
      "\n",
      "frozenset({2, 4, 6, (3, 5), 'hola'}) \n",
      "\n",
      "<class 'frozenset'>\n"
     ]
    }
   ],
   "source": [
    "# EXISTEN 2 TIPOS DE CONJUNTOS\n",
    "a={2,4,6,(3,5),'hola'}\n",
    "print(a,'\\n')\n",
    "print(type(a),'\\n')\n",
    "# Otros prefieren llamarlo a frozenset como un constructor más.\n",
    "s=frozenset(a)\n",
    "print(s,'\\n') # encerrado entre parentesis lo asemeja a una tupla\n",
    "print(type(s))"
   ]
  },
  {
   "cell_type": "code",
   "execution_count": 37,
   "metadata": {},
   "outputs": [
    {
     "name": "stdout",
     "output_type": "stream",
     "text": [
      "{'2', '4', '1', '3', '5', ' '}\n",
      "{'p', 'd', 'e', 'u', 'r', 'a'}\n"
     ]
    }
   ],
   "source": [
    "w=set('1243 54')\n",
    "print(w)\n",
    "a=set('puredepapa')\n",
    "print(a)"
   ]
  },
  {
   "cell_type": "markdown",
   "metadata": {},
   "source": [
    "### MÉTODOS DE LOS CONJUNTOS \n",
    "Recuerda que los elementos de un conjunto no tienen cierto orden a la hora de almacenarse."
   ]
  },
  {
   "cell_type": "markdown",
   "metadata": {},
   "source": [
    "#### 1. MÉTODO ADD( item )\n",
    "Este método no retorna. Y podemos añadir un único elemento al conjunto."
   ]
  },
  {
   "cell_type": "code",
   "execution_count": 9,
   "metadata": {},
   "outputs": [
    {
     "name": "stdout",
     "output_type": "stream",
     "text": [
      "{'pera', 'fresa', 'uva', 'papaya', 'sandia'}\n"
     ]
    }
   ],
   "source": [
    "c={'sandia','pera','fresa','uva'}\n",
    "c.add('papaya')\n",
    "print(c)"
   ]
  },
  {
   "cell_type": "code",
   "execution_count": 10,
   "metadata": {},
   "outputs": [
    {
     "name": "stdout",
     "output_type": "stream",
     "text": [
      "{'pera', 'fresa', 'uva', 'sandia', 'papaya'}\n"
     ]
    }
   ],
   "source": [
    "c={'sandia','pera','fresa','uva'}\n",
    "u={'papaya'}\n",
    "q=c|u\n",
    "print(q)"
   ]
  },
  {
   "cell_type": "markdown",
   "metadata": {},
   "source": [
    "#### 2. MÉTODO COPY( )\n",
    "Este método retorna algo. Genera una copia del original, y asi no modificamos los items del primero."
   ]
  },
  {
   "cell_type": "code",
   "execution_count": 16,
   "metadata": {},
   "outputs": [
    {
     "name": "stdout",
     "output_type": "stream",
     "text": [
      "{'uva', 'pera', 'sandia', 'fresa'}\n",
      "{'pera', 'fresa', 'tomate', 'uva', 'sandia'}\n"
     ]
    }
   ],
   "source": [
    "c={'sandia','pera','fresa','uva'}\n",
    "f=c.copy()\n",
    "f.add('tomate')\n",
    "print(c)\n",
    "print(f)"
   ]
  },
  {
   "cell_type": "markdown",
   "metadata": {},
   "source": [
    "#### 3. MÉTODO CLEAR( )\n",
    "Este metodo no retorna. Lo que hace es limpiar o vaciar todos los elementos del conjunto. Quedando un conjunto vacio."
   ]
  },
  {
   "cell_type": "code",
   "execution_count": 17,
   "metadata": {},
   "outputs": [
    {
     "name": "stdout",
     "output_type": "stream",
     "text": [
      "set()\n",
      "{'uva', 'pera', 'sandia', 'fresa'}\n"
     ]
    }
   ],
   "source": [
    "f.clear()\n",
    "print(f)\n",
    "print(c)"
   ]
  },
  {
   "cell_type": "markdown",
   "metadata": {},
   "source": [
    "#### 4. MÉTODO DIFFERENCE( conjuntos )\n",
    "Este método retorna. Nos delvuelve la diferencia entre 2 conjuntos o más, recordar que no se toma la intersección. Y solo los elementos del primer conjunto. Este puede tener más de un conjunto."
   ]
  },
  {
   "cell_type": "code",
   "execution_count": 21,
   "metadata": {},
   "outputs": [
    {
     "name": "stdout",
     "output_type": "stream",
     "text": [
      "{'a', 'c'}\n",
      "{'e', 'h'}\n",
      "{'c'}\n",
      "{'a', 'c'}\n"
     ]
    }
   ],
   "source": [
    "a={'a','b','c','d'}\n",
    "b={'e','b','h','d'}\n",
    "c={'a','h','k'}\n",
    "x1=a.difference(b)\n",
    "x2=b.difference(a)\n",
    "z1=a - b - c\n",
    "z2=a - (b - c)\n",
    "print(x1)\n",
    "print(x2)\n",
    "print(z1)\n",
    "print(z2)"
   ]
  },
  {
   "cell_type": "markdown",
   "metadata": {},
   "source": [
    "#### 5. MÉTODO SYMMETRIC_DIFFERENCE( conjunto )\n",
    "Este método nos retorna. Devuelve la diferencia simétrica, donde se considera los elementos de ambos conjuntos excepto la intersección. Solo puede tener un solo argumento."
   ]
  },
  {
   "cell_type": "code",
   "execution_count": 24,
   "metadata": {},
   "outputs": [
    {
     "name": "stdout",
     "output_type": "stream",
     "text": [
      "{0, 1, 6, 8, 54}\n",
      "{0, 1, 6, 8, 54}\n"
     ]
    }
   ],
   "source": [
    "a={1,3,54,8,10}\n",
    "b={3,10,6,0}\n",
    "d1=a.symmetric_difference(b)\n",
    "d2=a ^ b\n",
    "print(d1)\n",
    "print(d2)\n",
    "# si queremos realizar la diferencia simétrica de más de un conjunto, hacemos uso\n",
    "# del operador ' ^ '."
   ]
  },
  {
   "cell_type": "markdown",
   "metadata": {},
   "source": [
    "#### 6. MÉTODO DISCARD( item a eliminar )\n",
    "Este método no devuelve. Lo que hace es eliminar el elemento del conjunto que psaemos como argumento.\n"
   ]
  },
  {
   "cell_type": "code",
   "execution_count": 25,
   "metadata": {},
   "outputs": [
    {
     "name": "stdout",
     "output_type": "stream",
     "text": [
      "{'h', 'a'}\n"
     ]
    }
   ],
   "source": [
    "c={'a','h','k'}\n",
    "c.discard('k')\n",
    "print(c)"
   ]
  },
  {
   "cell_type": "markdown",
   "metadata": {},
   "source": [
    "#### 7. MÉTODO INTERSECTION( conjuntos )\n",
    "Este método retorna. Nos devuelve el valor, item común de 2 o más conjuntos."
   ]
  },
  {
   "cell_type": "code",
   "execution_count": 26,
   "metadata": {},
   "outputs": [
    {
     "name": "stdout",
     "output_type": "stream",
     "text": [
      "{'pera', 'fresa'}\n",
      "{'pera', 'fresa'}\n"
     ]
    }
   ],
   "source": [
    "c={'sandia','pera','fresa','uva'}\n",
    "u={'papaya','tomate','perejil','pera','fresa'}\n",
    "x1=c.intersection(u) # x=u.intersection(c)\n",
    "x2= c & u\n",
    "print(x1)\n",
    "print(x2)"
   ]
  },
  {
   "cell_type": "markdown",
   "metadata": {},
   "source": [
    "#### 8. MÉTODO POP( )\n",
    "Este método retorna. Talvez recuerdes este método para las listas, pues acá es similar. La única diferencia es que no se eliminará el último elemento o el elemento que indicamos con un índice, sino cualquier elemento aleatorio."
   ]
  },
  {
   "cell_type": "code",
   "execution_count": 27,
   "metadata": {},
   "outputs": [
    {
     "name": "stdout",
     "output_type": "stream",
     "text": [
      "perejil\n",
      "{'pera', 'fresa', 'tomate', 'papaya'}\n"
     ]
    }
   ],
   "source": [
    "u={'papaya','tomate','perejil','pera','fresa'}\n",
    "d=u.pop()\n",
    "print(d)\n",
    "print(u)"
   ]
  },
  {
   "cell_type": "markdown",
   "metadata": {},
   "source": [
    "#### 9. MÉTODO REMOVE( item )\n",
    "Este elemento no retorna. Realiza una función similar a la de pop, con la única diferencia que ahora sabremos cual será el item a ser eliminado."
   ]
  },
  {
   "cell_type": "code",
   "execution_count": 28,
   "metadata": {},
   "outputs": [
    {
     "name": "stdout",
     "output_type": "stream",
     "text": [
      "{'perejil', 'pera', 'tomate', 'papaya'}\n"
     ]
    }
   ],
   "source": [
    "u={'papaya','tomate','perejil','pera','fresa'}\n",
    "u.remove('fresa')\n",
    "print(u)"
   ]
  },
  {
   "cell_type": "markdown",
   "metadata": {},
   "source": [
    "#### 10. MÉTODO UNION( conjuntos )\n",
    "Este método retorna. Nos devuelve la union de 2 o más conjuntos, sin tomar en cuenta la intersección como es lógico. Puede tener más de un argumento."
   ]
  },
  {
   "cell_type": "code",
   "execution_count": 29,
   "metadata": {},
   "outputs": [
    {
     "name": "stdout",
     "output_type": "stream",
     "text": [
      "{1, 'perejil', 'pera', 3, 'fresa', 8, 'tomate', 10, 54, 'papaya'}\n"
     ]
    }
   ],
   "source": [
    "u={'papaya','tomate','perejil','pera','fresa'}\n",
    "a={1,3,54,8,10}\n",
    "s={'a','b','c','d'}\n",
    "r=u.union(a)\n",
    "print(r)"
   ]
  },
  {
   "cell_type": "code",
   "execution_count": 30,
   "metadata": {},
   "outputs": [
    {
     "name": "stdout",
     "output_type": "stream",
     "text": [
      "{1, 'perejil', 'pera', 3, 'd', 'c', 'fresa', 8, 'tomate', 10, 54, 'papaya', 'a', 'b'}\n"
     ]
    }
   ],
   "source": [
    "print(u | a | s)"
   ]
  },
  {
   "cell_type": "markdown",
   "metadata": {},
   "source": [
    "#### 11. MÉTODO UPDATE( conjuntos )\n",
    "Este método no retorna. Es análogo al método union, lá unica diferencia que se hace unión agregando elementos al primer conjunto pero también es más efectivo que el método add que solo es posibre agregar elemento por elemento."
   ]
  },
  {
   "cell_type": "code",
   "execution_count": 33,
   "metadata": {},
   "outputs": [
    {
     "name": "stdout",
     "output_type": "stream",
     "text": [
      "None\n"
     ]
    }
   ],
   "source": [
    "u={'papaya','tomate','perejil','pera','fresa'}\n",
    "a={1,3,54,8,10}\n",
    "u.update(a)\n",
    "print(u)\n",
    "print(a)"
   ]
  },
  {
   "cell_type": "markdown",
   "metadata": {},
   "source": [
    "#### 12. MÉTODO ISDISJOINT( conjunto )\n",
    "Este método retorna valores booleanos. Al igual que los métodos de los ' str ' que comenzaban con is, estos retornan True o False. Acá nos pregunta si ambos conjuntos son disjuntos, es decir, que si tienen elementos en común."
   ]
  },
  {
   "cell_type": "code",
   "execution_count": 32,
   "metadata": {},
   "outputs": [
    {
     "name": "stdout",
     "output_type": "stream",
     "text": [
      "False\n"
     ]
    }
   ],
   "source": [
    "u={1,'papaya','tomate','perejil','pera','fresa'}\n",
    "a={1,3,54,8,10}\n",
    "print(u.isdisjoint(a))\n"
   ]
  },
  {
   "cell_type": "markdown",
   "metadata": {},
   "source": [
    "### FROZENSET\n",
    "Es un conjunto fijo, de caracter inmutable. Tiene una sintaxis particular.\n",
    "\n",
    "**frozenset( objeto iterable )**. Recordar que un objeto iterable es todo tipo de datos que se puede recorrer elemento por elemento con un ciclo for."
   ]
  },
  {
   "cell_type": "code",
   "execution_count": 39,
   "metadata": {},
   "outputs": [
    {
     "name": "stdout",
     "output_type": "stream",
     "text": [
      "frozenset({5, 12, 4})\n",
      "frozenset({'i', 'l', 'o', 'm', 's', 'g', 'u', 't', ' ', 'a', 'h'})\n"
     ]
    }
   ],
   "source": [
    "# MENCIONAMOS QUE ES UN CONJUNTO Y TUPLA A LA VEZ.\n",
    "s=frozenset([12,4,5])\n",
    "a=frozenset('hola amiguitos')\n",
    "print(s)\n",
    "print(a)"
   ]
  },
  {
   "cell_type": "code",
   "execution_count": 44,
   "metadata": {},
   "outputs": [
    {
     "name": "stdout",
     "output_type": "stream",
     "text": [
      "<class 'frozenset'>\n",
      "<class 'set'>\n",
      "frozenset({3, 4, 5, 12})\n",
      "frozenset({4, 5})\n",
      "frozenset({12})\n",
      "frozenset({12, 3})\n"
     ]
    }
   ],
   "source": [
    "# El tipo de dato  frozenset puede aplicar los métodos de los set pero que no modifiquen.\n",
    "a=frozenset({5, 12, 4})\n",
    "b={3,5,4}\n",
    "print(type(a))\n",
    "print(type(b))\n",
    "print(a | b)\n",
    "print(a & b)\n",
    "print(a - b)\n",
    "print(a ^ b)"
   ]
  },
  {
   "cell_type": "markdown",
   "metadata": {},
   "source": [
    "## DICCIONARIOS"
   ]
  },
  {
   "cell_type": "markdown",
   "metadata": {},
   "source": [
    "Un diccionario en python constituye una estructura, una dato de tipo colección, mutable y desordenada. Tiene como función principal darnos acceso a los valores asignados mediante las claves."
   ]
  },
  {
   "cell_type": "code",
   "execution_count": 56,
   "metadata": {},
   "outputs": [
    {
     "name": "stdout",
     "output_type": "stream",
     "text": [
      "{'a': 'rojo', 'b': 'azul', 'c': 'verde'}\n",
      "<class 'dict'>\n",
      "True\n",
      "False\n"
     ]
    }
   ],
   "source": [
    "# PRIMERA FORMA DE CREAR UN DICCIONARIO\n",
    "a={'a':'rojo','b':'azul','c':'verde'}\n",
    "print(a)\n",
    "print(type(a))\n",
    "print('a' in a)\n",
    "# Nos damos cuenta que los operadores de pertenencia: in , not in\n",
    "print('rojo' in a)"
   ]
  },
  {
   "cell_type": "code",
   "execution_count": 53,
   "metadata": {},
   "outputs": [
    {
     "name": "stdout",
     "output_type": "stream",
     "text": [
      "{'a': 'rojo', 'b': 'azul', 'c': 'verde'}\n",
      "<class 'dict'>\n",
      "True\n"
     ]
    }
   ],
   "source": [
    "# SEGUNDA FORMA DE CREAR UN DICCIONARIO\n",
    "b=dict(a='rojo',b='azul',c='verde')\n",
    "print(b)\n",
    "print(type(b))"
   ]
  },
  {
   "cell_type": "markdown",
   "metadata": {},
   "source": [
    "### Operaciones con diccionarios"
   ]
  },
  {
   "cell_type": "markdown",
   "metadata": {},
   "source": [
    "Los diccionarios son mutables al igual que las listas, pero los diccionarios son desordenados; por lo que presentan operaciones similares. Los diccionarios no soportan la indexación y slacing"
   ]
  },
  {
   "cell_type": "code",
   "execution_count": 57,
   "metadata": {},
   "outputs": [
    {
     "name": "stdout",
     "output_type": "stream",
     "text": [
      "{'nombre': 'Felipe', 'edad': 15}\n"
     ]
    }
   ],
   "source": [
    "diccionario1 = {\"nombre\": \"Felipe\", \"edad\": 15}\n",
    "print(diccionario1)"
   ]
  },
  {
   "cell_type": "markdown",
   "metadata": {},
   "source": [
    "Se puede agregar una nueva pareja clave: valor a un diccionario. Para ello se escribe la sintaxis:\n",
    "\n",
    "diccionario[nuevaClave] = nuevoValor"
   ]
  },
  {
   "cell_type": "code",
   "execution_count": 58,
   "metadata": {},
   "outputs": [
    {
     "name": "stdout",
     "output_type": "stream",
     "text": [
      "{'nombre': 'Felipe', 'edad': 15, 'nacionalidad': 'peruana'}\n"
     ]
    }
   ],
   "source": [
    "diccionario1[\"nacionalidad\"] = \"peruana\"\n",
    "print(diccionario1)"
   ]
  },
  {
   "cell_type": "code",
   "execution_count": 99,
   "metadata": {},
   "outputs": [
    {
     "name": "stdout",
     "output_type": "stream",
     "text": [
      "{'nacionalidad': 'italiano', 'lista': [1, 2, 3], 'edad': 18}\n"
     ]
    }
   ],
   "source": [
    "# Cuando agregamos de esta forma, siempre se pone al final.\n",
    "diccionario1[\"lista\"] = [1,2,3]\n",
    "diccionario1['edad']=18\n",
    "print(diccionario1)"
   ]
  },
  {
   "cell_type": "code",
   "execution_count": 100,
   "metadata": {},
   "outputs": [
    {
     "name": "stdout",
     "output_type": "stream",
     "text": [
      "{'nacionalidad': 'italiano', 'edad': 18}\n"
     ]
    }
   ],
   "source": [
    "del diccionario1[\"lista\"]\n",
    "print(diccionario1)"
   ]
  },
  {
   "cell_type": "code",
   "execution_count": 91,
   "metadata": {},
   "outputs": [
    {
     "name": "stdout",
     "output_type": "stream",
     "text": [
      "{'nombre': 'Felipe', 'edad': 18, 'nacionalidad': 'italiano'}\n"
     ]
    }
   ],
   "source": [
    "diccionario1['nacionalidad']='italiano'\n",
    "print(diccionario1)"
   ]
  },
  {
   "cell_type": "markdown",
   "metadata": {},
   "source": [
    "Se puede definir un diccionario vacio e ir agregando datos"
   ]
  },
  {
   "cell_type": "code",
   "execution_count": 60,
   "metadata": {},
   "outputs": [
    {
     "name": "stdout",
     "output_type": "stream",
     "text": [
      "{}\n"
     ]
    }
   ],
   "source": [
    "# Es necesario tener tipos de datos declarados como vacios, cuando no sabemos que almacenar.\n",
    "diccionario2 = {}\n",
    "print(diccionario2)"
   ]
  },
  {
   "cell_type": "code",
   "execution_count": 86,
   "metadata": {},
   "outputs": [
    {
     "name": "stdout",
     "output_type": "stream",
     "text": [
      "{'nombre': 'Sebastián'}\n"
     ]
    }
   ],
   "source": [
    "diccionario2[\"nombre\"] = \"Sebastián\"\n",
    "print(diccionario2)"
   ]
  },
  {
   "cell_type": "markdown",
   "metadata": {},
   "source": [
    "No se puede agregar datos a un diccionario que no ha sido definido con anticipación."
   ]
  },
  {
   "cell_type": "code",
   "execution_count": null,
   "metadata": {},
   "outputs": [],
   "source": [
    "# primero se tiene que declarar el prototipo de un dict vacio.\n",
    "diccionario3[\"año\"] = 2021\n",
    "print(diccionario3)"
   ]
  },
  {
   "cell_type": "markdown",
   "metadata": {},
   "source": [
    "El problema se resuelve definiendo con anticipación el diccionario vacío"
   ]
  },
  {
   "cell_type": "code",
   "execution_count": 62,
   "metadata": {},
   "outputs": [
    {
     "name": "stdout",
     "output_type": "stream",
     "text": [
      "{'año': 2021}\n"
     ]
    }
   ],
   "source": [
    "diccionario3 = {}\n",
    "diccionario3[\"año\"] = 2021\n",
    "print(diccionario3)"
   ]
  },
  {
   "cell_type": "markdown",
   "metadata": {},
   "source": [
    "También puede crear un diccionario utilizando la función dict()."
   ]
  },
  {
   "cell_type": "code",
   "execution_count": 81,
   "metadata": {},
   "outputs": [
    {
     "name": "stdout",
     "output_type": "stream",
     "text": [
      "{'nombre': 'F', 'edad': 50}\n"
     ]
    }
   ],
   "source": [
    "diccionario4 = dict(nombre = \"F\", edad = 50)\n",
    "print(diccionario4)"
   ]
  },
  {
   "cell_type": "markdown",
   "metadata": {},
   "source": [
    "### MÉTODOS DE LOS DICCIONARIOS"
   ]
  },
  {
   "cell_type": "markdown",
   "metadata": {},
   "source": [
    "#### 1. MÉTODO CLEAR( )\n",
    "Este método no retorna algo. Este método lo que hace es limpiar o eliminar los clave:valor, dejando un diccionario vacio."
   ]
  },
  {
   "cell_type": "code",
   "execution_count": 125,
   "metadata": {},
   "outputs": [
    {
     "name": "stdout",
     "output_type": "stream",
     "text": [
      "{}\n",
      "<class 'dict'>\n"
     ]
    }
   ],
   "source": [
    "z={'nombre': 'Felipe', 'edad': 18, 'nacionalidad': 'italiano'}\n",
    "z.clear()\n",
    "print(z)\n",
    "print(type(z))"
   ]
  },
  {
   "cell_type": "markdown",
   "metadata": {},
   "source": [
    "#### 2. MÉTODO COPY( )\n",
    "Este método retorna algo. Se crea otro objeto distinto al original en memoria. Pero contienen los mismo clave:valor. "
   ]
  },
  {
   "cell_type": "code",
   "execution_count": 118,
   "metadata": {},
   "outputs": [
    {
     "name": "stdout",
     "output_type": "stream",
     "text": [
      "la copia del diccionario original: {'nombre': 'Felipe', 'edad': 18, 'nacionalidad': 'italiano'}\n",
      "\n",
      "modificamos la copia del diccionario original: {'nombre': 'raul', 'edad': 18, 'nacionalidad': 'italiano'}\n",
      "\n",
      "diccionario original: {'nombre': 'raul', 'edad': 18, 'nacionalidad': 'italiano'}\n",
      "\n"
     ]
    }
   ],
   "source": [
    "z={'nombre': 'Felipe', 'edad': 18, 'nacionalidad': 'italiano'}\n",
    "x=z\n",
    "print('{} {}\\n'.format('la copia del diccionario original:',x))\n",
    "x['nombre']='raul'\n",
    "print('{} {}\\n'.format('modificamos la copia del diccionario original:',x))\n",
    "print('{} {}\\n'.format('diccionario original:',z))"
   ]
  },
  {
   "cell_type": "code",
   "execution_count": 120,
   "metadata": {},
   "outputs": [
    {
     "name": "stdout",
     "output_type": "stream",
     "text": [
      "{'nombre': 'raul', 'edad': 18, 'nacionalidad': 'italiano'}\n"
     ]
    }
   ],
   "source": [
    "q=z.copy()\n",
    "# Hay otra forma de hacer esto\n",
    "q=dict(z)\n",
    "print(q)"
   ]
  },
  {
   "cell_type": "markdown",
   "metadata": {},
   "source": [
    "#### 3. MÉTODO FROMKEYS( objeto iterable, valor= None )\n",
    "Este método retorna algo. Cree un nuevo diccionario con claves de un objeto iterable y valores establecidos en value. Si solo mandamos un argumento, los valores se rellenarán con None."
   ]
  },
  {
   "cell_type": "code",
   "execution_count": 123,
   "metadata": {},
   "outputs": [
    {
     "name": "stdout",
     "output_type": "stream",
     "text": [
      "{1: None, 2: None, 3: None, 4: None} \n",
      "\n",
      "{1: {'nombre': 'Felipe', 'edad': 18, 'nacionalidad': 'italiano'}, 2: {'nombre': 'Felipe', 'edad': 18, 'nacionalidad': 'italiano'}, 3: {'nombre': 'Felipe', 'edad': 18, 'nacionalidad': 'italiano'}, 4: {'nombre': 'Felipe', 'edad': 18, 'nacionalidad': 'italiano'}}\n"
     ]
    }
   ],
   "source": [
    "s=(1,2,3,4)\n",
    "z={'nombre': 'Felipe', 'edad': 18, 'nacionalidad': 'italiano'}\n",
    "print(z.fromkeys(s),'\\n')\n",
    "print(z.fromkeys(s,z))"
   ]
  },
  {
   "cell_type": "markdown",
   "metadata": {},
   "source": [
    "#### 4. MÉTODO GET( clave )\n",
    "Este método retorna algo. Lo que nos da es el valor vinculado a la clave que nosotros mandamos por argumento. Pero también nosotros podemos adicionarle un valor de una clave inexistente."
   ]
  },
  {
   "cell_type": "code",
   "execution_count": 131,
   "metadata": {},
   "outputs": [
    {
     "name": "stdout",
     "output_type": "stream",
     "text": [
      "Felipe\n",
      "65.8\n",
      "{'nombre': 'Felipe', 'edad': 18, 'nacionalidad': 'italiano'}\n"
     ]
    }
   ],
   "source": [
    "z={'nombre': 'Felipe', 'edad': 18, 'nacionalidad': 'italiano'}\n",
    "print(z.get('nombre'))\n",
    "print(z.get('peso',65.8))\n",
    "print(z)"
   ]
  },
  {
   "cell_type": "code",
   "execution_count": 134,
   "metadata": {},
   "outputs": [
    {
     "name": "stdout",
     "output_type": "stream",
     "text": [
      "{'nombre': 'Felipe', 'edad': 18, 'nacionalidad': 'italiano', 'peso': 65.8}\n",
      "65.8\n"
     ]
    }
   ],
   "source": [
    "z['peso']=65.8\n",
    "print(z)\n",
    "print(z.get('peso'))"
   ]
  },
  {
   "cell_type": "markdown",
   "metadata": {},
   "source": [
    "#### 5. MÉTODO ITEMS( )\n",
    "Este es un método que retorna algo. La sintaxis que nos retorna es: dict_items[en una lista cada par (clave/valor, que están en una tupla) son items de la lista]. "
   ]
  },
  {
   "cell_type": "code",
   "execution_count": 138,
   "metadata": {},
   "outputs": [
    {
     "name": "stdout",
     "output_type": "stream",
     "text": [
      "dict_items([('nombre', 'Felipe'), ('edad', 18), ('nacionalidad', 'italiano'), ('peso', 65.8)]) <class 'dict'> \n",
      "\n",
      "<class 'dict_items'>\n"
     ]
    }
   ],
   "source": [
    "a={'nombre': 'Felipe', 'edad': 18, 'nacionalidad': 'italiano', 'peso': 65.8}\n",
    "e=a.items()\n",
    "print(e, type(a),'\\n')\n",
    "print(type(e))"
   ]
  },
  {
   "cell_type": "markdown",
   "metadata": {},
   "source": [
    "#### 6. MÉTODO KEYS( )\n",
    "Este es un método de retorno. Nos muestra como en una lista, todas las claves del diccionario."
   ]
  },
  {
   "cell_type": "code",
   "execution_count": 140,
   "metadata": {},
   "outputs": [
    {
     "name": "stdout",
     "output_type": "stream",
     "text": [
      "dict_keys(['nombre', 'edad', 'nacionalidad', 'peso']) \n",
      "\n",
      "<class 'dict_keys'>\n"
     ]
    }
   ],
   "source": [
    "a={'nombre': 'Felipe', 'edad': 18, 'nacionalidad': 'italiano', 'peso': 65.8}\n",
    "s=a.keys()\n",
    "print(s,'\\n')\n",
    "print(type(s))"
   ]
  },
  {
   "cell_type": "markdown",
   "metadata": {},
   "source": [
    "#### 7. MÉTODO POP( )\n",
    "Este método retorna algo. Podemos eliminar cualquier item del diccionario pero a travez de la clave y autométicamente se eliminara su valor vinculado."
   ]
  },
  {
   "cell_type": "code",
   "execution_count": 145,
   "metadata": {},
   "outputs": [
    {
     "name": "stdout",
     "output_type": "stream",
     "text": [
      "18\n",
      "{'nombre': 'Felipe', 'nacionalidad': 'italiano', 'peso': 65.8}\n"
     ]
    }
   ],
   "source": [
    "a={'nombre': 'Felipe', 'edad': 18, 'nacionalidad': 'italiano', 'peso': 65.8}\n",
    "y=a.pop('edad')\n",
    "print(y)\n",
    "print(a)"
   ]
  },
  {
   "cell_type": "markdown",
   "metadata": {},
   "source": [
    "#### 8. MÉTODO SETDEFAULT( )\n",
    "Este método retorna algo. Es análogo al método get. La única diferencia es que es este método si no encuentra la clave, lo vincula con el valor: None. "
   ]
  },
  {
   "cell_type": "code",
   "execution_count": 154,
   "metadata": {},
   "outputs": [
    {
     "name": "stdout",
     "output_type": "stream",
     "text": [
      "Felipe\n",
      "None\n",
      "{'nombre': 'Felipe', 'edad': 18, 'nacionalidad': 'italiano', 'peso': 65.8, 'altura': None}\n"
     ]
    }
   ],
   "source": [
    "a={'nombre': 'Felipe', 'edad': 18, 'nacionalidad': 'italiano', 'peso': 65.8}\n",
    "v=a.setdefault('nombre')\n",
    "print(v)\n",
    "# Esta clave no se encuentra en el diccionario\n",
    "s=a.setdefault('altura') # None\n",
    "print(s)\n",
    "print(a)"
   ]
  },
  {
   "cell_type": "markdown",
   "metadata": {},
   "source": [
    "#### 9. MÉTODO UPDATE( )\n",
    "Este método no retorna. Este método une diccionarios con referncia al primer diccionario. Y si se repiten las claves, se considerarán los valores del diccionario que ingresamos por argumento."
   ]
  },
  {
   "cell_type": "code",
   "execution_count": 163,
   "metadata": {},
   "outputs": [
    {
     "name": "stdout",
     "output_type": "stream",
     "text": [
      "{'nombre': 'Percy', 'edad': 18, 'nacionalidad': 'italiano', 'altura': 1.75, 'estado': 'soltero'}\n"
     ]
    }
   ],
   "source": [
    "a={'nombre': 'Felipe', 'edad': 18, 'nacionalidad': 'italiano'}\n",
    "b={'nombre': 'Percy', 'altura':1.75,'estado':'soltero' }\n",
    "a.update(b)\n",
    "print(a)"
   ]
  },
  {
   "cell_type": "markdown",
   "metadata": {},
   "source": [
    "#### 10. METODO VALUES( )\n",
    "Este método retorna. Nos devuelve todos los valores del diccionario en forma de una lista."
   ]
  },
  {
   "cell_type": "code",
   "execution_count": 166,
   "metadata": {},
   "outputs": [
    {
     "name": "stdout",
     "output_type": "stream",
     "text": [
      "dict_values(['Percy', 18, 'italiano', 1.75, 'soltero'])\n",
      "<class 'dict_values'>\n"
     ]
    }
   ],
   "source": [
    "w={'nombre': 'Percy', 'edad': 18, 'nacionalidad': 'italiano', 'altura': 1.75, 'estado': 'soltero'}\n",
    "s=w.values()\n",
    "print(s)\n",
    "print(type(s))"
   ]
  },
  {
   "cell_type": "markdown",
   "metadata": {},
   "source": [
    "### MÓDELOS DE RECORRIDO"
   ]
  },
  {
   "cell_type": "markdown",
   "metadata": {},
   "source": [
    "Los métodos como items, keys y values se dicen que muestran un visor y que son susceptibles a ser tratados como objetos iterables con 2 cualidades:\n",
    "* Cualquier modificación que hagamos en el diccionario que muestra el visor se mostrará automáticamente en el mismo.\n",
    "* Los visores de elementos y claves (no así los de valores) admiten operaciones similares a los conjuntos."
   ]
  },
  {
   "cell_type": "code",
   "execution_count": 167,
   "metadata": {},
   "outputs": [],
   "source": [
    "w={'nombre': 'Percy', 'edad': 18, 'nacionalidad': 'italiano', 'altura': 1.75, 'estado': 'soltero'}\n"
   ]
  },
  {
   "cell_type": "code",
   "execution_count": 168,
   "metadata": {},
   "outputs": [
    {
     "name": "stdout",
     "output_type": "stream",
     "text": [
      "('nombre', 'Percy')\n",
      "('edad', 18)\n",
      "('nacionalidad', 'italiano')\n",
      "('altura', 1.75)\n",
      "('estado', 'soltero')\n"
     ]
    }
   ],
   "source": [
    "# PRIMER MODELO DE RECORRIDO\n",
    "for i in w.items():\n",
    "    print(i)"
   ]
  },
  {
   "cell_type": "code",
   "execution_count": 178,
   "metadata": {},
   "outputs": [
    {
     "name": "stdout",
     "output_type": "stream",
     "text": [
      "CLAVE: nombre  ->  VALOR: Percy\n",
      "CLAVE: edad  ->  VALOR: 18\n",
      "CLAVE: nacionalidad  ->  VALOR: italiano\n",
      "CLAVE: altura  ->  VALOR: 1.75\n",
      "CLAVE: estado  ->  VALOR: soltero\n"
     ]
    }
   ],
   "source": [
    "# SEGUNDO MODELO DE RECORRIDO\n",
    "for i,j in w.items():\n",
    "    print('{} {} {} {} {}'.format('CLAVE:',i,' -> ','VALOR:',j))"
   ]
  },
  {
   "cell_type": "code",
   "execution_count": 179,
   "metadata": {},
   "outputs": [
    {
     "name": "stdout",
     "output_type": "stream",
     "text": [
      "nombre\n",
      "edad\n",
      "nacionalidad\n",
      "altura\n",
      "estado\n"
     ]
    }
   ],
   "source": [
    "# TERCER MODELO DE RECORRIDO\n",
    "for i in w:  # for i in w.keys()\n",
    "    print(i)"
   ]
  },
  {
   "cell_type": "markdown",
   "metadata": {},
   "source": [
    "### MÉTODOS MÁS UTILIZADOS"
   ]
  },
  {
   "cell_type": "markdown",
   "metadata": {},
   "source": [
    "Los diccionarios pueden dividirse en dos listas, una con las claves y la otra con los valores. Puede solicitar solo los valores con el método \".values\" o solo las claves con el método \".keys\".\n",
    "\n",
    "Por otro lado puede solicitar una lista con las parejas clave - valor con el método \".items\".\n"
   ]
  },
  {
   "cell_type": "code",
   "execution_count": 180,
   "metadata": {},
   "outputs": [
    {
     "name": "stdout",
     "output_type": "stream",
     "text": [
      "dict_values(['F', 50])\n",
      "dict_keys(['nombre', 'edad'])\n"
     ]
    }
   ],
   "source": [
    "diccionario4 = dict(nombre = \"F\", edad = 50)\n",
    "print(diccionario4.values())\n",
    "print(diccionario4.keys())\n"
   ]
  },
  {
   "cell_type": "code",
   "execution_count": 181,
   "metadata": {},
   "outputs": [
    {
     "name": "stdout",
     "output_type": "stream",
     "text": [
      "dict_items([('nombre', 'F'), ('edad', 50)])\n",
      "<class 'dict_items'>\n"
     ]
    }
   ],
   "source": [
    "print(diccionario4.items())\n",
    "print(type(diccionario4.items()))"
   ]
  },
  {
   "cell_type": "markdown",
   "metadata": {},
   "source": [
    "Puede eliminar elementos clave valor utilizando la palabra clave del."
   ]
  },
  {
   "cell_type": "code",
   "execution_count": 182,
   "metadata": {},
   "outputs": [
    {
     "name": "stdout",
     "output_type": "stream",
     "text": [
      "{'edad': 50}\n"
     ]
    }
   ],
   "source": [
    "del diccionario4[\"nombre\"]\n",
    "print(diccionario4)"
   ]
  },
  {
   "cell_type": "markdown",
   "metadata": {},
   "source": [
    "Puede realizar operaciones lógicas con diccionarios. Puede preguntar si una clave se encuentra dentro de un diccionario utilizando la palabra clave in."
   ]
  },
  {
   "cell_type": "code",
   "execution_count": 183,
   "metadata": {},
   "outputs": [
    {
     "name": "stdout",
     "output_type": "stream",
     "text": [
      "True\n",
      "False\n"
     ]
    }
   ],
   "source": [
    "print(\"edad\" in diccionario4)\n",
    "print(\"nombre\" in diccionario4)"
   ]
  },
  {
   "cell_type": "markdown",
   "metadata": {},
   "source": [
    "Recuerde que las claves pueden ser números enteros."
   ]
  },
  {
   "cell_type": "code",
   "execution_count": 184,
   "metadata": {},
   "outputs": [
    {
     "name": "stdout",
     "output_type": "stream",
     "text": [
      "{1: 58.5, 2: 59.58, 3: 60, 4: 'hola', 5: [8, 8]}\n"
     ]
    }
   ],
   "source": [
    "diccionario5 = {1: 58.5, 2: 59.58, 3:60, 4: \"hola\", 5: [8, 8]}\n",
    "print(diccionario5)"
   ]
  },
  {
   "cell_type": "markdown",
   "metadata": {},
   "source": [
    "### Convertir tipos de datos"
   ]
  },
  {
   "cell_type": "markdown",
   "metadata": {},
   "source": [
    "Puede convertir datos de una clase a otra utilizando funciones. \n",
    "Con \"int\" convierte a tipo entero, con \"float\" a tipo flotante, con \"str\" a cadena de texto y con \"list\" a lista"
   ]
  },
  {
   "cell_type": "code",
   "execution_count": 185,
   "metadata": {},
   "outputs": [
    {
     "name": "stdout",
     "output_type": "stream",
     "text": [
      "10\n",
      "<class 'int'>\n"
     ]
    }
   ],
   "source": [
    "# a entero:\n",
    "x = int(10.99)\n",
    "print(x)\n",
    "print(type(x))"
   ]
  },
  {
   "cell_type": "code",
   "execution_count": 186,
   "metadata": {},
   "outputs": [
    {
     "name": "stdout",
     "output_type": "stream",
     "text": [
      "10.0\n",
      "<class 'float'>\n"
     ]
    }
   ],
   "source": [
    "# a flotante:\n",
    "y = float(\"10\")\n",
    "print(y)\n",
    "print(type(y))"
   ]
  },
  {
   "cell_type": "code",
   "execution_count": 187,
   "metadata": {},
   "outputs": [
    {
     "name": "stdout",
     "output_type": "stream",
     "text": [
      "15.58\n",
      "<class 'str'>\n"
     ]
    }
   ],
   "source": [
    "# a cadena de texto:\n",
    "numero = str(15.58)\n",
    "print(numero)\n",
    "print(type(numero))"
   ]
  },
  {
   "cell_type": "code",
   "execution_count": 16,
   "metadata": {},
   "outputs": [
    {
     "name": "stdout",
     "output_type": "stream",
     "text": [
      "['uno', 'dos', 'tres']\n",
      "[10, 20, 30]\n",
      "[('uno', 10), ('dos', 20), ('tres', 30)]\n"
     ]
    }
   ],
   "source": [
    "# a lista\n",
    "dic = {\"uno\": 10, \"dos\": 20, \"tres\": 30}\n",
    "#print(list(dic))\n",
    "print(list(dic.keys()))\n",
    "print(list(dic.values()))\n",
    "print(list(dic.items()))"
   ]
  },
  {
   "cell_type": "markdown",
   "metadata": {},
   "source": [
    "## PARA PRACTICAR"
   ]
  },
  {
   "cell_type": "markdown",
   "metadata": {},
   "source": [
    "a) Cree un diccionario vacío y completelo con los datos de la temperatura de los últimos tres días."
   ]
  },
  {
   "cell_type": "code",
   "execution_count": 10,
   "metadata": {},
   "outputs": [
    {
     "name": "stdout",
     "output_type": "stream",
     "text": [
      "{'viernes': '18 C', 'sabado': '16 C', 'domingo': '20 C'}\n"
     ]
    }
   ],
   "source": [
    "a={}\n",
    "a['viernes']='18 C'\n",
    "a['sabado']='16 C'\n",
    "a['domingo']='20 C'\n",
    "print(a)"
   ]
  },
  {
   "cell_type": "markdown",
   "metadata": {},
   "source": [
    "b) Cree una lista vacía y complétela con tres variables cualquiera que sean de distinta clase."
   ]
  },
  {
   "cell_type": "code",
   "execution_count": 5,
   "metadata": {},
   "outputs": [
    {
     "name": "stdout",
     "output_type": "stream",
     "text": [
      "[8, True, 'hi']\n"
     ]
    }
   ],
   "source": [
    "x=[]\n",
    "a=8\n",
    "x.append(a)\n",
    "b=True\n",
    "x.append(b)    \n",
    "c='hi'\n",
    "x.append(c)\n",
    "print(x)"
   ]
  },
  {
   "cell_type": "markdown",
   "metadata": {},
   "source": [
    "c) Cree un una lista que contenga dentro un diccionario y dentro de ese diccionario coloque una lista"
   ]
  },
  {
   "cell_type": "code",
   "execution_count": 9,
   "metadata": {},
   "outputs": [
    {
     "name": "stdout",
     "output_type": "stream",
     "text": [
      "Un diccionario que contiene una lista:  {'lunes': 1, 'martes': 2, 'miercoles': 3, 'jueves': ['a', 'b', 'c']} \n",
      "\n",
      "Una lista que contiene un diccionario, y este contiene una lista:  [{'lunes': 1, 'martes': 2, 'miercoles': 3, 'jueves': ['a', 'b', 'c']}]\n"
     ]
    }
   ],
   "source": [
    "g={'lunes':1,'martes':2,'miercoles':3}\n",
    "g['jueves']=['a','b','c']\n",
    "print('Un diccionario que contiene una lista: ',g,'\\n')\n",
    "l=[]\n",
    "l.append(g)\n",
    "print('Una lista que contiene un diccionario, y este contiene una lista: ',l)"
   ]
  },
  {
   "cell_type": "markdown",
   "metadata": {},
   "source": [
    "d) ¿Cuál es la diferencia entre \"=\" e \"==\"?"
   ]
  },
  {
   "cell_type": "code",
   "execution_count": 12,
   "metadata": {},
   "outputs": [
    {
     "name": "stdout",
     "output_type": "stream",
     "text": [
      "8 \n",
      "\n",
      "False\n"
     ]
    }
   ],
   "source": [
    "a=8\n",
    "print(a,'\\n')\n",
    "\n",
    "b=4\n",
    "print(a==b)\n"
   ]
  },
  {
   "cell_type": "markdown",
   "metadata": {},
   "source": [
    "e) En la lista [15, 25, 30], solicite el dato 15"
   ]
  },
  {
   "cell_type": "code",
   "execution_count": 14,
   "metadata": {},
   "outputs": [
    {
     "name": "stdout",
     "output_type": "stream",
     "text": [
      "15\n"
     ]
    }
   ],
   "source": [
    "l=[15, 25, 30]\n",
    "print(l[-3])"
   ]
  },
  {
   "cell_type": "markdown",
   "metadata": {},
   "source": [
    "f) Ordene la lista [50, 80, 15, 20, 5] de menor a mayor."
   ]
  },
  {
   "cell_type": "code",
   "execution_count": 15,
   "metadata": {},
   "outputs": [
    {
     "name": "stdout",
     "output_type": "stream",
     "text": [
      "[5, 15, 20, 50, 80]\n"
     ]
    }
   ],
   "source": [
    "v=[50, 80, 15, 20, 5]\n",
    "v.sort()\n",
    "print(v)"
   ]
  },
  {
   "cell_type": "markdown",
   "metadata": {},
   "source": [
    "g) Ejecute el código de la celda siguiente y describa qué está sucediendo con la lista:"
   ]
  },
  {
   "cell_type": "code",
   "execution_count": 191,
   "metadata": {},
   "outputs": [
    {
     "name": "stdout",
     "output_type": "stream",
     "text": [
      "[80, 50, 20, 15, 5]\n"
     ]
    }
   ],
   "source": [
    "lista = [50, 80, 15, 20, 5]\n",
    "lista.sort(reverse=True)\n",
    "print(lista)"
   ]
  }
 ],
 "metadata": {
  "kernelspec": {
   "display_name": "Python 3 (ipykernel)",
   "language": "python",
   "name": "python3"
  },
  "language_info": {
   "codemirror_mode": {
    "name": "ipython",
    "version": 3
   },
   "file_extension": ".py",
   "mimetype": "text/x-python",
   "name": "python",
   "nbconvert_exporter": "python",
   "pygments_lexer": "ipython3",
   "version": "3.9.7"
  }
 },
 "nbformat": 4,
 "nbformat_minor": 4
}
